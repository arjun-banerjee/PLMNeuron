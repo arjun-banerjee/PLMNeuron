{
 "cells": [
  {
   "cell_type": "code",
   "execution_count": 1,
   "metadata": {},
   "outputs": [],
   "source": [
    "from Bio.SeqUtils.ProtParam import ProteinAnalysis\n",
    "import pandas as pd\n",
    "import requests\n",
    "from io import StringIO\n",
    "from tqdm import tqdm\n",
    "from modlamp.descriptors import GlobalDescriptor\n"
   ]
  },
  {
   "cell_type": "code",
   "execution_count": 2,
   "metadata": {},
   "outputs": [],
   "source": [
    "def fetch_uniprot_batches(query=\"reviewed:true\", batch_size=500, total=10000):\n",
    "    base_url = \"https://rest.uniprot.org/uniprotkb/search\"\n",
    "    all_dataframes = []\n",
    "    fetched = 0\n",
    "    params = {\n",
    "        \"query\": query,\n",
    "        \"format\": \"tsv\",\n",
    "        \"fields\": \"accession,id,protein_name,organism_name,length,sequence,mass,cc_subcellular_location,go_p,go_f,ec,cc_disruption_phenotype,cc_catalytic_activity,cc_pathway,cc_subcellular_location,cc_function,cc_domain,cc_induction,cc_pharmaceutical,cc_disruption_phenotype\",\n",
    "        \"size\": batch_size,\n",
    "    }\n",
    "\n",
    "    response = requests.get(base_url, params=params)\n",
    "    if not response.ok:\n",
    "        raise Exception(f\"Initial fetch failed: {response.status_code} {response.text}\")\n",
    "\n",
    "    with tqdm(total=total, desc=\"Fetching UniProt entries\") as pbar:\n",
    "        while True:\n",
    "            df_batch = pd.read_csv(StringIO(response.text), sep=\"\\t\")\n",
    "            if df_batch.empty:\n",
    "                break\n",
    "\n",
    "            all_dataframes.append(df_batch)\n",
    "            batch_size = len(df_batch)\n",
    "            fetched += batch_size\n",
    "            pbar.update(batch_size)\n",
    "\n",
    "            if fetched >= total:\n",
    "                break\n",
    "\n",
    "          # Get full next URL from response.links\n",
    "            next_url = response.links.get(\"next\", {}).get(\"url\", None)\n",
    "            if not next_url:\n",
    "                break\n",
    "\n",
    "            response = requests.get(next_url)\n",
    "            if not response.ok:\n",
    "                raise Exception(f\"Next fetch failed: {response.status_code} {response.text}\")\n",
    "\n",
    "    return pd.concat(all_dataframes, ignore_index=True)\n",
    "\n"
   ]
  },
  {
   "cell_type": "code",
   "execution_count": 3,
   "metadata": {},
   "outputs": [],
   "source": [
    "def compute_biopython_features(seq: str, entry: str) -> dict:\n",
    "    analysis = ProteinAnalysis(seq)\n",
    "\n",
    "    try:\n",
    "        aa_counts = analysis.count_amino_acids()\n",
    "        aa_percents = analysis.get_amino_acids_percent()\n",
    "        sec_frac = analysis.secondary_structure_fraction()\n",
    "    except Exception as e:\n",
    "        print(f\"Failed on sequence: {seq} - {e}\")\n",
    "        return None\n",
    "\n",
    "    try:\n",
    "        features = {\n",
    "            \"Entry\": entry,\n",
    "            \"Sequence\": seq,\n",
    "            \"length\": len(seq),\n",
    "            \"mol_weight\": analysis.molecular_weight(),\n",
    "            \"iso_point\": analysis.isoelectric_point(),\n",
    "            \"aromaticity\": analysis.aromaticity(),\n",
    "            \"instability_index\": analysis.instability_index(),\n",
    "            \"gravy\": analysis.gravy(),\n",
    "            \"helix_frac\": sec_frac[0],\n",
    "            \"turn_frac\": sec_frac[1],\n",
    "            \"sheet_frac\": sec_frac[2],\n",
    "        }\n",
    "    except Exception as e:\n",
    "        print(f\"Failed to compute features for sequence: {seq} - {e}\")\n",
    "        return None\n",
    "\n",
    "    # Add amino acid counts and percents\n",
    "    for aa in aa_counts:\n",
    "        features[f\"count_{aa}\"] = aa_counts[aa]\n",
    "        features[f\"percent_{aa}\"] = round(aa_percents[aa],3)\n",
    "\n",
    "    \n",
    "    # --- modlamp GlobalDescriptor ---\n",
    "    try:\n",
    "        desc = GlobalDescriptor([seq])\n",
    "        desc.calculate_all()\n",
    "        modlamp_feats = desc.descriptor[0]\n",
    "        modlamp_names = [\n",
    "            \"charge_pH7\", \"boman_index\", \"aliphatic_index\", \"hydrophobic_moment\"\n",
    "        ]\n",
    "\n",
    "        for name, value in zip(modlamp_names, modlamp_feats):\n",
    "            orig_name = name.split(\"_\", 1)[-1]\n",
    "            features[name] = value\n",
    "\n",
    "    except Exception as e:\n",
    "        print(f\"modlamp failed on sequence: {seq} - {e}\")\n",
    "        return None\n",
    "\n",
    "    return features\n"
   ]
  },
  {
   "cell_type": "code",
   "execution_count": 4,
   "metadata": {},
   "outputs": [
    {
     "name": "stderr",
     "output_type": "stream",
     "text": [
      "Fetching UniProt entries: 100%|██████████| 10000/10000 [00:47<00:00, 211.30it/s]\n"
     ]
    }
   ],
   "source": [
    "df = fetch_uniprot_batches(total=10000)\n",
    "df_filtered = df[df['Length'] <= 1024]\n"
   ]
  },
  {
   "cell_type": "code",
   "execution_count": 5,
   "metadata": {},
   "outputs": [
    {
     "name": "stderr",
     "output_type": "stream",
     "text": [
      "  0%|          | 0/10000 [00:00<?, ?it/s]/home/ubuntu/.local/lib/python3.10/site-packages/Bio/SeqUtils/ProtParam.py:106: BiopythonDeprecationWarning: The get_amino_acids_percent method has been deprecated and will likely be removed from Biopython in the near future. Please use the amino_acids_percent attribute instead.\n",
      "  warnings.warn(\n",
      " 11%|█         | 1085/10000 [00:01<00:11, 776.35it/s]"
     ]
    },
    {
     "name": "stdout",
     "output_type": "stream",
     "text": [
      "Failed to compute features for sequence: MGLPQPGLWLKRLWVLLEVAVHVVVGKVLLILFPDRVKRNILAMGEKTGMTRNPHFSHDNWIPTFFSTQYFWFVLKVRWQRLEDTTELGGLAPNCPVVRLSGQRCNIWEFMQGNRPLVLNFGSCTUPSFMFKFDQFKRLIEDFSSIADFLVIYIEEAHASDGWAFKNNMDIRNHQNLQDRLQAAHLLLARSPQCPVVVDTMQNQSSQLYAALPERLYIIQEGRILYKGKSGPWNYNPEEVRAVLEKLHS - 'U'\n",
      "Failed to compute features for sequence: MWRSLGLALALCLLPSGGTESQDQSSLCKQPPAWSIRDQDPMLNSNGSVTVVALLQASUYLCILQASKLEDLRVKLKKEGYSNISYIVVNHQGISSRLKYTHLKNKVSEHIPVYQQEENQTDVWTLLNGSKDDFLIYDRCGRLVYHLGLPFSFLTFPYVEEAIKIAYCEKKCGNCSLTTLKDEDFCKRVSLATVDKTVETPSPHYHHEHHHNHGHQHLGSSELSENQQPGAPNAPTHPAPPGLHHHHKHKGQHRQGHPENRDMPASEDLQDLQKKLCRKRCINQLLCKLPTDSELAPRSUCCHCRHLIFEKTGSAITUQCKENLPSLCSUQGLRAEENITESCQURLPPAAUQISQQLIPTEASASURUKNQAKKUEUPSN - 'U'\n"
     ]
    },
    {
     "name": "stderr",
     "output_type": "stream",
     "text": [
      " 25%|██▌       | 2502/10000 [00:03<00:09, 751.28it/s]"
     ]
    },
    {
     "name": "stdout",
     "output_type": "stream",
     "text": [
      "Failed to compute features for sequence: MAGYEYVSPEQLAGFDKYKYSAVDTNPLSLYVMHPFWNTIVKVFPTWLAPNLITFSGFLLVVFNFLLMAYFDPDFYASAPGHKHVPDWVWIVVGILNFVAYTLDGVDGKQARRTNSSTPLGELFDHGLDSWSCVYFVVTVYSIFGRGSTGVSVFVLYLLLWVVLFSFILSHWEKYNTGILFLPWGYDISQVTISFVYIVTAVVGVEAWYEPFLFNFLYRDLFTAMIIGCALCVTLPMSLLNFFRSYKNNTLKLNSVYEAMVPLFSPCLLFILSTAWILWSPSDILELHPRVFYFMVGTAFANSTCQLIVCQMSSTRCPTLNWLLVPLFLVVLVVNLGVASYVESILLYTLTTAFTLAHIHYGVRVVKQLSSHFQIYPFSLRKPNSDULGMEEKNIGL - 'U'\n"
     ]
    },
    {
     "name": "stderr",
     "output_type": "stream",
     "text": [
      " 27%|██▋       | 2659/10000 [00:03<00:09, 757.89it/s]"
     ]
    },
    {
     "name": "stdout",
     "output_type": "stream",
     "text": [
      "Failed to compute features for sequence: MGRARPGQRGPPSPGPAAQPPAPPRRRARSLALLGALLAAAAAAAVRVCARHAEAQAAARQELALKTLGTDGLFLFSSLDTDGDMYISPEEFKPIAEKLTGSCSVTQTGVQWCSHSSLQPQLPWLNUSSCLSLLRSTPAASCEEEELPPDPSEETLTIEARFQPLLPETMTKSKDGFLGVSRLALSGLRNWTAAASPSAVFATRHFQPFLPPPGQELGEPWWIIPSELSMFTGYLSNNRFYPPPPKGKEVIIHRLLSMFHPRPFVKTRFAPQGAVACLTAISDFYYTVMFRIHAEFQLSEPPDFPFWFSPAQFTGHIILSKDATHVRDFRLFVPNHRSLNVDMEWLYGASESSNMEVDIGYIPQMELEATGPSVPSVILDEDGSMIDSHLPSGEPLQFVFEEIKWQQELSWEEAARRLEVAMYPFKKVSYLPFTEAFDRAKAENKLVHSILLWGALDDQSCUGSGRTLRETVLESSPILTLLNESFISTWSLVKELEELQNNQENSSHQKLAGLHLEKYSFPVEMMICLPNGTVVHHINANYFLDITSVKPEEIESNLFSFSSTFEDPSTATYMQFLKEGLRRGLPLLQP - 'U'\n"
     ]
    },
    {
     "name": "stderr",
     "output_type": "stream",
     "text": [
      " 35%|███▌      | 3506/10000 [00:04<00:08, 772.47it/s]"
     ]
    },
    {
     "name": "stdout",
     "output_type": "stream",
     "text": [
      "Failed to compute features for sequence: MCAARLAAAAAAAQSVYAFSARPLAGGEPVSLGSLRGKVLLIENVASLUGTTVRDYTQMNELQRRLGPRGLVVLGFPCNQFGHQENAKNEEILNSLKYVRPGGGFEPNFMLFEKCEVNGAGAHPLFAFLREALPAPSDDATALMTDPKLITWSPVCRNDVAWNFEKFLVGPDGVPLRRYSRRFQTIDIEPDIEALLSQGPSCA - 'U'\n",
      "Failed to compute features for sequence: MAFIAKSFYDLSAISLDGEKVDFNTFRGRAVLIENVASLUGTTTRDFTQLNELQCRFPRRLVVLGFPCNQFGHQENCQNEEILNSLKYVRPGGGYQPTFTLVQKCEVNGQNEHPVFAYLKDKLPYPYDDPFSLMTDPKLIIWSPVRRSDVAWNFEKFLIGPEGEPFRRYSRTFPTINIEPDIKRLLKVAI - 'U'\n"
     ]
    },
    {
     "name": "stderr",
     "output_type": "stream",
     "text": [
      " 40%|███▉      | 3985/10000 [00:05<00:07, 752.38it/s]"
     ]
    },
    {
     "name": "stdout",
     "output_type": "stream",
     "text": [
      "Failed to compute features for sequence: MPRQATSRLVVGEGEGSQGASGPAATMLRSLLLHSLRLCAQTASCLVLFPRFLGTAFMLWLLDFLCIRKHFLGRRRRGQPEPEVELNSEGEEVPPDDPPICVSDDNRLCTLASLKAVWHGQKLDFFKQAHEGGPAPNSEVVLPDGFQSQHILDYAQGNRPLVLNFGSCTUPPFMARMSAFQRLVTKYQRDVDFLIIYIEEAHPSDGWVTTDSPYIIPQHRSLEDRVSAARVLQQGAPGCALVLDTMANSSSSAYGAYFERLYVIQSGTIMYQGGRGPDGYQVSELRTWLERYDEQLHGARPRRV - 'U'\n"
     ]
    },
    {
     "name": "stderr",
     "output_type": "stream",
     "text": [
      " 66%|██████▌   | 6612/10000 [00:09<00:04, 756.62it/s]"
     ]
    },
    {
     "name": "stdout",
     "output_type": "stream",
     "text": [
      "Failed to compute features for sequence: MARLLQASCLLSLLLAGFVSQSRGQEKSKMDCHGGISGTIYEYGALTIDGEEYIPFKQYAGKYVLFVNVASYUGLTGQYIELNALQEELAPFGLVILGFPCNQFGKQEPGENSEILPTLKYVRPGGGFVPNFQLFEKGDVNGEKEQKFYTFLKNSCPPTSELLGTSDRLFWEPMKVHDIRWNFEKFLVGPDGIPIMRWHHRTTVSNVKMDILSYMRRQAALGVKRK - 'U'\n",
      "Failed to compute features for sequence: MSLGRLCRLLKPALLCGALAAPGLAGTMCASRDDWRCARSMHEFSAKDIDGHMVNLDKYRGFVCIVTNVASQUGKTEVNYTQLVDLHARYAECGLRILAFPCNQFGKQEPGSNEEIKEFAAGYNVKFDMFSKICVNGDDAHPLWKWMKIQPKGKGILGNAIKWNFTKFLIDKNGCVVKRYGPMEEPLVIEKDLPHYF - 'U'\n"
     ]
    },
    {
     "name": "stderr",
     "output_type": "stream",
     "text": [
      " 70%|███████   | 7003/10000 [00:09<00:04, 739.19it/s]"
     ]
    },
    {
     "name": "stdout",
     "output_type": "stream",
     "text": [
      "Failed to compute features for sequence: MRLLLLLLVAASAMVRSEASANLGGVPSKRLKMQYATGPLLKFQICVSUGYRRVFEEYMRVISQRYPDIRIEGENYLPQPIYRHIASFLSVFKLVLIGLIIVGKDPFAFFGMQAPSIWQWGQENKVYACMMVFFLSNMIENQCMSTGAFEITLNDVPVWSKLESGHLPSMQQLVQILDNEMKLNVHMDSIPHHRS - 'U'\n"
     ]
    },
    {
     "name": "stderr",
     "output_type": "stream",
     "text": [
      " 73%|███████▎  | 7306/10000 [00:10<00:03, 728.41it/s]"
     ]
    },
    {
     "name": "stdout",
     "output_type": "stream",
     "text": [
      "Failed to compute features for sequence: MGCAEGKAVAAAAPTELQTKGKNGDGRRRSAKDHHPGKTLPENPAGFTSTATADSRALLQAYIDGHSVVIFSRSTCTRCTEVKKLFKSLCVPYFVLELDQTEDGRALEGTLSELAAETDLPVVFVKQRKIGGHGPTLKAYQEGRLQKLLKMNGPEDLPKSYDYDLIIIGGGSGGLAAAKEAAQYGKKVMVLDFVTPTPLGTRWGLGGTCVNVGCIPKKLMHQAALLGQALQDSRNYGWKVEETVKHDWDRMIEAVQNHIGSLNWGYRVALREKKVVYENAYGQFIGPHRIKATNNKGKEKIYSAERFLIATGERPRYLGIPGDKEYCISSDDLFSLPYCPGKTLVVGASYVALECAGFLAGIGLDVTVMVRSILLRGFDQDMANKIGEHMEEHGIKFIRQFVPIKVEQIEAGTPGRLRVVAQSTNSEEIIEGEYNTVMLAIGRDACTRKIGLETVGVKINEKTGKIPVTDEEQTNVPYIYAIGDILEDKVELTPVAIQAGRLLAQRLYAGSTVKCDYENVPTTVFTPLEYGACGLSEEKAVEKFGEENIEVYHSYFWPLEWTIPSRDNNKCYAKIICNTKDNERVVGFHVLGPNAGEVTQGFAAALKCGLTKKQLDSTIGIHPVCAEVFTTLSVTKRSGASILQAGCUG - 'U'\n"
     ]
    },
    {
     "name": "stderr",
     "output_type": "stream",
     "text": [
      " 83%|████████▎ | 8276/10000 [00:11<00:02, 756.77it/s]"
     ]
    },
    {
     "name": "stdout",
     "output_type": "stream",
     "text": [
      "Failed to compute features for sequence: MERQEESLSARPALETEGLRFLHTTVGSLLATYGWYIVFSCILLYVVFQKLSARLRALRQRQLDRAAAAVEPDVVVKRQEALAAARLKMQEELNAQVEKHKEKLKQLEEEKRRQKIEMWDSMQEGKSYKGNAKKPQEEDSPGPSTSSVLKRKSDRKPLRGGGYNPLSGEGGGACSWRPGRRGPSSGGUG - 'U'\n",
      "Failed to compute features for sequence: MAVYRAALGASLAAARLLPLGRCSPSPAPRSTLSGAAMEPAPRWLAGLRFDNRALRALPVEAPPPGPEGAPSAPRPVPGACFTRVQPTPLRQPRLVALSEPALALLGLGAPPAREAEAEAALFFSGNALLPGAEPAAHCYCGHQFGQFAGQLGDGAAMYLGEVCTATGERWELQLKGAGPTPFSRQADGRKVLRSSIREFLCSEAMFHLGVPTTRAGACVTSESTVVRDVFYDGNPKYEQCTVVLRVASTFIRFGSFEIFKSADEHTGRAGPSVGRNDIRVQLLDYVISSFYPEIQAAHASDSVQRNAAFFREVTRRTARMVAEWQCVGFCHGVLNTDNMSILGLTIDYGPFGFLDRYDPDHVCNASDNTGRYAYSKQPEVCRWNLRKLAEALQPELPLELGEAILAEEFDAEFQRHYLQKMRRKLGLVQVELEEDGALVSKLLETMHLTGADFTNTFYLLSSFPVELESPGLAEFLARLMEQCASLEELRLAFRPQMDPRQLSMMLMLAQSNPQLFALMGTRAGIARELERVEQQSRLEQLSAAELQSRNQGHWADWLQAYRARLDKDLEGAGDAAAWQAEHVRVMHANNPKYVLRNYIAQNAIEAAERGDFSEVRRVLKLLETPYHCEAGAATDAEATEADGADGRQRSYSSKPPLWAAELCVTUSS - 'U'\n"
     ]
    },
    {
     "name": "stderr",
     "output_type": "stream",
     "text": [
      "100%|██████████| 10000/10000 [00:13<00:00, 730.58it/s]\n"
     ]
    }
   ],
   "source": [
    "sequences = df[\"Sequence\"].tolist()\n",
    "\n",
    "feature_dicts = []\n",
    "for seq in tqdm(sequences):\n",
    "    entry = df.loc[df[\"Sequence\"] == seq, \"Entry\"].values[0]\n",
    "    #print(entry)\n",
    "    features = compute_biopython_features(seq, entry)\n",
    "    if features is not None:\n",
    "        feature_dicts.append(features)"
   ]
  },
  {
   "cell_type": "code",
   "execution_count": 6,
   "metadata": {},
   "outputs": [],
   "source": [
    "master_df = pd.DataFrame(feature_dicts)\n",
    "master_master_df = master_df.merge(df, on=\"Sequence\", how=\"left\")\n",
    "master_master_df = master_master_df.rename(columns={\"Entry_x\": \"Entry\"})\n"
   ]
  },
  {
   "cell_type": "code",
   "execution_count": 8,
   "metadata": {},
   "outputs": [],
   "source": [
    "#save to csv\n",
    "master_master_df.to_csv(\"data_collector.csv\", index=False)\n"
   ]
  },
  {
   "cell_type": "code",
   "execution_count": null,
   "metadata": {},
   "outputs": [],
   "source": []
  }
 ],
 "metadata": {
  "kernelspec": {
   "display_name": "Python 3",
   "language": "python",
   "name": "python3"
  },
  "language_info": {
   "codemirror_mode": {
    "name": "ipython",
    "version": 3
   },
   "file_extension": ".py",
   "mimetype": "text/x-python",
   "name": "python",
   "nbconvert_exporter": "python",
   "pygments_lexer": "ipython3",
   "version": "3.10.12"
  }
 },
 "nbformat": 4,
 "nbformat_minor": 2
}
