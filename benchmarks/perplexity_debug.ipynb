{
 "cells": [
  {
   "cell_type": "code",
   "execution_count": 6,
   "id": "768c1513",
   "metadata": {},
   "outputs": [],
   "source": [
    "import os\n",
    "import torch\n",
    "import pandas as pd\n",
    "from esm import pretrained, Alphabet, BatchConverter"
   ]
  },
  {
   "cell_type": "code",
   "execution_count": 8,
   "id": "4e1a5408",
   "metadata": {},
   "outputs": [
    {
     "data": {
      "text/plain": [
       "<torch.autograd.grad_mode.set_grad_enabled at 0x7459bd50f1f0>"
      ]
     },
     "execution_count": 8,
     "metadata": {},
     "output_type": "execute_result"
    }
   ],
   "source": [
    "from typing import List, Tuple, Optional, Dict, NamedTuple, Union, Callable\n",
    "import itertools\n",
    "import os\n",
    "import string\n",
    "from pathlib import Path\n",
    "\n",
    "import numpy as np\n",
    "import torch\n",
    "from scipy.spatial.distance import squareform, pdist, cdist\n",
    "import matplotlib.pyplot as plt\n",
    "import matplotlib as mpl\n",
    "from Bio import SeqIO\n",
    "from tqdm import tqdm\n",
    "import pandas as pd\n",
    "\n",
    "import esm\n",
    "\n",
    "torch.set_grad_enabled(False)"
   ]
  },
  {
   "cell_type": "code",
   "execution_count": 13,
   "id": "65e4bcdc",
   "metadata": {},
   "outputs": [],
   "source": [
    "esm2, esm2_alphabet = esm.pretrained.esm2_t6_8M_UR50D()\n",
    "esm2 = esm2.eval().to(\"cuda\")\n",
    "esm2_batch_converter = esm2_alphabet.get_batch_converter()"
   ]
  },
  {
   "cell_type": "code",
   "execution_count": 14,
   "id": "1a597957",
   "metadata": {},
   "outputs": [],
   "source": [
    "input_fasta = \"/home/ubuntu/uniref50.fasta\"\n",
    "output_csv = os.path.join(os.path.dirname(input_fasta), \"uniprot50_perplexity.csv\")"
   ]
  },
  {
   "cell_type": "code",
   "execution_count": 66,
   "id": "e5a9df6b",
   "metadata": {},
   "outputs": [],
   "source": [
    "MAX_SEQUENCES = 10_000_000\n",
    "MAX_LEN = 10000 # set by resources\n",
    "DEVICE = \"cuda\""
   ]
  },
  {
   "cell_type": "code",
   "execution_count": 54,
   "id": "e946678a",
   "metadata": {},
   "outputs": [],
   "source": [
    "def compute_masked_perplexity(seq: str, lambda_tokens: int = 1):\n",
    "    data = [(\"protein\", seq)]\n",
    "    _, _, tokens = esm2_batch_converter(data)\n",
    "    tokens = tokens.to(DEVICE)\n",
    "    \n",
    "    seq_len = tokens.size(1)\n",
    "    valid_mask = (tokens != esm2_alphabet.padding_idx) & (tokens != esm2_alphabet.cls_idx) & (tokens != esm2_alphabet.eos_idx)\n",
    "    valid_indices = torch.where(valid_mask[0])[0]\n",
    "\n",
    "    if len(valid_indices) < lambda_tokens:\n",
    "        return None  # too short\n",
    "\n",
    "    # Sample λ random positions to mask\n",
    "    masked_indices = np.random.choice(valid_indices.cpu().numpy(), size=lambda_tokens, replace=False)\n",
    "    masked_tokens = tokens.clone()\n",
    "    masked_tokens[0, masked_indices] = esm2_alphabet.mask_idx\n",
    "\n",
    "    with torch.no_grad():\n",
    "        logits = esm2(masked_tokens)[\"logits\"]  # [1, seq_len, vocab_size]\n",
    "        log_probs = torch.nn.functional.log_softmax(logits, dim=-1)\n",
    "\n",
    "    # Gather true labels\n",
    "    target_tokens = tokens[0, masked_indices]  # [λ]\n",
    "    pred_log_probs = log_probs[0, masked_indices].gather(1, target_tokens.unsqueeze(1)).squeeze(1)  # [λ]\n",
    "\n",
    "    # Compute perplexity\n",
    "    masked_perplexity = torch.exp(-pred_log_probs.mean()).item()\n",
    "    return masked_perplexity"
   ]
  },
  {
   "cell_type": "code",
   "execution_count": 55,
   "id": "f79c5fac",
   "metadata": {},
   "outputs": [],
   "source": [
    "def estimate_masked_perplexity(seq: str, lambda_t: int = 10, num_samples: int = 5):\n",
    "    \"\"\"\n",
    "    Monte-Carlo Estimate of Masked Perplexity\n",
    "    \"\"\"\n",
    "    lambda_tokens = max(1, len(seq) // lambda_t)\n",
    "    data = [(\"protein\", seq)]\n",
    "    _, _, tokens = esm2_batch_converter(data)\n",
    "    tokens = tokens.to(DEVICE)\n",
    "\n",
    "    seq_len = tokens.size(1)\n",
    "    valid_mask = (tokens != esm2_alphabet.padding_idx) & (tokens != esm2_alphabet.cls_idx) & (tokens != esm2_alphabet.eos_idx)\n",
    "    valid_indices = torch.where(valid_mask[0])[0]\n",
    "\n",
    "    if len(valid_indices) < lambda_tokens:\n",
    "        return None\n",
    "\n",
    "    log_prob_samples = []\n",
    "\n",
    "    for _ in range(num_samples):\n",
    "        sampled_indices = np.random.choice(valid_indices.cpu().numpy(), size=lambda_tokens, replace=False)\n",
    "        masked_tokens = tokens.clone()\n",
    "        masked_tokens[0, sampled_indices] = esm2_alphabet.mask_idx\n",
    "\n",
    "        with torch.no_grad():\n",
    "            logits = esm2(masked_tokens)[\"logits\"]\n",
    "            log_probs = torch.nn.functional.log_softmax(logits, dim=-1)\n",
    "\n",
    "        target_tokens = tokens[0, sampled_indices]\n",
    "        pred_log_probs = log_probs[0, sampled_indices].gather(1, target_tokens.unsqueeze(1)).squeeze(1)\n",
    "        log_prob_samples.append(pred_log_probs.mean().item())\n",
    "\n",
    "    avg_log_prob = np.mean(log_prob_samples)\n",
    "    perplexity = np.exp(-avg_log_prob)\n",
    "    return perplexity\n"
   ]
  },
  {
   "cell_type": "code",
   "execution_count": null,
   "id": "bd84b5c2",
   "metadata": {},
   "outputs": [],
   "source": [
    "sequences = []\n",
    "perplexities = []\n",
    "ids = []\n"
   ]
  },
  {
   "cell_type": "code",
   "execution_count": 70,
   "id": "1d02fac3",
   "metadata": {},
   "outputs": [],
   "source": [
    "id_set = set(ids)"
   ]
  },
  {
   "cell_type": "code",
   "execution_count": null,
   "id": "54b6b86a",
   "metadata": {},
   "outputs": [
    {
     "name": "stdout",
     "output_type": "stream",
     "text": [
      "skipping\n",
      "skipping\n",
      "skipping\n",
      "skipping\n",
      "skipping\n",
      "skipping\n",
      "skipping\n",
      "skipping\n",
      "skipping\n",
      "skipping\n",
      "skipping\n",
      "skipping\n",
      "skipping\n",
      "skipping\n",
      "skipping\n",
      "skipping\n",
      "skipping\n",
      "skipping\n",
      "skipping\n",
      "skipping\n",
      "skipping\n",
      "skipping\n",
      "skipping\n",
      "skipping\n",
      "skipping\n",
      "skipping\n",
      "skipping\n",
      "skipping\n",
      "skipping\n",
      "skipping\n",
      "skipping\n",
      "skipping\n",
      "skipping\n",
      "skipping\n",
      "skipping\n",
      "skipping\n",
      "skipping\n",
      "skipping\n",
      "skipping\n",
      "skipping\n",
      "skipping\n",
      "skipping\n",
      "skipping\n",
      "skipping\n",
      "skipping\n",
      "skipping\n",
      "skipping\n",
      "skipping\n",
      "skipping\n",
      "skipping\n",
      "skipping\n",
      "[909] UniRef50_W8AMD9: Perplexity = 17.32\n",
      "[925] UniRef50_A0A2P2FG32: Perplexity = 9.47\n",
      "[926] UniRef50_A0AA88LCX9: Perplexity = 16.77\n",
      "[964] UniRef50_A0A1B6H7D6: Perplexity = 12.14\n",
      "[974] UniRef50_A0A8W7PV71: Perplexity = 7.65\n",
      "[976] UniRef50_A0A087TAP7: Perplexity = 10.64\n",
      "[1027] UniRef50_A0A6V7KIE0: Perplexity = 17.48\n",
      "[1082] UniRef50_A0A2S2N6R5: Perplexity = 6.01\n",
      "[1086] UniRef50_A0A1B6HD99: Perplexity = 14.62\n",
      "[1135] UniRef50_A0A1I7SPU1: Perplexity = 12.36\n",
      "[1170] UniRef50_A0A8B6XLB3: Perplexity = 14.04\n",
      "[1187] UniRef50_A0A1Y1KVR3: Perplexity = 8.53\n",
      "[1197] UniRef50_A0A3P1SK08: Perplexity = 6.65\n",
      "[1216] UniRef50_V5GIA0: Perplexity = 14.27\n",
      "[1246] UniRef50_A0A699XF61: Perplexity = 9.23\n",
      "[1260] UniRef50_I6P6E2: Perplexity = 9.20\n",
      "[1286] UniRef50_A0AAV7Q053: Perplexity = 14.14\n",
      "[1290] UniRef50_A0A2J7QZM0: Perplexity = 13.75\n",
      "[1327] UniRef50_A0A5C8TYE9: Perplexity = 6.67\n",
      "[1369] UniRef50_A0A356FBV1: Perplexity = 1.01\n",
      "[1420] UniRef50_A0AA91YJK2: Perplexity = 18.12\n",
      "[1446] UniRef50_C1BTF2: Perplexity = 16.42\n",
      "[1492] UniRef50_A0A7M5X9E3: Perplexity = 14.05\n",
      "[1508] UniRef50_A7T877: Perplexity = 10.47\n",
      "[1558] UniRef50_A0AAW0YCN0: Perplexity = 10.79\n",
      "[1602] UniRef50_A0AAW8L3T8: Perplexity = 7.31\n",
      "[1643] UniRef50_A0A1R1SDX3: Perplexity = 13.30\n",
      "[1662] UniRef50_A0A2J7QB23: Perplexity = 5.96\n",
      "[1668] UniRef50_A0A2L2Z6R8: Perplexity = 14.07\n",
      "[1682] UniRef50_UPI000A45F381: Perplexity = 12.36\n",
      "[1685] UniRef50_A4HZR8: Perplexity = 15.49\n",
      "[1699] UniRef50_A0A4R2L660: Perplexity = 11.35\n",
      "[1703] UniRef50_A0A553XWS2: Perplexity = 12.79\n",
      "[1721] UniRef50_A0A318NB86: Perplexity = 12.45\n",
      "[1758] UniRef50_A0A0R1EAC1: Perplexity = 15.85\n",
      "[1766] UniRef50_A0A8D8ILZ1: Perplexity = 16.82\n",
      "[1778] UniRef50_H2XR25: Perplexity = 15.25\n",
      "[1827] UniRef50_A0A249SZ02: Perplexity = 14.03\n",
      "[1829] UniRef50_UPI0021C3CEC2: Perplexity = 8.60\n",
      "[1837] UniRef50_A0AAV7N9X2: Perplexity = 11.75\n",
      "[1864] UniRef50_A0A0Q9WLK6: Perplexity = 13.56\n",
      "[1865] UniRef50_A0A7K3LXA7: Perplexity = 9.89\n",
      "[1893] UniRef50_A0A2T2YSW7: Perplexity = 15.31\n"
     ]
    }
   ],
   "source": [
    "with open(input_fasta) as handle:\n",
    "    for i, record in enumerate(SeqIO.parse(handle, \"fasta\")):\n",
    "        if i >= MAX_SEQUENCES:\n",
    "            break\n",
    "        seq = str(record.seq)\n",
    "        if \"X\" in seq:\n",
    "            continue\n",
    "        if len(seq) > MAX_LEN:\n",
    "            continue\n",
    "        if record.id in id_set:\n",
    "            print(\"skipping\")\n",
    "            continue\n",
    "        try:\n",
    "            ppl = estimate_masked_perplexity(seq, lambda_t=20, num_samples=1000)\n",
    "            sequences.append(seq)\n",
    "            perplexities.append(ppl)\n",
    "            ids.append(record.id)\n",
    "            id_set.add(record.id)\n",
    "            print(f\"[{i}] {record.id}: Perplexity = {ppl:.2f}\")\n",
    "        except Exception as e:\n",
    "            print(f\"Error on sequence {record.id}: {e}\")\n"
   ]
  },
  {
   "cell_type": "code",
   "execution_count": 57,
   "id": "b7dfc4ff",
   "metadata": {},
   "outputs": [
    {
     "data": {
      "text/plain": [
       "(array([1., 1., 0., 0., 0., 0., 0., 0., 0., 0., 0., 0., 1., 0., 0., 0., 1.,\n",
       "        0., 0., 1., 0., 0., 0., 0., 1., 0., 0., 2., 1., 1., 1., 0., 0., 0.,\n",
       "        2., 3., 1., 1., 0., 1., 1., 0., 1., 1., 0., 1., 1., 0., 1., 1., 0.,\n",
       "        0., 0., 1., 0., 2., 0., 0., 0., 0., 1., 0., 0., 5., 0., 1., 1., 3.,\n",
       "        1., 2., 0., 2., 0., 2., 0., 0., 0., 2., 0., 1., 1., 0., 1., 0., 0.,\n",
       "        0., 0., 0., 0., 0., 0., 0., 0., 0., 0., 0., 0., 0., 0., 1.]),\n",
       " array([ 1.05922291,  1.27110582,  1.48298873,  1.69487164,  1.90675455,\n",
       "         2.11863746,  2.33052038,  2.54240329,  2.7542862 ,  2.96616911,\n",
       "         3.17805202,  3.38993493,  3.60181784,  3.81370075,  4.02558366,\n",
       "         4.23746657,  4.44934948,  4.6612324 ,  4.87311531,  5.08499822,\n",
       "         5.29688113,  5.50876404,  5.72064695,  5.93252986,  6.14441277,\n",
       "         6.35629568,  6.56817859,  6.7800615 ,  6.99194442,  7.20382733,\n",
       "         7.41571024,  7.62759315,  7.83947606,  8.05135897,  8.26324188,\n",
       "         8.47512479,  8.6870077 ,  8.89889061,  9.11077352,  9.32265644,\n",
       "         9.53453935,  9.74642226,  9.95830517, 10.17018808, 10.38207099,\n",
       "        10.5939539 , 10.80583681, 11.01771972, 11.22960263, 11.44148554,\n",
       "        11.65336846, 11.86525137, 12.07713428, 12.28901719, 12.5009001 ,\n",
       "        12.71278301, 12.92466592, 13.13654883, 13.34843174, 13.56031465,\n",
       "        13.77219756, 13.98408048, 14.19596339, 14.4078463 , 14.61972921,\n",
       "        14.83161212, 15.04349503, 15.25537794, 15.46726085, 15.67914376,\n",
       "        15.89102667, 16.10290958, 16.3147925 , 16.52667541, 16.73855832,\n",
       "        16.95044123, 17.16232414, 17.37420705, 17.58608996, 17.79797287,\n",
       "        18.00985578, 18.22173869, 18.4336216 , 18.64550452, 18.85738743,\n",
       "        19.06927034, 19.28115325, 19.49303616, 19.70491907, 19.91680198,\n",
       "        20.12868489, 20.3405678 , 20.55245071, 20.76433362, 20.97621654,\n",
       "        21.18809945, 21.39998236, 21.61186527, 21.82374818, 22.03563109,\n",
       "        22.247514  ]),\n",
       " <BarContainer object of 100 artists>)"
      ]
     },
     "execution_count": 57,
     "metadata": {},
     "output_type": "execute_result"
    },
    {
     "data": {
      "image/png": "[encoded data removed]",
      "text/plain": [
       "<Figure size 640x480 with 1 Axes>"
      ]
     },
     "metadata": {},
     "output_type": "display_data"
    }
   ],
   "source": [
    "plt.hist(perplexities, bins=100)"
   ]
  },
  {
   "cell_type": "code",
   "execution_count": null,
   "id": "21a8769c",
   "metadata": {},
   "outputs": [
    {
     "data": {
      "text/html": [
       "<div>\n",
       "<style scoped>\n",
       "    .dataframe tbody tr th:only-of-type {\n",
       "        vertical-align: middle;\n",
       "    }\n",
       "\n",
       "    .dataframe tbody tr th {\n",
       "        vertical-align: top;\n",
       "    }\n",
       "\n",
       "    .dataframe thead th {\n",
       "        text-align: right;\n",
       "    }\n",
       "</style>\n",
       "<table border=\"1\" class=\"dataframe\">\n",
       "  <thead>\n",
       "    <tr style=\"text-align: right;\">\n",
       "      <th></th>\n",
       "      <th>perplexity</th>\n",
       "    </tr>\n",
       "  </thead>\n",
       "  <tbody>\n",
       "    <tr>\n",
       "      <th>count</th>\n",
       "      <td>53.000000</td>\n",
       "    </tr>\n",
       "    <tr>\n",
       "      <th>mean</th>\n",
       "      <td>11.836016</td>\n",
       "    </tr>\n",
       "    <tr>\n",
       "      <th>std</th>\n",
       "      <td>4.689154</td>\n",
       "    </tr>\n",
       "    <tr>\n",
       "      <th>min</th>\n",
       "      <td>1.059223</td>\n",
       "    </tr>\n",
       "    <tr>\n",
       "      <th>25%</th>\n",
       "      <td>8.574027</td>\n",
       "    </tr>\n",
       "    <tr>\n",
       "      <th>50%</th>\n",
       "      <td>12.313738</td>\n",
       "    </tr>\n",
       "    <tr>\n",
       "      <th>75%</th>\n",
       "      <td>15.462005</td>\n",
       "    </tr>\n",
       "    <tr>\n",
       "      <th>max</th>\n",
       "      <td>22.247514</td>\n",
       "    </tr>\n",
       "  </tbody>\n",
       "</table>\n",
       "</div>"
      ],
      "text/plain": [
       "       perplexity\n",
       "count   53.000000\n",
       "mean    11.836016\n",
       "std      4.689154\n",
       "min      1.059223\n",
       "25%      8.574027\n",
       "50%     12.313738\n",
       "75%     15.462005\n",
       "max     22.247514"
      ]
     },
     "execution_count": 64,
     "metadata": {},
     "output_type": "execute_result"
    }
   ],
   "source": [
    "df = pd.DataFrame(\n",
    "    {\n",
    "    \"sequence\" : sequences,\n",
    "    \"perplexity\" : perplexities,\n",
    "    \"unprot_id\" : ids\n",
    "    }\n",
    ")\n",
    "\n",
    "df.to_csv(\"biochemical_benchmarks/perplexity_sample_1.csv\")\n",
    "df.describe().to_csv(\"biochemical_benchmarks/perplexity_sample_1_simple_stats.csv\")\n",
    "df.describe()"
   ]
  },
  {
   "cell_type": "code",
   "execution_count": null,
   "id": "041d41a6",
   "metadata": {},
   "outputs": [],
   "source": []
  }
 ],
 "metadata": {
  "kernelspec": {
   "display_name": "esm-env",
   "language": "python",
   "name": "python3"
  },
  "language_info": {
   "codemirror_mode": {
    "name": "ipython",
    "version": 3
   },
   "file_extension": ".py",
   "mimetype": "text/x-python",
   "name": "python",
   "nbconvert_exporter": "python",
   "pygments_lexer": "ipython3",
   "version": "3.10.18"
  }
 },
 "nbformat": 4,
 "nbformat_minor": 5
}
