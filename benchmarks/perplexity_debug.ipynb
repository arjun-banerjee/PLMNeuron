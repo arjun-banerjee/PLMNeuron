{
 "cells": [
  {
   "cell_type": "code",
   "execution_count": 1,
   "id": "768c1513",
   "metadata": {},
   "outputs": [],
   "source": [
    "import os\n",
    "import torch\n",
    "import pandas as pd\n",
    "from esm import pretrained, Alphabet, BatchConverter"
   ]
  },
  {
   "cell_type": "code",
   "execution_count": 5,
   "id": "4e1a5408",
   "metadata": {},
   "outputs": [
    {
     "data": {
      "text/plain": [
       "<torch.autograd.grad_mode.set_grad_enabled at 0x7faa713a2f40>"
      ]
     },
     "execution_count": 5,
     "metadata": {},
     "output_type": "execute_result"
    }
   ],
   "source": [
    "from typing import List, Tuple, Optional, Dict, NamedTuple, Union, Callable\n",
    "import itertools\n",
    "import os\n",
    "import string\n",
    "from pathlib import Path\n",
    "\n",
    "import numpy as np\n",
    "import torch\n",
    "from scipy.spatial.distance import squareform, pdist, cdist\n",
    "import matplotlib.pyplot as plt\n",
    "import matplotlib as mpl\n",
    "from Bio import SeqIO\n",
    "from tqdm import tqdm\n",
    "import pandas as pd\n",
    "\n",
    "import esm\n",
    "\n",
    "torch.set_grad_enabled(False)"
   ]
  },
  {
   "cell_type": "code",
   "execution_count": 9,
   "id": "65e4bcdc",
   "metadata": {},
   "outputs": [],
   "source": [
    "esm2, esm2_alphabet = esm.pretrained.esm2_t6_8M_UR50D()\n",
    "esm2 = esm2.eval()\n",
    "esm2_batch_converter = esm2_alphabet.get_batch_converter()"
   ]
  },
  {
   "cell_type": "code",
   "execution_count": 8,
   "id": "1a597957",
   "metadata": {},
   "outputs": [],
   "source": [
    "input_fasta = \"/Users/davidm/182-final-proj/data/uniref50.fasta\"\n",
    "output_csv = os.path.join(os.path.dirname(input_fasta), \"uniprot50_perplexity.csv\")"
   ]
  },
  {
   "cell_type": "code",
   "execution_count": 13,
   "id": "e5a9df6b",
   "metadata": {},
   "outputs": [],
   "source": [
    "MAX_SEQUENCES = 10\n",
    "DEVICE = \"cpu\""
   ]
  },
  {
   "cell_type": "code",
   "execution_count": null,
   "id": "e946678a",
   "metadata": {},
   "outputs": [],
   "source": [
    "\n",
    "# ========== Perplexity Function ==========\n",
    "def compute_perplexity(seq: str):\n",
    "    data = [(\"protein\", seq)]\n",
    "    _, _, tokens = esm2_batch_converter(data)\n",
    "    tokens = tokens.to(DEVICE)\n",
    "\n",
    "    with torch.no_grad():\n",
    "        logits = esm2(tokens)[\"logits\"]\n",
    "    \n",
    "    log_probs = torch.nn.functional.log_softmax(logits, dim=-1)\n",
    "    token_log_probs = log_probs[0, :-1].gather(1, tokens[0, 1:].unsqueeze(1)).squeeze()\n",
    "    perplexity = torch.exp(-token_log_probs.mean()).item()\n",
    "    return perplexity\n",
    "\n",
    "# ========== Read Sequences ==========\n",
    "from Bio import SeqIO\n",
    "sequences = []\n",
    "perplexities = []\n",
    "ids = []\n",
    "\n",
    "with open(input_fasta) as handle:\n",
    "    for i, record in enumerate(SeqIO.parse(handle, \"fasta\")):\n",
    "        if i >= MAX_SEQUENCES:\n",
    "            break\n",
    "        seq = str(record.seq)\n",
    "        if \"X\" in seq:\n",
    "            continue\n",
    "        try:\n",
    "            ppl = compute_perplexity(seq)\n",
    "            sequences.append(seq)\n",
    "            perplexities.append(ppl)\n",
    "            ids.append(record.id)\n",
    "            print(f\"[{i}] {record.id}: Perplexity = {ppl:.2f}\")\n",
    "        except Exception as e:\n",
    "            print(f\"Error on sequence {record.id}: {e}\")\n",
    "\n",
    "# ========== Save Results ==========\n",
    "df = pd.DataFrame({\n",
    "    \"sequence_id\": ids,\n",
    "    \"sequence\": sequences,\n",
    "    \"perplexity\": perplexities\n",
    "})\n",
    "df.to_csv(output_csv, index=False)\n",
    "print(f\"\\nSaved perplexity CSV to: {output_csv}\")\n"
   ]
  },
  {
   "cell_type": "code",
   "execution_count": null,
   "id": "c5cbc512",
   "metadata": {},
   "outputs": [],
   "source": []
  }
 ],
 "metadata": {
  "kernelspec": {
   "display_name": "base",
   "language": "python",
   "name": "python3"
  },
  "language_info": {
   "codemirror_mode": {
    "name": "ipython",
    "version": 3
   },
   "file_extension": ".py",
   "mimetype": "text/x-python",
   "name": "python",
   "nbconvert_exporter": "python",
   "pygments_lexer": "ipython3",
   "version": "3.9.13"
  }
 },
 "nbformat": 4,
 "nbformat_minor": 5
}
