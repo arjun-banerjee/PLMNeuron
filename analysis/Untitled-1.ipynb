{
 "cells": [
  {
   "cell_type": "code",
   "execution_count": 10,
   "metadata": {},
   "outputs": [
    {
     "name": "stderr",
     "output_type": "stream",
     "text": [
      "Some weights of the model checkpoint at facebook/esm2_t12_35M_UR50D were not used when initializing EsmForMaskedLM: ['esm.embeddings.position_embeddings.weight']\n",
      "- This IS expected if you are initializing EsmForMaskedLM from the checkpoint of a model trained on another task or with another architecture (e.g. initializing a BertForSequenceClassification model from a BertForPreTraining model).\n",
      "- This IS NOT expected if you are initializing EsmForMaskedLM from the checkpoint of a model that you expect to be exactly identical (initializing a BertForSequenceClassification model from a BertForSequenceClassification model).\n"
     ]
    },
    {
     "name": "stdout",
     "output_type": "stream",
     "text": [
      "[(0, 19), (0, 10), (0, 14), (0, 30), (0, 32), (0, 45), (0, 44), (0, 61), (0, 38), (0, 77), (0, 92), (0, 81), (0, 93), (0, 98), (0, 109), (0, 110), (0, 100), (0, 123), (0, 108), (0, 131), (0, 136), (0, 142), (0, 141), (0, 155), (0, 168), (0, 169), (0, 173), (0, 175), (0, 208), (0, 216), (0, 227), (0, 224), (0, 220), (0, 211), (0, 245), (0, 263), (0, 272), (0, 273), (0, 261), (0, 283), (0, 297), (0, 287), (0, 308), (0, 321), (0, 326), (0, 333), (0, 336), (0, 341), (0, 358), (0, 357), (0, 364), (0, 365), (0, 385), (0, 401), (0, 391), (0, 412), (0, 405), (0, 422), (0, 439), (0, 450), (0, 453), (0, 459), (0, 445), (0, 466), (0, 472), (0, 474), (1, 17), (1, 27), (1, 38), (1, 40), (1, 55), (1, 53), (1, 49), (1, 56), (1, 64), (1, 74), (1, 75), (1, 84), (1, 90), (1, 99), (1, 98), (1, 104), (1, 108), (1, 92), (1, 109), (1, 106), (1, 112), (1, 93), (1, 136), (1, 125), (1, 132), (1, 147), (1, 130), (1, 154), (1, 158), (1, 168), (1, 183), (1, 216), (1, 241), (1, 245), (1, 247), (1, 272), (1, 285), (1, 292), (1, 295), (1, 298), (1, 297), (1, 307), (1, 304), (1, 310), (1, 326), (1, 331), (1, 336), (1, 358), (1, 377), (1, 393), (1, 404), (1, 400), (1, 408), (1, 398), (1, 426), (1, 430), (1, 439), (1, 440), (1, 433), (1, 458), (1, 450), (1, 472), (2, 5), (2, 4), (2, 2), (2, 19), (2, 32), (2, 31), (2, 43), (2, 54), (2, 56), (2, 59), (2, 58), (2, 64), (2, 97), (2, 107), (2, 98), (2, 110), (2, 106), (2, 116), (2, 133), (2, 125), (2, 138), (2, 129), (2, 146), (2, 154), (2, 143), (2, 156), (2, 165), (2, 163), (2, 174), (2, 182), (2, 176), (2, 195), (2, 219), (2, 225), (2, 227), (2, 245), (2, 247), (2, 243), (2, 273), (2, 261), (2, 279), (2, 301), (2, 300), (2, 296), (2, 305), (2, 331), (2, 323), (2, 325), (2, 335), (2, 339), (2, 340), (2, 347), (2, 363), (2, 360), (2, 365), (2, 385), (2, 389), (2, 391), (2, 394), (2, 399), (2, 395), (2, 390), (2, 401), (2, 403), (2, 422), (2, 426), (2, 432), (2, 429), (2, 435), (2, 452), (2, 456), (2, 453), (2, 469), (3, 0), (3, 11), (3, 16), (3, 17), (3, 2), (3, 22), (3, 27), (3, 33), (3, 36), (3, 54), (3, 56), (3, 59), (3, 60), (3, 68), (3, 75), (3, 81), (3, 74), (3, 87), (3, 82), (3, 69), (3, 100), (3, 106), (3, 108), (3, 113), (3, 111), (3, 122), (3, 132), (3, 137), (3, 146), (3, 148), (3, 140), (3, 150), (3, 154), (3, 159), (3, 166), (3, 176), (3, 168), (3, 181), (3, 183), (3, 185), (3, 162), (3, 194), (3, 193), (3, 184), (3, 187), (3, 203), (3, 212), (3, 206), (3, 204), (3, 231), (3, 221), (3, 245), (3, 251), (3, 243), (3, 257), (3, 252), (3, 262), (3, 286), (3, 288), (3, 291), (3, 285), (3, 292), (3, 315), (3, 327), (3, 336), (3, 335), (3, 356), (3, 357), (3, 359), (3, 355), (3, 373), (3, 370), (3, 380), (3, 383), (3, 386), (3, 388), (3, 385), (3, 396), (3, 401), (3, 429), (3, 421), (3, 438), (3, 433), (3, 440), (3, 456), (3, 447), (3, 452), (3, 466), (3, 454), (3, 467), (3, 473), (3, 474), (3, 468), (3, 464), (3, 472), (4, 6), (4, 13), (4, 19), (4, 8), (4, 21), (4, 29), (4, 2), (4, 23), (4, 30), (4, 34), (4, 32), (4, 39), (4, 50), (4, 43), (4, 40), (4, 49), (4, 54), (4, 45), (4, 65), (4, 79), (4, 84), (4, 87), (4, 104), (4, 109), (4, 113), (4, 117), (4, 115), (4, 121), (4, 111), (4, 123), (4, 127), (4, 129), (4, 132), (4, 110), (4, 139), (4, 125), (4, 138), (4, 145), (4, 150), (4, 144), (4, 147), (4, 142), (4, 146), (4, 158), (4, 153), (4, 163), (4, 159), (4, 174), (4, 170), (4, 173), (4, 160), (4, 176), (4, 192), (4, 196), (4, 187), (4, 204), (4, 197), (4, 202), (4, 213), (4, 218), (4, 223), (4, 228), (4, 227), (4, 220), (4, 234), (4, 219), (4, 231), (4, 232), (4, 237), (4, 235), (4, 245), (4, 253), (4, 251), (4, 250), (4, 252), (4, 247), (4, 271), (4, 270), (4, 274), (4, 263), (4, 269), (4, 267), (4, 273), (4, 288), (4, 280), (4, 289), (4, 279), (4, 285), (4, 294), (4, 303), (4, 300), (4, 304), (4, 299), (4, 298), (4, 302), (4, 305), (4, 317), (4, 309), (4, 318), (4, 324), (4, 319), (4, 320), (4, 287), (4, 337), (4, 332), (4, 326), (4, 338), (4, 351), (4, 349), (4, 350), (4, 356), (4, 347), (4, 362), (4, 371), (4, 373), (4, 369), (4, 384), (4, 398), (4, 397), (4, 401), (4, 400), (4, 390), (4, 403), (4, 407), (4, 411), (4, 412), (4, 425), (4, 430), (4, 440), (4, 438), (4, 429), (4, 435), (4, 445), (4, 444), (4, 456), (4, 462), (4, 475), (4, 471), (4, 466), (4, 473), (5, 1), (5, 6), (5, 11), (5, 5), (5, 10), (5, 15), (5, 20), (5, 30), (5, 34), (5, 28), (5, 23), (5, 40), (5, 32), (5, 16), (5, 53), (5, 51), (5, 57), (5, 58), (5, 54), (5, 56), (5, 55), (5, 78), (5, 75), (5, 76), (5, 72), (5, 80), (5, 89), (5, 92), (5, 86), (5, 91), (5, 93), (5, 107), (5, 103), (5, 106), (5, 121), (5, 112), (5, 116), (5, 117), (5, 127), (5, 135), (5, 132), (5, 136), (5, 138), (5, 151), (5, 149), (5, 155), (5, 156), (5, 159), (5, 168), (5, 169), (5, 173), (5, 190), (5, 181), (5, 185), (5, 187), (5, 183), (5, 192), (5, 202), (5, 203), (5, 207), (5, 206), (5, 209), (5, 205), (5, 194), (5, 211), (5, 214), (5, 230), (5, 224), (5, 228), (5, 235), (5, 232), (5, 243), (5, 236), (5, 248), (5, 252), (5, 251), (5, 249), (5, 258), (5, 250), (5, 260), (5, 257), (5, 273), (5, 278), (5, 279), (5, 288), (5, 296), (5, 286), (5, 298), (5, 301), (5, 311), (5, 315), (5, 309), (5, 306), (5, 307), (5, 329), (5, 328), (5, 324), (5, 336), (5, 330), (5, 340), (5, 334), (5, 344), (5, 352), (5, 345), (5, 350), (5, 354), (5, 356), (5, 355), (5, 360), (5, 371), (5, 375), (5, 377), (5, 378), (5, 382), (5, 385), (5, 383), (5, 370), (5, 400), (5, 393), (5, 405), (5, 408), (5, 398), (5, 409), (5, 407), (5, 420), (5, 436), (5, 437), (5, 427), (5, 425), (5, 449), (5, 450), (5, 465), (5, 471), (6, 4), (6, 6), (6, 9), (6, 5), (6, 16), (6, 15), (6, 13), (6, 17), (6, 29), (6, 30), (6, 38), (6, 33), (6, 40), (6, 48), (6, 47), (6, 50), (6, 35), (6, 56), (6, 34), (6, 60), (6, 66), (6, 63), (6, 79), (6, 69), (6, 61), (6, 77), (6, 75), (6, 89), (6, 103), (6, 86), (6, 107), (6, 101), (6, 113), (6, 95), (6, 116), (6, 124), (6, 129), (6, 135), (6, 121), (6, 137), (6, 122), (6, 141), (6, 136), (6, 130), (6, 138), (6, 140), (6, 133), (6, 147), (6, 157), (6, 160), (6, 163), (6, 158), (6, 149), (6, 150), (6, 167), (6, 174), (6, 172), (6, 183), (6, 184), (6, 180), (6, 189), (6, 179), (6, 193), (6, 191), (6, 210), (6, 207), (6, 203), (6, 213), (6, 214), (6, 225), (6, 218), (6, 219), (6, 228), (6, 226), (6, 242), (6, 234), (6, 246), (6, 248), (6, 241), (6, 244), (6, 259), (6, 249), (6, 257), (6, 260), (6, 266), (6, 270), (6, 251), (6, 271), (6, 277), (6, 288), (6, 283), (6, 292), (6, 287), (6, 291), (6, 290), (6, 304), (6, 307), (6, 308), (6, 314), (6, 311), (6, 321), (6, 327), (6, 324), (6, 312), (6, 331), (6, 318), (6, 341), (6, 334), (6, 347), (6, 342), (6, 351), (6, 348), (6, 344), (6, 354), (6, 367), (6, 390), (6, 384), (6, 379), (6, 385), (6, 377), (6, 375), (6, 386), (6, 395), (6, 396), (6, 400), (6, 399), (6, 412), (6, 415), (6, 413), (6, 416), (6, 421), (6, 431), (6, 432), (6, 424), (6, 437), (6, 442), (6, 441), (6, 457), (6, 449), (6, 454), (6, 458), (6, 455), (6, 471), (6, 466), (6, 477), (6, 476), (7, 0), (6, 467), (7, 6), (6, 470), (7, 12), (7, 4), (7, 8), (7, 13), (6, 473), (7, 30), (7, 16), (7, 26), (7, 32), (7, 38), (7, 41), (7, 43), (7, 45), (7, 49), (7, 48), (7, 33), (7, 56), (7, 61), (7, 60), (7, 47), (7, 64), (7, 59), (7, 72), (7, 86), (7, 70), (7, 69), (7, 96), (7, 98), (7, 93), (7, 107), (7, 103), (7, 111), (7, 115), (7, 119), (7, 122), (7, 116), (7, 118), (7, 117), (7, 113), (7, 123), (7, 130), (7, 132), (7, 139), (7, 140), (7, 131), (7, 163), (7, 162), (7, 157), (7, 173), (7, 178), (7, 179), (7, 183), (7, 180), (7, 181), (7, 172), (7, 191), (7, 188), (7, 186), (7, 194), (7, 195), (7, 189), (7, 205), (7, 202), (7, 212), (7, 207), (7, 225), (7, 215), (7, 242), (7, 235), (7, 217), (7, 250), (7, 232), (7, 245), (7, 254), (7, 248), (7, 240), (7, 241), (7, 259), (7, 261), (7, 253), (7, 238), (7, 257), (7, 239), (7, 256), (7, 260), (7, 274), (7, 282), (7, 278), (7, 277), (7, 294), (7, 287), (7, 271), (7, 289), (7, 290), (7, 298), (7, 276), (7, 295), (7, 305), (7, 300), (7, 310), (7, 322), (7, 319), (7, 317), (7, 323), (7, 316), (7, 330), (7, 324), (7, 327), (7, 338), (7, 343), (7, 334), (7, 352), (7, 350), (7, 351), (7, 340), (7, 348), (7, 346), (7, 344), (7, 364), (7, 359), (7, 363), (7, 376), (7, 374), (7, 375), (7, 373), (7, 369), (7, 379), (7, 391), (7, 389), (7, 398), (7, 409), (7, 399), (7, 401), (7, 404), (7, 420), (7, 430), (7, 425), (7, 438), (7, 454), (7, 453), (7, 452), (7, 446), (7, 464), (7, 462), (7, 465), (7, 463), (7, 468), (7, 473), (7, 472), (8, 1), (7, 471), (8, 6), (8, 10), (8, 15), (8, 18), (8, 22), (8, 21), (8, 19), (8, 24), (8, 13), (8, 17), (8, 30), (8, 41), (8, 46), (8, 36), (8, 39), (8, 54), (8, 53), (8, 45), (8, 52), (8, 60), (8, 47), (8, 57), (8, 49), (8, 63), (8, 65), (8, 76), (8, 72), (8, 77), (8, 84), (8, 89), (8, 88), (8, 78), (8, 94), (8, 80), (8, 104), (8, 98), (8, 119), (8, 115), (8, 122), (8, 111), (8, 121), (8, 125), (8, 133), (8, 138), (8, 148), (8, 131), (8, 145), (8, 130), (8, 142), (8, 152), (8, 155), (8, 158), (8, 146), (8, 163), (8, 161), (8, 172), (8, 171), (8, 180), (8, 188), (8, 198), (8, 214), (8, 208), (8, 209), (8, 213), (8, 221), (8, 224), (8, 238), (8, 225), (8, 239), (8, 243), (8, 240), (8, 252), (8, 245), (8, 257), (8, 256), (8, 262), (8, 270), (8, 274), (8, 269), (8, 268), (8, 279), (8, 272), (8, 276), (8, 291), (8, 297), (8, 296), (8, 290), (8, 307), (8, 303), (8, 329), (8, 327), (8, 334), (8, 336), (8, 340), (8, 319), (8, 333), (8, 343), (8, 345), (8, 346), (8, 300), (8, 354), (8, 342), (8, 358), (8, 359), (8, 356), (8, 370), (8, 375), (8, 371), (8, 382), (8, 374), (8, 379), (8, 392), (8, 396), (8, 395), (8, 400), (8, 401), (8, 388), (8, 405), (8, 416), (8, 414), (8, 419), (8, 417), (8, 427), (8, 438), (8, 430), (8, 448), (8, 441), (8, 451), (8, 456), (8, 447), (8, 457), (8, 455), (8, 453), (8, 450), (8, 454), (8, 468), (8, 476), (9, 8), (9, 2), (9, 9), (9, 10), (9, 17), (9, 6), (9, 18), (9, 24), (9, 22), (9, 27), (9, 28), (9, 20), (9, 33), (9, 21), (9, 29), (9, 39), (9, 41), (9, 46), (9, 49), (9, 50), (9, 64), (9, 56), (9, 61), (9, 60), (9, 77), (9, 73), (9, 90), (9, 92), (9, 98), (9, 96), (9, 94), (9, 95), (9, 103), (9, 105), (9, 111), (9, 112), (9, 123), (9, 118), (9, 120), (9, 133), (9, 132), (9, 140), (9, 159), (9, 150), (9, 157), (9, 148), (9, 151), (9, 153), (9, 169), (9, 166), (9, 168), (9, 182), (9, 179), (9, 174), (9, 201), (9, 216), (9, 213), (9, 192), (9, 225), (9, 207), (9, 222), (9, 208), (9, 223), (9, 238), (9, 230), (9, 240), (9, 259), (9, 241), (9, 246), (9, 256), (9, 266), (9, 265), (9, 271), (9, 276), (9, 283), (9, 286), (9, 280), (9, 294), (9, 300), (9, 287), (9, 306), (9, 299), (9, 307), (9, 297), (9, 320), (9, 308), (9, 321), (9, 311), (9, 314), (9, 329), (9, 334), (9, 338), (9, 333), (9, 327), (9, 350), (9, 347), (9, 355), (9, 365), (9, 368), (9, 362), (9, 356), (9, 369), (9, 374), (9, 359), (9, 370), (9, 371), (9, 377), (9, 372), (9, 379), (9, 390), (9, 389), (9, 395), (9, 399), (9, 401), (9, 409), (9, 411), (9, 402), (9, 416), (9, 424), (9, 427), (9, 418), (9, 429), (9, 431), (9, 423), (9, 422), (9, 449), (9, 435), (9, 447), (9, 444), (9, 452), (9, 472), (9, 468), (9, 469), (10, 6), (10, 3), (9, 476), (9, 475), (9, 479), (10, 4), (10, 1), (10, 14), (10, 8), (10, 5), (10, 25), (10, 22), (10, 30), (10, 36), (10, 39), (10, 44), (10, 26), (10, 38), (10, 49), (10, 58), (10, 55), (10, 64), (10, 59), (10, 70), (10, 75), (10, 61), (10, 77), (10, 74), (10, 90), (10, 84), (10, 92), (10, 99), (10, 108), (10, 100), (10, 110), (10, 113), (10, 106), (10, 111), (10, 120), (10, 132), (10, 135), (10, 142), (10, 146), (10, 149), (10, 125), (10, 153), (10, 148), (10, 140), (10, 162), (10, 165), (10, 144), (10, 166), (10, 161), (10, 169), (10, 172), (10, 177), (10, 181), (10, 178), (10, 184), (10, 195), (10, 194), (10, 201), (10, 198), (10, 204), (10, 212), (10, 211), (10, 216), (10, 214), (10, 219), (10, 224), (10, 213), (10, 217), (10, 234), (10, 240), (10, 257), (10, 263), (10, 250), (10, 261), (10, 268), (10, 271), (10, 276), (10, 273), (10, 287), (10, 281), (10, 296), (10, 301), (10, 295), (10, 293), (10, 313), (10, 303), (10, 305), (10, 309), (10, 311), (10, 323), (10, 308), (10, 321), (10, 326), (10, 320), (10, 322), (10, 330), (10, 335), (10, 349), (10, 358), (10, 356), (10, 346), (10, 369), (10, 367), (10, 374), (10, 375), (10, 365), (10, 379), (10, 387), (10, 385), (10, 390), (10, 391), (10, 393), (10, 383), (10, 394), (10, 410), (10, 413), (10, 402), (10, 411), (10, 401), (10, 407), (10, 403), (10, 422), (10, 419), (10, 415), (10, 424), (10, 399), (10, 428), (10, 427), (10, 414), (10, 426), (10, 438), (10, 437), (10, 435), (10, 439), (10, 457), (10, 453), (10, 456), (10, 458), (10, 465), (10, 477), (10, 479), (10, 470), (11, 0), (10, 476), (11, 7), (11, 16), (11, 2), (11, 11), (11, 20), (10, 478), (11, 12), (11, 10), (11, 4), (11, 27), (11, 35), (11, 34), (11, 50), (11, 39), (11, 61), (11, 60), (11, 58), (11, 52), (11, 66), (11, 59), (11, 62), (11, 70), (11, 64), (11, 83), (11, 90), (11, 93), (11, 92), (11, 77), (11, 97), (11, 98), (11, 103), (11, 113), (11, 106), (11, 119), (11, 121), (11, 115), (11, 123), (11, 114), (11, 130), (11, 140), (11, 136), (11, 154), (11, 155), (11, 149), (11, 165), (11, 166), (11, 170), (11, 179), (11, 178), (11, 182), (11, 185), (11, 189), (11, 188), (11, 196), (11, 214), (11, 215), (11, 207), (11, 221), (11, 208), (11, 225), (11, 235), (11, 240), (11, 246), (11, 247), (11, 256), (11, 243), (11, 238), (11, 250), (11, 259), (11, 260), (11, 264), (11, 262), (11, 273), (11, 272), (11, 269), (11, 278), (11, 275), (11, 281), (11, 279), (11, 292), (11, 301), (11, 294), (11, 299), (11, 298), (11, 274), (11, 311), (11, 308), (11, 315), (11, 318), (11, 323), (11, 322), (11, 330), (11, 333), (11, 342), (11, 339), (11, 347), (11, 331), (11, 354), (11, 349), (11, 362), (11, 364), (11, 373), (11, 363), (11, 369), (11, 382), (11, 359), (11, 379), (11, 391), (11, 388), (11, 385), (11, 393), (11, 399), (11, 400), (11, 410), (11, 417), (11, 414), (11, 427), (11, 426), (11, 408), (11, 436), (11, 437), (11, 440), (11, 434), (11, 449), (11, 441), (11, 454), (11, 448), (11, 460), (11, 451), (11, 450), (11, 462), (11, 456), (11, 468), (11, 461), (11, 474), (11, 478), (11, 477)]\n"
     ]
    },
    {
     "name": "stderr",
     "output_type": "stream",
     "text": [
      "  0%|          | 1/500 [00:01<10:27,  1.26s/it]"
     ]
    },
    {
     "name": "stdout",
     "output_type": "stream",
     "text": [
      "[001] avg_activation=-0.1009 | MNNNNNLNSNYNNNNNYNNNNNNNNNYNNNNYNNMNNNNSNNMNNNNNNNNMNNNQNNXYNNNNNNNNMNNNNNYNFNNNNNSNNNNNNYNNNNNNNNNYNN\n"
     ]
    },
    {
     "name": "stderr",
     "output_type": "stream",
     "text": [
      "  0%|          | 2/500 [00:02<10:07,  1.22s/it]"
     ]
    },
    {
     "name": "stdout",
     "output_type": "stream",
     "text": [
      "[002] avg_activation=-0.1037 | NNNNNNNNGNNNNNSNNQNNNNNXQNMYNSNNNNSNYNNYNNXNNNNNNYSNNNYNCKNQNNSNNNYNNNSNNNSNYNNNNNCNXNNNYXNNNNXKNNNNMN\n"
     ]
    },
    {
     "name": "stderr",
     "output_type": "stream",
     "text": [
      "  1%|          | 3/500 [00:03<10:10,  1.23s/it]"
     ]
    },
    {
     "name": "stdout",
     "output_type": "stream",
     "text": [
      "[003] avg_activation=-0.0955 | NNNMNNNSYNNNNNNYNNNNNSNNNNNNNWMNNNNCNNNNNNNNNNNAYNNNTYNTNNNNNNNSNXYNMMNNSNXNNNPNNNNMNNNNNNNYNNSNNNNNNY\n"
     ]
    },
    {
     "name": "stderr",
     "output_type": "stream",
     "text": [
      "  1%|          | 5/500 [00:04<05:49,  1.42it/s]"
     ]
    },
    {
     "name": "stdout",
     "output_type": "stream",
     "text": [
      "[004] avg_activation=-0.0924 | TNNNSNNNSNNNTNNYNNNNNNYYNNNNNNNNYNNNNYNNNNYNNMNNNNNQNNNSNNNNNNNYNNNNNSNTYNMANNNNNNNNNYNNNNNNSNNSNSNNN\n",
      "[005] avg_activation=-0.0917 | NYNNNNNNCNSNNYNNNNYNSNNNNNMNNNNNMNYNYNNNTNNNNNNNNNNNNSNNNNNNNNINYNNNNNNYNNNNNNNNNNNMNCYNNNNNMMNNCNNNNN\n"
     ]
    },
    {
     "name": "stderr",
     "output_type": "stream",
     "text": [
      "  1%|▏         | 7/500 [00:04<03:06,  2.64it/s]"
     ]
    },
    {
     "name": "stdout",
     "output_type": "stream",
     "text": [
      "[006] avg_activation=-0.0966 | KNNNSMNNNNNNNNNYMNNNNNCNNNNNMNNNNNMNNMNQSNSNNYNNNGNNNNNNNNNNNNNTNNNNNSFSNNNNYNNYNNNNNNNNPYNNNNQNNNNMYN\n",
      "[007] avg_activation=-0.0981 | QNNNNNTYMNXMNNNQNNNNNNNNNYNNYNMTNNNNNTQNNYNNNXYNNNNNNNNNNNNMNNMYNYNNNNNNNDNSSNNMNNNYNGQNNYNTNNYNNNNNN\n"
     ]
    },
    {
     "name": "stderr",
     "output_type": "stream",
     "text": [
      "  2%|▏         | 9/500 [00:05<01:57,  4.18it/s]"
     ]
    },
    {
     "name": "stdout",
     "output_type": "stream",
     "text": [
      "[008] avg_activation=-0.0958 | NMQYNMNNTNNNNNYNNNNNNQLNNNNYNNNYNNMNYYNTYSYNNNSNNNNNSNNNNNNNNNNYNNNNNNNNMNTNNNNNNNTNNKNSNMNNSNNNNMYSY\n",
      "[009] avg_activation=-0.0987 | YNSYNNNNNNNYNNTNNNNNNQNTNNNGNNSXNNKENNNYSNYNYNNNNNNQXXYMNNSNNNNNNNNNNYMMNNMNNNNSNNSNNNNNNNNSNNNNNNYXS\n"
     ]
    },
    {
     "name": "stderr",
     "output_type": "stream",
     "text": [
      "  2%|▏         | 11/500 [00:05<01:25,  5.71it/s]"
     ]
    },
    {
     "name": "stdout",
     "output_type": "stream",
     "text": [
      "[010] avg_activation=-0.0961 | NNNNYNNNTNNNNNNSNYNNYNNNNNNNNNYXNYQKXNNNNMNNNQNNVNNNNYNNNNNNNNNNMNNNMNNNNNNNNNNNNNYYNSNAMNNNNMNNSINNNN\n",
      "[011] avg_activation=-0.0967 | MXMYNNMNNNNNNNNYNYNNNNNNYNNNNNNNKMTNNYMNNNNNNNNYNNTNNYNNNNQNNNNNNYXNNSNNNNNNNYSNNNNSNNSYNNNYNNYNNNNYNN\n"
     ]
    },
    {
     "name": "stderr",
     "output_type": "stream",
     "text": [
      "  3%|▎         | 13/500 [00:05<01:04,  7.52it/s]"
     ]
    },
    {
     "name": "stdout",
     "output_type": "stream",
     "text": [
      "[012] avg_activation=-0.1005 | YNNNYMYYNNNNQYNCQNNNNQNNNNKNNNNNNNNNNNSYNNNNNNQNNNXNNTNNNNXNNNNNNNNNNNNNNNNNSYNNNKNNNNQNANNNNINMNNNAN\n",
      "[013] avg_activation=-0.0972 | NNNNNTNNNMNNNNMNNNENNYNNNNNNNNNYNNSNNNNSNNYNXMNNNNLNNNNNNNMQNNYNSYQQNNNNNNMNNNNNSNNNMNMNNNNNNNTXNNTN\n",
      "[014] avg_activation=-0.0990 | YFNNNNNSNNNNNNNNQNNNNNNNNNKNNNYSNNNNNNNYNNNNNNYNNNNNNNYNNYENNNNSNNNNQNNSNNNNNNNGNNYNNMNNSNPNQNNNNFYNMN\n"
     ]
    },
    {
     "name": "stderr",
     "output_type": "stream",
     "text": [
      "  3%|▎         | 17/500 [00:05<00:48,  9.99it/s]"
     ]
    },
    {
     "name": "stdout",
     "output_type": "stream",
     "text": [
      "[015] avg_activation=-0.0859 | NMNNYYYYMNNNNNYYMNMXYYNNNYYNMYNNNNNPNNNNYMSSNNNYNNYNNNNNNSNNNNNNYNNNNNNNNTNNNNNNNNNNNNNNNNNNNNNNNNNNNN\n",
      "[016] avg_activation=-0.0935 | NNNNNNNNNSTNNYNNNNNNNNMNNNNNNNNNNQNNNNNNNNNNNNNNYNNSNYMNPNNNSNNMNNNNNNNMNNYSNNNSNNYXNNQNNNNXNNNNCNNNN\n",
      "[017] avg_activation=-0.0889 | NMNNNSMNNMNYNNNNNYNYMNNNSYNNYNNNMMNNNTNNVNNNNMNNNNYYNNNNSNNNNSNXMNNNSNNNNNNNNNNYNNNNYNNNNNNNNNNNNNNNEN\n"
     ]
    },
    {
     "name": "stderr",
     "output_type": "stream",
     "text": [
      "  4%|▍         | 19/500 [00:05<00:44, 10.75it/s]"
     ]
    },
    {
     "name": "stdout",
     "output_type": "stream",
     "text": [
      "[018] avg_activation=-0.0995 | NYNQNNNYNNNSNNNNNNNNSNNNXYNNNNNNNNKNNNYNXNNYNMNNMNNTNSENNNNNNNNTSNNMMNNNXYNNKLNSNNNNNNNNTNQNNNNNNNNN\n",
      "[019] avg_activation=-0.0963 | NMQMYMTNSNYNNNNNNNNNNYNNNNSNNNNTSSNNANNNSXNNNNNNYYNNNYNNXNNSKNNNNNMNNNNNYNNNNSMNNQNYNNNSNNNNNNNNNNNNNN\n",
      "[020] avg_activation=-0.0931 | SYXNCNNYNNNNNNNNNNNNNNNYNNKNSNNYNNYNYNSYNGNANNNNNXNRNNXNNMNNYNMTNNNPNYNNNNNNNNNMNMNNMNNNNNYNNNNNNNYNNN\n"
     ]
    },
    {
     "name": "stderr",
     "output_type": "stream",
     "text": [
      "  5%|▍         | 23/500 [00:06<00:40, 11.67it/s]"
     ]
    },
    {
     "name": "stdout",
     "output_type": "stream",
     "text": [
      "[021] avg_activation=-0.1000 | SNNNNNNNNNNKNNNNNGNNNMNYTNNXNNNNNNTNNTNYNSNYNNNNNNNNNNNNNNNYMNNSNNNNPXNNNYNNNNKNNNPNNNNMNNNSSYMSSNNNYN\n",
      "[022] avg_activation=-0.0957 | YYNNNQSNNNNMNNNYNGNNNNNNNNNNNNNNNQNYNNNMNMNYNSYYNNSNNNCPXNNNYMTNNNNNYNSNNNNNNNNMNNNMYNNNNNNNNYNNSLYNN\n",
      "[023] avg_activation=-0.0954 | XNXNNYNNXNKNNNNNNCNNTTNNNYNNWMSNNNCNNNNNNSYNNNNNNTNNNYYNNTNNYNNSNNNNNNSNNNNNSNPNNYNYANNNNNEYNNNNNNNNCN\n"
     ]
    },
    {
     "name": "stderr",
     "output_type": "stream",
     "text": [
      "  5%|▌         | 25/500 [00:06<00:40, 11.87it/s]"
     ]
    },
    {
     "name": "stdout",
     "output_type": "stream",
     "text": [
      "[024] avg_activation=-0.0967 | SNCXNPNNNNXNNNNNNMNNNYYMNNYYNNKKNXKNNNNNNNNNNNQNNNNNNSYNNYYKNNMMNNNYNNSMNNNYNSNSNYYNNNMNNNNNYNNNNNQFN\n",
      "[025] avg_activation=-0.0929 | YNANNMYNNNNNSQYNNNNMNNNNNSNNYNNNNNNNNNFNMNNNNNYLMNNNNNNNNNMNNNNNYMNNNNNNMYNNNNNMNNNNNYKNNYNNNXSNNNNYNN\n",
      "[026] avg_activation=-0.0958 | YNPNNNKNNMNNNNMNNNNMQYMNNNNYNINNSNSNNNNNYNNMNNTMNNNNNNNNYNKNNNNXMSNNYNQNNMSNNSNYNNNYNNNNNNNNNSNYNNYQNM\n"
     ]
    },
    {
     "name": "stderr",
     "output_type": "stream",
     "text": [
      "  6%|▌         | 29/500 [00:06<00:38, 12.21it/s]"
     ]
    },
    {
     "name": "stdout",
     "output_type": "stream",
     "text": [
      "[027] avg_activation=-0.0929 | MYNNNNNNMNNNTNNNTYNNNNYNNNNNNNNNNNYSNMYNSMNMNXNNNNNNNNNNNNNNNNNNNNNNNNNNNNNNNYNYYNNNNNMNNNNCNNNNNNMXYN\n",
      "[028] avg_activation=-0.0921 | XNYNNNNNNNNNNPNNKNNNNNYNNNQNNNNMNNNMMNNMGNNNYNNSNNSQNNNMQQYNNNMMNNNIMNNNQNNNNMNNYNNNNNCLNNNNNNMNNNNYNN\n",
      "[029] avg_activation=-0.0895 | MYNNNNNNNNNNNYNNNNYNNNTNNNDNNNNNNNNYNNNNNSNCYNMXNNNNYNNNNYYNNNNNNNSTNSMNNNNNQNNQNNNNNNNNNMNYNNNNNNFNY\n"
     ]
    },
    {
     "name": "stderr",
     "output_type": "stream",
     "text": [
      "  6%|▌         | 31/500 [00:06<00:38, 12.27it/s]"
     ]
    },
    {
     "name": "stdout",
     "output_type": "stream",
     "text": [
      "[030] avg_activation=-0.0914 | PYQNNYNNNMNNNMNYNYNNNNTNYSNNNTSNNMNTSNINDENNNNENMNNNNXNNNNNTNNNNYNNNNNNNYNNNYNNNNNNNTNMNNENNSNENYMNNN\n",
      "[031] avg_activation=-0.0955 | NQYNNNNNNNNNNNNNFXTNNNNNNYNNNMTYNMNNNNNNFMGNNNNNNYYNNNNQMNNNMNNMNSNNNNNNNNNNNNNNNNNNYNNNYNNNNNNNSNSN\n",
      "[032] avg_activation=-0.0985 | NNNNNNNNXNMNNNNNNMNKISNYNNCNMYMNTNNNXNNNNNMYNNSNNNNRNNNNNNNNXNNNYNNNNNNMNNCMNNPQNMNNYYNNNNPNNNNNYNYN\n"
     ]
    },
    {
     "name": "stderr",
     "output_type": "stream",
     "text": [
      "  7%|▋         | 35/500 [00:07<00:37, 12.36it/s]"
     ]
    },
    {
     "name": "stdout",
     "output_type": "stream",
     "text": [
      "[033] avg_activation=-0.0965 | MINNNNNMNNMNNNNNSNNPNNNNNNNNNNNNNNNNNNNNNNNSMMMNNNYNYQXNNNNNNNNNNYMNNNNNNNNNMNNXNNYNNNRNSNNYNNNNNYYYNY\n",
      "[034] avg_activation=-0.0960 | NYNNMNNSNNNSNNNNNNNYYNNNNNNNQSNNNSQNNNYNYNSMENNSNNMNMNNNYNNNNNNNNNSNNNNMNNNNNNNMYNNMNNNNNNYMQYNNNNNSNN\n",
      "[035] avg_activation=-0.0956 | MMMNNNNNNSNNNNNNSNNNMNMNNNNNYNNNNNNNNNNNNNNNNNNNXNNNINMNNNNNMNNMNYNYNSNNFNNNMNNNNMSNLEYMNNNMNDNNMMYMYN\n"
     ]
    },
    {
     "name": "stderr",
     "output_type": "stream",
     "text": [
      "  7%|▋         | 37/500 [00:07<00:37, 12.43it/s]"
     ]
    },
    {
     "name": "stdout",
     "output_type": "stream",
     "text": [
      "[036] avg_activation=-0.0940 | NNNNMNNNNNMSNCNYNYNNNMNYCNNKNYNNNNMYNNNNNNNNTNNNXNQNNNNNNNCNNNXNNYNMNNNNMNNNNNNYNNNNNNNNNNMYNNNNNYYNNY\n",
      "[037] avg_activation=-0.0820 | MNXNNNNMYNNNFNNNYQNNNNNNNNNNNYNNMMNNPNYNNNNNNNLNNNNMNNNNNNNNNNNNNNNNNNNNYYNNNNSNNXYTYNNNYNYNNNNNNNYNNN\n",
      "[038] avg_activation=-0.0953 | NMNYNNYYMSNNNQXNNNNNYNNNNYNNNNYNNNNNMNNNNNYNNNNNNNNNNPNCNNNNNNNNMNNYMNNNNNNNMNNNNNNKMNNNNNNNNNMNNNNNNN\n"
     ]
    },
    {
     "name": "stderr",
     "output_type": "stream",
     "text": [
      "  8%|▊         | 41/500 [00:07<00:36, 12.46it/s]"
     ]
    },
    {
     "name": "stdout",
     "output_type": "stream",
     "text": [
      "[039] avg_activation=-0.0967 | MCNNNNNMNGSNDNNYYNNNNNNNNNSNNNNNNNNNNNYNNQCSNNNXSNNNMNYNNNNNNNNNNMNNNYTSNNYNNYNMNNNNNNNNNYNFYNNYNNNYY\n",
      "[040] avg_activation=-0.0931 | NNNNMNNNNYQNMNNNNNNNNNNNNMNNMNRNYNNNNXYNNNNNXNNYSNNNNNNYNNNNNNNNNNMNNYNNYMNNNNNNXNNNMNNSNYNNSNNNNNMNNN\n",
      "[041] avg_activation=-0.1009 | SNNQNNNNVNNNNNNNYNNXYNNFNNNNYNKNNNNNNNNNDYNNNXNYNNNNYNQNNHYNNNNNPNNNNNYNNYNANNNNNNNNNYNNNYNNMNNNNNNSN\n"
     ]
    },
    {
     "name": "stderr",
     "output_type": "stream",
     "text": [
      "  9%|▊         | 43/500 [00:07<00:36, 12.56it/s]"
     ]
    },
    {
     "name": "stdout",
     "output_type": "stream",
     "text": [
      "[042] avg_activation=-0.0952 | YNNNNYMNNNYNDNXNNNNNNNSNNMYNNNNNNNMNINNTNNSNNNSNKNFTNNNNNNYYNNNQNNNNNKNQNNNNYNNNMNSNNNTNNTNSNNNNNNYMNN\n",
      "[043] avg_activation=-0.1008 | NNMNNYNNNYYNTNYNNNNSNXSNYNPYNNNNYNNNNNYNNNQNNNNNNNSNYNNNNNNSNNNNNNNSSMNNNNNNNNYYNMNNNSNNNNXXYNNNNNNNN\n",
      "[044] avg_activation=-0.0960 | MNNNNMNNNSNNNNNNNYNNQNNNNNKXNMNNNNQNNNNNNNNNSNTNNNSNLNNNNNSNNNNNNNNNNMYNNNNMNNNNNAKNNNNNNNNVYYMNNNNNNN\n"
     ]
    },
    {
     "name": "stderr",
     "output_type": "stream",
     "text": [
      "  9%|▉         | 47/500 [00:08<00:35, 12.60it/s]"
     ]
    },
    {
     "name": "stdout",
     "output_type": "stream",
     "text": [
      "[045] avg_activation=-0.0938 | NMNNNNNNSNNNYNNNNMNNNNNNYSYNNNNNYNPYNNNNNNNNMNNNINNTFNNNNYNQNNNNNNNNNNNTSNNNNNNNNNNKNNNNNYNMNNSNNNNNN\n",
      "[046] avg_activation=-0.0965 | NNNNNNMKNNMNNYNNGNNNNNNNSQNNNNNNNNNNNXNNNKWSMYNNTNNNNNNMXNGNNNSYNNNNNNNNPNNMYSSNNNLNNNMSNSNNNNNNNNNN\n",
      "[047] avg_activation=-0.0941 | NSNNSNNNSNSNNNYMNNMYYNNNYSNNSNNYNMNNNKNNNNYNNYNMNNNNNNNNNNNNKNNNMNMNMNNKNNDNYNNNNNNNNNTNYYNNQXMNNNNN\n"
     ]
    },
    {
     "name": "stderr",
     "output_type": "stream",
     "text": [
      " 10%|▉         | 49/500 [00:08<00:35, 12.63it/s]"
     ]
    },
    {
     "name": "stdout",
     "output_type": "stream",
     "text": [
      "[048] avg_activation=-0.0955 | NNNSNNNNNNYNNYNNQNNNNQNYNYNSDYNNMNNNYNNNNNNSNNNNNNNNNNNNNNNNNYNNYNNTNNNYNNYNNNNNNNYNNNNMNTQYNNNNNNMNQN\n",
      "[049] avg_activation=-0.0998 | NNNNNNNNNNNNNNNNSNNNMNTNNXNYNNVPNNNNANYNNNNNNNNYNNNTNNNSNNCNNNNNNYNNNYNNNXTNMNSNNNNQNNNNNNCNNNNNNNMNNY\n",
      "[050] avg_activation=-0.0952 | MNNNNNNNNXNNNYNNNNNNNNYTSNQNNNSNNYNNCNNNNYNSMNNNPNYYHNNQMSNNNNYYNNMYYNNNNYNNNMNNNYNNMYYNNNNNNNNNNSNYNN\n"
     ]
    },
    {
     "name": "stderr",
     "output_type": "stream",
     "text": [
      " 11%|█         | 53/500 [00:08<00:35, 12.70it/s]"
     ]
    },
    {
     "name": "stdout",
     "output_type": "stream",
     "text": [
      "[051] avg_activation=-0.0949 | MSNNNNXNNKNNNNMNNNNNNNNNTNNLYNNNMNYNQNNPNTNNNFNNNYNSNNNNNNNYYNNNMMNNNTYNYNNNNQNNNNNMNNNYXNNNNNMNYNQNX\n",
      "[052] avg_activation=-0.1015 | NXNNSYNNQNNMNNSNNNSNNNNSNNTQNNNNNNNPNNSNWNNYNNSNNNYNNYNNNNTTNQQMSNMSNNNNNNNNNNNNNNNNNNXYMKQNNNNNFNTNNQ\n",
      "[053] avg_activation=-0.0992 | YNNMTNNNYANNNNNMNNYNNNNNYNNNNMSNNYNNNTYTNMNNYNNNCSNTNNMXSNNNNNNNTNNNMNSNNYNNNNNYNNNSTNNNNNNMNNSNSNNNNN\n"
     ]
    },
    {
     "name": "stderr",
     "output_type": "stream",
     "text": [
      " 11%|█         | 55/500 [00:08<00:35, 12.64it/s]"
     ]
    },
    {
     "name": "stdout",
     "output_type": "stream",
     "text": [
      "[054] avg_activation=-0.0942 | NNNNQNNNNNNNNMNNYMMYSYNNNYNYNNXYNNNNNNAMNNNNNNNNNNNNNYGYNNNNNYNYNNNXNNNNNNNNNMNNNNINSNNNNNNNMQNNNNNMN\n",
      "[055] avg_activation=-0.0915 | MNYNNNNNNDNNNYNNNYFNYNNYNNNGYSXYYTNNNNNNSNNNNNNNNNMNCNNNNNNMQMNSNNTNNNSNNMNPNNMNSNNNNNYYYNNNNNNNNNNNTN\n",
      "[056] avg_activation=-0.1027 | MYNNNNNXMENNNMNSNSNNNXXNNNNTNYNNNNNNNNNNNNNNNNNNNNNNGNNNNNMNNNNNNNNNXNNNNNMNMNNNYNNNXNNNNNNNNNNNNNNNNN\n"
     ]
    },
    {
     "name": "stderr",
     "output_type": "stream",
     "text": [
      " 12%|█▏        | 59/500 [00:09<00:34, 12.69it/s]"
     ]
    },
    {
     "name": "stdout",
     "output_type": "stream",
     "text": [
      "[057] avg_activation=-0.0847 | YNMNNNXNNXMYNSNNNNNDSMNNNNNNNNNNNNNNNYNYNQKNNNNNNNQMNXNNNNNNYNMYNNYSNNNNQNSNNNNNNNNNNNTNNSNQMNDNFNSNXN\n",
      "[058] avg_activation=-0.0962 | NNNNNLNXNNNNNYNNNTNNNYNYYYYNNNNYNNNNQNNMNNNXNNNNXNNNNNNNNLNYNYNNSYNNNYNNNSNNYNNNNFNYNNNNNQYNQNNNNNNNNN\n",
      "[059] avg_activation=-0.0889 | YNNSYNQNANMNNNNNMMNNNYXNNNMNTNNNNNNQNNMMNMNSNNNNYNNMNNNMGSXXNNTNNNNNYNNNNQNNPNNNNYNNNNNNNNNNNNNPMYNMNN\n"
     ]
    },
    {
     "name": "stderr",
     "output_type": "stream",
     "text": [
      " 12%|█▏        | 61/500 [00:09<00:34, 12.64it/s]"
     ]
    },
    {
     "name": "stdout",
     "output_type": "stream",
     "text": [
      "[060] avg_activation=-0.0937 | MNNNNMNNMNPNYNNNNNSNNNYNNNNNNNMNYNQNNNNNSNNNNNNNKNMSNNNYNANNNNNNNNYYNMNNMTNLNMNYNNNYNSNSNNNLNNNYNNXNNN\n",
      "[061] avg_activation=-0.0986 | MYMNNNNNNNMNMNYNKNNNYLNYNNYNYTNNYNNNSYNNQNNNNYSNNNNNNNQNNNNNNYNNYNYNNNNNNNNNNNNNNSNMNNNXYNNSNNNNNNNNNN\n",
      "[062] avg_activation=-0.0975 | NXKNNNNNNNNNNNYNYNNNNQNTNNNNNNNSNQNNPMTNNNNNVYNYNNXCNMYQMYTNNQGNNNNNNNTTNNNNSNNNNNNNNYNGNNPQNNTNNNNNNN\n"
     ]
    },
    {
     "name": "stderr",
     "output_type": "stream",
     "text": [
      " 13%|█▎        | 65/500 [00:09<00:34, 12.64it/s]"
     ]
    },
    {
     "name": "stdout",
     "output_type": "stream",
     "text": [
      "[063] avg_activation=-0.1017 | XYNNNSNNNSYNNNNMTNNNNANNTNNNNYNMNNNNNNSNNNNNNYNNQNNYYYNYNNNSNNNYNNXNNNNXNNNNNMNXNTPYNNNNNNNSMNNNNYNNNN\n",
      "[064] avg_activation=-0.0959 | NNNQMNYTNNNNYNXNNCNNNNNMYNGYNXNNNNNNNNNNNNSNNNNNNNNMYNNNNNNMNNYNNNNNNNKNNNNNNNNNYNNMNKNXNNYNNNNXNMNNNN\n",
      "[065] avg_activation=-0.0972 | NNNNNMNNNNNNNYSMNQNNNNNYNNNNNNNNMMNNNNYNNNNNNNGMNTNNNNNNNNYMYNNNNNENYNNNNNNNNNNNNYNMYNNNMNNNNNNYNYYKNN\n"
     ]
    },
    {
     "name": "stderr",
     "output_type": "stream",
     "text": [
      " 13%|█▎        | 67/500 [00:09<00:34, 12.73it/s]"
     ]
    },
    {
     "name": "stdout",
     "output_type": "stream",
     "text": [
      "[066] avg_activation=-0.0877 | XNSNXNYNNNNNNNNNNMNNNYLMNNSMNSNNNNYNNTNNNQNNNNNNNQPNNNNNNNNNCPYNNNNSNMNYNNQNNNNNNNXNNXXXNNNYNNNSYNNN\n",
      "[067] avg_activation=-0.0974 | NNTNXNNYNSNSNNCNYNNNYNNSNNYNNNNNNNNSNMNNNNNNNNNNNNNNNNNNNNYNNNMNYNNSNNSNNNNNNNYYNNNNYNNNNNSNNNNNNNYNN\n",
      "[068] avg_activation=-0.0970 | NPNYNNNGNNNNYDYNNENNNNSNNYNYNNNNNNYMMYNNNYNNNNNNNNYNSNNNNNNNNNNSNNNNTNNNNNNSCNNNNNSMNNNYNNNNSNNNNNNGYN\n"
     ]
    },
    {
     "name": "stderr",
     "output_type": "stream",
     "text": [
      " 14%|█▍        | 71/500 [00:10<00:33, 12.74it/s]"
     ]
    },
    {
     "name": "stdout",
     "output_type": "stream",
     "text": [
      "[069] avg_activation=-0.0923 | NNNNNQNYNNNNNNNYNCNNNDYSNNNNNNNNYNNNNNQNNNNNNNNNNNNNNNNNNYNNNNXMNNNYNNSNNNNSNNCNNNNNNNNNNANNNNNNNNSNNN\n",
      "[070] avg_activation=-0.0863 | MNQNNNNNNNNMNMNNMMMNNSNNTNNNNNNKNSNNNNNNYNNNMNNMNNNMSNSNNNNNNMNNNNTNNNNNQNNQNNNSNNSYSTNNNNNNNNNNYSNNN\n",
      "[071] avg_activation=-0.0979 | XXNNNNMNNLNNNNMNNNNXNYNNNNSNTNNXNNYYYNMNNYNNNYNMNNMNTNNNNNNNNKNNNNQYNNQNNNNNNNNNNNNYNNNNNNNNNNNMNNENNN\n"
     ]
    },
    {
     "name": "stderr",
     "output_type": "stream",
     "text": [
      " 15%|█▍        | 73/500 [00:10<00:33, 12.67it/s]"
     ]
    },
    {
     "name": "stdout",
     "output_type": "stream",
     "text": [
      "[072] avg_activation=-0.0986 | ENSNNXNNNSYNMNNYNNNNNNNNNNNNNNNSNNNNMSNXNMNNNNNQNNYNNNNNNNNNYXNNNNNNNNENNNNNTYNNYQNNNNNNQYNMTYNNNNMNXN\n",
      "[073] avg_activation=-0.0910 | NNNNNNNKNNNYNNYNNNNXMYNNNNNNYNNNMNNNNNNYNKNNNMNNNNNNNNNNNNNNNNKNNNNNNNNNNNNSNQNNNNSNNNNNYNNMXTYNNMMNA\n",
      "[074] avg_activation=-0.0918 | NNMNNNNNNSNYNNNNNYNNNNYNNNNNSNNSNNSMNNNNYNXNNNNNYNTNNNNNNYNNNNNNNNKNNNNPNMNNNXNNYNNNGSNNNYNNNNNNNSNNN\n"
     ]
    },
    {
     "name": "stderr",
     "output_type": "stream",
     "text": [
      " 15%|█▌        | 77/500 [00:10<00:33, 12.67it/s]"
     ]
    },
    {
     "name": "stdout",
     "output_type": "stream",
     "text": [
      "[075] avg_activation=-0.0993 | NMNNXGNLNNNNNNNYMGNNNNNNNNNNTNYMXNNNNMNNNNNXNNNNNNNNMNNNNNNNNNNYNNNXMPNNNDDNNNNNNNYMNNNYXNDYNNYMNNNQNN\n",
      "[076] avg_activation=-0.0940 | YNNNNNNNNNNYNNMNNNSNYKNNNNNNNNNMNNNNMNNNMNXNNNTNYNNXNNNNMNNNNNNNSNNMNNSYNNNYNNNNNNGYNNNXNMNTNNMTNNNNN\n",
      "[077] avg_activation=-0.0948 | SNNNNCNNNNNGNNQYNNYNNNNNYNNNNNNNNNNYYNQNSNYNNSYYNNCNNNNNNNNNNNNNNNNNNNQNNNNYNXNNTNNNNNYNMNNNMNYNNYYNNQ\n"
     ]
    },
    {
     "name": "stderr",
     "output_type": "stream",
     "text": [
      " 16%|█▌        | 79/500 [00:10<00:33, 12.56it/s]"
     ]
    },
    {
     "name": "stdout",
     "output_type": "stream",
     "text": [
      "[078] avg_activation=-0.1000 | MNTPNSNYNNNNNNNNNNNNNYNMNMSYNSTNNNNNNNNNYNMMNNNNNYMNNYNNYNNNNNNYNTNNNNNSNNNSNNNNNNNNNXNNNNNNMSYNNPNY\n",
      "[079] avg_activation=-0.0985 | NYNYYNYNNNYGSLNNNNNNNNNNMNYNNNYYPNXNNNSNNNNNNNNNYYSNNNNYNNNNYNMNSNNNYMSNNNYNMNNNYNNNNNNNMNSSNPNNNNNNNY\n",
      "[080] avg_activation=-0.0967 | QNNNNYYNYSNNNNNNQNNYNNPNNNNNNNNNMNNNTDSNNNNYNNNNGNNNNKNNNMNNNNXNNSMNYNMNNNSXNNSNNQNTNYSNNMKNNNNQNKNNNN\n"
     ]
    },
    {
     "name": "stderr",
     "output_type": "stream",
     "text": [
      " 17%|█▋        | 83/500 [00:10<00:33, 12.59it/s]"
     ]
    },
    {
     "name": "stdout",
     "output_type": "stream",
     "text": [
      "[081] avg_activation=-0.0951 | NNNNNNNNYNNNYNQYANCNNNSNNNNNSYNNNNNXNNMNNNNTNMNNNNKRNNNNNMNNNNNNNNYMNNSNYNNSNNNNNNMNNNNNNNNSNNNNNSN\n",
      "[082] avg_activation=-0.0989 | NNNNNNNYNSNNNTNNMNNNNNYSNNCNNNMNNNNNNNNNNNDNNNNYNSNNNNNNNNMSNNNTNNNNYNYSMNDNPNYNNNNYNNNENXNQNNNNNNXNNN\n",
      "[083] avg_activation=-0.0909 | YNNNNNNNNNCMTNYNNNNPNYNNPNNYNNNNYSNNNNSYEPYSNXYNNNNNNNSNNNNYXYNYNNNQYNNNNYMNYNNNNNNNNNNNNNNXNNNNXNNMNP\n"
     ]
    },
    {
     "name": "stderr",
     "output_type": "stream",
     "text": [
      " 17%|█▋        | 85/500 [00:11<00:32, 12.61it/s]"
     ]
    },
    {
     "name": "stdout",
     "output_type": "stream",
     "text": [
      "[084] avg_activation=-0.0981 | NNYNNNNNYNNNNNNNNQNNNNNNQNNNSQNNNNNNSNNNNNMNNNNNNNNNTNNNYGNNCNSNNNNNNNGNNNMMYNNNNMTMDNNYQNNNNNNNYNNXNN\n",
      "[085] avg_activation=-0.0887 | YNNYNNQXMNSNNNNMYMNYNMNNNNNNNNNYYNNYYNNNSNNNSNNNNNSNNNNNNNNNNYMNNNNNTNNNYNNNNNNNQYYNCNYYNNNNNNLDXMYQNN\n",
      "[086] avg_activation=-0.0989 | MNNNNYNNQNNNNNYNNNNQKXYNNNSNXNQNNNNNNNNITNNNNNNNNNNNNNNNNNXCNYSMNNYNNTNXYNNNNMNNNYNNNXNNMNNMNNANNANNNN\n"
     ]
    },
    {
     "name": "stderr",
     "output_type": "stream",
     "text": [
      " 18%|█▊        | 89/500 [00:11<00:32, 12.66it/s]"
     ]
    },
    {
     "name": "stdout",
     "output_type": "stream",
     "text": [
      "[087] avg_activation=-0.0917 | NSNXNNNNXNNYNNNNNNNNNPYNNNNNNNNNYNNYNNNNNNTNYNSNNYNNNNNNNNNNPNMMNNCMNNMNYYXNYNNTNNNNNNNNNNNNNNYNNNNNN\n",
      "[088] avg_activation=-0.0949 | NNNNPNNMNNNNNNNNNQNGNNNNMNNNNNNNNFTYNNNNNNNYTNNNNNNNYNNNNNYNNNNNNNNNNNNNNNNYNNNNNNMNANTNNYSNMNSNNNNQNN\n",
      "[089] avg_activation=-0.0960 | NNNNYNNTNYNNYKMNMQNXNSNYYKNNNNNMQNSYNNNNNNNNNNNNNNNNNMNNNNNNNMQNNNMYNNNNNNYNDNNMNSNNNNYMMSNNYNYCNSNNNN\n"
     ]
    },
    {
     "name": "stderr",
     "output_type": "stream",
     "text": [
      " 18%|█▊        | 91/500 [00:11<00:32, 12.64it/s]"
     ]
    },
    {
     "name": "stdout",
     "output_type": "stream",
     "text": [
      "[090] avg_activation=-0.0890 | NYYMNNYNNSNNNNNYNNYNNYNNNYSNNNYNNNSNQNNNNNYNNNNNNNYNNNNQNNMNNNNYNNNTYNNNNNNNYNNNMNNPNNNNNNKNNNNNTNNNYS\n",
      "[091] avg_activation=-0.0954 | YNNNNYNNNTCNSNNSNSNNNNSNSNNNNNNNNNSNNSNXNNNNNNNNNMNNNNNNNNNNMNNNNNNNNNNNNNMNMNDNYNNNNNTNNNNNNNYNNNSNMQ\n",
      "[092] avg_activation=-0.0928 | SMYNNNSNNNNNKNYNNNNNNNNNYNYSSNNSNNETNNNNNNNYNNNNNNTNYNNNMNMNNNNNNNNNAMNNNNNNNYNNSNNNNNNNQNNNNNNYNNNNNN\n"
     ]
    },
    {
     "name": "stderr",
     "output_type": "stream",
     "text": [
      " 19%|█▉        | 95/500 [00:11<00:31, 12.66it/s]"
     ]
    },
    {
     "name": "stdout",
     "output_type": "stream",
     "text": [
      "[093] avg_activation=-0.1008 | NMSTYNNNNQNKYNNNYNNNNNNNNNNYYNNNQNNYNNNNNNXNYNNSNNYMNMNNNSNNNNXNNNNNNNNMNNNNNNNYNNANNSNNNNNNNNNNNNNNYN\n",
      "[094] avg_activation=-0.0934 | NNNKNYNNNNMNNNQNNNNNMNNYNNNNNNYNNNYNCNNYNNNNMNNNNNNNNNNNNNNNNNNNNNNYYNNNNNNNNSNPYNYNSNNNYSKNNSNNNNNNN\n",
      "[095] avg_activation=-0.0912 | MMSYNNNNMNNGNNYNNNYNNNMNNNNNNNNNNYNNNXNNNXNYNNNNYNNNNNNNNNQNMNNXQNNSNNNNNNYYNSNTDNNNHNNNYMNSNSNNNNNMNN\n"
     ]
    },
    {
     "name": "stderr",
     "output_type": "stream",
     "text": [
      " 19%|█▉        | 97/500 [00:12<00:31, 12.63it/s]"
     ]
    },
    {
     "name": "stdout",
     "output_type": "stream",
     "text": [
      "[096] avg_activation=-0.0988 | DNNNYNNNNNNMNNYNMYNNNNNNNNYNNNNNNNYNNKNNNNNNNNNNNSNNNNNNNNNYSNMNASNNNNNGNNNNNNNYNYNNNMNNYNNNMNNYNNNNYN\n",
      "[097] avg_activation=-0.1073 | NNNNNSNNNNNNNNNNNKNNNSNYNNNNNKNNYYNNNNNSNNNNYNNNNNSNNNNNNNSNNNNXTNNNYNANQNNNNMNNNNSYNNYNNNNNMNLNNNTYN\n",
      "[098] avg_activation=-0.0958 | NNNNNNNNSNNYNNNNNYNYNYNNNNNNNSMNTXNNNNNQNNMNMNNNNNNNNYNNMNNNMNNNNYNNNSNNXNNNNNNXNKNYTMHNNNYNYNYNSSYQY\n"
     ]
    },
    {
     "name": "stderr",
     "output_type": "stream",
     "text": [
      " 20%|██        | 101/500 [00:12<00:31, 12.64it/s]"
     ]
    },
    {
     "name": "stdout",
     "output_type": "stream",
     "text": [
      "[099] avg_activation=-0.0980 | NNNNNNDNNNNNNNNTGNNYNYNNNNYNNNYNNNNYNNNNNNNNNNNNNNNNNNNYNYNNNNNMSNNSNYYQNNNNSNMNNNNNNNNNNSMMNNNNNNSNNN\n",
      "[100] avg_activation=-0.0893 | NKKNNNNNNNNYNMQNNNNNNNNNNNNSKNNNYNNNWNNNNNNNNGNNNYNNNNNNQNNENNNNNNNNNNNNNYNNNNNNNNNNNNNYNNNNNMNYSSYNNN\n",
      "[101] avg_activation=-0.0978 | NNNNNNXMYNSYNNNNNSNYNYTNNNNINQNNNNSNNMNNNMYNYNNNNNYMNNNNNNNNTYNSNNSMNNNNNNNNDNNNNNNQNNNYNYMSNNNYQNNNSN\n"
     ]
    },
    {
     "name": "stderr",
     "output_type": "stream",
     "text": [
      " 21%|██        | 103/500 [00:12<00:31, 12.61it/s]"
     ]
    },
    {
     "name": "stdout",
     "output_type": "stream",
     "text": [
      "[102] avg_activation=-0.0870 | NYNNYNNNNNDNNNMNNNYNNNYNYNNNNNNQNNNNNNTNNNNNNNNNNYNNXNYNNNNMNNNSNNNNNYNNMYNYLNNTYYNNNNNNNNNYNNNYCNNSTN\n",
      "[103] avg_activation=-0.0990 | INNXYNNNNNYSNYQNNLNNNNNMNMNMYNNYXNNNNNNMASNNNNNYYQNNNNNNNNXQNNNNNSSNXNNNSNMNNNNNNNTNKNNYNNNNNNNNQNNNNN\n",
      "[104] avg_activation=-0.0970 | NNMNKNNNYYYQNNNNMNWNMNYTYNNNNNNPNNNNNNSNNNNNNNSNNMNMNNNNYNNNXNMNNNNNNTNNMSNNYKNNNYTNNNNNYNQNNNSYNNNNY\n"
     ]
    },
    {
     "name": "stderr",
     "output_type": "stream",
     "text": [
      " 21%|██▏       | 107/500 [00:12<00:30, 12.70it/s]"
     ]
    },
    {
     "name": "stdout",
     "output_type": "stream",
     "text": [
      "[105] avg_activation=-0.0968 | YCCNNNNNNLNNNNNNNNNSNNNNYYNNTNNNNNNNNNNNNNNNNTNNYXNNNNNNNNNNNNYYNNNSNNYNFFNTNSNYPNNNNNNNNNTTNSNNNNNGYY\n",
      "[106] avg_activation=-0.0980 | MMNNSNNNNNYNXYNNNNYNNNYYNNNNNYMQYNNNNYNNANNMNYNCNNNNNSKNNNNMCNNNNNNYYNNXMMNNNYNQNENNNNNNMNNNMNNNMQNN\n",
      "[107] avg_activation=-0.0989 | NTNNNTMMYNNNYNNNNNANNNNNKNNNNNDNMNNNNQYNYNSNNNNNNNNNISANNTSNKNNNNNNNNYTNNYNSNNYNSTNNNNNNNNNSSNNNNNNCQN\n"
     ]
    },
    {
     "name": "stderr",
     "output_type": "stream",
     "text": [
      " 22%|██▏       | 109/500 [00:13<00:30, 12.67it/s]"
     ]
    },
    {
     "name": "stdout",
     "output_type": "stream",
     "text": [
      "[108] avg_activation=-0.0917 | MNNNNNNYNNNNNYNNNNYNSNNSNNNNNNNNNNNDNNNNNNNXNNKNMNYNNNNNNNNSNNMYNYNNNMNNNSNNNYNNSYMSNNNNNNNNNNNXNNQNNN\n",
      "[109] avg_activation=-0.0876 | NNNNMNNNNNYNNNNNNNNNNNNNYNNDKNNNNXYNNNNNSMNNNYNNNNNXNYNNNKNNNNNYNYNSNNNNNNNNTTNMNNNMSNYNPYNNTYQNYNNNN\n",
      "[110] avg_activation=-0.1041 | NNNNQYXNNNMNNSNNNNXNNNNSNNNNNNMNQNNNNNNQNNNYQNNNYSNNYNMNYNNNYXNNNNYMNNSNNNNNNNSYSYNNNPSMQNNNSYNNYNNMFS\n"
     ]
    },
    {
     "name": "stderr",
     "output_type": "stream",
     "text": [
      " 23%|██▎       | 113/500 [00:13<00:30, 12.66it/s]"
     ]
    },
    {
     "name": "stdout",
     "output_type": "stream",
     "text": [
      "[111] avg_activation=-0.0959 | NNNNNNNSNNNNNSNNYYNSNMNNNNNDYNNNNNNNNNNNSYNMMNNNNNNMNNNNNNNNNNNYQSNNTKYNNNNNNNNPNNNNNNNNSNNNNNNNNNNYNY\n",
      "[112] avg_activation=-0.0936 | NNNNNNNNQNNSTNNNNNNNNNNSYNNNYNNNMNSNYNNQYNNMXNNNNYGNNNNNNNNQNNNNYNNNYNNNYNNNSNNNANSNNNNNNNNNNNNNNNNNNN\n",
      "[113] avg_activation=-0.0900 | MYNNNNNNNNNNNQNMNNNPNNCNNNNNNQNNNNNNNNKNYNYNNNNNNNNNNNNNNNNYNNYNNTMNNYMNNNNNNNNNKYNYNNNNNNNNNNNNNNYNN\n"
     ]
    },
    {
     "name": "stderr",
     "output_type": "stream",
     "text": [
      " 23%|██▎       | 115/500 [00:13<00:30, 12.67it/s]"
     ]
    },
    {
     "name": "stdout",
     "output_type": "stream",
     "text": [
      "[114] avg_activation=-0.0942 | NMYNNNNNNNYNNNNXNNNMTKNYQQNNNYNNNNNNNMNKNNNNNNNNYNYNNNNNNQNNSMNNNNKNNNNNNNNNNNSNYNPNNTNNNNPNNNNNNYNNNN\n",
      "[115] avg_activation=-0.1001 | NNNXNNNNMNNNDMNNNNMXNMMNNMNNQSNFNNMNNYNNNYNNNSNTNNNNPNKTNNNNNNNNNNYNNNSNNNNNNCMNNNNNNNNNNYMYNNNNNNNNNN\n",
      "[116] avg_activation=-0.0927 | WMTNKTYNNNNNNNNTNNNMNNNNSSYYNNNNNNNNNSNNNNNNNNNNNYNNNNMDMDNMNNNNNNSNYMNNNNNYNNNNNNNNMNNNNNNNYNCNMYNQYY\n"
     ]
    },
    {
     "name": "stderr",
     "output_type": "stream",
     "text": [
      " 24%|██▍       | 119/500 [00:13<00:30, 12.61it/s]"
     ]
    },
    {
     "name": "stdout",
     "output_type": "stream",
     "text": [
      "[117] avg_activation=-0.0848 | MPNQNNNNNNNNYNNNNYNNNNQYNNNNTNNYNNNNNNYNQNYNNNNNNNNNNYXSNNSNNNNNNNQNNNSXNNNNNSNNNNNNYNMNMNNNNNSNYSNNYN\n",
      "[118] avg_activation=-0.1046 | NNNMNKNNNYNTNNYNNNNNNNXYNNNNMNNNSYSNKNNQMNNNYNNNNNNQNNNMNNNSNNNNNNNFNYNYQNNNNNMDNNNKNNNMFNNNNNNNYKNNNN\n",
      "[119] avg_activation=-0.0961 | MNNQNNNYMNNYSCNNNTNKNKNSNYNNNXNNNSNNNYPNNYNNNNNNNNNNNSNNNMNNNNSNNNNNNNYNTMYNYNNNYNMTYNSYXTNNNNNYMSNNNN\n"
     ]
    },
    {
     "name": "stderr",
     "output_type": "stream",
     "text": [
      " 24%|██▍       | 121/500 [00:13<00:30, 12.55it/s]"
     ]
    },
    {
     "name": "stdout",
     "output_type": "stream",
     "text": [
      "[120] avg_activation=-0.0952 | NNNNSNNTNNNNNNNNNMYYSNTNNNNNSNSYNNNNNNNNYNNNNNNNNNLSNNNNYNMNNNNNNNNNNSNMNNNNXMYNXNNNNNNYSNNNNNXDNNXNNN\n",
      "[121] avg_activation=-0.0980 | NYNNNNNNNNNNYQNNNNNNNNYNNNNXNNNNNXNNSYNNTNNYNNNXNYCNNTNNNSNYNNNNNNNNEQNNNCNSNNNNNNYNNNNNNNNSNNNNNNNNNN\n",
      "[122] avg_activation=-0.0945 | QNNSNNSNNNYNNYNNNNNNYNNMNYYNYNNNNNNSNNNNNNENNNNNNYNNNMNNNNYNNNNNYYNYTNSNNNNNHSXNNNYNNNNNNNNNNNYXNNTYAN\n"
     ]
    },
    {
     "name": "stderr",
     "output_type": "stream",
     "text": [
      " 25%|██▌       | 125/500 [00:14<00:29, 12.65it/s]"
     ]
    },
    {
     "name": "stdout",
     "output_type": "stream",
     "text": [
      "[123] avg_activation=-0.0991 | NNTSNSNXXNNNNNNNNNNNNXNNNNYKNNNNTNNNNNNNNNNNNYNQFNNNNNNNNNNNNNYNNNNNYSNNNNXYQXSNNNNNNXQNNNNNNNNNNNXNN\n",
      "[124] avg_activation=-0.0894 | NNYNNNNNNNNTNNNNNNYQNNYNNMNNYNNNNNNQNNYNNNNNNNNNNNNNNNNYYTYNNPNYNXNMMNNNNNTNMXNXNNNYNTNNNNNNNNNNNNQNM\n",
      "[125] avg_activation=-0.1016 | QNNNNMNYNFNNNNNNNCYNMNNYNNNNMNMNNMNNQNNNNNSNNNNFNNSNNSNNNNNQKNYNNNNSNNPNNNNANNNNYMNNNENNNNNNYNNNNSNNNN\n"
     ]
    },
    {
     "name": "stderr",
     "output_type": "stream",
     "text": [
      " 25%|██▌       | 127/500 [00:14<00:29, 12.68it/s]"
     ]
    },
    {
     "name": "stdout",
     "output_type": "stream",
     "text": [
      "[126] avg_activation=-0.1031 | NNNNNNMNNNNNNNNQQYNXNYNNYSNNNNNNYNMNNNSNNYNNNNNNNNMPSNCNNNMNNYNNNNYNNNYXQNNNMTNNYNNNMNNNNNXMNNNNNNNNNN\n",
      "[127] avg_activation=-0.0945 | MNSNNCNKNGNNNNKNNNNNNNNFTNTTNNMNNNYNNENNANNNNNNNNNVNNPNSNNNNNNNMNNNNENYNNMNNNYNNQNNNNCNNNNNNTNQANSNNNN\n",
      "[128] avg_activation=-0.0911 | CNNNNCNNNNYMNNNNNNYNYNNNNNSNYPNNYNNNNNNNNNYMNNNNNNNNNNNNNNNNNNNNNNYNNNYNNNNNNNNNNYNMNNNNNNNNNNNNNYNNNN\n"
     ]
    },
    {
     "name": "stderr",
     "output_type": "stream",
     "text": [
      " 26%|██▌       | 131/500 [00:14<00:29, 12.70it/s]"
     ]
    },
    {
     "name": "stdout",
     "output_type": "stream",
     "text": [
      "[129] avg_activation=-0.0963 | NSNNNNNNXYNQNNQNYNNNNNNNNNNNSNNNMNNNNNNNNNNYNNMYNNNNNNNNYNYNNNNSNNYNNNNTSNNNNNNYNYNNNNGQNMNNNNNNNNNNKM\n",
      "[130] avg_activation=-0.1024 | YNYNNNNNNNNNNTSNNNNNNKNNNNSATNNNNNMMNNYNMNNNAQNNYTNXNNNNMNNNNYNMNNNNNNNNNNNNNGMNNNNNNNSNQNNSNNNNNYNNNN\n",
      "[131] avg_activation=-0.0945 | NNNNNNNNNNNNNNNNNLNNNNYNYYYNNNNNNNNNNMNNNYNNNNKXNNNNNNNYNNNYNQNNNSKYNNNNNNNQNNNNYSNYYNNNNNNNKNNNNNNNSI\n"
     ]
    },
    {
     "name": "stderr",
     "output_type": "stream",
     "text": [
      " 27%|██▋       | 133/500 [00:14<00:29, 12.65it/s]"
     ]
    },
    {
     "name": "stdout",
     "output_type": "stream",
     "text": [
      "[132] avg_activation=-0.0977 | SNNNNNNYXNNNYNNYNMNMNYYNYNNNNYNNMNNYNNNNNNNNNNNNNNQNNTTNYNYNNKXNNNNNNNNSNYNNYNNNXNSNYQNNNNNMNINTNNNNNN\n",
      "[133] avg_activation=-0.0969 | MNNPNNNSNMNYNNNCSNNNNNNNNNNNNNNNNNTNNNYNSNNNTYYYNNNNNYNNNYNNNNNMNMNNNNNNNNNNYYNNNPNNNNNNNYNNNXNNNYNYNY\n",
      "[134] avg_activation=-0.0927 | NMNYMNLNNYNYNNNYQNNNNYRNNMSQNNNXNYNMNMSNNNXSNSNSYNNNSNNNNNNSMCNMNNNMYENNYNYNNMNNNNNNNMNNSSNPNNNNNNNN\n"
     ]
    },
    {
     "name": "stderr",
     "output_type": "stream",
     "text": [
      " 27%|██▋       | 137/500 [00:15<00:28, 12.61it/s]"
     ]
    },
    {
     "name": "stdout",
     "output_type": "stream",
     "text": [
      "[135] avg_activation=-0.0994 | YSFNNNNNKNNNMNNCNXNNSYTNNNNNNSNYNNNNTNTNYDNNSNYTNYEQNNYNNQNNSSPNNNNNNNNSNNNNNNYNNNNNNNNNSNNNNYNTSNNSNY\n",
      "[136] avg_activation=-0.1030 | MNNNSNNNYENYNNNNNNNNTNNNNLNYNNNNNNNNNNYNNNNNXNNNNNMNNNNNNNNMTYLQQNSNNYNLMYYNNNNNNNNNNYNNMNNNNNNMYNNMNN\n",
      "[137] avg_activation=-0.1014 | YYNNENNNNNNNYTYNNNNMNNNNNNNNNNYTNNSNTSNNNNSNNTNYNYNNNNNNYNMNNNNXNNDNTNXNXNFXSNNNNNNNNPNSHNNNCNYXYNNYNN\n"
     ]
    },
    {
     "name": "stderr",
     "output_type": "stream",
     "text": [
      " 28%|██▊       | 139/500 [00:15<00:28, 12.54it/s]"
     ]
    },
    {
     "name": "stdout",
     "output_type": "stream",
     "text": [
      "[138] avg_activation=-0.0974 | SCNNNNNNSNNMNNNNNNMTNNSYNNMNQNNNNNNNNNNSMNNNNNNPNNNNNNNYNNNNNNNNNNNNNNNNXMNNNNNNYNNMNSNSNYNNNNMNNYNNY\n",
      "[139] avg_activation=-0.1067 | MNNNNNNNNNNNNNNNNNNYNTNNNNNNNNNMNNNNNNNNNNXYNNSNNNNNNNYNNMNMNXNNNMNYNNNNNSNSNNNNYQMNNNNMNNNNNXQNYNNMNN\n",
      "[140] avg_activation=-0.0998 | SNYYNNNTTMXNMNNQNMYNNYNNNNNMYNYNNNNNPMNXNMNNNNSQSNNNYNNNNSNYNYSNNNNNNSMNNMNNNXSNNNNNNMNNQNNNNNNGNNNMNT\n"
     ]
    },
    {
     "name": "stderr",
     "output_type": "stream",
     "text": [
      " 29%|██▊       | 143/500 [00:15<00:28, 12.68it/s]"
     ]
    },
    {
     "name": "stdout",
     "output_type": "stream",
     "text": [
      "[141] avg_activation=-0.0892 | NNNNYNNNNYNNNNYNNNNXNNNCNNSNNNNNNFNMMNNNNNNNSYNNINNNNNNSNNNNNNNNNQNNNNNQNNNNNNNNTNNNNMNNNNNMQNQNYMNNN\n",
      "[142] avg_activation=-0.0949 | MNMNNNNLYNNNSFQNQNNNNNNSYNNNPNNNNNTNNNNNNNNSNMNNNLNYNNNNNNNNNYNNNYLNNNSYNNMNNYNNNNNNNNNYNNNNNNNYNMNNNN\n",
      "[143] avg_activation=-0.0945 | NNQNNNSNNNNNANNPKNNNNNMNNNNGNMNNNNNNYNYNNNNNYYNNNNNNYNSNQNNMNNXYNYNNMYNNYNNNNSNNNNMNNNYYNNNNNNNNNNMNN\n"
     ]
    },
    {
     "name": "stderr",
     "output_type": "stream",
     "text": [
      " 29%|██▉       | 145/500 [00:15<00:27, 12.70it/s]"
     ]
    },
    {
     "name": "stdout",
     "output_type": "stream",
     "text": [
      "[144] avg_activation=-0.0980 | NSKNNNNNNXNNNNYNNYNNNNYMNNNXNNNNNNNNNNNNNYNNNNNNNNYNSNNANTYNMNNNMNNYNNNKYNXNSNNNYNNMNNNNYNNNTNXYNNYYNT\n",
      "[145] avg_activation=-0.0989 | NYNNXNNNNNNNNNMNNNMNNNCNNNNNNNNNNNNNYNNNNYDNNNNNNMNNNNYNNNMNNNNNNNNNNNNMNNNNNNNNNYNNNNNNTNNNNNNNNNNNNN\n",
      "[146] avg_activation=-0.0908 | YNYNNNNNYNNNTNYNMNNNNNSNNNNKNNNSCENNNNMNSNYNNNNNNYNXYYNTYNNYNNNNNNYYNXNNNNNXYQNYNNNXNNSQNNNNNXNYNXXNN\n"
     ]
    },
    {
     "name": "stderr",
     "output_type": "stream",
     "text": [
      " 30%|██▉       | 149/500 [00:16<00:27, 12.64it/s]"
     ]
    },
    {
     "name": "stdout",
     "output_type": "stream",
     "text": [
      "[147] avg_activation=-0.0910 | NNNNNNNNNNNNNXNYYKNNNNNNSNNYYNNNNNNQNNMNNNNNNAYNNNNNNNYNNQYMNYYNYPNNFMNNNNNNTNMNNNNMYNNYNNYMYMNSNNNYNN\n",
      "[148] avg_activation=-0.1001 | NNYCMNNMNNTNSHNNNNXNNTQYNTNSYNNNNMNNNNNNMNMNNNNNNNNNNNYMNNNNNNNNNNNNNMNNNNNNNNNNNNNNNYMNNNCMTNXNSNNNN\n",
      "[149] avg_activation=-0.0965 | NXNNMNNNNNNNNNNYMNMMNNNNNYSTNNNXNNNNNNNNYNSNYNNNGXNYNNKSNNNYNYNNYYYNNNNNNNNNNNNNNNNNNKSYNNNNYNNSNYTNN\n"
     ]
    },
    {
     "name": "stderr",
     "output_type": "stream",
     "text": [
      " 30%|███       | 151/500 [00:16<00:27, 12.66it/s]"
     ]
    },
    {
     "name": "stdout",
     "output_type": "stream",
     "text": [
      "[150] avg_activation=-0.0933 | YMSNNNNNNSSNNYNNNNNNXNYNNNNMNNSNNNNNNNSNTNNNNNSNNNNNNNNSNNNNSNNNNNNYNNMMNNNNMNNYNNSXNNSNXNMNNNYNNNNNNN\n",
      "[151] avg_activation=-0.1059 | TNNKNNNQSNNQNNLNNNYNNYPSNNMNNNNYYNNNMKNNNNNNNNNNNSNNTNNNNNNNNNNMNNNNNYNNNAMNFNYNNKNYNSNSNNNNNNMNNNNNN\n",
      "[152] avg_activation=-0.0975 | NNMNNNNNTMNNNYNNXNNNTNDNNNNNNSNNNXNNNNNNYNNNTNDNXNNNNNTNNNNNQQNMNQYMNNSNNNNNNYNNNCNNNNNNNNNNYNPTNSNNS\n"
     ]
    },
    {
     "name": "stderr",
     "output_type": "stream",
     "text": [
      " 31%|███       | 155/500 [00:16<00:27, 12.60it/s]"
     ]
    },
    {
     "name": "stdout",
     "output_type": "stream",
     "text": [
      "[153] avg_activation=-0.0945 | MNNNNNNNXNNNLNNNQNYXNNNNNNNNNNQNNNNYNNTNYNNNNQXYNNNNSNMNNSNNNPNNNNNNNQNMKNYNNNNNNNNNNNNNNNNNNSMNYNNNNN\n",
      "[154] avg_activation=-0.0986 | MNNNNNSNNNYNNYNYNCNQNNNMYNNNYYNNNNNYNTNNNNNNNNNNNMNNNNKNNMNQYNNYNNTNNNYMNNNNNNNNNNMSQNXNNNNSNNXYNMNXNM\n",
      "[155] avg_activation=-0.0917 | YNNYEMDSNNNYYNNNNNNMNNNNNNNKYSMMNNNNNSNYNNYNNNSYNNMNMNQNNNSNYQNNENNNNNNSNNNNNNNNNNNNNNNNYNNNNNNNNNNNNN\n"
     ]
    },
    {
     "name": "stderr",
     "output_type": "stream",
     "text": [
      " 31%|███▏      | 157/500 [00:16<00:27, 12.59it/s]"
     ]
    },
    {
     "name": "stdout",
     "output_type": "stream",
     "text": [
      "[156] avg_activation=-0.0929 | NNNNNNNNNNNGNNNNNNSSNNNNNNKFNNQNCNMNNNXNNTNCYNNNTNNNYNNNNNNNNNMNNNNNNQNNNNNNNNNNNQNNNNNNNNNNYNYNNYNNYN\n",
      "[157] avg_activation=-0.0954 | YSNNNNNSNQSNMNNNNNNNLYCNNNNKSYPNNYNNNNNMNYNNNNNYNNNGNNNNNYSNNNNNSKNYNNNNNSNNNNNNNNNYNNNNNNYNXMSNYNNNNY\n",
      "[158] avg_activation=-0.0960 | SNNNNNMNNNNNNNMQYKNNNQNASNNMNNYNSXNYNNNNMNNNTNANYMSNNKNNNNNNNYNNNPYYNNYMSNTNNNNYNNSNNNNDNYMNNNNNNNNNQ\n"
     ]
    },
    {
     "name": "stderr",
     "output_type": "stream",
     "text": [
      " 32%|███▏      | 161/500 [00:17<00:27, 12.51it/s]"
     ]
    },
    {
     "name": "stdout",
     "output_type": "stream",
     "text": [
      "[159] avg_activation=-0.0998 | NNNNSNQNMNNNNNFNMNNNNNNNNNMNNNYNNNNNNNNNYNNNNNNQNSNNMNNNMNNDNMMNNNNTNNNNGNYNNNNNDNNNNNNNNNKMNNQTNNNMN\n",
      "[160] avg_activation=-0.0966 | NNXQNNNNNNNYNNNNMNNMNXNNNNNNNNNMNNNNNQNTNYNNNSNNCNNNNMNNSNNMNNENSNNYNNNNNNNDTNNNNNNNNNQNNNNNYNNNNKNNXM\n",
      "[161] avg_activation=-0.1024 | FQNNNNTNNNNNYNNNNNNXQNNNNNNTNNNNANNNTNNMNYQNNNYNNNNNYNNNNNNNYNNNSNYNNMNNNMNNNYYKNNYSNNYNNNMNNMNNNNMHTN\n"
     ]
    },
    {
     "name": "stderr",
     "output_type": "stream",
     "text": [
      " 33%|███▎      | 163/500 [00:17<00:26, 12.52it/s]"
     ]
    },
    {
     "name": "stdout",
     "output_type": "stream",
     "text": [
      "[162] avg_activation=-0.0954 | NNNNNTNNNMYMMSYNNNYNMNYNNXNNNYSQNNNNNNYNNNNENNNNNNNNNNSNKNMYYANYNNMNASNXYNNNTXNNNNNNNNNNNNNQNNMNNNNNYM\n",
      "[163] avg_activation=-0.0928 | NMNNNNYKNYNSYNNNSNNNTNNNNNNYNSNSNNNMNQNNNNCNNYNNNNNNSNNNNNNNNNNNNNNNNQNNTSNNNNNSSNSNNNNNNNNYNNNNNNSYYN\n",
      "[164] avg_activation=-0.0937 | NXNNNMNNNNYMSNNYNNNQNNNNSNNNMNTTNXNNNQSNNNNSNSYNNNSMMNSNTNNYNNNNNNNNNNNNNKNNNNNSNNQPYNNNNSNNYNNNXYNNNN\n"
     ]
    },
    {
     "name": "stderr",
     "output_type": "stream",
     "text": [
      " 33%|███▎      | 167/500 [00:17<00:26, 12.59it/s]"
     ]
    },
    {
     "name": "stdout",
     "output_type": "stream",
     "text": [
      "[165] avg_activation=-0.0947 | MMKYNNNNNMNNNXNMNNNNNYNNYMYNNNNMNTNNYYSNSNNNNNNNMNNNNNYNNNNNQDSNMNSYNPNNXNNNNKNNNNNNGNNNNNNNNNNNNNNNNN\n",
      "[166] avg_activation=-0.0932 | NMNNNMNNYNSNMQNNNNNSNNYNTYKNNNSSNNNNNNYNSNYMNYYYNNNMNNMYNNKNNNPNNNNNSYMQNNNNNNNNMNNNNNNNNNPNNNNNNYSN\n",
      "[167] avg_activation=-0.0931 | YNYNNNNNNNMNNMYNYNYNNNNNKNNKNSNKNNYNSNNNNNNNNNNNSSNNNANNNYQNNNYQNNNNNSNNNNNNMNNNNNKNNMSFNNNNNNNYSNNN\n"
     ]
    },
    {
     "name": "stderr",
     "output_type": "stream",
     "text": [
      " 34%|███▍      | 169/500 [00:17<00:26, 12.58it/s]"
     ]
    },
    {
     "name": "stdout",
     "output_type": "stream",
     "text": [
      "[168] avg_activation=-0.0921 | AXNNNNTNNNNNNNANMXNNNNNNNNNNNMNYNNMNNYNNTNNNMNNXSMNYNMNNNMMNNYSNNNNNYNNNSYNNNMNNNMNNNMNNNNYNNSMYTNYNNN\n",
      "[169] avg_activation=-0.1030 | SYNYNNLYNKXMNNNNNSNNNSNNYNNNNNNNNNNNNNNYMNNNNNNNNNNYXNNNMNYNNNNNNNNNYNNNMNNSYNNNNNNNNNNNNNNNNMMNNNNYYN\n",
      "[170] avg_activation=-0.0820 | YNNNNNNNYMNNNNNNKLNSNXNSNNNNNSNNNYNSNMSXNNNNMQNNNNNNNNMINNNNNNNNNNSNNNNNNNNNNNNYYNNNNNXYNNNNNYNNNQNYYY\n"
     ]
    },
    {
     "name": "stderr",
     "output_type": "stream",
     "text": [
      " 35%|███▍      | 173/500 [00:18<00:25, 12.61it/s]"
     ]
    },
    {
     "name": "stdout",
     "output_type": "stream",
     "text": [
      "[171] avg_activation=-0.0967 | NYNNMTNNNYXANNNNNYNYNNNNNNNNNNNNNCQNNINNSMNNNNYYNNTNNYNNCNNNKNNNSYNNNNYNNNNNNNSNNNNNNNNNXNNNKXCNNNNYN\n",
      "[172] avg_activation=-0.0983 | KNNYKNNNXNYNNYNMNNNTNXNNNNSMYNNNNNNNYNNNNNYNQNNNNNNMSYMNNNNNNNNNNNNNNNNNYSSNNNNNNSNNNNYQNNNNNNYNNNNNMN\n",
      "[173] avg_activation=-0.0924 | YNNNNGNYNNNYNNNSNNNNYYNNNNXNNNNQNNNKNNNXTQNNNSNNNNNNNYQNNNNNNNYNNNNQTNNNSMNMSNMYNNNMNNNMYNYNNNNNNNNNNN\n"
     ]
    },
    {
     "name": "stderr",
     "output_type": "stream",
     "text": [
      " 35%|███▌      | 175/500 [00:18<00:26, 12.43it/s]"
     ]
    },
    {
     "name": "stdout",
     "output_type": "stream",
     "text": [
      "[174] avg_activation=-0.0906 | NNLNNNNXNNNNNNNNNNSNPNNNNNNNNNNNNNYNNNNNNNQNNNNSNNMNNNXNNNSMNNNTNNNENQNNNNNNNNNNMNNNNNNNCNNNNYXNNNNNSN\n",
      "[175] avg_activation=-0.0963 | NFNYSNNYNSNNNNMSPSNYNNNNYYMNKNNNNNNNNNNNYNNNNYANNNSNNMNNNNSNNNNNNNNNNNNNNNYNNNNNNNNNNNNYNNMNMNNNMNYY\n",
      "[176] avg_activation=-0.0981 | NMYNNNNNYXYNNYNYXMYNNNKNYTNNMNNNNNNNYNSNNNNNSNNNSNNYNNNYNNNNNNSNNNYNNYNNNYNNNNMTNNMNNNGNTSNNNNNNNNNYNY\n"
     ]
    },
    {
     "name": "stderr",
     "output_type": "stream",
     "text": [
      " 35%|███▌      | 177/500 [00:18<00:26, 12.26it/s]"
     ]
    },
    {
     "name": "stdout",
     "output_type": "stream",
     "text": [
      "[177] avg_activation=-0.0990 | QNNMNCMNNNNNYNNQKCNNXNXMNNSYNNNNNNYNNTNNNNNNNNXNNNYNQNSNNSNNNNNXQNNSNKSNSNSNSNNNNNNNNNNSCMNNNNNNYNNNN\n",
      "[178] avg_activation=-0.1038 | NXNNYNINSXNSNCYNNNNNNNQNMNNCYSNNNYSNNNPNKNNMNYSNNNNNGNNNNNQNYEYNYNQNNYNNNNNNANNNNNNMNNANXNNNNXNNNNNNYN\n"
     ]
    },
    {
     "name": "stderr",
     "output_type": "stream",
     "text": [
      " 36%|███▌      | 179/500 [00:18<00:30, 10.40it/s]"
     ]
    },
    {
     "name": "stdout",
     "output_type": "stream",
     "text": [
      "[179] avg_activation=-0.0926 | NNNSNNMNNTNYNNNYNNNCNYNNNNNYANYNNTNNYENCNNNXNNNSNNNNNYNYMNNNNNNNNNNNYNNYNCMNNNNNNNNNLINNQNNMNNNNYQNNSN\n",
      "[180] avg_activation=-0.0936 | QNNNNNNNNNNNNNMNNNNYNNNNNNNNCNNNNNNNNNNNNNNNNNNNYCNNNNNNMNNYNKYNNNYNNNMNNQNNNMNNNQNNNNNMNNNNNNNYQAMNN\n"
     ]
    },
    {
     "name": "stderr",
     "output_type": "stream",
     "text": [
      " 36%|███▌      | 181/500 [00:18<00:32,  9.73it/s]"
     ]
    },
    {
     "name": "stdout",
     "output_type": "stream",
     "text": [
      "[181] avg_activation=-0.1104 | NXMNNSSNNNNSNNNNANNSNNYNYQNNNFNMNYNNTNNNNKNNNNNNNNNNSTNNNNNNSNXNNNQYNYNNXNNSNTNNNNSPNXNYNNNNYNNNNNNNMN\n",
      "[182] avg_activation=-0.0954 | YQNYNNNNNMNYSSNNNNNNNMNXYNNSYNYSNNNNYSNNNNNNYSNNNNNNMNMPXNNSYMYNNYPXNNGNNNNYFNNNYNNXYNNNNLNNNNNQNNYNNN\n"
     ]
    },
    {
     "name": "stderr",
     "output_type": "stream",
     "text": [
      " 37%|███▋      | 184/500 [00:19<00:34,  9.22it/s]"
     ]
    },
    {
     "name": "stdout",
     "output_type": "stream",
     "text": [
      "[183] avg_activation=-0.0944 | MNNMNANNNMNNNNNGNSNNNNNNNNNNNTMNYYNMNNNXYNNNNNTDNQYNYQNNSNNNNYNNNNNSNNNNNNNNPYNMNMNNNSNNNYNQYNXNNNQNM\n",
      "[184] avg_activation=-0.0947 | MNNYNSXNNNNNNNNXYYSNCNKIYNNPNNNNNYNNNNNYMNNNESYNNNNANNLQNNNNNNYYNNNYNMNNNNNNNNNNNTNSNNSNNMNENNNNNNYNNN\n"
     ]
    },
    {
     "name": "stderr",
     "output_type": "stream",
     "text": [
      " 37%|███▋      | 186/500 [00:19<00:35,  8.93it/s]"
     ]
    },
    {
     "name": "stdout",
     "output_type": "stream",
     "text": [
      "[185] avg_activation=-0.0883 | MNNNSNNNNNNNKNYNNYNANNNNNNNNNNNNYQNNNNNNCNNNYNNNNNNSNNNNNNNKNYNNNNNNNNNNNNNMENNNNNNNNNNNNNNNCNLNNNYNNN\n",
      "[186] avg_activation=-0.0973 | SNNNYNNNNNSNSANNNNNYYXNNNNNNNNNANNNXMNNNNNCNNNTXNNNNNNNNNNNYNNMNNNNNNYSNNNQYNNNNNYNNYNNNNXNNNNNNNMYSQ\n"
     ]
    },
    {
     "name": "stderr",
     "output_type": "stream",
     "text": [
      " 38%|███▊      | 188/500 [00:19<00:35,  8.75it/s]"
     ]
    },
    {
     "name": "stdout",
     "output_type": "stream",
     "text": [
      "[187] avg_activation=-0.0968 | NMNSXNYNNYNNYNANPNNNNNNYNNNNNNNNNNNKNNTSSNNNNNNNSNNKNMNSXNNNNNNNNYNNNNYNXNNNNNYSNNNYNNNNMQQNNSNNTYTN\n",
      "[188] avg_activation=-0.0904 | QINNYNKNNSNKNNKYTNNNNMNNDNNNNNSYNNSNCNNNSNNNRYYYNPSYSMNSNYNCYNYNNNNANYNSQNNNNFNNNNSATNNNNNNNYMNNNNNMNN\n"
     ]
    },
    {
     "name": "stderr",
     "output_type": "stream",
     "text": [
      " 38%|███▊      | 190/500 [00:19<00:35,  8.69it/s]"
     ]
    },
    {
     "name": "stdout",
     "output_type": "stream",
     "text": [
      "[189] avg_activation=-0.0846 | MYNNTYNQNNNNNNNNNQNNNLNNNNNSYNNQNNPNNNNNYNNNSNNNCNNSQNCNYNYNSNNNNNYNNINNNYNNNNNMNNNNNNNGMNMNNNNNNNYNN\n",
      "[190] avg_activation=-0.0920 | SNNNXSNCNNNNNNNYYSNNNNYNNNNYNSYXYSMNNNNNMYNNYNNNNNNNNNSTNMNXQNNNNNNANANNNNNYNNTNYNNYMLNTMMNNSNNNNNNNNN\n"
     ]
    },
    {
     "name": "stderr",
     "output_type": "stream",
     "text": [
      " 38%|███▊      | 192/500 [00:20<00:38,  7.97it/s]"
     ]
    },
    {
     "name": "stdout",
     "output_type": "stream",
     "text": [
      "[191] avg_activation=-0.0956 | NNYYTNNYYNYYNYNYYNYNNMPMNNNNNNXNNNNNNNNYNNQQNNNYNYNNNCYNNNNYYNMNYNYNNNNNYNNNNSNNYSNNNNNNNNYKNNNNYNXYXY\n",
      "[192] avg_activation=-0.0969 | MNNNNNNNNNDNSYNNNNNSMNNNNNNNNQYNMNNMQNNNNANDMNNTNNNNDNNNNNNNNNNYNNNMMNNNNSMNNMNNMNPQNYSQNCNTYNNNNGNNNN\n"
     ]
    },
    {
     "name": "stderr",
     "output_type": "stream",
     "text": [
      " 39%|███▉      | 194/500 [00:20<00:39,  7.67it/s]"
     ]
    },
    {
     "name": "stdout",
     "output_type": "stream",
     "text": [
      "[193] avg_activation=-0.0941 | NMNNNNNNNNNNNNNNSNNNNNNNSNSNNSNNMNNNNNLNNNSNNMQNMNNNNMNNNNNNNNYNNNNNNNNNXAMNNNNNCNXNNNNNNNNNMPYNSNXNYY\n",
      "[194] avg_activation=-0.0952 | NNYNNNNNNNSNNSNYNNNSNNMNNNNNMNMQTNNNNNNQNNNTNNNSNNNNNNYNNNNNNXMXNXMNKNYNNSNNNTNMDMNYNNNKPNNNSNNSKNNYNN\n"
     ]
    },
    {
     "name": "stderr",
     "output_type": "stream",
     "text": [
      " 39%|███▉      | 196/500 [00:20<00:37,  8.05it/s]"
     ]
    },
    {
     "name": "stdout",
     "output_type": "stream",
     "text": [
      "[195] avg_activation=-0.0991 | NNYXKMMQNYNCNNNNNNNMNNNMNNXQNGNNNNNMNQNANMNSTNNENNNNNNNNNNNNNNNNSNNQNYYMNNNMNNMNCNNNYMNNKNNNNNKNMNNNSN\n",
      "[196] avg_activation=-0.1020 | SNYNNNNNNNNNNNNNNNCNYYNNNNXNSPNNNNYMNTNXXYNNSNQNYKQSNNNYNKNNANNNMNQSQSNNNYNYNNNNNNYYXNMNNNNNNNNNNNQNN\n"
     ]
    },
    {
     "name": "stderr",
     "output_type": "stream",
     "text": [
      " 40%|███▉      | 198/500 [00:21<00:36,  8.27it/s]"
     ]
    },
    {
     "name": "stdout",
     "output_type": "stream",
     "text": [
      "[197] avg_activation=-0.0912 | YSNNNYNNYQCYNNNNNMNNNNNNNNNNNNNNNNYTNNNDNSNNNNNQNNNNNNGNTNNNNNNNNNSNNSNNNMNNNNNYNNENNNNNNNNYNNNNNNNIN\n",
      "[198] avg_activation=-0.0963 | NNNNNNNNNNNNNYNNNNNNNMNQYMNNNYNSNNMNNNNNNNNNNNSNNNNYQNYNNNNNYNNNNNSNMYNNNNYSYYNNXNNNNYMNYNNNNMNNNNNNNN\n"
     ]
    },
    {
     "name": "stderr",
     "output_type": "stream",
     "text": [
      " 40%|████      | 200/500 [00:21<00:35,  8.40it/s]"
     ]
    },
    {
     "name": "stdout",
     "output_type": "stream",
     "text": [
      "[199] avg_activation=-0.0861 | NMNNNSNNXNQYNNNTNNYNNTNNNTNNNNNNNNNNNNNNNNNENNNNNMNNNNNNNNNNNNNKYNNINNNNNNMPNNSMSNNYNSNNNYNNNNSNNNYNMN\n",
      "[200] avg_activation=-0.0971 | NNNNNYKANTNYMNYNNNNSGYQLNNYYVNYYNNYNNCYNNNNXNNNYNNNNSYSNNNNNNNNNNNNNNYNNNTNNNNNNNNNNNYNNNNNNMNNMNNSNNN\n"
     ]
    },
    {
     "name": "stderr",
     "output_type": "stream",
     "text": [
      " 40%|████      | 202/500 [00:21<00:35,  8.48it/s]"
     ]
    },
    {
     "name": "stdout",
     "output_type": "stream",
     "text": [
      "[201] avg_activation=-0.0960 | QNEFYNNNNYNFTNNSNNNNNNNNNYNNNYNNNNNNNNNYNYMNYNNMNNNNTNNNNENNYNNNNNNDNAMNNNNNNNNNNXNNTNNNNNNNNNNYQNQMM\n",
      "[202] avg_activation=-0.0928 | MNYNNNNNMNNNNNMNNNNNNMNNNNNSNSNNNNYNNNIYNYNNSSNNNNNNNMNNNNNNNNSNNSNYYNSYYNNNNYNYNNNNNNNNSPNNNNNNNNNYS\n"
     ]
    },
    {
     "name": "stderr",
     "output_type": "stream",
     "text": [
      " 41%|████      | 204/500 [00:21<00:34,  8.50it/s]"
     ]
    },
    {
     "name": "stdout",
     "output_type": "stream",
     "text": [
      "[203] avg_activation=-0.0960 | NNNYNNNNNANNNNNNNNNNNNYNNAYNYNNNNSNNNNNNNNNNYNNNNNXNNNYMYNNNNNYNSYNNNNNNKNNNNNYNNNMNNNNNNMNNNMYNNNNNNN\n",
      "[204] avg_activation=-0.0913 | SNNTYNNYNNNNNMYYNXNQNNNMNYPNNNNNNNYNNNENNMNNSNNNMNNNSNNNNNCNNNNNNNYNNKNNNYNNNNNMNNNYNNNNNNYNNNYNNNNNNN\n"
     ]
    },
    {
     "name": "stderr",
     "output_type": "stream",
     "text": [
      " 41%|████      | 206/500 [00:21<00:34,  8.50it/s]"
     ]
    },
    {
     "name": "stdout",
     "output_type": "stream",
     "text": [
      "[205] avg_activation=-0.0959 | NNNNNNNNNNNNMYNNNNNNSNNYKNNNNNNNNNXNNSNXYNNNMNNNNNSNDYNXEMNNNNNASNMNNMMNNNNNNSNNNMNYNNSNNYNNNNNNKNSN\n",
      "[206] avg_activation=-0.0937 | MFAMNQNNNNNNNNTNNNNNYNNNNNNYNNNNKNYYYNXNNNNNNNNNNNNYNNNMNNMNNNNNNNNMLNNNSNNMNNNNYNNNNNNNNNNNNYNNYXTNNN\n"
     ]
    },
    {
     "name": "stderr",
     "output_type": "stream",
     "text": [
      " 42%|████▏     | 208/500 [00:22<00:34,  8.51it/s]"
     ]
    },
    {
     "name": "stdout",
     "output_type": "stream",
     "text": [
      "[207] avg_activation=-0.0941 | NYENNNNNNNNNNNNNNNNYSNMNNNNCNNNNNNQNMYNKNNNNKXNYNNNNNNNYNNNNNNMNMSNNNNNMNNNNNMNNNNNAYNXNNNNNNNSNNNTSM\n",
      "[208] avg_activation=-0.0929 | NNYYSNYNKNNMNNNNNMNNNNMMNYNGNNNNNQMNNEMNNNNSNNNNNNYNNXNNNNNNNNNNYNNNNNNNYNTMNNNNYNNNMNNNNNYNNNMNNNNNNM\n"
     ]
    },
    {
     "name": "stderr",
     "output_type": "stream",
     "text": [
      " 42%|████▏     | 210/500 [00:22<00:34,  8.52it/s]"
     ]
    },
    {
     "name": "stdout",
     "output_type": "stream",
     "text": [
      "[209] avg_activation=-0.0976 | MNSSSNYNNNNNNNYNNNNSNNSNNYNNNNNYNNNMYTNNQNNNNNNNNQNNNXSNNMNYNYNTYNXNMNMNNNNNNNNNNNNNNNNNNNYNGSNNNYMNNS\n",
      "[210] avg_activation=-0.1011 | NSNNNNNNNNNMNNNNNPMQNNNNNNNMSNTNNNNNYNNNMNNXNNNNNYNMNNNNPNYNNNNNSSNYNSQNNNNNNNNYNYNMNNNXNNNNNNQNNNNNMN\n"
     ]
    },
    {
     "name": "stderr",
     "output_type": "stream",
     "text": [
      " 42%|████▏     | 212/500 [00:22<00:33,  8.53it/s]"
     ]
    },
    {
     "name": "stdout",
     "output_type": "stream",
     "text": [
      "[211] avg_activation=-0.0841 | NNNNNNYNNNNNYNNNYKNNDNNNNNNNNNYYYYNYNNNNNNNNSNNNNYSMNQNNMNNNNSMNYYNNCXYNNNMNNYNQNNNNNMNNNNYNNNNMNYNNNY\n",
      "[212] avg_activation=-0.0960 | NYNNMNNNYNNNNNXNNNSNMSNNNXNAANNNNNNXNNNNNNNNSNNNMQNNSQNYSNNNNNNNNNNNNNNNNNNNMNNNNNRKSMNTPXNNNYNNNNNNSN\n"
     ]
    },
    {
     "name": "stderr",
     "output_type": "stream",
     "text": [
      " 43%|████▎     | 214/500 [00:22<00:33,  8.53it/s]"
     ]
    },
    {
     "name": "stdout",
     "output_type": "stream",
     "text": [
      "[213] avg_activation=-0.0930 | SNNNNNNYNSNNNNNNNNNNNNNNSNNNYXNNMNNNNNYNNEYNMNNNKMNNNSNNYNNMNNNSNNMNNNNNNNNNYNXNNNNNNYNNTTNNDNNNNNNMYN\n",
      "[214] avg_activation=-0.0951 | SMNNSNYNNNNNNNNNNNNYNNNNNYNNNNNSNSXYYQMXNNNNQNNXNNXNMNNNTNNNTNNNMNNNNNNNNNINNYNYTNNNNNXYNNNNQTNNNYNMNN\n"
     ]
    },
    {
     "name": "stderr",
     "output_type": "stream",
     "text": [
      " 43%|████▎     | 216/500 [00:23<00:33,  8.53it/s]"
     ]
    },
    {
     "name": "stdout",
     "output_type": "stream",
     "text": [
      "[215] avg_activation=-0.1023 | AYNYNMXNTNNNYNNNNNNNNNNNMLNNNSNNNNNKNXNNNNNNNNNNNNNNNNNNYSNNNNNSNNYNMNNMSNNNNNNNDASNNNNNNNQNNQNNNNYMCS\n",
      "[216] avg_activation=-0.0918 | DNMNMYNSNNSNNNNNNNNNYYNTNSMTNNQSENYNNXKNNNNNNNMNNNNNNNNNYLNNNMMNNNNNNNNMNNNNMNNNNNMNNNNYNNNYNNYSGNNNNN\n"
     ]
    },
    {
     "name": "stderr",
     "output_type": "stream",
     "text": [
      " 44%|████▎     | 218/500 [00:23<00:33,  8.53it/s]"
     ]
    },
    {
     "name": "stdout",
     "output_type": "stream",
     "text": [
      "[217] avg_activation=-0.0897 | NNNNSYNNNNNNNNNNNNNNMNNNYNNSYNNNNYTNNNNNNDNYNNNNNTNNYNNNNYNNNNSNNNNYSNNNNNNNSNSMNNSNYYNNYNNKNNNNSCNSN\n",
      "[218] avg_activation=-0.0925 | NNNMNNYNNNNQNNNYNSNNNNNNNNNKNYNNNNNYMNSNSMXNNNNNNNNNNNNNNQNNSNSNNMNNNNYNNNNSYSNYKNMNMYNYNNNNNTYNNQNNNN\n"
     ]
    },
    {
     "name": "stderr",
     "output_type": "stream",
     "text": [
      " 44%|████▍     | 220/500 [00:23<00:33,  8.48it/s]"
     ]
    },
    {
     "name": "stdout",
     "output_type": "stream",
     "text": [
      "[219] avg_activation=-0.0877 | YKNNNSKNNMGTNNNNNNMNNXNNNNNKNNNSSNNNNNNMNNNNNXNNNNNNMNNNNNSNSNQYYNNNNMNYNNNNNNSYNYNNNNNYNNNQNNNYNNNDNN\n",
      "[220] avg_activation=-0.0881 | YNRCNNMYNNNNNNNNNNNNNYYNNNNNNNNTNNQNSYNNNYNNYNNNSNNNNNNNNINNYNNSNNNSPNNNNNNNNNNNNNQNNNMNNNNCYNNNNNNN\n"
     ]
    },
    {
     "name": "stderr",
     "output_type": "stream",
     "text": [
      " 44%|████▍     | 222/500 [00:23<00:32,  8.50it/s]"
     ]
    },
    {
     "name": "stdout",
     "output_type": "stream",
     "text": [
      "[221] avg_activation=-0.0922 | SNSNNLMYNNNNNNNYNNYSNNSNNNNNNNMSNNNNNNNNNNYNNNNNNNNNYNNTNNNNNNQSNNNYNNNNNNNQYNNNNNNYNNNNNNNNNNSNNNNYN\n",
      "[222] avg_activation=-0.0984 | NNYNNCNNNNYNNNNNSNNNNANNNMNSNQNNYNNNNNYNNNNNNNNSNYNNNNNNNNNNNNNNNNNNNNNNNNNTNMMNNYKTNNNSNSMNNNNNNNYNN\n"
     ]
    },
    {
     "name": "stderr",
     "output_type": "stream",
     "text": [
      " 45%|████▍     | 224/500 [00:24<00:32,  8.50it/s]"
     ]
    },
    {
     "name": "stdout",
     "output_type": "stream",
     "text": [
      "[223] avg_activation=-0.0996 | NNNNNNNSNNNNYNINNYKNNNMNNNNNNNSSXNMNNNKNNNNNNKYMNNNNSNMQNFNNTXYNYNNNNNNNQNNNNMFNMNNNNNNSNNYYNNSNNNNNNN\n",
      "[224] avg_activation=-0.0960 | NMKNNNYNYMMNNNYMNQNNNNNYMNMYNNNNNNQNNYNANNSYNNNNSCNMNQNNNNNNQXNNNNTNNNNYTSNNNNNNMYNNNQNMNNYNNSNDNNYNN\n"
     ]
    },
    {
     "name": "stderr",
     "output_type": "stream",
     "text": [
      " 45%|████▌     | 226/500 [00:24<00:32,  8.52it/s]"
     ]
    },
    {
     "name": "stdout",
     "output_type": "stream",
     "text": [
      "[225] avg_activation=-0.0981 | NXNNKNNNXSNNNSNNNNNNNNNNNNTNNNMNNNSNYNYYNNNNNNNSMNNNYNNSNNNNNQNNNNNMNNNNNNYSNYSNNNNMNFNNNNNNNNYNNNNMNN\n",
      "[226] avg_activation=-0.1009 | NNNNMNXNSNNNNNNNSMNNNYNNNNNNNNTNNNMNNMNNNNNNNNNNKNNNSNNNNYNNNNNNNYNNNNNMNNNKMNNNMNNNNNNNKNNNNMNNYNNYT\n"
     ]
    },
    {
     "name": "stderr",
     "output_type": "stream",
     "text": [
      " 46%|████▌     | 228/500 [00:24<00:31,  8.52it/s]"
     ]
    },
    {
     "name": "stdout",
     "output_type": "stream",
     "text": [
      "[227] avg_activation=-0.0902 | YMYNQNNNNNNNNNNNNYNNNNNNNYNNNNYNNNNMNNNSNNNNNNNMKNNNNNXYMNNNNNYPNNNNYNNNNNNNYNNSNKQNNNNNNNNNNNNQNNNGY\n",
      "[228] avg_activation=-0.0964 | NNNNNNNNNNNYNSNNNYNYNNNNNYNNNNYNNYNYYNNYSMNNNNNYYYNNNNYNNNNNXYSMSNNNNNNNNNNNSNNMNNNNNNNNNNYPNKNNNNYNNN\n"
     ]
    },
    {
     "name": "stderr",
     "output_type": "stream",
     "text": [
      " 46%|████▌     | 230/500 [00:24<00:31,  8.52it/s]"
     ]
    },
    {
     "name": "stdout",
     "output_type": "stream",
     "text": [
      "[229] avg_activation=-0.0919 | NMNNNNTNKNNNNNNNNYNNMNNNYNNNNNYNNNMNNNSNNSNNNNNNNNMNTNNYNNNYMNNNNNNNNTNNNSNYNNNNNNYYNNNNNNNNSNNNNYNNN\n",
      "[230] avg_activation=-0.0967 | INMNNNYNQYVNNKQNNMNYNNYNNNNNNNYNYNNNSNNNNNCNNNNNNNNNNYNNNNNNNNNNQNNSNNYNNNNSNMNNQNNNNNKNCNNNNNNNNNNNNY\n"
     ]
    },
    {
     "name": "stderr",
     "output_type": "stream",
     "text": [
      " 46%|████▋     | 232/500 [00:24<00:31,  8.52it/s]"
     ]
    },
    {
     "name": "stdout",
     "output_type": "stream",
     "text": [
      "[231] avg_activation=-0.0930 | SNTNNXNNNNNNNNNNNNYNKNNNNNMNYSNNNNNNNNNNNNNNNNNNYNNNSNNNNNNIPSPNNNNNMNSNNNNMSNSNNNNNNNQYNNNNNNXMNNYNNY\n",
      "[232] avg_activation=-0.1019 | NNMMQMSNNNSNYSNNXNMFNNDNNKNNNNSNNNNNFNNNNNKNNMNSNNYNMYNNNMYMNNYNTNNNNYNNNMXNNSNNNNNNNNNNNNNENNNYNNNNN\n"
     ]
    },
    {
     "name": "stderr",
     "output_type": "stream",
     "text": [
      " 47%|████▋     | 234/500 [00:25<00:31,  8.52it/s]"
     ]
    },
    {
     "name": "stdout",
     "output_type": "stream",
     "text": [
      "[233] avg_activation=-0.0929 | MMNNNYSNNNYNNNNNNNYSYNMNNNMNNNNNNNNNTNNNNMNNNNNNNNNNNSNNMNNNMTNMYNQYMYNNNNNNQNNNNNNNSNNMNNYNNNYYNNNMQN\n",
      "[234] avg_activation=-0.0944 | MMNNNNNNNNNNNNNNYNNNYQNTSNMNNNTNXNNNQSSNNSNNYSNNNNKNNNNNNSNNNNNSNQNNYNNNSNNNNNNYNNNXQNNNSNNMTNNNMNNNNN\n"
     ]
    },
    {
     "name": "stderr",
     "output_type": "stream",
     "text": [
      " 47%|████▋     | 236/500 [00:25<00:30,  8.54it/s]"
     ]
    },
    {
     "name": "stdout",
     "output_type": "stream",
     "text": [
      "[235] avg_activation=-0.0904 | YNNSNNMMCNQYNNNNNNNYNYMXNMYYNSYMTNNNXNNYNNNTXTNTNMNNNNYNNNNYNNNNTYNNQXNSNNNNNNSNXNTNNNNNNNMYXNNNANNNT\n",
      "[236] avg_activation=-0.1024 | QYSNNSNTNNNNMNYKNNNNMNNNNNNYNNNMNNYNCNNNNNNYMNNYNNNNNNNTNNKNXNNNNSNNNNNNNNNMDNNNNNNMNNMSNNNNNNSNMSTN\n"
     ]
    },
    {
     "name": "stderr",
     "output_type": "stream",
     "text": [
      " 48%|████▊     | 238/500 [00:25<00:30,  8.53it/s]"
     ]
    },
    {
     "name": "stdout",
     "output_type": "stream",
     "text": [
      "[237] avg_activation=-0.0922 | NNYNNNNNNNNNNYNGMNSNNNYYNCNNYNNNNNYNQNYNNTNNNNNNNNNNNSNYMTXNNNNNNMSNNNNNNNNNNNNNNNNNNYNMYNNNNNNFNYNNNN\n",
      "[238] avg_activation=-0.0938 | NMNNSNQNNNTNNTNNNNSSNYNNENSNNQQNNNYNNNNNNMNNNYSNESNNNNKNANLNNNSYNNNNSNNNNNNNNNNNYQMNNNNNSNSNNNNNNNNNSN\n"
     ]
    },
    {
     "name": "stderr",
     "output_type": "stream",
     "text": [
      " 48%|████▊     | 240/500 [00:25<00:30,  8.53it/s]"
     ]
    },
    {
     "name": "stdout",
     "output_type": "stream",
     "text": [
      "[239] avg_activation=-0.0963 | NQNNXMNQNNNLDSNNYNTQNNNNNNNXNNNNNNYXNYNPNNGYQNYNNNNNNQNNMNMNNNNNNNNNNNNNMNNNYNNQNNNNNNNNNNNNYNNNMNNNN\n",
      "[240] avg_activation=-0.0984 | SMNYNNNNYNNNNNMNMGNYNNMNNNNNNNNNNNNNMNNNNNYNNNQNCNNYNNNNNMNNPNNNNNMNMKNNSYSNNQMYNNTNNNNXNNNNNNNXNNNNN\n"
     ]
    },
    {
     "name": "stderr",
     "output_type": "stream",
     "text": [
      " 48%|████▊     | 242/500 [00:26<00:30,  8.53it/s]"
     ]
    },
    {
     "name": "stdout",
     "output_type": "stream",
     "text": [
      "[241] avg_activation=-0.0970 | NNNNNNNNNYNNNYQYISMNNNNNNNNXNYNYNNNNMNNSNQYNNNNNNNNQMNYNNNNNMYNYNNNNNNYNNNNNNSCNYNQNMNSNNNNNNNNNNNYNX\n",
      "[242] avg_activation=-0.1025 | MNNMYNNNXNNNNNNANNNNNYMNMNSNSNNNNNSNNSQNNNYNMNNNNKNNNNNNTNNNYNYELQNNNNNNNNNNNYNNXYNNNNNYNQYNXNSNNNNYNQ\n"
     ]
    },
    {
     "name": "stderr",
     "output_type": "stream",
     "text": [
      " 49%|████▉     | 244/500 [00:26<00:29,  8.54it/s]"
     ]
    },
    {
     "name": "stdout",
     "output_type": "stream",
     "text": [
      "[243] avg_activation=-0.0946 | YYNNYNNQYNNNYSNSNNNNNNYQNMYNSYANNNNNNNNNNNNNNNANNNMMNNNNTNNNNNNNNYNCNPNNQNNNNNYNNYNNNNSCNNNNNYNNNMNNNN\n",
      "[244] avg_activation=-0.0993 | NNMSXNXNNNNNNYNNANTNNNNXYNNNNNNMYNNNNNNSNSNNNNNNMSSNSNNNKSNNNNNNNNNNNNNKNNYNNNNNCNNNNNNYNNNNNNNNXNPNNN\n"
     ]
    },
    {
     "name": "stderr",
     "output_type": "stream",
     "text": [
      " 49%|████▉     | 246/500 [00:26<00:26,  9.62it/s]"
     ]
    },
    {
     "name": "stdout",
     "output_type": "stream",
     "text": [
      "[245] avg_activation=-0.1018 | MNNSNNNNNMNNPNNYYNNNNNNNDNNNNNNNNNNNNYNNENNYNQTNNNNNMNNNNNKNNNMNYNNNNNNSNNNQNNNQNXXINNNNNNNNNNMMYQNNT\n",
      "[246] avg_activation=-0.0938 | SYNYLNTNNNNNMNNTYKNKNNNNNMNNYMYNNYQNNMNMNNNANCNSYNNDNNNYNNNNNNNNNNMMNNNNNNNNNYNNNNNNYNNNNNNSYMNNNYNNYN\n",
      "[247] avg_activation=-0.0944 | NYMNNSNNNNNMNNNNNYNNNNNGCNTNNSNNNNYNNNNSNNMNNNNNYNNYNNQNNNNNNNNNNEYNNNNNNNNNNNNYKNSYNNNSNNMNNNNNTNSMN\n"
     ]
    },
    {
     "name": "stderr",
     "output_type": "stream",
     "text": [
      " 50%|█████     | 250/500 [00:26<00:22, 11.30it/s]"
     ]
    },
    {
     "name": "stdout",
     "output_type": "stream",
     "text": [
      "[248] avg_activation=-0.0973 | NFNNNQYNMNNNNNNNNMNNNYNNYNNNKNNNNNYYNNNNNNNNMNNYNYNNNSYNMYNNNNNNNNXYNSNNNNENMNNNNYNXNNNNSYNNSNNNNNYNQN\n",
      "[249] avg_activation=-0.0989 | MNNNNNSMNNNSNNYNNNNNCNNNNNNSNNNNNNNNYNNYNNNNNNNYNNCNSNNYNNNNNNNNYTMNNYNNNNNNNNKNNNNNNNMSNNNNNNXNKNNN\n",
      "[250] avg_activation=-0.0880 | SQNNYNNNNNNNNNNNNNNNMNNNNNTNXNNNNNNNNEMMNSNMNNNNMMYNYNNNNLNNXNYNNNNNNNNNNNNSMXNNNNMNYYNSNNNNNXNNNNNNSN\n"
     ]
    },
    {
     "name": "stderr",
     "output_type": "stream",
     "text": [
      " 50%|█████     | 252/500 [00:27<00:21, 11.69it/s]"
     ]
    },
    {
     "name": "stdout",
     "output_type": "stream",
     "text": [
      "[251] avg_activation=-0.0926 | TNNNMNNTNNNNNYYNYNKNNESNNQNTMMNMNNXNNLNCNYNNNNNNNNNNMLNNNNNSNNNYNNYNYSNNNNNNXYNNYNXNQNDNNNNNNNNYNNNNN\n",
      "[252] avg_activation=-0.0946 | MNNNNNNNNNNNNYNMNNNNNNNNANNYNYNNSNYSNSNNNNNNSNNSYSNNNNNNNNYNMMNNNNNNNNNYNNYNYNNNNNNNYNNXSNNNNNYNQNNNNN\n",
      "[253] avg_activation=-0.0953 | NNNNNNNNNNQNNNNNNNNNMNNNNNNNNQNNQNYNNTYNNNQNNNNNNNCNNNSNNMNNNNMNNNNTYNNNTNNNNSQNNSNNNNNNYNNNNNYNYNNNYS\n"
     ]
    },
    {
     "name": "stderr",
     "output_type": "stream",
     "text": [
      " 51%|█████     | 256/500 [00:27<00:20, 12.14it/s]"
     ]
    },
    {
     "name": "stdout",
     "output_type": "stream",
     "text": [
      "[254] avg_activation=-0.0918 | YMMNYSNNNTYNNSNYMNNNYNMNNSNYNNNYNNNNNNNNMYNSMNNNNNYNNNMNNNNNNNMSQNNNTSNSNNNNNNNNNNNNNNNYYNNNNNNNNNNNYS\n",
      "[255] avg_activation=-0.0939 | NNNSNNNNYNSYNNNNNNNNNNNMKMNNYNTYNNNNNNNNNNNMQNNNNNNYQNYYNNMYNDNSNNSMNNNNNYNNNNNNNNYNNNNNNYNNNNXNNYNYNN\n",
      "[256] avg_activation=-0.0986 | NSNNSNENQYNNYNNNYQNNNXMNNNNNNNYTNXYMNNNNYNNSNNNNNNNYMSYNNNSNNDNNNNNYYNNNSNNNNNNNNNNSNNNYNNESNNYYNNNNN\n"
     ]
    },
    {
     "name": "stderr",
     "output_type": "stream",
     "text": [
      " 52%|█████▏    | 258/500 [00:27<00:19, 12.32it/s]"
     ]
    },
    {
     "name": "stdout",
     "output_type": "stream",
     "text": [
      "[257] avg_activation=-0.0937 | YNNNSKNNNNFNSNNNNTNNNNSYNNNNNNNDYNNNNNYNNNNNNNNNNNNNMNNNMNYNNNNNSNNYNNSNSNNNNNCNNNYNNNNKNNNGNYYNNNNQNM\n",
      "[258] avg_activation=-0.0947 | NNNNMNNNNNNNNNNNQNNNNNXSNNNNNNNNDNNNNNNNNNNNNNNTNMNSNYNNRNNNNNNNNNNNYSNNMNNYNYNMNXTYNNNTNYNNNYNQNNNNST\n",
      "[259] avg_activation=-0.0962 | NSMNNNNNNNNNNNNNNYNNNNNKYNNTMNNKXNNNNNNNNNNYNNNNMNNNYNNXNYNNNNMNNNNNNNNNNYNNNNNNNNSNNYNNNNNNNNNYMMNMN\n"
     ]
    },
    {
     "name": "stderr",
     "output_type": "stream",
     "text": [
      " 52%|█████▏    | 262/500 [00:27<00:19, 12.52it/s]"
     ]
    },
    {
     "name": "stdout",
     "output_type": "stream",
     "text": [
      "[260] avg_activation=-0.0934 | NYNQNNMSNNNNNNNYNQNDYNYNNMNNCNNNXMNNNDNNNNNMNNYNYNNNMNYNQNNNNMNNYNNNMQNNNNMNNNNKYNNNNSNNMSMNNNNNSNNNY\n",
      "[261] avg_activation=-0.0919 | NNYNNNNNYNNNMMNNXYYYNNQNMNNNNNSYLNNNKNSYNSNNNNSNNNNNGSSNNNNNNNNMNNNNNNYNNNNNYNQNNYNNNNNNNNMNNYNSNNNN\n",
      "[262] avg_activation=-0.0979 | NNNNNNNNNKNSYNNNNYNTNNNNNQCNNYNNNNNNNNNNSSNMNNNNNYNNNNNMMMNNXNNQNNNYNNNNYNMNTNNMNNNNNNNNNNNYNNNNNNNNNN\n"
     ]
    },
    {
     "name": "stderr",
     "output_type": "stream",
     "text": [
      " 53%|█████▎    | 264/500 [00:28<00:18, 12.54it/s]"
     ]
    },
    {
     "name": "stdout",
     "output_type": "stream",
     "text": [
      "[263] avg_activation=-0.0895 | SYNNMNQNNNSTNKNNNNNNNNSNNNNNNXNTNKNNNNYNNNNNNNNNNNNNSNYNNNNYNCNMNSNNMNNKNQNNNNNNNNNNMYYNNNNNNMNNNNFNNY\n",
      "[264] avg_activation=-0.0964 | MNMNNNNNSNNYQNNNNYYTQDGNNKNNNNYNNSYMNFYSNNNNNNNNNNNNNNNPNSNNNNNYNNNNSMXSNYNSNNNYNNNNNNNNNNNNNNXMNNNNN\n",
      "[265] avg_activation=-0.0924 | YNNNNNYKYNNMMNNNNYNNYNNNNYNNNYNNNNNYYNNNNNYMMYMYNNNQNNNNNQNNKNNNNQNINNNQNNNNNNMNNNNYNNYNNNNNNNNYMNNSYN\n"
     ]
    },
    {
     "name": "stderr",
     "output_type": "stream",
     "text": [
      " 54%|█████▎    | 268/500 [00:28<00:18, 12.58it/s]"
     ]
    },
    {
     "name": "stdout",
     "output_type": "stream",
     "text": [
      "[266] avg_activation=-0.0920 | SNNNNNNXNNNNNSNNNNNNNNNNNNNNNNNNNKNKNNMNNNNNNYMNKNNNNNNMNYNMSNNNNNNNNNNNNSNNQNNSSNNNNNNYNNLNNNNNSNNNNN\n",
      "[267] avg_activation=-0.1048 | MYNNNNNVNNNNYNNNNNNMNNQNNNNMNNNNYNNYYNNTTYNNNTYNNYNNNNNNNXNKNNNNNNNNQSNYNNSNMXNNNNNNNNSNYNNXNNTNNNLNN\n",
      "[268] avg_activation=-0.0922 | NNNYNNNNNNNNNNNSNNNNNXNNNYNNNNNNNYNYNNNNNNNMNNSNNNNNNNSNNNNQMSNNYNNNNNSNNNNNNYNNYNNTFNNNNNNQNNNVNNNNN\n"
     ]
    },
    {
     "name": "stderr",
     "output_type": "stream",
     "text": [
      " 54%|█████▍    | 270/500 [00:28<00:18, 12.52it/s]"
     ]
    },
    {
     "name": "stdout",
     "output_type": "stream",
     "text": [
      "[269] avg_activation=-0.1042 | NNXNNNNNNNNMNNNNANNNNNNNNNNNNNNNNNNNNQNTSNNNMNNXNYNNNNNNYTYKNNNNNNNNNNNNYNMNNNNTXNYNNNNYNNNNNNYNMNYNN\n",
      "[270] avg_activation=-0.0961 | NNXNNQNNNASNNNNNNSSNNNNNYNMNCNYNNMMNNNSXNNNSNNSMYNNNNNNNYNQNNQYNTMNNNKYNSYNNNNNNNMNNNNXNNNNNSSNNNANNYN\n",
      "[271] avg_activation=-0.0991 | YNQNNYNNNNYYMSNKNNNNNYNNNNNNSNNNPNNNXNNNNNNYNMNMNNNKNNNNNNGNNNNNNNNNNNNSNNNYNNMNNNNSNNNSNNMNNNNNNMNNNN\n"
     ]
    },
    {
     "name": "stderr",
     "output_type": "stream",
     "text": [
      " 55%|█████▍    | 274/500 [00:28<00:18, 12.41it/s]"
     ]
    },
    {
     "name": "stdout",
     "output_type": "stream",
     "text": [
      "[272] avg_activation=-0.0988 | QNNNNNNNNNYNNNNNNNMNNNYYNNNNTNNNNNKNSNNNNNYYNNNNXNNSNNSNNYXNNNNNNNNNNKNNANNNNNYNNNNNNSNQNNNNQNNNYXMSNY\n",
      "[273] avg_activation=-0.0880 | SNMNYINNNNSNNNNCNNNNNNNNNYNNNMNNYNNNCMNNNNNNNNNYNNNNNSTNNNYNYNNNNNNNNYNNNYXNNYNMIYNENYNNNNNNNNNNYNNMN\n",
      "[274] avg_activation=-0.0892 | MNNXNYNNYXNNNNNNNNNNNNNNNXNNNYNNNNNNTMNNNNNCNNNCNNNNNNNNNTNQNNNNNSNYNNNNNYNNNNNNNNSNNNNNNNNNNNNNTYSN\n"
     ]
    },
    {
     "name": "stderr",
     "output_type": "stream",
     "text": [
      " 55%|█████▌    | 276/500 [00:28<00:17, 12.48it/s]"
     ]
    },
    {
     "name": "stdout",
     "output_type": "stream",
     "text": [
      "[275] avg_activation=-0.0947 | NNNSYSNNMQNNNNNNNNNNNNNNNYNFNNMNNNNVNYNNMNNNNNNNNNNMCNNNNNNNNNNNNNNNNNNMNNNNNNNKNNNNNNNSNNQNNNNMNNNNNN\n",
      "[276] avg_activation=-0.1045 | SQNNNDNYCNNYNNNNNNMNNCNNNNSNNMNNNNNYNNNNNSNNNNSMNNYSNNMSNNNYNTYSKNNNNSNNSNNNCSNNCXNNYNYNNNNNNNNNMNNXY\n",
      "[277] avg_activation=-0.0960 | NNNYMNNNNNNNYNNNNNNNNNSNMNNNNTNNNSSNNSNNNNIPNNNNNNNNNNNNNNYNNNNSNMNYNNNNNNSNNNNNNSNYNNMNNNNNQNNNNYNNNN\n"
     ]
    },
    {
     "name": "stderr",
     "output_type": "stream",
     "text": [
      " 56%|█████▌    | 280/500 [00:29<00:17, 12.63it/s]"
     ]
    },
    {
     "name": "stdout",
     "output_type": "stream",
     "text": [
      "[278] avg_activation=-0.0924 | XNYSNNNNNSNNNNNNNNNNNNNNNNNPNQSMNNNNSNYNNNNNNNNNNNPNCNNNNNNRNENSNNNNNNYXNNNNNFMNNNLGNTNNNXNNNNNNXYNY\n",
      "[279] avg_activation=-0.0935 | NQNNMNQNNNNNNNNNNYNNNNNSNNNNNNNNNNNYNNNNNYNNNNSNNNNRNNNNNNNGSNNNNNNYYNNNNYNMNNYNNNNNNNNNNNNNSNNNNTNNY\n",
      "[280] avg_activation=-0.0895 | NNNYNSNNNNYYNNNIYNNNNNMNNNFNNNNYNNMNNNYNNNNSNSNNNNTNNNNYSNNNYNNNNTNNNNNMNQNNSNKNMNNNNNNNNNNNCYNNNNNSNN\n"
     ]
    },
    {
     "name": "stderr",
     "output_type": "stream",
     "text": [
      " 56%|█████▋    | 282/500 [00:29<00:17, 12.68it/s]"
     ]
    },
    {
     "name": "stdout",
     "output_type": "stream",
     "text": [
      "[281] avg_activation=-0.0913 | NXNNNNMNNTYNNYXNSENSNNNNYNNYYTSYMNNNNMNNNNNNNNNNNNNSENXMNYNNMNNSNSNYNMNNYNNNMNNMYNNNNNNNNNNYNYNXNNNNY\n",
      "[282] avg_activation=-0.1012 | NNYNNYNNNSNLQXNNNNNMNNNYNNNTNNNNNQNMNMNNNNNNNNNYNNNSNNCPNMFNNYNXSNKNNNQNYNXNNMYNNNNNYNNNNNNNNNNYNMPMNN\n",
      "[283] avg_activation=-0.0908 | NMNYNNNNNNNNYNNNQNMXNNMNNNNNYNNNNNNXNNNNNNNNNMNNNNNSCNNNNNYNNNNNNMNNNNNNNNNNNNNYNNNMNNNNSNYNNNNMNSNNYN\n"
     ]
    },
    {
     "name": "stderr",
     "output_type": "stream",
     "text": [
      " 57%|█████▋    | 286/500 [00:29<00:16, 12.66it/s]"
     ]
    },
    {
     "name": "stdout",
     "output_type": "stream",
     "text": [
      "[284] avg_activation=-0.0894 | YTQYNKNNNNYNYYNNNNNNNMTYNTNYMNXNNNNNMNTQQNNNXSNNNYNNNNNAMPNMNNNNNNNNNNLNNNNNNQMNYNNGNNMNNNNNNNNNNNPNN\n",
      "[285] avg_activation=-0.1004 | MDYNNNNNMNNMNQNNNNNNNYTNQNNLNNTNNNNNMNNTNNYNNXMMCPNNYNNNNMNNNNNNSNNNNXMNNNYNNYNNNXNNSQMNSXNNNNNNXYSNNN\n",
      "[286] avg_activation=-0.0966 | NNSYNMYNSSNTNSYNNNNNNNYYYNNNNNXNYNNNNKNNNKNNSNSSNNQNNNNNNNQNNNTNNNSYNNNNNNMNNNMFNNYNFNNNNNNSNNNNNYQNY\n"
     ]
    },
    {
     "name": "stderr",
     "output_type": "stream",
     "text": [
      " 58%|█████▊    | 288/500 [00:29<00:16, 12.61it/s]"
     ]
    },
    {
     "name": "stdout",
     "output_type": "stream",
     "text": [
      "[287] avg_activation=-0.0964 | NYNNNQTNNTNNNNNNNNYNNNANSNNNYNNNTMNNNKNNNSTNTNMNNNNNNNNNNNNNNNNNNSNNMNNNNNNNMNYNNQFXSNMNMNSNSNSYMEMNN\n",
      "[288] avg_activation=-0.0987 | YMNNTNNNNNNNNNTNNNYNNNSEYNNNNNNNNNMNSNNMNNNNNNNNSSNPNNNNNSSNQNNYSYNNNNNNNNMNNNNNANNQNNNNNNNNCMNNNNNNNN\n",
      "[289] avg_activation=-0.0949 | NXNYNNNNNSNMNYNNNNYMNYNNNNNNNNYQNNNNNNNNNNNNYNNNNMMNENNNMNNMNNMNQNSMANNSNNNNYKNNNQNNTNNNSTNNYNYNXYQNAT\n"
     ]
    },
    {
     "name": "stderr",
     "output_type": "stream",
     "text": [
      " 58%|█████▊    | 292/500 [00:30<00:16, 12.59it/s]"
     ]
    },
    {
     "name": "stdout",
     "output_type": "stream",
     "text": [
      "[290] avg_activation=-0.0964 | NNNNYXNNNNNNNNNNNYMNNNNQNNNNNNQYNNDNNNNNNYNNNNMNNSNNNKNNMNNNTNNNMYYNNNNTNQNNPXKNNNNYMMNNKNYNNNNNTNNNNN\n",
      "[291] avg_activation=-0.0939 | NMNNNNYYNNNNNNNYNXNNNNNNNNMYNNQXNNMNYDYNINNYNNNNSMNYNMNNNNSYNXNNNMMNQNNNNNNNNNQNNNNYNNNYKNYNMNMNNNPTNN\n",
      "[292] avg_activation=-0.0954 | MYYNNNNNNSNNNNNNMNNNNMNNSNNNMGNSNNYNNNNNNNYXNNQNSNNNNMNNNNNNMNNNNNNNNNNSSXYNYMNNNNNNYXNNNNNNYYNNNNNNNN\n"
     ]
    },
    {
     "name": "stderr",
     "output_type": "stream",
     "text": [
      " 59%|█████▉    | 294/500 [00:30<00:16, 12.61it/s]"
     ]
    },
    {
     "name": "stdout",
     "output_type": "stream",
     "text": [
      "[293] avg_activation=-0.0947 | NNYMMNNNNNSTNSNYNNNNNNMYNNYNNNISYNNQNNSMNNNNNNNNYYSYMNNYNDYNNPYNYNNNNNYYNNNQNNNNNNNQYNNNYNNNNNMYNNNNNN\n",
      "[294] avg_activation=-0.1010 | YYYSNNTNNSNNCNNNNNNNMNTNTNANYNNNSNNYMNNNNNNNNNNNNNNNPNNNNMNPNNNMNNYNNQNSSSMNSNMNNNNNNFNNNYNMTNNNYQNNNN\n",
      "[295] avg_activation=-0.0977 | SNNLENNSNNNNMQMNNNNNNYNNNSNNNNNNCNYYNNTNNSRNNNNQSMNSNNTNNCNNNNNNNYPNXNQNNNNNNNNNNNYNNNNNNNNNNNNNNNYNNN\n"
     ]
    },
    {
     "name": "stderr",
     "output_type": "stream",
     "text": [
      " 60%|█████▉    | 298/500 [00:30<00:15, 12.67it/s]"
     ]
    },
    {
     "name": "stdout",
     "output_type": "stream",
     "text": [
      "[296] avg_activation=-0.1002 | NNYNNNNNNNNNNNMNXNNMNNMMNNNNMNNNNNSNNCNNNNNQNNSNYNNNPNNNNNNNXNNNNYNNNNGKNNNQNYNMNNSNNYNNNNNNNNNNNYQMQ\n",
      "[297] avg_activation=-0.1025 | NNNYNNNNMNNNYNNMNMYNNNNNSNNNNNNNYNSGQNSNNNNMNNNNNYTNNNNNSNNSNNNQNQSNNTNNNXNNNYNNSNNNNNNNMNNNNSNNYNMXN\n",
      "[298] avg_activation=-0.0985 | YNMMNNNNQNNNYNNNNNNNNNNNNNYNPNNNNNNNYNYNNNNNNNYNNNENYNXNNNNNSMNNNNNNNNNNNMNNNYNNNSNYNNSNNNNNNNDNNSMNM\n"
     ]
    },
    {
     "name": "stderr",
     "output_type": "stream",
     "text": [
      " 60%|██████    | 300/500 [00:30<00:15, 12.68it/s]"
     ]
    },
    {
     "name": "stdout",
     "output_type": "stream",
     "text": [
      "[299] avg_activation=-0.1012 | YYNNNQNNNNNNNTNNMNNNNYNNNNNNNLNYNNNNNTYNNYYNNNNNNNNNYNKYNNNNYNNNNNNNNNNNKMSQNQNNNNSNNNYNAMMNNNNMNYNMN\n",
      "[300] avg_activation=-0.0959 | NMYNNYYNNYNNNNNYNNNNNNTNNNNNNNNNNNNNMNNNNNNNNNNSNNSNNNMMNQNNNNNNNNSNNNNSNNNNNNNYSXNNNNNSNNNNYNNNNNNNY\n",
      "[301] avg_activation=-0.0913 | NYQNNYNNNNNNTNNNNRNNNNNPNNNNDNNNNNNNNNNNNNNSNNNNMQMNMNNQYXNNNXNSMNNYNNSNMMNNNMNANMNNNNYNNNNNNNNNNNNYM\n"
     ]
    },
    {
     "name": "stderr",
     "output_type": "stream",
     "text": [
      " 61%|██████    | 304/500 [00:31<00:15, 12.67it/s]"
     ]
    },
    {
     "name": "stdout",
     "output_type": "stream",
     "text": [
      "[302] avg_activation=-0.0972 | NNNYNPNNNNNNMNNYNXNNNNYNQNNNNNNNNNNNNNSNNMNNYNNMMNNSNNNNSNNMMNQQNNSNNNTQNKQYYNNNNNMNNNQNNMNNNNNNNCNNN\n",
      "[303] avg_activation=-0.0889 | NNNNMNNNXNYNNNNNNNNNNNNNNMNNNQTMNNNAYNQNNNNNSNNNSSNNNNNNNSNNNNNNNNYMNNNNXNNNYMNNNNYNMNNNINNMMNNNNNNNNN\n",
      "[304] avg_activation=-0.0908 | NNNNYNXNYYNNNNNNNNNSNYNNNNNNNNNNNYNNNNQNKSNNNSNNNNNNTNANNNNNNNNNNXNNYMNMYNMNNYMNNYNNNYNNSKNNNNNSNNNNNS\n"
     ]
    },
    {
     "name": "stderr",
     "output_type": "stream",
     "text": [
      " 61%|██████    | 306/500 [00:31<00:15, 12.61it/s]"
     ]
    },
    {
     "name": "stdout",
     "output_type": "stream",
     "text": [
      "[305] avg_activation=-0.0972 | NNNNYNNNYNQNNNDNNNSNNMNNNNYNSSNYNYNNNNNSSNNNNNNNNLNNNNNTNNNNYNNNNNNNNNNMNYNNMMNXNNNNQNNNKMNNNNCNNNYMN\n",
      "[306] avg_activation=-0.0945 | NNNQNNYNNNNNNNNNSNNNKNNEMNMNNNNNNNNNNNYNNYYQNNNNMNNNYNNNYTNNNNNGYNNNNNNNSMNNNTSNNNNYNNNNYNNNNNYSNYNNN\n",
      "[307] avg_activation=-0.0990 | NNQNNNNYNNNNNNNNYNNNNNNNNXNNNNMNNNQYMNNNNTQNNKNNYQNYLSNYMNNNNNCGNYNNNNNNSSNNNSYNNSNNNYSSSMNNSSNMNNNNNN\n"
     ]
    },
    {
     "name": "stderr",
     "output_type": "stream",
     "text": [
      " 62%|██████▏   | 310/500 [00:31<00:14, 12.68it/s]"
     ]
    },
    {
     "name": "stdout",
     "output_type": "stream",
     "text": [
      "[308] avg_activation=-0.1013 | NNNQYNNNNNNNYNNNNNNNQNYNSNNNSNNNNNYNNNYNNYNNNMNNNNYNNYYNNYSNMSNNNTNNNYNNNNNNXNNNNTNNNSNNNNNNNNNNNKNNN\n",
      "[309] avg_activation=-0.0939 | NNTKNYYTMNNNMNNNNNNYNQNNNNNNNMNMNNNNNYSNNNXNNNNYMNYYTNNNNNNNYNNNNNNNMNFNSQNNNNYNNQNMNNNNYNKNNNNXYNNNN\n",
      "[310] avg_activation=-0.0960 | MYSNMNNSNNNNNNNNNNYNNNSNNYNNMSYNXSNNNCNNNNNNGNNNYNNNNMNNNMNNYNYKNYYYPNNNNYYNNSNNNNNNNNYMNNNNNNNNNNNNNN\n"
     ]
    },
    {
     "name": "stderr",
     "output_type": "stream",
     "text": [
      " 62%|██████▏   | 312/500 [00:31<00:14, 12.60it/s]"
     ]
    },
    {
     "name": "stdout",
     "output_type": "stream",
     "text": [
      "[311] avg_activation=-0.0931 | NNNNSNNNNYNNYNMNNSGNSTNNNNNNYNTNSSNNNMMNNNNNNNNCNNSNTYNNMNYNMNYNNGNNNNNNNKNNNNQSMNNYNMMNQNNNNSNNNSNYMY\n",
      "[312] avg_activation=-0.0923 | NNMNNNNNNYNSNYNNNNNMNNNNNNMNNNNNNQYNNNNYNNSNNSNNYSTNNNNNNYMNNNSYNTNNNNNNMNNNNMNNNNSNNNNNMNNYYYSNNNMNN\n",
      "[313] avg_activation=-0.0900 | MSNQYNNNECSNNNNYNNSNYSNNNNNNNNYNNNNYNNNTNSNNSNNYNYTPKNNMNYNNNNNNXTNNNNNNNYNQNNNNNYYNSNNMNNNNCNNSNNNSNY\n"
     ]
    },
    {
     "name": "stderr",
     "output_type": "stream",
     "text": [
      " 63%|██████▎   | 316/500 [00:32<00:14, 12.53it/s]"
     ]
    },
    {
     "name": "stdout",
     "output_type": "stream",
     "text": [
      "[314] avg_activation=-0.0940 | NNKNQNNNNMMMXQNNKXQSNNNNNNNQNNNNNYYMNNNYNANNNNYNNNCRNNNNNSCNNNNYNTNNNNNMNNQNNNNTNNNNNMNNNNNNNNXNNNYY\n",
      "[315] avg_activation=-0.0917 | PNNNMANNNNNNYNNYSNSNNNXNNNNYNNNNNNNNNNNYNYNNTNNNNDMNNNYNNNNNNQDNNNNNSNNYNXMNKYNNYQNNNMYNTMNMNNNNNSNNN\n",
      "[316] avg_activation=-0.0936 | SNNMNYNYNNNXNYNNNNNLNNNCNNNNNSSYNNNQYYNNNNNMNNNNYNNNSNNNNSNNYNNYNNNNNNCYNNNNNNNNNNSQNSSMNYNYNYNNNSNNNY\n"
     ]
    },
    {
     "name": "stderr",
     "output_type": "stream",
     "text": [
      " 64%|██████▎   | 318/500 [00:32<00:14, 12.58it/s]"
     ]
    },
    {
     "name": "stdout",
     "output_type": "stream",
     "text": [
      "[317] avg_activation=-0.0923 | MSNSNNNCMNNTNSNNNNSNMFNYNNNNNNKNNNTNNNYNNNNSQNNNNNYNNNNNNSNNNMNNSYYNNNNNNNNNNNNNFNNNNNNNNNNSYYNNYSMINN\n",
      "[318] avg_activation=-0.1033 | NNYNNNNNTNYNNSNYNNNSMNNNCNKNNAMQNNNNNNNYPQYNNNYNNSNNMNYSMSNNNNNNNNNNNNNYNNNYNNNNQNXNNNQQQNNNNNNMNNMXN\n",
      "[319] avg_activation=-0.1026 | NNNNNTNNQNMNKNNGNNNNNNGSNNNNNMNNTTNNQNQNNNNYNNNNNNYNCNTNNNXNNLMNNNNTNMNNNNSYENNNXNNNNNNNNNNNNNNNNSMYN\n"
     ]
    },
    {
     "name": "stderr",
     "output_type": "stream",
     "text": [
      " 64%|██████▍   | 322/500 [00:32<00:14, 12.61it/s]"
     ]
    },
    {
     "name": "stdout",
     "output_type": "stream",
     "text": [
      "[320] avg_activation=-0.0978 | MNNYMTNNNNNNNMNNXNNSNNNNNLYNKNMNNNNNNNQYYNNNNNNNNMNNNNSNNNNNNNNNNNYSFNNNNNNNYNPNNNNNNNNNNPNNNMASNNMNYN\n",
      "[321] avg_activation=-0.0912 | NNNNNINNNSMNMNNNNNNKNNNNNNNNYNNNNNXNNNYTDQYNNNYSNKNPNNNMNYNNMNSNMNNNNYNNNNNMYYNNNSYNNNNNNNLNNNNNNNNYNN\n",
      "[322] avg_activation=-0.0960 | YMNNSNNYNNNTMNNNNNNYYNNNNNNNNNNNNNQNNNYNNNNMNNNNMNSNYNNNNNNNNNNNNNMNNNNNNYNNNNYNNNNNNMNYYNYNNPNNNNNNS\n"
     ]
    },
    {
     "name": "stderr",
     "output_type": "stream",
     "text": [
      " 65%|██████▍   | 324/500 [00:32<00:13, 12.62it/s]"
     ]
    },
    {
     "name": "stdout",
     "output_type": "stream",
     "text": [
      "[323] avg_activation=-0.0942 | NNNNYNNQNNYNNNYYSSNNKNNNYNNNNNNNSYNNDMNNNNNNNNNNNNNNNNNNNNMNMYNTYTNNNQTNNNNNNNNYNNNNNNNNSNYNSNNNMSNMTN\n",
      "[324] avg_activation=-0.1002 | MNNNNNYNNNSQYNYYNNNYDNNNKNNNNNNNNNNNNNNNNNNMNNNMYMNNNNNNTYYNMYNNMNNNNYXXNNNNNNNNNNSMNNSNYNNNNNSYMNNNYN\n",
      "[325] avg_activation=-0.0990 | NNSNNNNNNMNXNNNNNNNSNNNNNNNNNNNNQSNSNNYYNNNNNNNNNYNNNNNYNNNNNNNYNNNNNNANNNNNMNNNNNNNNDNYNNSNNNNKNTMNNN\n"
     ]
    },
    {
     "name": "stderr",
     "output_type": "stream",
     "text": [
      " 66%|██████▌   | 328/500 [00:33<00:13, 12.67it/s]"
     ]
    },
    {
     "name": "stdout",
     "output_type": "stream",
     "text": [
      "[326] avg_activation=-0.0907 | NNXNNNNYNDNNMYKYNNNNNNXNNNNNYXNNYNNNNNNNNQSNSNNXNMNNLNNYNMNNMNMNNNSNNNNNNNNNNTYNNNNNNNNNYMNNNVNNKNYYNN\n",
      "[327] avg_activation=-0.0967 | NNYNNNNNNNYNNNNDNNNNNKNNNFSNNNNNMNSNYNKYNQNMNNNQNNNNNNMNYNNNNNXRMNNNNYNNNXNNNNMNYXNYNNNDNNNNNNNNNYNSYN\n",
      "[328] avg_activation=-0.0949 | ANNNNNQXNNNNNNNYNNNYNNNNNNNNNNNMSNNNNNNNNMNNNTSNNVNNNNNNNNNNNNNCNNXSNNMSNNNNYYNNNNNNSNXMNXNYNNNNFNNNNN\n"
     ]
    },
    {
     "name": "stderr",
     "output_type": "stream",
     "text": [
      " 66%|██████▌   | 330/500 [00:33<00:13, 12.55it/s]"
     ]
    },
    {
     "name": "stdout",
     "output_type": "stream",
     "text": [
      "[329] avg_activation=-0.0934 | NNNMYNYNYNQNXNYYNNNYYQNNNNQNNMSNNNNPNNNNNNNNNNNNNYMNNNNNNYNNYSNNYNNNYNNYNNNNNNNNNNNNNQNNNMNNNNNNNNNNMN\n",
      "[330] avg_activation=-0.0966 | NMKNNNNNNNYNNNYQYNVXNNNNQNYNSNYXNNNNMNMNNNNNNNNNYNNYNNNNNNNSNNNNNNNNNNSNNNNNNNQNNNNNNNYNNINYNNNTNSNMNM\n",
      "[331] avg_activation=-0.0901 | NNNNNNNNYNSNNNNNNSNYCNNNNQNNNNNYNNNNSNNNNNNNNMNNYCNYNXMNNNNNNNNNNNNQNNNNNSNNMQNNNNNNNNNNNNMNNNNNNNNNNN\n"
     ]
    },
    {
     "name": "stderr",
     "output_type": "stream",
     "text": [
      " 67%|██████▋   | 334/500 [00:33<00:13, 12.69it/s]"
     ]
    },
    {
     "name": "stdout",
     "output_type": "stream",
     "text": [
      "[332] avg_activation=-0.1009 | NNXNNSNNKNNQNXNSNNNNNNNNNNNNNNYMNSNNNMNNNMNYNNNTMNYNNNMNNNFNNNYNNNNKNNNNNYKYNNSCNNNNNNNNNNNYFNYNNANXNN\n",
      "[333] avg_activation=-0.0901 | NNPNNSNNTNNNNNNNNNMNNNNNNSNNNNNSNNNSNNNKNNNNNYNNNNMKNNNNYNNNNYNNNMNNNMNNNNQNNNQNYNNSNNXNNNNNNNSNNNNSYY\n",
      "[334] avg_activation=-0.0970 | MQNYYNNNYNNNNNNNSQNNNYNNNYNNNNNNNNNNNNNNNNNNNYNNYNNNNNNKNNSTNNNNNNNNMNNNNNNYNNYNYNMNYYNNNNMYNNNNNNNQNN\n"
     ]
    },
    {
     "name": "stderr",
     "output_type": "stream",
     "text": [
      " 67%|██████▋   | 336/500 [00:33<00:13, 12.56it/s]"
     ]
    },
    {
     "name": "stdout",
     "output_type": "stream",
     "text": [
      "[335] avg_activation=-0.0956 | MNNPMNNNNMYNNNNNNNNSNNNSNSNRNNQNMMNNNNNXMSNNMNNSNNNNMNNNNNMNNNNNNNKNNNNQMMNNNNYNNNTNYNNNNNNMNNPNNNNN\n",
      "[336] avg_activation=-0.1023 | MWNNNNNNNNSNSNNYNNSSNNNNNNXNENNNGNKLNNNNNSKNNNNNNMNNNYNNNNNNNNNNNNNMNYSMNNNTTNYNNKNNNMNNDNNSNNNNNNNQN\n",
      "[337] avg_activation=-0.0975 | MYYNSNNNNNNMMNNNNNNNMNNNNNXNNNNSYNNNYNNNKNMNQNYNAMNNMNNYMNNQNNNNNNNTNQNNNNNNNNNMMNNYNNNNNQNNNNYQMNNNNX\n"
     ]
    },
    {
     "name": "stderr",
     "output_type": "stream",
     "text": [
      " 68%|██████▊   | 340/500 [00:34<00:12, 12.59it/s]"
     ]
    },
    {
     "name": "stdout",
     "output_type": "stream",
     "text": [
      "[338] avg_activation=-0.1070 | NSNNNYNNQNKMYNSXNNNNNSNNNNNNNNSNNXNNNNNNNMNNNMNNNNSANMCSMNNYYNNNNNSNNNMYSNNNNNNYNKNNNNNNYNNNNNNNNXNNN\n",
      "[339] avg_activation=-0.0921 | NNNNNNNNQNNNMTNNNNNNNYNYMNNNNYNNNSNNNYNSNNNNNNNNNNTTSNNYNNPNNNNNNNNNNNMNNENYYNNNNNNYNNYNYYNNNMNKNSNNN\n",
      "[340] avg_activation=-0.0969 | SKNSNNNNNNYYNYNNNRNNNNNXNNNNNNNNNNKNNNNNNNNNNNNYXNNNNNNNNXNNNMNYNTNNNXNNNNNNNNNNTNSNSNNNSNNYYGNXNNNENN\n"
     ]
    },
    {
     "name": "stderr",
     "output_type": "stream",
     "text": [
      " 68%|██████▊   | 342/500 [00:34<00:12, 12.65it/s]"
     ]
    },
    {
     "name": "stdout",
     "output_type": "stream",
     "text": [
      "[341] avg_activation=-0.0966 | YSNNYNMYNYNNNNNYNNNNGNNNANNNNSNNNNNNNNYNSNNNNMQSNNNNNNNNYNYNXNNDNNNMNFSNNNNNNNCXNNNNANNNNYNNNNNMNNNNN\n",
      "[342] avg_activation=-0.0927 | NNYNNNNNNNNNNNNMNYQNNNNNNNNMYYMNNNYYNNNNNNYNNNNMSMMNMNNYNKNNXNNNNNNNMNNNNNNYMNYNNNQNNNNNYNYMNNNNNXSNN\n",
      "[343] avg_activation=-0.0939 | NMTNYSNNNNNNNNNNMNNFNSNNNNNNNYNNNNNNNNKNNNNNNNNNNNNNNYNNNNKMTNXNNNMNMNMNQNNNNETNXNMNNYXNNNNYNNNNNNNXS\n"
     ]
    },
    {
     "name": "stderr",
     "output_type": "stream",
     "text": [
      " 69%|██████▉   | 346/500 [00:34<00:12, 12.64it/s]"
     ]
    },
    {
     "name": "stdout",
     "output_type": "stream",
     "text": [
      "[344] avg_activation=-0.0944 | MYYXMNNNNNNNNNNNNNCSNSYNNNNYNNNNNYNNNNNYENNNNNANYNNLNNNNNNNNNSNNNNNLNNNMNNNNNYSNMNXNNNYMMNMMNSYMNMANNN\n",
      "[345] avg_activation=-0.0832 | YNNNNNNNNMNNNNYNSYNNNNTYNTNNNNNNNNNNGYNNNQNNNNNNNNNNNPNNNYYSNNMNNNNCSNNNNYNNNNNNKNYYNNNNNNQNNNNNSSMQNN\n",
      "[346] avg_activation=-0.0935 | NNNNNYNNNMNNNMNNYNANNNNNTNNNNNNNNNNSNNNNSNQCNNNSNNNNMNNNNTDNMSSNNANNNNSYNNNYMNNNNTNNNNNYNNNNNNMXNNNNN\n"
     ]
    },
    {
     "name": "stderr",
     "output_type": "stream",
     "text": [
      " 70%|██████▉   | 348/500 [00:34<00:11, 12.67it/s]"
     ]
    },
    {
     "name": "stdout",
     "output_type": "stream",
     "text": [
      "[347] avg_activation=-0.1015 | CNNXNNNNYNQNNNNNNNYNNYNNNNNNNNNNNNTYNNINNNMNYNNNXYMSNNNXNNNYTNYYNNMNYNNNSMNNYNNNNNNMNNYNSNNYYNNNQANNN\n",
      "[348] avg_activation=-0.0954 | NNNNNYNNSNNNNNNMNYNTNNNYNNNNNNNNNMNYMCNNNNSNNSNNNNNNNNLNNMYSNNNSNNMMNYNNNMNNNNNNNYNNSNNNQTCNNNNNNNNNNX\n",
      "[349] avg_activation=-0.0950 | NXNNNNNKTYNMNNNTSNNNYNNNYMNNNNNNSENNNNNQNNNNNNNSNNNNNKNNMNNANMNNXNNNNNNNMNGNNNNYNNNYNNNNNNNNNNNNNPYQN\n"
     ]
    },
    {
     "name": "stderr",
     "output_type": "stream",
     "text": [
      " 70%|███████   | 352/500 [00:34<00:11, 12.66it/s]"
     ]
    },
    {
     "name": "stdout",
     "output_type": "stream",
     "text": [
      "[350] avg_activation=-0.0973 | MNNSQNNNNYNSPGNNNNNNNTNNNNSNNSSQNNMSNNYNNNNSNNNNNNNNNNNXHKNNINNNNNNMNNNSANNNYNYNNTNNNSNNNNNNTYYNMNQNN\n",
      "[351] avg_activation=-0.0947 | MNSNSNNNNNNSNQNNYNNMNMNNNYNNNNNNTMNNYQNNNNNNMNQNNNSNNNESNQNNNNNSNYNPNYNSSNNNNNXNYNXNNNYNNNNNNNNNNNNYMN\n",
      "[352] avg_activation=-0.0972 | YNNNNNNYNPNYCNNSNMNYNNNNNNNMYNMNNNNSYNNNNMNNDSNNNNYNFNQNNNNNNYGMNNNNNNNNNNNYNNLMTNNNFNYNNYQYNYNNNNNNS\n"
     ]
    },
    {
     "name": "stderr",
     "output_type": "stream",
     "text": [
      " 71%|███████   | 354/500 [00:35<00:11, 12.63it/s]"
     ]
    },
    {
     "name": "stdout",
     "output_type": "stream",
     "text": [
      "[353] avg_activation=-0.0964 | MNNNNYNQNNNNNNNXTNNNYNNNNNNNNNMNTNYYNQYYNNNKNNNNYNNNNMMNSYVNNNMMNTSYNNTNNNNNNNKYNNNXNYNNNNNNNNNNNYNNN\n",
      "[354] avg_activation=-0.0985 | NNNNNYYQNSNTNNNNNNNNNSNNNNMNNYYYNCNYNNNNNMNNNNNYSNANNNENNNMNNNYNMMYNLSSNMNGNNMANNNNNMNMNNNNXNNYNNMSKNN\n",
      "[355] avg_activation=-0.1067 | NXNMNNCNNNTNNNNSNQNNNNNESNNNNNNNNNNNNNSNNNNNNNNQPYNPMNNNNXNNXNNNNNTNYNNXNNXNNNNMNSNXNNNNYNXNENQNNYMNN\n"
     ]
    },
    {
     "name": "stderr",
     "output_type": "stream",
     "text": [
      " 72%|███████▏  | 358/500 [00:35<00:11, 12.64it/s]"
     ]
    },
    {
     "name": "stdout",
     "output_type": "stream",
     "text": [
      "[356] avg_activation=-0.0980 | NNNNNNNNNYMNFKNYNNKNNNNNNMNNNSTANNYYNNSNSNNNNPNSNNNNNNNMNNYSNNNNNNNNNNNYNYNNNXNNNNNNNNNSYMNNNNNYSNNMNN\n",
      "[357] avg_activation=-0.0926 | YYYMNKNNNTMNNNNNNSMNNCNSNNNNNNMNNSNQNXNNNXNNNSNNMNNNNNNNNNNYNNNNNNYNNYYNNNNNCNNNNNNNNNNNNNNYNNNNYNNMN\n",
      "[358] avg_activation=-0.0978 | NTNNYNNYYNNNMNNDNNNXGNSNNYNNNNNMXYNNNMMNNNLNNNNSNNNNCNYNXNNNNTMTDMNNNNSYNTNSNNNNNQNTYDNNNYNNNNNNNNNLSY\n"
     ]
    },
    {
     "name": "stderr",
     "output_type": "stream",
     "text": [
      " 72%|███████▏  | 360/500 [00:35<00:11, 12.62it/s]"
     ]
    },
    {
     "name": "stdout",
     "output_type": "stream",
     "text": [
      "[359] avg_activation=-0.0891 | NNMNNNNMMNNNKYNMNNQNNNNSNMYNNGNQNSNNNNNNNNTYYNNNNNNMNNNDNNNNNMYNNNNMYNNNMKYSYNNNNNNNNNNNNNNSMNSYNNMNSN\n",
      "[360] avg_activation=-0.0961 | NNYTNNNNYNNYYNNXNMNNNNNNNNNNNNNNTNYNYNTNNMSNNANNMNNNNQMNNNNCNSNNNNSNNYNSNNKNNNMNYNYSNQMNNNPNNNNNNNNNMN\n",
      "[361] avg_activation=-0.0970 | NNYNNNYSNNNSNSNNMNNYQNMNYNYNNNNSNNNMHPNVMNNNYNNNNNTNNCNMYNNNNSNMNSSNNNNNNNNQMNNNNNNNNYTNYNNNYNNNNNNQNN\n"
     ]
    },
    {
     "name": "stderr",
     "output_type": "stream",
     "text": [
      " 73%|███████▎  | 364/500 [00:35<00:10, 12.66it/s]"
     ]
    },
    {
     "name": "stdout",
     "output_type": "stream",
     "text": [
      "[362] avg_activation=-0.0971 | NNSYYNNNSMNNLNENNNXNNNNNNSNNNNNNMNNNNNNYNNYYNNNSNYNQNNSNNNNSNNNNNXNYNNNNNNMNNYNYNNYNYNNNNNNNNTNNNNMNNN\n",
      "[363] avg_activation=-0.0898 | MNSNNNNMSNNNSXMNNNNNNNNMNNNNNNNNNNNNNNKNNNNNNQNNNNNTNNNNNNKNMNNNNNNNNNNQQYYNMNNNNNNNNNNNNTNNNNNSXNYNN\n",
      "[364] avg_activation=-0.0985 | YNNNNMNNQNNNQNNSNNYNNYSNXMNNNYKNYNNYTYNYNNNNNNNNYNNNNNNYNNNSMNYNNNNNQNNNXNNNNNNNNNNXNNNNNNNNSNYNNNNNNN\n"
     ]
    },
    {
     "name": "stderr",
     "output_type": "stream",
     "text": [
      " 73%|███████▎  | 366/500 [00:36<00:10, 12.63it/s]"
     ]
    },
    {
     "name": "stdout",
     "output_type": "stream",
     "text": [
      "[365] avg_activation=-0.1012 | NKNNSNNNNYMMSKYXYMYNNNSQNNNNNNNYNNYNNMNNNNNNNNNNNNNNQYNNNNNXNSNNSNNNMNNMQNNYKNNYNNNNNNNNNNNNYNMNNNNNY\n",
      "[366] avg_activation=-0.1000 | GGYNNNNNNNQNXNYNNNNNNNNNNNNNNYSNNNNNNNNNNYYNNDNPNNCSNNNNFNNNNNNNLYPNNSYNNNNNNNKNNNNNNXNNNNNNQKYNSPNNNN\n",
      "[367] avg_activation=-0.0995 | MNNNNYTNNSANNYNNSNNNMQNNNMNNMNNNNNNNNNNNNNNNNNSNYNNNNNXKNXSSYKSNNNNMNNNNSNYDNNNNNYNNNNNNNNNNNQNNNSNNY\n"
     ]
    },
    {
     "name": "stderr",
     "output_type": "stream",
     "text": [
      " 74%|███████▍  | 370/500 [00:36<00:10, 12.45it/s]"
     ]
    },
    {
     "name": "stdout",
     "output_type": "stream",
     "text": [
      "[368] avg_activation=-0.1046 | NNNYYNNNQGMNNNSNNQMNTNYNMNNSNNNQNNNNNNNNSNNSNNNPMTNNNNNNNNNNNNNNNMMNTNNNNNNNYNKTNQSNNNNYNNNNAYNNMNXNN\n",
      "[369] avg_activation=-0.0885 | NMYNSNNNNNNXNNNNNNNMNNNNNNNNNNNNNNNNNNYNNNNNTNNNNNYNSNNNNNNNNXNMSNNNNNNMNTYNNNNXNNNNNNNNTSNTNNSNNNSNNM\n",
      "[370] avg_activation=-0.0917 | NLNNYNNNYNXNYMNNXNNNNNYNNNNNNNNMNNNYNNNNNPNMNNNNMNMNNNNNNNNNNNNSNNNNSNNQNNNNFNMYNNNMYNNNNNNNNNNNNNNGNN\n"
     ]
    },
    {
     "name": "stderr",
     "output_type": "stream",
     "text": [
      " 74%|███████▍  | 372/500 [00:36<00:10, 12.46it/s]"
     ]
    },
    {
     "name": "stdout",
     "output_type": "stream",
     "text": [
      "[371] avg_activation=-0.0966 | NNNNNNNNNNNNNNNYNNNNNYNTNYNNNNNNNNNYNYTNNNNNNNNNNMNNMYQYNNNNMPNNNNNNNNNNTNNSNYNMYNNNNNNMSNNMNNNNNNNNMN\n",
      "[372] avg_activation=-0.0965 | SNNNMMYNYNYNNYNNMNNNNNYNNNMYNSNNNNYLMNXNYNNNXNNNNXXNNNYNNNNMNNNMNMNNNNMNNQNNNNNNNNNNNSNNNNNNNTMQYSNNYQ\n",
      "[373] avg_activation=-0.0923 | NNMNNNNNNNNNNYNSNNQNNNSNNNNNVNNNNNNSSNNNNKNNNNNNNNNNMNYNNNNNNNNAYNNSNNNLYYNMNNTSNNSNMNNNKNNNNSYMNNNSNS\n"
     ]
    },
    {
     "name": "stderr",
     "output_type": "stream",
     "text": [
      " 75%|███████▌  | 376/500 [00:36<00:09, 12.49it/s]"
     ]
    },
    {
     "name": "stdout",
     "output_type": "stream",
     "text": [
      "[374] avg_activation=-0.0836 | NNNQNNNNNNNQNNNNINNNSLNNSXNMNNNNMYTNNNNNYNNNNNNNNYNNNNNNNMNNNSNNXNNNNNNNNXNNNNNYNNNNYNNNNYNNNYNNKQQMNS\n",
      "[375] avg_activation=-0.0969 | NNNNNNNNNNNXNNNNNNNNNNNSSXYNNNNNNANMNNXGNMINNNNNCNNNNNNXNNNNNNNMTMNNNNNNNNMCNTNNNNNNNNNNNNNNNNNQNNNNNN\n",
      "[376] avg_activation=-0.0957 | MNNYNNNNNNNNNSNYNNNNMYNNNNNNANNYNNNNNNNKNNNNNNNNYSVNNKNNYNNNNYNNYNNNNNNXQYNNNNNKNNFSDNNNMNNNKSNNNNYYN\n"
     ]
    },
    {
     "name": "stderr",
     "output_type": "stream",
     "text": [
      " 76%|███████▌  | 378/500 [00:37<00:09, 12.49it/s]"
     ]
    },
    {
     "name": "stdout",
     "output_type": "stream",
     "text": [
      "[377] avg_activation=-0.0970 | MNNXNNNNNMYYNNNSNNNSNNNNNNNSNMYNNSNNTQNYSNNYNMSMNNMNNNSANNNNKNMNYNNNMYNNESNNMNNNNNMNNNYNDNYNPNNNNNNNSM\n",
      "[378] avg_activation=-0.0962 | NSNNNMYNNNNQSNNNNNYNYNNNNNNNNNNMMNNNYNNSMNSNNYQNSNNNNYPPNNMMMDNTSNNQNNNNYNMNSNNNNNNNNSNTNNNNDNNNNNNNNN\n",
      "[379] avg_activation=-0.0920 | MSMNNNNNNMNNNNNNNNNNNTSCMNNYNSNNGMNNNNNXSNNNNNNNNNSMSNNSNNQNNNNNENNNNYNNNNXNNNYSNNNNYNNNNQNNNNNNNSTNTN\n"
     ]
    },
    {
     "name": "stderr",
     "output_type": "stream",
     "text": [
      " 76%|███████▋  | 382/500 [00:37<00:09, 12.63it/s]"
     ]
    },
    {
     "name": "stdout",
     "output_type": "stream",
     "text": [
      "[380] avg_activation=-0.0996 | YKSNMNXYNNNNNNYNNNNNNNNNYYNNFNSNNNNNYNNNNYNNNNNNNAYNNNNMNYNNMNNNNYNNNNQMNNNMNNSXYNNYNNNNSQNNNENKNNNNNY\n",
      "[381] avg_activation=-0.0963 | QNNNYPSMYNNNNNNNSNNNNNNNNNYNNNNMMNANNNNNYSNNNSNNNQNNNNNNNNNNXNNNNMNNNNNMYNANYNLNNNNNNMNKNNNNSNNYNNYXN\n",
      "[382] avg_activation=-0.0957 | NNPNNQSNNNNNNNMNQYNMNNAGNNNQNNNNNNNNSNNNNNNNNNNXNNNMCNNNKYNNYMNNCNYYMNYNNNNSNNNNNNNYNNNNNNNNTNNENNNNNN\n"
     ]
    },
    {
     "name": "stderr",
     "output_type": "stream",
     "text": [
      " 77%|███████▋  | 384/500 [00:37<00:09, 12.60it/s]"
     ]
    },
    {
     "name": "stdout",
     "output_type": "stream",
     "text": [
      "[383] avg_activation=-0.0882 | YMNNNNNNNNNNSNNDNNNNNNNSNNNNNNMNNNNNNNNNNMNMNNNNNYNNNYNNNNNNQNNNPNNNNNNYNSNNYPNQNQNNNNNINNNNNYSNSYNXNM\n",
      "[384] avg_activation=-0.0962 | NNNPNNNNNNGNNYNNNTSNNNYSNNXNCNNNNNNNNNNNNNNNNNNNNNNYNGNNNNNNNNNNSNSNNNNNNNYMYYNYNNNNNYNNNNNNNNNNGMNNSM\n",
      "[385] avg_activation=-0.0802 | MNNNYNMNKNNNNNNNNNNNNNNYNNNKYNNNNNNNNNCNXNNQYNNMNNYNNNNNYNNNNNNNYNNNNNNNNSNNYNMNNYSNYNNYNSNNNNNQNNNSN\n"
     ]
    },
    {
     "name": "stderr",
     "output_type": "stream",
     "text": [
      " 78%|███████▊  | 388/500 [00:37<00:08, 12.61it/s]"
     ]
    },
    {
     "name": "stdout",
     "output_type": "stream",
     "text": [
      "[386] avg_activation=-0.0921 | NLNYYNNNKNNNYNNNNNNMNYNNNNNNNNNNNNNNNNNNQNNNNINNNNNNNNNSNNTNNNNMNNNNMNNNNNNNSNNNCNNNNNNYNVNNNNKNNNNNSN\n",
      "[387] avg_activation=-0.1025 | QMNNYNKNNNNYMNYNNMYQNSYYNYNSNYNNNNXNNNNSNNNNNNNNNNNNYNNNNNNNNNNNNNNNNYYNSGNNNNNNNNNNQNNNNNNNNNNTNNMNNN\n",
      "[388] avg_activation=-0.0934 | NYNXNNNYQNNNNNNNNNNANNNNNSNSSNYYNNNYNNNXSYNQNNNYNNNDNNNNNNNNNNMNNNNNNNNNNNNYNNNNYNNNNYNYNNYNMNNNYNNYNN\n"
     ]
    },
    {
     "name": "stderr",
     "output_type": "stream",
     "text": [
      " 78%|███████▊  | 390/500 [00:38<00:08, 12.59it/s]"
     ]
    },
    {
     "name": "stdout",
     "output_type": "stream",
     "text": [
      "[389] avg_activation=-0.1008 | NNSNASTNNNNNNXHNNNNNNNNCNNNNMNNNNNYNNNNNNNNNNNTYSNNMNYNNYNNYNNXNIYMNNNNNMYNNNNNNQNNKNNNYNNNNYNNNNNNNNN\n",
      "[390] avg_activation=-0.0948 | NYYNQNNNNNYNYXNNNNCNNYNYNNNNNMNNYYNNNNMNNNSMNNYNNNNYSNNNYSNNYNNANNNNNQNNTNNNNQYNNNNNMXFANNNYNNNNNNNNM\n",
      "[391] avg_activation=-0.0956 | MGNNYNNNMNNNNPNNXNNNTYNNNNNNNNMSNNKNNQNNNSMYYNNNNSNNNNNNNNNNNNSNNNNNNNYMNNNXNNNSNNNNNNNNMNNNNNNNXSNNNC\n"
     ]
    },
    {
     "name": "stderr",
     "output_type": "stream",
     "text": [
      " 79%|███████▉  | 394/500 [00:38<00:08, 12.53it/s]"
     ]
    },
    {
     "name": "stdout",
     "output_type": "stream",
     "text": [
      "[392] avg_activation=-0.0946 | NNYNNMNNNNMNNMNCNNYNMYNNNNTYNNNNNNNNNNCNNNKSCGNNNNNNNNVMNMNNNNNNNNNMLNYNNNNNNPNNXNNNNCNNNNYNMNNYNMYNS\n",
      "[393] avg_activation=-0.1027 | WNNYNYNNNNNYXNNNYNNNKCNNNNNNNLNNNMNNNNNNNNNKKNNNSNNYTNNYNNNNQNNNNYNNNNNNNNSYNQNNNNYNNNTNSNNNGYGNNNNQYM\n",
      "[394] avg_activation=-0.0932 | MNKNNQNNNKNNNSNNMNNNNXNNNNNNNNNNNNSNNNNYNMNNNSNNNNNNNCNNNNNNNNNNNYNYNNNMNNNNNNNNMNYNNNNNNNNNNNSYYNNNNN\n"
     ]
    },
    {
     "name": "stderr",
     "output_type": "stream",
     "text": [
      " 79%|███████▉  | 396/500 [00:38<00:08, 12.52it/s]"
     ]
    },
    {
     "name": "stdout",
     "output_type": "stream",
     "text": [
      "[395] avg_activation=-0.0964 | SNNNNNNNNNNCNNNVNNNNNNNNNNNPNSNMNNKNNNNNSNMNYQNNNGNNNNNNNNNNNNQNDNNNNNNTYNMANNNNNNNNNNSMSNNNNMNNNNNNNN\n",
      "[396] avg_activation=-0.0911 | DNMTYNNMNNNSNNNNYNNNNSNNSKYNNNNNNNNNNNYFNNNNSNNNXNNTNNNNNNNNENYNXNYNNNNNYQNNYNNNNKMNNYYNNYANMKNNNNNNNN\n",
      "[397] avg_activation=-0.0893 | NYNNQNANNNMNXYNNNGNNMNNNNMNNNYNCNYNNNNNNNNNNNNDNNNNNNNMSNTTNCNNNNGNNDNNKYYYNNYNNYENNMXNNNNNNYNNNNNNSYQ\n"
     ]
    },
    {
     "name": "stderr",
     "output_type": "stream",
     "text": [
      " 80%|███████▉  | 398/500 [00:38<00:08, 11.56it/s]"
     ]
    },
    {
     "name": "stdout",
     "output_type": "stream",
     "text": [
      "[398] avg_activation=-0.0989 | NNNMNNQNNNMFNNNIMNNNNNNXQMNNNNNNNNNNNNNNNNNNNINNNNNQNNSYNNYYNNNNNNNNNNSNNNNNYMNNNQNNKNNNYYYNNYNPNNNTNN\n",
      "[399] avg_activation=-0.0963 | PNNKQNNQNMNMMKNNNTNNNNNCSNNNXNNMEMNYAXYYQNNNKNNSNNNNYQNNNYNYNYSNNNNNYSNNNNNNNYNNNNSNNSYNNNNNNKQSNNMNN\n"
     ]
    },
    {
     "name": "stderr",
     "output_type": "stream",
     "text": [
      " 80%|████████  | 400/500 [00:38<00:10,  9.94it/s]"
     ]
    },
    {
     "name": "stdout",
     "output_type": "stream",
     "text": [
      "[400] avg_activation=-0.0961 | NYNYMNNQYNNMNNNNQMSSNNYYXNASNNNNYNNNNMQNYNQNNNPNYANNNNNNNSNNNNMNPYNNNNKNNNMNMNNNNNNNNNNYMNNGNNSSNNSNN\n",
      "[401] avg_activation=-0.0953 | NSNNNNNNTNNASMSNSNNNNNNNNNSNNNNNNYYNNYYNNNMNNNCNNNNNNNMNNNNNKNINNMNCNNNNNNMNNNNTSNNKNNNNYSNNQNNYNNNNNN\n"
     ]
    },
    {
     "name": "stderr",
     "output_type": "stream",
     "text": [
      " 81%|████████  | 403/500 [00:39<00:10,  8.88it/s]"
     ]
    },
    {
     "name": "stdout",
     "output_type": "stream",
     "text": [
      "[402] avg_activation=-0.0914 | INNNNNNNNNNNYSNNNTSMNSSNNNYNNNMSNYNYNYNYNMNNSKNNNNYMNMNYNNNNDNNNNYNNSKNNNNYNNNNNNYYNNTNENNNNNNNNLNNNNY\n",
      "[403] avg_activation=-0.0961 | MNXNNNSNNYYNMNNNNPMNNNNNNTNNMTNNMNMNNNNNQNNNNCNNNNNNNNNNNNNNNNNNNMNNNNNQNNYMNNMMSYNNTFNNYNYMNMNMNNMMN\n"
     ]
    },
    {
     "name": "stderr",
     "output_type": "stream",
     "text": [
      " 81%|████████  | 405/500 [00:39<00:11,  8.09it/s]"
     ]
    },
    {
     "name": "stdout",
     "output_type": "stream",
     "text": [
      "[404] avg_activation=-0.1003 | NNNMYNNMQNNNYNMNNXNNNNNNNSNNNNNNNNNSNNPKNNNNYNNNNNNNNNNNMNNNNNNNNSMKNNHXYMNNNMNYNNNNNNTNNNNSNNNNNNNNKN\n",
      "[405] avg_activation=-0.0947 | YMNNNNNNNNXNNNYSNNNNNNNYNNNNNNNNYXNNNNXNNNSNNNNNNNYNNNNNASNNCNNNSNNNSNNNSNNNMNNNDNNYNNYYHNNNMQNNSNNSN\n"
     ]
    },
    {
     "name": "stderr",
     "output_type": "stream",
     "text": [
      " 81%|████████▏ | 407/500 [00:39<00:12,  7.60it/s]"
     ]
    },
    {
     "name": "stdout",
     "output_type": "stream",
     "text": [
      "[406] avg_activation=-0.1017 | YTNNNSNNNNNNNNXNXNNNMNNNNNMNNNNNNXNYNNNANNNNSNQNYNNNNNXNNNXXNNNMNKYNNNNNNNNNNNNNNNNMNNNSNNNNNNINQCNNGN\n",
      "[407] avg_activation=-0.0970 | MNNCNNNNNNYNNNNMNSNNNNNNNNNQNNNNNNNNNNMNNNNNTYNNNSMNNNNNNNNNNNNNNNMNTQNNNNNNNNNSNCNNNNNNNSNNNNQNNNNNY\n"
     ]
    },
    {
     "name": "stderr",
     "output_type": "stream",
     "text": [
      " 82%|████████▏ | 409/500 [00:40<00:12,  7.37it/s]"
     ]
    },
    {
     "name": "stdout",
     "output_type": "stream",
     "text": [
      "[408] avg_activation=-0.0982 | NNYNNNNYNNNNNYNNNNNNNNNNNNNNNYNNNNNNXKNNNNNNYYNNNNYNTNMMNNNNYNNMNNNNNNNNQNYNNXNSNYMNMNNNNNNNYNNNSNNNNN\n",
      "[409] avg_activation=-0.1055 | MNKYNQNNNNNMNMFNTNNNNSNNNNNNNNYYPQQNYNNNNNNYNNNNAYMNGNPMMNYSMNNNYQNNNNNSNNNNNTNNNNTNNSNNNYMSNKNNNNNTSN\n"
     ]
    },
    {
     "name": "stderr",
     "output_type": "stream",
     "text": [
      " 82%|████████▏ | 411/500 [00:40<00:12,  7.25it/s]"
     ]
    },
    {
     "name": "stdout",
     "output_type": "stream",
     "text": [
      "[410] avg_activation=-0.1010 | MNMNNNNNNPNNNNNNXNNNNDNMQNNNNNNNYNNNNNNVSYNNNYNSSYMNNNNNNNNNNMNNNNNQNNXNNNSNNNMNNNNNNNNNNYNNNNANYNNNMN\n",
      "[411] avg_activation=-0.0946 | LNNQXNNNNNYNNNNNNSNFNNNYNLNCNYSNNNNNMMNNNNYNNMNTNNXNNNNNMNNNNNNNYNYYYNNSTNNSNMDNYNNNYNNNSNNNNYNNNNNNTN\n"
     ]
    },
    {
     "name": "stderr",
     "output_type": "stream",
     "text": [
      " 83%|████████▎ | 413/500 [00:40<00:12,  7.13it/s]"
     ]
    },
    {
     "name": "stdout",
     "output_type": "stream",
     "text": [
      "[412] avg_activation=-0.0971 | NYNYTMNNNNNNNNNNYNYSNNNNQYNYNHNENSNNNNNNNNNYNNNNQNNNNNNNNNNNNNMSNNNNTNNNNNFNNNNNNNNYTNMNYCNNNYNNSQNNYN\n",
      "[413] avg_activation=-0.0955 | NNNNNSNNNNNQGDNNNNNNNMNYNANNYNNENNNSNNNNNNCNNMMNNNNSNNNNNNNNNNTNNNNNNYTNYYNNNNNNNNNNXNNNNNNNNNYYNYNNSN\n"
     ]
    },
    {
     "name": "stderr",
     "output_type": "stream",
     "text": [
      " 83%|████████▎ | 415/500 [00:41<00:11,  7.11it/s]"
     ]
    },
    {
     "name": "stdout",
     "output_type": "stream",
     "text": [
      "[414] avg_activation=-0.0949 | MNNNNNNNNNYYNNNNNNNNCNYXNNSNNNNNNNNNQNNNNNNNCNNNNNNNTNMNSNNKMNNNSNNNNYNNNENNNNSNNNNNMNNNNMSNNYQNNNNNNN\n",
      "[415] avg_activation=-0.0910 | NNKPNNNNNQSNGNNNNNYNNNNNNDQNNNNNNNNNNNNNTNMNQNNNNNMYNNNXNSANNNNNNNNNNNYNTNNNNMNNNNNNNTYNNNSSYNMNNNKTNN\n"
     ]
    },
    {
     "name": "stderr",
     "output_type": "stream",
     "text": [
      " 83%|████████▎ | 417/500 [00:41<00:11,  7.13it/s]"
     ]
    },
    {
     "name": "stdout",
     "output_type": "stream",
     "text": [
      "[416] avg_activation=-0.0888 | MMNNMSNMNNNPNNNNMNMNXYQNNSNNNNMNNNNNNYSNCNNNNNENYYYYNNYQNNYNNNMNNMNNYNNNNNNNNNNNNNNNNNMNYNNNNYNNNMNNNN\n",
      "[417] avg_activation=-0.0963 | YNSNNNNNNNNNNNNTMYNYNNNTNMNNYNYNASNNNNYNNNYYNNNNSYMNNNNNNNNNNTNNYNMNNYNSPNNNNNNMNXCNMNNTMNNNSNSNNMYNNN\n"
     ]
    },
    {
     "name": "stderr",
     "output_type": "stream",
     "text": [
      " 84%|████████▍ | 419/500 [00:41<00:11,  7.11it/s]"
     ]
    },
    {
     "name": "stdout",
     "output_type": "stream",
     "text": [
      "[418] avg_activation=-0.0923 | NNNNNNNNNYNNYNPNNNYNNNYNNNNYYGNNNVYNYNSNNNMNNNNNHNNYPNYNSMNNXTNNXNNNYNNNNSNCNNNXQYNYYNNSMNMNNNGNNNSYNN\n",
      "[419] avg_activation=-0.0918 | DNNNNYNNNINPNNNNNFNNNNTNNYNNNYNYYNNNQNMQNYNNNNPNNNNNYNNXNNMYNNNLYNNNNNNNNNYMNNNNNNSNNNNNNNNNDNNNNMANNN\n"
     ]
    },
    {
     "name": "stderr",
     "output_type": "stream",
     "text": [
      " 84%|████████▍ | 421/500 [00:41<00:10,  7.36it/s]"
     ]
    },
    {
     "name": "stdout",
     "output_type": "stream",
     "text": [
      "[420] avg_activation=-0.1004 | NNQNNNNNNNNNNNDSNNNNNNNNNANNNTNNNNNNSNNNAYQNNNNNTNNNNKNNNNNNYMYNNNNMNNNSNNNNNNNNTNNYNDNMNMNMNNNNNNKSNP\n",
      "[421] avg_activation=-0.0902 | NXNMNNYNNNNXNNNNNINMSNNYNNNNNMNYXNNNNNNNMNNMNNNNYNNNMPMNSNNNNYMNNNNSNNXEMNNNNNYNNNNNNNNNNNYNMNNNSNNYNN\n"
     ]
    },
    {
     "name": "stderr",
     "output_type": "stream",
     "text": [
      " 85%|████████▍ | 423/500 [00:42<00:09,  7.92it/s]"
     ]
    },
    {
     "name": "stdout",
     "output_type": "stream",
     "text": [
      "[422] avg_activation=-0.0856 | KNYNNGNMYNGNNNNNNNNNYNANNNNNNNNTMNNNNNNNNNNNNNNNMNNSNNYMNXNNNNNNNNNYNNYYMNSYYNNNFNSYNNNMNNNNNSNNNNPNNM\n",
      "[423] avg_activation=-0.1016 | MMNNNNSNNKNNSNNNYNNKXNMTNNNNNYNNNNNNNNNNNNNSMMNNMYYNNNPNNNNNQMPNYSNNNNNNMNNXNNNNNNNNXYNNYMMNNNXNNNMNNN\n"
     ]
    },
    {
     "name": "stderr",
     "output_type": "stream",
     "text": [
      " 85%|████████▌ | 425/500 [00:42<00:09,  8.24it/s]"
     ]
    },
    {
     "name": "stdout",
     "output_type": "stream",
     "text": [
      "[424] avg_activation=-0.1030 | XYNNNTNMNNNMNNNNYNNNMNSNNMQNNNCNNNNNNNGLSNNNNNNNNXYNNNNNNNNYXNTSMNMNMNQNNNNNNYNMNNNNFNNNQNNNPNYNNNTNNN\n",
      "[425] avg_activation=-0.0962 | SNFNNSNCNNNYNNSLNNNNNNNNNNNNNNNMNNNNMNYNYTNMNNNNNNSXNNNCNNYNMNNXNNXSNNNNYNNNNNNNNNXNNNNNNNNNNNNYNMNNS\n"
     ]
    },
    {
     "name": "stderr",
     "output_type": "stream",
     "text": [
      " 85%|████████▌ | 427/500 [00:42<00:08,  8.39it/s]"
     ]
    },
    {
     "name": "stdout",
     "output_type": "stream",
     "text": [
      "[426] avg_activation=-0.0945 | NMNNXNNNNNYNSNQNMSYNTNNYSNNNMNYNYYNNNNNNNNNNNYNNNGYMNNNNNNNMNNNNNNYTNNXNNNNMINNNNNNNNNNGYNNMNTNYYNNNNN\n",
      "[427] avg_activation=-0.0969 | MNNNMNNSYNSNNYNNNTNYNNNYNNNPNYNNNLCYNNNNNNNNNNNNNNYYNNNKNNNMNNNYNSMTSYNNNNNNNTNFNNNSNNYNNNNNTYNNYNCNXN\n"
     ]
    },
    {
     "name": "stderr",
     "output_type": "stream",
     "text": [
      " 86%|████████▌ | 429/500 [00:42<00:08,  8.47it/s]"
     ]
    },
    {
     "name": "stdout",
     "output_type": "stream",
     "text": [
      "[428] avg_activation=-0.0937 | NNNNNNNNNNMNSNNNQNNYNNNNNSNNYNNSNYNMNNYNNNNNNKNNNNYNTNYNMNNNYNNYKNNNNNNNTYMNNNNNSYNNNNNNNNNNNNNNMNNYNN\n",
      "[429] avg_activation=-0.0929 | NNNNMNNYNNNNNNNYGNNNNNNMNNNNNXYNNNNNNNNNNMNNNNNNXNNNSNKTNNXYNNNSNNANNNNSNNMNNNNNMNYNNXYNNNNNNNMNNNNNNN\n"
     ]
    },
    {
     "name": "stderr",
     "output_type": "stream",
     "text": [
      " 86%|████████▌ | 431/500 [00:43<00:08,  8.50it/s]"
     ]
    },
    {
     "name": "stdout",
     "output_type": "stream",
     "text": [
      "[430] avg_activation=-0.0944 | NNKMNNNNNNNTXNNYNNNNNNNSNNNTPNNSANMNNYCNNNNYNNSNNYMSSNNMNYNNNNNYNMNNSTNNYNYNNSNNNNNYNNYNNNNNNNNNNSNYF\n",
      "[431] avg_activation=-0.1019 | NNNNNYMNNNNKYNNNNNLNNNNNNNNNYNNNNNNNNSYXNTANMNNKNNNNNNNNYTNNNMYNNNNSNNNNKNNNMYNSNNNNNNNNNNNNNNSNNMNMN\n"
     ]
    },
    {
     "name": "stderr",
     "output_type": "stream",
     "text": [
      " 87%|████████▋ | 433/500 [00:43<00:07,  8.52it/s]"
     ]
    },
    {
     "name": "stdout",
     "output_type": "stream",
     "text": [
      "[432] avg_activation=-0.1052 | SMNNNMNNNENNNQNMNYNNNNNNNNNNNNNYKNNNNGNQNXNMNNNNNSNYNNMNNYYNQNNNNNNNNNNNTNNNNNNMNNNNMNYNNNNNNNNYYNNNNM\n",
      "[433] avg_activation=-0.1016 | NKNNYSNSNNYNNYQNNNNNNNNYNYNNQNNNNNNNNNSNNMNYNXMNNNANYNYNNNNMNNNNQYNNNNNNNNANNNNNNNNNNNNMNNYNNNNYNNNC\n"
     ]
    },
    {
     "name": "stderr",
     "output_type": "stream",
     "text": [
      " 87%|████████▋ | 435/500 [00:43<00:07,  8.55it/s]"
     ]
    },
    {
     "name": "stdout",
     "output_type": "stream",
     "text": [
      "[434] avg_activation=-0.1058 | YNNYNTLNNNYNNNNNNXNNYNSNYNKQNNNNNNNNNNNNTNNNNNNNMNNNNNYYNNNNSSMNNSNNNNNNSMNNNNNNNNKMNNXKMNNMMNQNMSNNNN\n",
      "[435] avg_activation=-0.0898 | MNNNNNNSNNYSXNYNNNNNNMNNYNNMNTNXYNNNNSNYCNNNNNNNYNNNNNNNXNNPYMMNNNNMYNNTYNNYQNNNNQNNMNMXNMNNNPNNNNNNNP\n"
     ]
    },
    {
     "name": "stderr",
     "output_type": "stream",
     "text": [
      " 87%|████████▋ | 437/500 [00:43<00:07,  8.54it/s]"
     ]
    },
    {
     "name": "stdout",
     "output_type": "stream",
     "text": [
      "[436] avg_activation=-0.0974 | NSSNNSNNDYQNNNNNNNNNNQNSYNXNMNNYMNNNQNNNSNNNNQNNNNNNNNNNTNNMGNNNNNNNNNNNNNNNNNSNNNNMYNNNNLNNNNNNNNYNN\n",
      "[437] avg_activation=-0.0986 | TNXNLYYYNNNNTYNSNNNNMNNNYNNANPNNYNYTNNNNXNNNYNNNNNYMNYNNNNNNNNNNNDNQNKNSNNNQNNNNNNNNNMNXNNNNNQNNNNNMNN\n"
     ]
    },
    {
     "name": "stderr",
     "output_type": "stream",
     "text": [
      " 88%|████████▊ | 439/500 [00:43<00:07,  8.54it/s]"
     ]
    },
    {
     "name": "stdout",
     "output_type": "stream",
     "text": [
      "[438] avg_activation=-0.0909 | FNNNSNNNNXNNNMNNNNNMNNNNNNNNNNNXMNNYNNSNNNXYNNNNNNNQNNDMXNNNQNTNNNNNNNTNNAYNNNNNNNNNNNSNNNNNNNNMNNNTN\n",
      "[439] avg_activation=-0.0954 | MNYNDNNNLNNNNNNNNXNYNNNSNNNNNQXNNNNNNNNNMNNNMYYNNNNNNKYNNNNYSNNNYXNNNNNPNYXNNNNYYNNNNTNMNNMNNKNYNNNNN\n"
     ]
    },
    {
     "name": "stderr",
     "output_type": "stream",
     "text": [
      " 88%|████████▊ | 441/500 [00:44<00:06,  8.55it/s]"
     ]
    },
    {
     "name": "stdout",
     "output_type": "stream",
     "text": [
      "[440] avg_activation=-0.0925 | NSANNNNNNNNNNNNTNNNNYNNNNAYNNMNNYNNMNNNYNNNMMNNNNXQNNXNNNNMNMNNTNSNNTNNNNNNNGSNYVMNNNNNMNSTNNNNNNMNNNN\n",
      "[441] avg_activation=-0.0976 | CNNNNNNNPNNNNMMNMLXNNNNNNNNNNNFNNNDNNQNNSTNYNNNNNNNXNNNNNNNNNYNNNNNNNNNSTNNNSQSNNNNNNQNNNNYNNNNNYGNNNN\n"
     ]
    },
    {
     "name": "stderr",
     "output_type": "stream",
     "text": [
      " 89%|████████▊ | 443/500 [00:44<00:06,  8.55it/s]"
     ]
    },
    {
     "name": "stdout",
     "output_type": "stream",
     "text": [
      "[442] avg_activation=-0.1018 | SNNNYTQNNYNQMSYXNNYNNAMNNNNNKNPNMQYNXNNNNSNMNNNSNYNNNNSNNSNNNDNNNSNNNNYNNNNNPNNNYNNNNNNNNNNYNNCNNNYNQN\n",
      "[443] avg_activation=-0.1016 | TYNNXNNNNMNNNNNNNQQNYNSYNNNNNYNNNNNNNNNCNNATMNNSNSNQNNNNNDMNNNNSNNPNNNNNNNNYNNNSNYNNNNNMNYNSNNNNMNNYX\n"
     ]
    },
    {
     "name": "stderr",
     "output_type": "stream",
     "text": [
      " 89%|████████▉ | 445/500 [00:44<00:06,  8.55it/s]"
     ]
    },
    {
     "name": "stdout",
     "output_type": "stream",
     "text": [
      "[444] avg_activation=-0.1030 | NNMNYYNNMYNTNNNMYYNNNNNNNNSNNYYMNMNNNNNNNNNNNNNNYNNNNXNNMNMNNNYNMYYNSNNNNNMNNNNNNNSNNSNNNNMNNNNNNNXKNN\n",
      "[445] avg_activation=-0.0973 | GYNNNNNNNMYNNNSNGNNNNNNSNNTNNNNNNNNNNYNNNMNNNNNTNNNNNNMCSMNNNNNNNNNNNNNNNSNMNNNMNNNNNNNNNNTNYNNNNTNYN\n"
     ]
    },
    {
     "name": "stderr",
     "output_type": "stream",
     "text": [
      " 89%|████████▉ | 447/500 [00:44<00:06,  8.53it/s]"
     ]
    },
    {
     "name": "stdout",
     "output_type": "stream",
     "text": [
      "[446] avg_activation=-0.0978 | NNMYMYNNNNXNKNNXNNSNNNNTNYNNSNENNSMNMNNNDNTXNNNNNNXNNYNNMNNNNNNNMKNNQNNMYSNNNNYNNNNNYNMNYNNNMNKQMNNNNY\n",
      "[447] avg_activation=-0.0933 | NMNNSNNNNNYYNNNNNQNNNQMNNNNNNXNYNMNNKNSNNYNNSNNNYLNNNNNXNNMNNNNMNNNXNNNNNNNKNNKNMNNNNNNPNNYNNNNYNNNNN\n"
     ]
    },
    {
     "name": "stderr",
     "output_type": "stream",
     "text": [
      " 90%|████████▉ | 449/500 [00:45<00:05,  8.55it/s]"
     ]
    },
    {
     "name": "stdout",
     "output_type": "stream",
     "text": [
      "[448] avg_activation=-0.0930 | NQNNNTNSSNTNMNNNNCYNNNQYNNNYNNNNNNNNNCPSNNNNMTNNSNNNNCNNSNNNNSNNYMNNNDNNNNNMQMNNMYYNNNNADNNNKNNNNYYMNS\n",
      "[449] avg_activation=-0.0952 | NNNNNNNNYANNNNNVNNSNNNXNNMNNNYNNNNNNMSYNPFNNNNGNYMYMNMNNNNMNNNNNNNNNNNNNNNNNNNNNYYNNNPNNNNSNNNNNYQYNQS\n"
     ]
    },
    {
     "name": "stderr",
     "output_type": "stream",
     "text": [
      " 90%|█████████ | 452/500 [00:45<00:04,  9.79it/s]"
     ]
    },
    {
     "name": "stdout",
     "output_type": "stream",
     "text": [
      "[450] avg_activation=-0.0921 | NNNNXNNMNSNXNNNNNNNNNYNYNNNNNNNSNQYNNNNNYNYNYNNNNNDNNNNQYYNNNNYCNNNNNNNSNNNNNNCNNNNMNNYNNNNNNNNNNSCNXN\n",
      "[451] avg_activation=-0.0984 | MNNYNNNNMNSNYNNNNNYYXNNNNNNMXNMNNNCNNNMNNNYNNNNNNNYKNNNNXNNNNNNNNNNMNNNSNNNNPNNNNNYNXNNNNNNNNNNYNNNSN\n",
      "[452] avg_activation=-0.1057 | PNNNNNNXSKNPNNYNNYNNNYNNNSSNNNNNNKYNNNNNNNNNSNPNYNNMNNNTNNQNNNNYNNNNNNNNNYNNNQNEQNNNNNNNNNNNNYNNNXTNNN\n"
     ]
    },
    {
     "name": "stderr",
     "output_type": "stream",
     "text": [
      " 91%|█████████ | 454/500 [00:45<00:04, 10.72it/s]"
     ]
    },
    {
     "name": "stdout",
     "output_type": "stream",
     "text": [
      "[453] avg_activation=-0.0912 | NNNNKYNYNYNSNMNMNNNNNNNMNNNNNNNNNNNNNNNNNNNNNSNNNNNNSMMNANNNNNNMNNNNMNNMKNNNNYNNNNNNNNNNNNNNYNNNMNNNN\n",
      "[454] avg_activation=-0.0976 | NNNNKNNYNNNNSKNNYNNYNNNNNNMNNNNNNNNNNMNNNYNSSNNNSYNNNNNNNNNNNNNNNYNNNNNNNNNNYNNNNYNNNNYQNNQNNINYNNNNYN\n",
      "[455] avg_activation=-0.1029 | YNNNNNYNMNINNNNNNPNNNNNNNNNNMNNNNNNNNNNNNNXYNMTNYNNGMNNNNMNNYNNNNNNNSNSNNSNMNANNNNNQXMNNNQNNNNSNNMNNTN\n"
     ]
    },
    {
     "name": "stderr",
     "output_type": "stream",
     "text": [
      " 92%|█████████▏| 458/500 [00:45<00:03, 11.69it/s]"
     ]
    },
    {
     "name": "stdout",
     "output_type": "stream",
     "text": [
      "[456] avg_activation=-0.1015 | NNNCNANNYNYNSYTYNSNYMNNNNNNNNNNNNNMNNSNNNNNNNANNNNNTNSYSNKNMNNMNYNXNMNNNXNNYNNNNNNNNNNTNNMNMNNNSNNNYXY\n",
      "[457] avg_activation=-0.0962 | SNNNMNNNNYNNNNNNNNNNNNNTMNMNSNNNNNNGNNNNNNYNNYNMNNNMNNNPNNYNNSNNNNNXNNKYNYNNNNNKYNYNNNNNNNNSNNNNNNNN\n",
      "[458] avg_activation=-0.0941 | NMNNNNNYNNNNYNMNNNNNNNXNNQNNYNNNNNNNNNXNNNMNNNNNNYNNNYNNNNNNNNNYMNNMNMNNYNNNTNNNNNNQXNYTNNNNNYNNSNNMNN\n"
     ]
    },
    {
     "name": "stderr",
     "output_type": "stream",
     "text": [
      " 92%|█████████▏| 460/500 [00:46<00:03, 11.95it/s]"
     ]
    },
    {
     "name": "stdout",
     "output_type": "stream",
     "text": [
      "[459] avg_activation=-0.0968 | YNNNNNNSNYNSNNNNSNNNXFNNNNNNNNYNMYNNNNNNNNNNNNNNYNNYNNNNNNTCNNMNNMNLNNNCNNNNNNMNNNNNMNNNNNXNNNNSYNNNNN\n",
      "[460] avg_activation=-0.0928 | NNQFNNYNNNNYTNNYYNNNYNYXKNNNQNNNNNNYNNNNNNNNMNYNYNNNSNNNXNNNMXNNESNNDNNXYNNNNNNNNMNNNMNNNNSNNNSNMNXNN\n",
      "[461] avg_activation=-0.0968 | YYNNNYENNNNNNNYYNNNNYNNSNNNNNNNNNNNNNNNTNNNYXNNNNNNNNNYNNNNNNNNNNNNSNYNNNNNNYNNNXNNNNYNNNNQMNNNSNNQNYS\n"
     ]
    },
    {
     "name": "stderr",
     "output_type": "stream",
     "text": [
      " 93%|█████████▎| 464/500 [00:46<00:02, 12.33it/s]"
     ]
    },
    {
     "name": "stdout",
     "output_type": "stream",
     "text": [
      "[462] avg_activation=-0.0961 | NNMNNMYNNYNNNNNNMNNDYNNMNYNYNNINNNNSNNNMNNNNNNMNNNNNQNNXNYNNYNNQNNNNNNYYNNNNNNNNNNNNNPSNNNNNMMNNNMYNNP\n",
      "[463] avg_activation=-0.0979 | YMNNNNNNNNNNNNNNQNNNNNNNNNYNYNNYNSNNNSNKNNNNNXXNNNNNNQNYNNNSNNNNNYNNNNKSNNNXNMNNNNNNNNNNYYNNNNNSNNNNNN\n",
      "[464] avg_activation=-0.0980 | YNNYNNNNNNNNYNYNMNNNNNNNNENXDQCNNNNYNNNNNMNNNNNNCNNNNNNXNNNNNMKNNNNSNNNYNSNNQNMNNNNNNNFMNNNNNMCNNNNNSS\n"
     ]
    },
    {
     "name": "stderr",
     "output_type": "stream",
     "text": [
      " 93%|█████████▎| 466/500 [00:46<00:02, 12.39it/s]"
     ]
    },
    {
     "name": "stdout",
     "output_type": "stream",
     "text": [
      "[465] avg_activation=-0.0982 | MSNKYNNNNSNNNNSNNNNYXNNLNNNNNNYYNSYINXKNNXSNNNNNNDNNNNNNQNGNMNNSQNYNCNNNNNNNNNMNXNNNNNNNMYNNNNMSNNNNNS\n",
      "[466] avg_activation=-0.0957 | NNMNNNNNNNNNXNNYNQNNSMYNNYYNNNNMNNPYNNNNYNYMNYNNNTNNNNNXNNNNNMNKNNXNNXNMQQNNYNNNMNNSNNNNNXXNNNXNSNNNN\n",
      "[467] avg_activation=-0.0931 | NNYNNNNNNNSNSNNNYNNNNSMXMSNEMNNNNNNNMSQYNNNNNCNNNNNNNMNYNNNYNANNNNNNNNNNMNYNNNTNKNMNNNNNNXNTKNNMNNNXNN\n"
     ]
    },
    {
     "name": "stderr",
     "output_type": "stream",
     "text": [
      " 94%|█████████▍| 470/500 [00:46<00:02, 12.57it/s]"
     ]
    },
    {
     "name": "stdout",
     "output_type": "stream",
     "text": [
      "[468] avg_activation=-0.0900 | SNNNNSMNNNNNMNNNNYNYNNNNNMCNSNNNNNNNKNNNNSNNNSNNNNNNNNKNMNNQGNNNNYNNNSNNINMANNNNQNINNSTNNNNNMNNYNYNNQ\n",
      "[469] avg_activation=-0.0979 | NNNNNMNSNSNNNNNNYMNNNNNTNSNNNNNNNSYYYNNNNNNNNNTNNNNNSNNQNSMNNNNNNMNNNNMYMNNNNNNNNTNNNNNNNXNNPQNNNNTNNN\n",
      "[470] avg_activation=-0.0843 | NYNNNNNNYNNXNNNYNNNNNSNNNNXNNYNNYNYNNQNYCTYNNNNNNNTYNNYNNNNYNMNTNNXNNSNNYNNNNNNNNSXNNNNNNNNYNYYNVNNNNN\n"
     ]
    },
    {
     "name": "stderr",
     "output_type": "stream",
     "text": [
      " 94%|█████████▍| 472/500 [00:47<00:02, 12.54it/s]"
     ]
    },
    {
     "name": "stdout",
     "output_type": "stream",
     "text": [
      "[471] avg_activation=-0.0927 | NKQMNNNNNNNNNYSSNSNNSNNYNNNNSNNNNSNNNNNNNNMNNXNNNNYNSYNNNNNNNKYNNNNNDNNNYNNSNNNNYYNNNNNNNNNSMXNNNNNNNN\n",
      "[472] avg_activation=-0.0910 | NNQNNGNYYNKNNNNNKNNNYYMNGNYQNNNNNNNNDENNNNYNNNXMMYNNNNSYNNYNNENMNNINNMNPNQNNNXNNNNNQNNNNTTNYTNNPNNYNNQ\n",
      "[473] avg_activation=-0.0962 | MNNYKNDNNNNNNMNTNMDMSNNAMNMNNNPNNNNNNNNVNNNNNNNNNYNNYYSNYNNNYXNNKSNNMYNNSNNNNNNMNNMYYNNNNNNNNNNNNNNYNN\n"
     ]
    },
    {
     "name": "stderr",
     "output_type": "stream",
     "text": [
      " 95%|█████████▌| 476/500 [00:47<00:01, 12.36it/s]"
     ]
    },
    {
     "name": "stdout",
     "output_type": "stream",
     "text": [
      "[474] avg_activation=-0.0961 | NNNNNXNNNNNNNNNNNYNNNNNSXNNMNNSNNYYNNYNNKNNNNNNNNSNNNXNNNYNXNNQNNNMNNNNNNNNNNNNNNSYNNNNNNNSNNNNNNNNNNN\n",
      "[475] avg_activation=-0.0978 | MNNNNNNNXNYYNPNNSNNNKNGMYNNCNNNNNNNNNNMNNNNNNNNNNNNNNNYCNTNNNNNNNNSXMNMNYSNNNYNNNNNNYNNNNMNNNNNNYNNNXN\n",
      "[476] avg_activation=-0.0973 | NXNNNNENNNPNNNNMNNNNNSNNNNNNNNMNNNNNNNNNYNNNMNQNNNNYSNAMCNMNNYNNYNNKNSNNNNNYNNNNNNYNSQNYSNNNNPNNNNN\n"
     ]
    },
    {
     "name": "stderr",
     "output_type": "stream",
     "text": [
      " 96%|█████████▌| 478/500 [00:47<00:01, 12.42it/s]"
     ]
    },
    {
     "name": "stdout",
     "output_type": "stream",
     "text": [
      "[477] avg_activation=-0.0867 | AMNMNYKTNNNNNNNNMNNNNXNSSNNNNNNNNSNNNNNNNNNLNNNNNNMNYNNYNNNYNTNNYNYNNNYNNNNSNGNYYNNNNYNSNCNNNNSNNMMNNN\n",
      "[478] avg_activation=-0.0923 | MMNNNNNNNNNNNNNNNNNNNNTNNNNNMNNNNNNNNNNNNNNNKSXNCTNNYNNNTNNNNNMNNNQYNYMNNNANNYXNNNNNNNNNNNNNYNNNXYNXNN\n",
      "[479] avg_activation=-0.0927 | NNSNNNYKMNNNKNNNNNNNMNNNYNNQNNNYMNQNNNNNNNNNSNNNNNNNMSNNQNMNNNNNXMNNKNNNNNMNMNNFNNLNNNNNNNNNMYNNNNNNNN\n"
     ]
    },
    {
     "name": "stderr",
     "output_type": "stream",
     "text": [
      " 96%|█████████▋| 482/500 [00:47<00:01, 12.44it/s]"
     ]
    },
    {
     "name": "stdout",
     "output_type": "stream",
     "text": [
      "[480] avg_activation=-0.1036 | NNYNYMNYNTNYNNNANTNNNSNPNNNNXXYNNNNNNSNNNNNNNNNNNGNTSNYNYSNNNNNNNNQNYNNNNNYNQNXMNNNXNMYYQNQNNTYKNYNSNM\n",
      "[481] avg_activation=-0.1029 | YNNNNNYSNXSYXNNNNNNNNSYMNSNCNMNNNMNNNYNNNMNNNNNNNNYNNTXNSMYQNNNNNDNNNNYNNNNNNNNNYNNNSSTNNNNYNNNNNNNNS\n",
      "[482] avg_activation=-0.0944 | NNYNSNTMNNNYNYNQNNNSNTMCYNYNNNYNNNLNNINNNNAMQNYNNNNNNNNNYNYNNNNNNTNDYNNNNNNNNYNNMNNNNMNNNNNNNNMNMYNNNN\n"
     ]
    },
    {
     "name": "stderr",
     "output_type": "stream",
     "text": [
      " 97%|█████████▋| 484/500 [00:47<00:01, 12.46it/s]"
     ]
    },
    {
     "name": "stdout",
     "output_type": "stream",
     "text": [
      "[483] avg_activation=-0.0952 | NDNLYNTNSYNNNNMYSNNNNNYNNNNNNNNNNXNNNQMSNYNNNNNNNNNNQYNNDNNSNNNNNNNNNNNNKMYYNNMNNSNNNNNNNNYNMNYMNMNNY\n",
      "[484] avg_activation=-0.0887 | MNNNNNNNNNNNNYHNNNNNNMNNNNNNXNNNNNFNNMNNSNMNNNNKNXNMNNLNYNSNNNMSNNNNNNNNNNNINNYMXNSKNNNMNNKNNNTNNYNXYN\n",
      "[485] avg_activation=-0.0983 | QCMNMNNYSNMNXGXNQNMXNANYNNMNNYNNNSQNNNNNSNNXNNNNNNNNNSNNNNSNNYNNNMNYNINNNNNNQMXNSYMNNNNNNMNNNNKMNNNYN\n"
     ]
    },
    {
     "name": "stderr",
     "output_type": "stream",
     "text": [
      " 98%|█████████▊| 488/500 [00:48<00:00, 12.64it/s]"
     ]
    },
    {
     "name": "stdout",
     "output_type": "stream",
     "text": [
      "[486] avg_activation=-0.0982 | DNMYNNNNNNNNNNKYQNNNNNNNNNNNXNNNNNNSNSMNYYNNNNNSNYNSNNNNNSYMYSNNNNNMNINNNNNMNNNNNNNNNNMNNNNNNNNANNMNMT\n",
      "[487] avg_activation=-0.0996 | QNNNNQQNNMNNNNNNNNMNNNNNSNNNNNKMNNNNNMNNTNNNNKNNYSNNNNNNXNNKNYNNNNNNNNSNNYYNXNNYTNNNNYSNNYNMNNNNNSXYS\n",
      "[488] avg_activation=-0.1023 | NNNMYNNNNNNNNNQNNNXNNNNNNNNNNFNNNNNNNNNYYNNNNPNNNNNQNSNDNNSYYSNNNNMNNNNSINNNNNNNNQTKNNNNNNNNNNNYNNMNN\n"
     ]
    },
    {
     "name": "stderr",
     "output_type": "stream",
     "text": [
      " 98%|█████████▊| 490/500 [00:48<00:00, 12.62it/s]"
     ]
    },
    {
     "name": "stdout",
     "output_type": "stream",
     "text": [
      "[489] avg_activation=-0.0948 | MTNNNNNQNNNMNNNYMNYNNNYMYNNNNNYNNNGMNNNNNNNNNNNNQNNSNNNQNSNNSNNNNNNXNNNQNNNMPNNNNNNXNNNNNNNNYNSNQSANN\n",
      "[490] avg_activation=-0.0933 | NNNNNSNANNNNNQNMNNNNMNYNNNNNNYNMNNNNNNNNNNXNYNTNNNNNNSYNTYTNSNSNNNNNNSYNNNXNHNSNMXNNNMKYNNNNNNNSNNNNSN\n",
      "[491] avg_activation=-0.1019 | NNNXNNNMMNNNNNSNNNNNYQNNNNQSNMNNQNXNSXKNNNNXNNNYYNSNNNNNNNNYNNYYANNNNYNNNNNNNNNMNXNSNNNNNNNNNNNNNNYTN\n"
     ]
    },
    {
     "name": "stderr",
     "output_type": "stream",
     "text": [
      " 99%|█████████▉| 494/500 [00:48<00:00, 12.58it/s]"
     ]
    },
    {
     "name": "stdout",
     "output_type": "stream",
     "text": [
      "[492] avg_activation=-0.0998 | NNNNNNYNSNXSSNNNNNNNNNNMNNNNNPMNCNMYNNNNNNKNNNNYNNTGNNNNNNNNMINPNSNTQMNNYNNNNYNNINNNQNNNNNNYNNNNNNNNNM\n",
      "[493] avg_activation=-0.0967 | NNNTYNNNNNXNNNNNKNYNQMYQNNQNNNSNNNNNNNNMNNMNNYNMNYNNMNNNNNNNNNNNNNNYYNNNSNNNNNNNNNNNNYMNNNNQNNNNSNNMNN\n",
      "[494] avg_activation=-0.0913 | NYNNNNYNNYNNNNNNNNNNNNNNNNNNSNYNNSXYNNNNNNTNNQNNNNNNNNNNNYNNNNNQNNNNXSMNNQNNXYNNNYNNNYNNNNNNNNNMNNNYN\n"
     ]
    },
    {
     "name": "stderr",
     "output_type": "stream",
     "text": [
      " 99%|█████████▉| 496/500 [00:48<00:00, 12.62it/s]"
     ]
    },
    {
     "name": "stdout",
     "output_type": "stream",
     "text": [
      "[495] avg_activation=-0.0947 | NNYYNNNNMYPNNYNNNNNNNSNNNNNNNNNYMNNYNXNNXNNNNNNNNNNMYNYNNTYNNNNNNNNMMNNXNNNNNSXNNYNNNNNMNQSNNNMNNNKN\n",
      "[496] avg_activation=-0.0911 | YNMYNNNNNNMDQNNNYNNNYQNMNNNMNNNNYQNNNNNYYQNQNNQNMQNNNNNNNNNNKYNNNNNNMMPQNMNNSFDNNNNNNSMNYNNNNNNNMNNNY\n",
      "[497] avg_activation=-0.0947 | NSSNNNNNNNGYNMNNNNYNYNNNNXYYNNNYNNMLPNNNNNNNNNNNNNNNQMNNNNNYYTNNNNXNNNNNNANNNNNNENNNNNNNNNNNSNNNYYNNNN\n"
     ]
    },
    {
     "name": "stderr",
     "output_type": "stream",
     "text": [
      "100%|██████████| 500/500 [00:49<00:00, 10.15it/s]"
     ]
    },
    {
     "name": "stdout",
     "output_type": "stream",
     "text": [
      "[498] avg_activation=-0.0957 | MNNNSNMNYNNNNNMNYNNYNYSMNNNNNNNSNNNNNYNNYYNMNNNPYNNYSNNYNNYNNNNNNNNKNNNNNNNNSYNNNMNYNNTSYNYNNNNNNNNNNN\n",
      "[499] avg_activation=-0.0959 | NNYNNYNXNYQNNNXMMNMYYNNNYNNYNNNNNNSNNYNSNNNNNNNNNNSNNNNNNNPXMNNNXNNSNMNQNFNCSENMNNNNNNYNNNNNYNNNNNNYN\n",
      "[500] avg_activation=-0.0999 | NNMNNNNMNMNYTMNSMNNNNQYNNNNNYNNTYYNNNNNNNNNNNNNNNQNNNNYNNMSQLNNNYNNNNNNNNNNNNTMSMNNNNNSNNNNQNNNANNNNNN\n",
      "\n",
      "=== Best Sequence ===\n",
      "MNNNYNMNKNNNNNNNNNNNNNNYNNNKYNNNNNNNNNCNXNNQYNNMNNYNNNNNYNNNNNNNYNNNNNNNNSNNYNMNNYSNYNNYNSNNNNNQNNNSN\n",
      "Max avg activation: -0.0802\n"
     ]
    },
    {
     "name": "stderr",
     "output_type": "stream",
     "text": [
      "\n"
     ]
    }
   ],
   "source": [
    "import torch\n",
    "import torch.nn.functional as F\n",
    "from transformers import AutoModelForMaskedLM, AutoTokenizer\n",
    "import random\n",
    "import csv\n",
    "import re\n",
    "from collections import defaultdict\n",
    "from tqdm import tqdm\n",
    "\n",
    "\n",
    "CSV_PATH = \"esm35M_500k_neuron_explanations.csv\"  \n",
    "MATCH_STRING = \"sheet\"           \n",
    "MODEL_NAME = \"facebook/esm2_t12_35M_UR50D\"\n",
    "SEQ_LEN = 100\n",
    "NUM_STEPS = 500\n",
    "A = 5\n",
    "B = 3\n",
    "\n",
    "def find_matching_neurons(csv_path, keyword):\n",
    "    matches = []\n",
    "    with open(csv_path, newline='') as csvfile:\n",
    "        reader = csv.reader(csvfile)\n",
    "        for row in reader:\n",
    "            if len(row) < 2:\n",
    "                continue\n",
    "            neuron_id = row[0]\n",
    "            if any(keyword in desc.lower() for desc in row[1:]):\n",
    "                m = re.match(r\"layer_(\\d+)_neuron_(\\d+)\", neuron_id)\n",
    "                if m:\n",
    "                    matches.append((int(m.group(1)), int(m.group(2))))\n",
    "\n",
    "    print(matches)\n",
    "    return matches\n",
    "\n",
    "# ----------------------------\n",
    "# HOOK + SAMPLING UTILS\n",
    "# ----------------------------\n",
    "def make_multi_neuron_hook(neurons, a=10.0, b=3.0):\n",
    "    def hook_fn(module, input, output):\n",
    "        for neuron in neurons:\n",
    "            output[:, :, neuron] = a * output[:, :, neuron] + b\n",
    "        return output\n",
    "    return hook_fn\n",
    "\n",
    "def random_protein_sequence(length):\n",
    "    return ''.join(random.choices(\"ACDEFGHIKLMNPQRSTVWY\", k=length))\n",
    "\n",
    "def sample_from_logits(logits):\n",
    "    probs = F.softmax(logits, dim=-1)\n",
    "    return torch.multinomial(probs, num_samples=1).squeeze(-1)\n",
    "\n",
    "def decode_tokens(tokenizer, token_ids):\n",
    "    return tokenizer.decode(token_ids, skip_special_tokens=True).replace(\" \", \"\")\n",
    "\n",
    "# ----------------------------\n",
    "# MAIN STEERING LOOP\n",
    "# ----------------------------\n",
    "def steer_sequences():\n",
    "    device = torch.device(\"cuda\" if torch.cuda.is_available() else \"cpu\")\n",
    "    tokenizer = AutoTokenizer.from_pretrained(MODEL_NAME, do_lower_case=False)\n",
    "    model = AutoModelForMaskedLM.from_pretrained(MODEL_NAME).to(device)\n",
    "    model.eval()\n",
    "\n",
    "    # Load neurons to steer\n",
    "    matched_neurons = find_matching_neurons(CSV_PATH, MATCH_STRING)\n",
    "    if not matched_neurons:\n",
    "        print(\"No matching neurons found.\")\n",
    "        return\n",
    "\n",
    "    # Organize by layer\n",
    "    layer_to_neurons = defaultdict(list)\n",
    "    for layer, neuron in matched_neurons:\n",
    "        layer_to_neurons[layer].append(neuron)\n",
    "\n",
    "    best_sequence = None\n",
    "    best_score = -float('inf')\n",
    "    history = []  # Store (sequence, activation) pairs\n",
    "\n",
    "    for step in tqdm(range(NUM_STEPS)):\n",
    "        seq = random_protein_sequence(SEQ_LEN)\n",
    "        inputs = tokenizer(seq, return_tensors=\"pt\").to(device)\n",
    "\n",
    "        # Register hooks\n",
    "        handles = []\n",
    "        for layer, neurons in layer_to_neurons.items():\n",
    "            hook = model.base_model.encoder.layer[layer].intermediate.register_forward_hook(\n",
    "                make_multi_neuron_hook(neurons, A, B)\n",
    "            )\n",
    "            handles.append(hook)\n",
    "\n",
    "        # Forward pass\n",
    "        with torch.no_grad():\n",
    "            outputs = model(**inputs, output_hidden_states=True)\n",
    "            logits = outputs.logits[0]\n",
    "            hidden_states = outputs.hidden_states\n",
    "\n",
    "        # Remove hooks\n",
    "        for h in handles:\n",
    "            h.remove()\n",
    "\n",
    "        # Score: average activation across all target neurons\n",
    "        total = 0\n",
    "        count = 0\n",
    "        for layer, neurons in layer_to_neurons.items():\n",
    "            h = hidden_states[layer][0]\n",
    "            for n in neurons:\n",
    "                total += h[:, n].mean().item()\n",
    "                count += 1\n",
    "        avg_act = total / count if count > 0 else 0\n",
    "\n",
    "        # Sample sequence\n",
    "        sampled_ids = sample_from_logits(logits)\n",
    "        new_seq = decode_tokens(tokenizer, sampled_ids)\n",
    "\n",
    "        # Save to history\n",
    "        history.append((new_seq, avg_act))\n",
    "\n",
    "        if avg_act > best_score:\n",
    "            best_score = avg_act\n",
    "            best_sequence = new_seq\n",
    "\n",
    "        print(f\"[{step+1:03}] avg_activation={avg_act:.4f} | {new_seq}\")\n",
    "\n",
    "    print(\"\\n=== Best Sequence ===\")\n",
    "    print(best_sequence)\n",
    "    print(f\"Max avg activation: {best_score:.4f}\")\n",
    "\n",
    "    # Optional: save to CSV\n",
    "    with open(\"steered_sequences.csv\", \"w\", newline=\"\") as csvfile:\n",
    "        writer = csv.writer(csvfile)\n",
    "        writer.writerow([\"sequence\", \"avg_activation\"])\n",
    "        for seq, act in history:\n",
    "            writer.writerow([seq, act])\n",
    "\n",
    "# Run\n",
    "steer_sequences()\n"
   ]
  },
  {
   "cell_type": "code",
   "execution_count": null,
   "metadata": {},
   "outputs": [],
   "source": [
    "from Bio.SeqUtils.ProtParam import ProteinAnalysis\n",
    "\n",
    "def compute_gravy_ignore_x(seq):\n",
    "    cleaned = seq.replace(\"X\", \"\")  # Remove unknowns\n",
    "    if not cleaned:\n",
    "        return None  # No valid amino acids\n",
    "    return ProteinAnalysis(cleaned).gravy()\n",
    "# Example\n",
    "protein_seq = \"QQDAQKAQQQDQQQNRNTNQQAQTQQNQQNNQNGNTTRQQQQEANGQNQEQQ\"  # replace with your sequence\n",
    "gravy_score = compute_gravy_ignore_x(protein_seq)\n",
    "\n"
   ]
  },
  {
   "cell_type": "code",
   "execution_count": null,
   "metadata": {},
   "outputs": [],
   "source": [
    "print(gravy_score)"
   ]
  },
  {
   "cell_type": "code",
   "execution_count": 4,
   "metadata": {},
   "outputs": [
    {
     "name": "stderr",
     "output_type": "stream",
     "text": [
      "Some weights of the model checkpoint at facebook/esm2_t12_35M_UR50D were not used when initializing EsmForMaskedLM: ['esm.embeddings.position_embeddings.weight']\n",
      "- This IS expected if you are initializing EsmForMaskedLM from the checkpoint of a model trained on another task or with another architecture (e.g. initializing a BertForSequenceClassification model from a BertForPreTraining model).\n",
      "- This IS NOT expected if you are initializing EsmForMaskedLM from the checkpoint of a model that you expect to be exactly identical (initializing a BertForSequenceClassification model from a BertForSequenceClassification model).\n",
      "  1%|          | 1/100 [00:00<00:21,  4.69it/s]"
     ]
    },
    {
     "name": "stdout",
     "output_type": "stream",
     "text": [
      "[001] avg_activation=7.5705 | gravy=53.0804 | GGGQQGQDGNGNDNAQNDDQNGNQNQQKQQNANTQQDQQQXSDGNQEQQNEQ\n"
     ]
    },
    {
     "name": "stderr",
     "output_type": "stream",
     "text": [
      "  2%|▏         | 2/100 [00:00<00:21,  4.65it/s]"
     ]
    },
    {
     "name": "stdout",
     "output_type": "stream",
     "text": [
      "[002] avg_activation=7.5724 | gravy=80.7580 | QQQQQTQQGQNQDLQRXNQQGQRQQQRTNNQQNQQQNQNRQQQNQNQQQQQ\n"
     ]
    },
    {
     "name": "stderr",
     "output_type": "stream",
     "text": [
      "  3%|▎         | 3/100 [00:00<00:20,  4.66it/s]"
     ]
    },
    {
     "name": "stdout",
     "output_type": "stream",
     "text": [
      "[003] avg_activation=7.5771 | gravy=55.0902 | TDNQXGQQQQQVNNNAQQDAQQTQQTDNSYGDTADNGQNNQQDQQQQTSQQQ\n"
     ]
    },
    {
     "name": "stderr",
     "output_type": "stream",
     "text": [
      "  4%|▍         | 4/100 [00:00<00:20,  4.67it/s]"
     ]
    },
    {
     "name": "stdout",
     "output_type": "stream",
     "text": [
      "[004] avg_activation=7.5840 | gravy=23.6588 | QNQQNDQQQNTNNXDDGDTQNGNQQNNQQHGQNQNGQQDGNQERQDQNEQLD\n"
     ]
    },
    {
     "name": "stderr",
     "output_type": "stream",
     "text": [
      "  5%|▌         | 5/100 [00:01<00:20,  4.69it/s]"
     ]
    },
    {
     "name": "stdout",
     "output_type": "stream",
     "text": [
      "[005] avg_activation=7.5691 | gravy=66.4451 | QDQPQTGGGQQNNKGQSQNQCQNQNQTQNQQTQQQQLEVQTEDQXNGQQQQQ\n"
     ]
    },
    {
     "name": "stderr",
     "output_type": "stream",
     "text": [
      "  6%|▌         | 6/100 [00:01<00:20,  4.66it/s]"
     ]
    },
    {
     "name": "stdout",
     "output_type": "stream",
     "text": [
      "[006] avg_activation=7.5445 | gravy=55.3615 | NQVKQDQQNNASGNNNEDNQGSGNDQTDQPQDDTGQNQSSQDGEQQNNHQQD\n"
     ]
    },
    {
     "name": "stderr",
     "output_type": "stream",
     "text": [
      "  7%|▋         | 7/100 [00:01<00:20,  4.65it/s]"
     ]
    },
    {
     "name": "stdout",
     "output_type": "stream",
     "text": [
      "[007] avg_activation=7.6017 | gravy=49.3750 | ENQQARNANNDQQQQGNANQADTQQLNQQNQTQQKQNQNNQDQGERQQQQQD\n"
     ]
    },
    {
     "name": "stderr",
     "output_type": "stream",
     "text": [
      "  8%|▊         | 8/100 [00:01<00:19,  4.64it/s]"
     ]
    },
    {
     "name": "stdout",
     "output_type": "stream",
     "text": [
      "[008] avg_activation=7.5676 | gravy=52.4750 | QSDQDGQTQGQQNQGGNQQQQQNGQQEQNQGDQQNQADSQGDDDQNENQNQQ\n"
     ]
    },
    {
     "name": "stderr",
     "output_type": "stream",
     "text": [
      "  9%|▉         | 9/100 [00:01<00:19,  4.63it/s]"
     ]
    },
    {
     "name": "stdout",
     "output_type": "stream",
     "text": [
      "[009] avg_activation=7.5471 | gravy=70.3882 | QQQQNEDDQNDQNDQQGQQNQTQNQDQQQQTQQNSSDXQQNDDQQQQQTQQN\n"
     ]
    },
    {
     "name": "stderr",
     "output_type": "stream",
     "text": [
      " 10%|█         | 10/100 [00:02<00:19,  4.63it/s]"
     ]
    },
    {
     "name": "stdout",
     "output_type": "stream",
     "text": [
      "[010] avg_activation=7.5736 | gravy=40.8481 | QDQQNGDNNQPQTSLGQDQQQAQQDQDNTQENQQGQTADQNNEGQNQNQGDQ\n"
     ]
    },
    {
     "name": "stderr",
     "output_type": "stream",
     "text": [
      " 11%|█         | 11/100 [00:02<00:19,  4.63it/s]"
     ]
    },
    {
     "name": "stdout",
     "output_type": "stream",
     "text": [
      "[011] avg_activation=7.5551 | gravy=68.0451 | RQTQDNQGQQQGQNQQGNPQQQDQNQNLQQQGNQXQQSDEQGQQNQNGQQNQ\n"
     ]
    },
    {
     "name": "stderr",
     "output_type": "stream",
     "text": [
      " 12%|█▏        | 12/100 [00:02<00:19,  4.62it/s]"
     ]
    },
    {
     "name": "stdout",
     "output_type": "stream",
     "text": [
      "[012] avg_activation=7.5620 | gravy=93.7038 | EQDQNNQQNQQQDNQLNQQQDNQQDQNNEQQPQGQQPQDQNDQDQQQGEQDS\n"
     ]
    },
    {
     "name": "stderr",
     "output_type": "stream",
     "text": [
      " 13%|█▎        | 13/100 [00:02<00:18,  4.61it/s]"
     ]
    },
    {
     "name": "stdout",
     "output_type": "stream",
     "text": [
      "[013] avg_activation=7.5911 | gravy=41.4608 | GQNQQNGNQGGLEADAEDQTQAESXNNQQQSQNDENRNNGQGMQQQQQNGDN\n"
     ]
    },
    {
     "name": "stderr",
     "output_type": "stream",
     "text": [
      " 14%|█▍        | 14/100 [00:03<00:18,  4.61it/s]"
     ]
    },
    {
     "name": "stdout",
     "output_type": "stream",
     "text": [
      "[014] avg_activation=7.6103 | gravy=70.1577 | QQNQAATQNQQQQQQQQQQSNNNNNNAQNGEQQGQNGGGGEQDNQPGDDQDE\n"
     ]
    },
    {
     "name": "stderr",
     "output_type": "stream",
     "text": [
      " 15%|█▌        | 15/100 [00:03<00:18,  4.61it/s]"
     ]
    },
    {
     "name": "stdout",
     "output_type": "stream",
     "text": [
      "[015] avg_activation=7.5562 | gravy=86.6880 | QQQEGTSSQQTGQADQQQQGNQQQGQQGQQTQQQQXSNQGNQSDKNXQQQQQ\n"
     ]
    },
    {
     "name": "stderr",
     "output_type": "stream",
     "text": [
      " 16%|█▌        | 16/100 [00:03<00:18,  4.61it/s]"
     ]
    },
    {
     "name": "stdout",
     "output_type": "stream",
     "text": [
      "[016] avg_activation=7.5813 | gravy=74.7135 | QQQGQQDDQNQQQGGNQAQLSTAQDNHQEPNEAQCQPQDQTQQQSQQQLSAQ\n"
     ]
    },
    {
     "name": "stderr",
     "output_type": "stream",
     "text": [
      " 17%|█▋        | 17/100 [00:03<00:17,  4.63it/s]"
     ]
    },
    {
     "name": "stdout",
     "output_type": "stream",
     "text": [
      "[017] avg_activation=7.5586 | gravy=63.4865 | QGQDQNQQQDKNQQQRAEQGQQKNQQQLGSQTDTSQRADTNNQDQQSGQQQQ\n"
     ]
    },
    {
     "name": "stderr",
     "output_type": "stream",
     "text": [
      " 18%|█▊        | 18/100 [00:03<00:17,  4.66it/s]"
     ]
    },
    {
     "name": "stdout",
     "output_type": "stream",
     "text": [
      "[018] avg_activation=7.5680 | gravy=46.0635 | QADGQHQQNQQQQTQQQNGQQQQNQNQGQQQGCQGQNQNQNQQAQQNGGGGL\n"
     ]
    },
    {
     "name": "stderr",
     "output_type": "stream",
     "text": [
      " 19%|█▉        | 19/100 [00:04<00:17,  4.68it/s]"
     ]
    },
    {
     "name": "stdout",
     "output_type": "stream",
     "text": [
      "[019] avg_activation=7.5886 | gravy=38.3635 | QNDDNQTSNGGEQNNQQQTNQQEDEQNNNQTSDQQQQATEENNQMGQGTGNQ\n"
     ]
    },
    {
     "name": "stderr",
     "output_type": "stream",
     "text": [
      " 20%|██        | 20/100 [00:04<00:17,  4.70it/s]"
     ]
    },
    {
     "name": "stdout",
     "output_type": "stream",
     "text": [
      "[020] avg_activation=7.5641 | gravy=56.0373 | NQQQNNNQGLAQNGNQDNNGDQGXEGQKQNRDQHSQSQLQQQQQQDQNDQNQ\n"
     ]
    },
    {
     "name": "stderr",
     "output_type": "stream",
     "text": [
      " 21%|██        | 21/100 [00:04<00:16,  4.72it/s]"
     ]
    },
    {
     "name": "stdout",
     "output_type": "stream",
     "text": [
      "[021] avg_activation=7.6648 | gravy=106.5769 | QQDQAQQQQLQQGDQNQQQTQNQQQEQQQQQQPQGQQGQQGQQDNDQQNQQP\n"
     ]
    },
    {
     "name": "stderr",
     "output_type": "stream",
     "text": [
      " 22%|██▏       | 22/100 [00:04<00:16,  4.73it/s]"
     ]
    },
    {
     "name": "stdout",
     "output_type": "stream",
     "text": [
      "[022] avg_activation=7.5670 | gravy=70.0288 | NNQGQTQTNQQQQTQQQQNNQSGQSEQQQQNQQNQDNSNQQQNAQNNVNSQC\n"
     ]
    },
    {
     "name": "stderr",
     "output_type": "stream",
     "text": [
      " 23%|██▎       | 23/100 [00:04<00:16,  4.75it/s]"
     ]
    },
    {
     "name": "stdout",
     "output_type": "stream",
     "text": [
      "[023] avg_activation=7.5600 | gravy=33.6077 | QQDDNSQQNDDQNQQQAQNQNTQQNQNNNTNQQANNFQNQQQQGQNQQNANQ\n"
     ]
    },
    {
     "name": "stderr",
     "output_type": "stream",
     "text": [
      " 24%|██▍       | 24/100 [00:05<00:15,  4.76it/s]"
     ]
    },
    {
     "name": "stdout",
     "output_type": "stream",
     "text": [
      "[024] avg_activation=7.5768 | gravy=38.3510 | QAQNQNGQNQQNQXNDNNQDTGDQQNQQNNQQQNNATQQENNQAEDQQLQQT\n"
     ]
    },
    {
     "name": "stderr",
     "output_type": "stream",
     "text": [
      " 25%|██▌       | 25/100 [00:05<00:15,  4.78it/s]"
     ]
    },
    {
     "name": "stdout",
     "output_type": "stream",
     "text": [
      "[025] avg_activation=7.5750 | gravy=71.5900 | IDSNQQQQTQQQGQQNGQQDGDAGQNXTQQNQQQAQQQQDQXTNQQQIQDQQ\n"
     ]
    },
    {
     "name": "stderr",
     "output_type": "stream",
     "text": [
      " 26%|██▌       | 26/100 [00:05<00:15,  4.65it/s]"
     ]
    },
    {
     "name": "stdout",
     "output_type": "stream",
     "text": [
      "[026] avg_activation=7.5685 | gravy=59.9300 | DXQQDQQGNPQQNYQQQQDNNRQGQQGEQDDQQQNGQGDNNNQXGAQDNQNS\n"
     ]
    },
    {
     "name": "stderr",
     "output_type": "stream",
     "text": [
      "\n"
     ]
    },
    {
     "ename": "KeyboardInterrupt",
     "evalue": "",
     "output_type": "error",
     "traceback": [
      "\u001b[0;31m---------------------------------------------------------------------------\u001b[0m",
      "\u001b[0;31mKeyboardInterrupt\u001b[0m                         Traceback (most recent call last)",
      "Cell \u001b[0;32mIn[4], line 159\u001b[0m\n\u001b[1;32m    157\u001b[0m \u001b[38;5;66;03m# Run\u001b[39;00m\n\u001b[1;32m    158\u001b[0m \u001b[38;5;28;01mif\u001b[39;00m \u001b[38;5;18m__name__\u001b[39m \u001b[38;5;241m==\u001b[39m \u001b[38;5;124m\"\u001b[39m\u001b[38;5;124m__main__\u001b[39m\u001b[38;5;124m\"\u001b[39m:\n\u001b[0;32m--> 159\u001b[0m     \u001b[43msteer_sequences\u001b[49m\u001b[43m(\u001b[49m\u001b[43m)\u001b[49m\n",
      "Cell \u001b[0;32mIn[4], line 100\u001b[0m, in \u001b[0;36msteer_sequences\u001b[0;34m()\u001b[0m\n\u001b[1;32m     98\u001b[0m \u001b[38;5;66;03m# Forward pass with hooks\u001b[39;00m\n\u001b[1;32m     99\u001b[0m \u001b[38;5;28;01mwith\u001b[39;00m torch\u001b[38;5;241m.\u001b[39mno_grad():\n\u001b[0;32m--> 100\u001b[0m     outputs \u001b[38;5;241m=\u001b[39m \u001b[43mmodel\u001b[49m\u001b[43m(\u001b[49m\u001b[38;5;241;43m*\u001b[39;49m\u001b[38;5;241;43m*\u001b[39;49m\u001b[43minputs\u001b[49m\u001b[43m,\u001b[49m\u001b[43m \u001b[49m\u001b[43moutput_hidden_states\u001b[49m\u001b[38;5;241;43m=\u001b[39;49m\u001b[38;5;28;43;01mTrue\u001b[39;49;00m\u001b[43m)\u001b[49m\n\u001b[1;32m    101\u001b[0m     logits \u001b[38;5;241m=\u001b[39m outputs\u001b[38;5;241m.\u001b[39mlogits[\u001b[38;5;241m0\u001b[39m]\n\u001b[1;32m    102\u001b[0m     hidden_states \u001b[38;5;241m=\u001b[39m outputs\u001b[38;5;241m.\u001b[39mhidden_states\n",
      "File \u001b[0;32m~/protolyze/.venv/lib/python3.10/site-packages/torch/nn/modules/module.py:1751\u001b[0m, in \u001b[0;36mModule._wrapped_call_impl\u001b[0;34m(self, *args, **kwargs)\u001b[0m\n\u001b[1;32m   1749\u001b[0m     \u001b[38;5;28;01mreturn\u001b[39;00m \u001b[38;5;28mself\u001b[39m\u001b[38;5;241m.\u001b[39m_compiled_call_impl(\u001b[38;5;241m*\u001b[39margs, \u001b[38;5;241m*\u001b[39m\u001b[38;5;241m*\u001b[39mkwargs)  \u001b[38;5;66;03m# type: ignore[misc]\u001b[39;00m\n\u001b[1;32m   1750\u001b[0m \u001b[38;5;28;01melse\u001b[39;00m:\n\u001b[0;32m-> 1751\u001b[0m     \u001b[38;5;28;01mreturn\u001b[39;00m \u001b[38;5;28;43mself\u001b[39;49m\u001b[38;5;241;43m.\u001b[39;49m\u001b[43m_call_impl\u001b[49m\u001b[43m(\u001b[49m\u001b[38;5;241;43m*\u001b[39;49m\u001b[43margs\u001b[49m\u001b[43m,\u001b[49m\u001b[43m \u001b[49m\u001b[38;5;241;43m*\u001b[39;49m\u001b[38;5;241;43m*\u001b[39;49m\u001b[43mkwargs\u001b[49m\u001b[43m)\u001b[49m\n",
      "File \u001b[0;32m~/protolyze/.venv/lib/python3.10/site-packages/torch/nn/modules/module.py:1762\u001b[0m, in \u001b[0;36mModule._call_impl\u001b[0;34m(self, *args, **kwargs)\u001b[0m\n\u001b[1;32m   1757\u001b[0m \u001b[38;5;66;03m# If we don't have any hooks, we want to skip the rest of the logic in\u001b[39;00m\n\u001b[1;32m   1758\u001b[0m \u001b[38;5;66;03m# this function, and just call forward.\u001b[39;00m\n\u001b[1;32m   1759\u001b[0m \u001b[38;5;28;01mif\u001b[39;00m \u001b[38;5;129;01mnot\u001b[39;00m (\u001b[38;5;28mself\u001b[39m\u001b[38;5;241m.\u001b[39m_backward_hooks \u001b[38;5;129;01mor\u001b[39;00m \u001b[38;5;28mself\u001b[39m\u001b[38;5;241m.\u001b[39m_backward_pre_hooks \u001b[38;5;129;01mor\u001b[39;00m \u001b[38;5;28mself\u001b[39m\u001b[38;5;241m.\u001b[39m_forward_hooks \u001b[38;5;129;01mor\u001b[39;00m \u001b[38;5;28mself\u001b[39m\u001b[38;5;241m.\u001b[39m_forward_pre_hooks\n\u001b[1;32m   1760\u001b[0m         \u001b[38;5;129;01mor\u001b[39;00m _global_backward_pre_hooks \u001b[38;5;129;01mor\u001b[39;00m _global_backward_hooks\n\u001b[1;32m   1761\u001b[0m         \u001b[38;5;129;01mor\u001b[39;00m _global_forward_hooks \u001b[38;5;129;01mor\u001b[39;00m _global_forward_pre_hooks):\n\u001b[0;32m-> 1762\u001b[0m     \u001b[38;5;28;01mreturn\u001b[39;00m \u001b[43mforward_call\u001b[49m\u001b[43m(\u001b[49m\u001b[38;5;241;43m*\u001b[39;49m\u001b[43margs\u001b[49m\u001b[43m,\u001b[49m\u001b[43m \u001b[49m\u001b[38;5;241;43m*\u001b[39;49m\u001b[38;5;241;43m*\u001b[39;49m\u001b[43mkwargs\u001b[49m\u001b[43m)\u001b[49m\n\u001b[1;32m   1764\u001b[0m result \u001b[38;5;241m=\u001b[39m \u001b[38;5;28;01mNone\u001b[39;00m\n\u001b[1;32m   1765\u001b[0m called_always_called_hooks \u001b[38;5;241m=\u001b[39m \u001b[38;5;28mset\u001b[39m()\n",
      "File \u001b[0;32m~/protolyze/.venv/lib/python3.10/site-packages/transformers/models/esm/modeling_esm.py:1054\u001b[0m, in \u001b[0;36mEsmForMaskedLM.forward\u001b[0;34m(self, input_ids, attention_mask, position_ids, head_mask, inputs_embeds, encoder_hidden_states, encoder_attention_mask, labels, output_attentions, output_hidden_states, return_dict)\u001b[0m\n\u001b[1;32m   1046\u001b[0m \u001b[38;5;250m\u001b[39m\u001b[38;5;124mr\u001b[39m\u001b[38;5;124;03m\"\"\"\u001b[39;00m\n\u001b[1;32m   1047\u001b[0m \u001b[38;5;124;03mlabels (`torch.LongTensor` of shape `(batch_size, sequence_length)`, *optional*):\u001b[39;00m\n\u001b[1;32m   1048\u001b[0m \u001b[38;5;124;03m    Labels for computing the masked language modeling loss. Indices should be in `[-100, 0, ...,\u001b[39;00m\n\u001b[1;32m   1049\u001b[0m \u001b[38;5;124;03m    config.vocab_size]` (see `input_ids` docstring) Tokens with indices set to `-100` are ignored (masked), the\u001b[39;00m\n\u001b[1;32m   1050\u001b[0m \u001b[38;5;124;03m    loss is only computed for the tokens with labels in `[0, ..., config.vocab_size]`\u001b[39;00m\n\u001b[1;32m   1051\u001b[0m \u001b[38;5;124;03m\"\"\"\u001b[39;00m\n\u001b[1;32m   1052\u001b[0m return_dict \u001b[38;5;241m=\u001b[39m return_dict \u001b[38;5;28;01mif\u001b[39;00m return_dict \u001b[38;5;129;01mis\u001b[39;00m \u001b[38;5;129;01mnot\u001b[39;00m \u001b[38;5;28;01mNone\u001b[39;00m \u001b[38;5;28;01melse\u001b[39;00m \u001b[38;5;28mself\u001b[39m\u001b[38;5;241m.\u001b[39mconfig\u001b[38;5;241m.\u001b[39muse_return_dict\n\u001b[0;32m-> 1054\u001b[0m outputs \u001b[38;5;241m=\u001b[39m \u001b[38;5;28;43mself\u001b[39;49m\u001b[38;5;241;43m.\u001b[39;49m\u001b[43mesm\u001b[49m\u001b[43m(\u001b[49m\n\u001b[1;32m   1055\u001b[0m \u001b[43m    \u001b[49m\u001b[43minput_ids\u001b[49m\u001b[43m,\u001b[49m\n\u001b[1;32m   1056\u001b[0m \u001b[43m    \u001b[49m\u001b[43mattention_mask\u001b[49m\u001b[38;5;241;43m=\u001b[39;49m\u001b[43mattention_mask\u001b[49m\u001b[43m,\u001b[49m\n\u001b[1;32m   1057\u001b[0m \u001b[43m    \u001b[49m\u001b[43mposition_ids\u001b[49m\u001b[38;5;241;43m=\u001b[39;49m\u001b[43mposition_ids\u001b[49m\u001b[43m,\u001b[49m\n\u001b[1;32m   1058\u001b[0m \u001b[43m    \u001b[49m\u001b[43mhead_mask\u001b[49m\u001b[38;5;241;43m=\u001b[39;49m\u001b[43mhead_mask\u001b[49m\u001b[43m,\u001b[49m\n\u001b[1;32m   1059\u001b[0m \u001b[43m    \u001b[49m\u001b[43minputs_embeds\u001b[49m\u001b[38;5;241;43m=\u001b[39;49m\u001b[43minputs_embeds\u001b[49m\u001b[43m,\u001b[49m\n\u001b[1;32m   1060\u001b[0m \u001b[43m    \u001b[49m\u001b[43mencoder_hidden_states\u001b[49m\u001b[38;5;241;43m=\u001b[39;49m\u001b[43mencoder_hidden_states\u001b[49m\u001b[43m,\u001b[49m\n\u001b[1;32m   1061\u001b[0m \u001b[43m    \u001b[49m\u001b[43mencoder_attention_mask\u001b[49m\u001b[38;5;241;43m=\u001b[39;49m\u001b[43mencoder_attention_mask\u001b[49m\u001b[43m,\u001b[49m\n\u001b[1;32m   1062\u001b[0m \u001b[43m    \u001b[49m\u001b[43moutput_attentions\u001b[49m\u001b[38;5;241;43m=\u001b[39;49m\u001b[43moutput_attentions\u001b[49m\u001b[43m,\u001b[49m\n\u001b[1;32m   1063\u001b[0m \u001b[43m    \u001b[49m\u001b[43moutput_hidden_states\u001b[49m\u001b[38;5;241;43m=\u001b[39;49m\u001b[43moutput_hidden_states\u001b[49m\u001b[43m,\u001b[49m\n\u001b[1;32m   1064\u001b[0m \u001b[43m    \u001b[49m\u001b[43mreturn_dict\u001b[49m\u001b[38;5;241;43m=\u001b[39;49m\u001b[43mreturn_dict\u001b[49m\u001b[43m,\u001b[49m\n\u001b[1;32m   1065\u001b[0m \u001b[43m\u001b[49m\u001b[43m)\u001b[49m\n\u001b[1;32m   1066\u001b[0m sequence_output \u001b[38;5;241m=\u001b[39m outputs[\u001b[38;5;241m0\u001b[39m]\n\u001b[1;32m   1067\u001b[0m prediction_scores \u001b[38;5;241m=\u001b[39m \u001b[38;5;28mself\u001b[39m\u001b[38;5;241m.\u001b[39mlm_head(sequence_output)\n",
      "File \u001b[0;32m~/protolyze/.venv/lib/python3.10/site-packages/torch/nn/modules/module.py:1751\u001b[0m, in \u001b[0;36mModule._wrapped_call_impl\u001b[0;34m(self, *args, **kwargs)\u001b[0m\n\u001b[1;32m   1749\u001b[0m     \u001b[38;5;28;01mreturn\u001b[39;00m \u001b[38;5;28mself\u001b[39m\u001b[38;5;241m.\u001b[39m_compiled_call_impl(\u001b[38;5;241m*\u001b[39margs, \u001b[38;5;241m*\u001b[39m\u001b[38;5;241m*\u001b[39mkwargs)  \u001b[38;5;66;03m# type: ignore[misc]\u001b[39;00m\n\u001b[1;32m   1750\u001b[0m \u001b[38;5;28;01melse\u001b[39;00m:\n\u001b[0;32m-> 1751\u001b[0m     \u001b[38;5;28;01mreturn\u001b[39;00m \u001b[38;5;28;43mself\u001b[39;49m\u001b[38;5;241;43m.\u001b[39;49m\u001b[43m_call_impl\u001b[49m\u001b[43m(\u001b[49m\u001b[38;5;241;43m*\u001b[39;49m\u001b[43margs\u001b[49m\u001b[43m,\u001b[49m\u001b[43m \u001b[49m\u001b[38;5;241;43m*\u001b[39;49m\u001b[38;5;241;43m*\u001b[39;49m\u001b[43mkwargs\u001b[49m\u001b[43m)\u001b[49m\n",
      "File \u001b[0;32m~/protolyze/.venv/lib/python3.10/site-packages/torch/nn/modules/module.py:1762\u001b[0m, in \u001b[0;36mModule._call_impl\u001b[0;34m(self, *args, **kwargs)\u001b[0m\n\u001b[1;32m   1757\u001b[0m \u001b[38;5;66;03m# If we don't have any hooks, we want to skip the rest of the logic in\u001b[39;00m\n\u001b[1;32m   1758\u001b[0m \u001b[38;5;66;03m# this function, and just call forward.\u001b[39;00m\n\u001b[1;32m   1759\u001b[0m \u001b[38;5;28;01mif\u001b[39;00m \u001b[38;5;129;01mnot\u001b[39;00m (\u001b[38;5;28mself\u001b[39m\u001b[38;5;241m.\u001b[39m_backward_hooks \u001b[38;5;129;01mor\u001b[39;00m \u001b[38;5;28mself\u001b[39m\u001b[38;5;241m.\u001b[39m_backward_pre_hooks \u001b[38;5;129;01mor\u001b[39;00m \u001b[38;5;28mself\u001b[39m\u001b[38;5;241m.\u001b[39m_forward_hooks \u001b[38;5;129;01mor\u001b[39;00m \u001b[38;5;28mself\u001b[39m\u001b[38;5;241m.\u001b[39m_forward_pre_hooks\n\u001b[1;32m   1760\u001b[0m         \u001b[38;5;129;01mor\u001b[39;00m _global_backward_pre_hooks \u001b[38;5;129;01mor\u001b[39;00m _global_backward_hooks\n\u001b[1;32m   1761\u001b[0m         \u001b[38;5;129;01mor\u001b[39;00m _global_forward_hooks \u001b[38;5;129;01mor\u001b[39;00m _global_forward_pre_hooks):\n\u001b[0;32m-> 1762\u001b[0m     \u001b[38;5;28;01mreturn\u001b[39;00m \u001b[43mforward_call\u001b[49m\u001b[43m(\u001b[49m\u001b[38;5;241;43m*\u001b[39;49m\u001b[43margs\u001b[49m\u001b[43m,\u001b[49m\u001b[43m \u001b[49m\u001b[38;5;241;43m*\u001b[39;49m\u001b[38;5;241;43m*\u001b[39;49m\u001b[43mkwargs\u001b[49m\u001b[43m)\u001b[49m\n\u001b[1;32m   1764\u001b[0m result \u001b[38;5;241m=\u001b[39m \u001b[38;5;28;01mNone\u001b[39;00m\n\u001b[1;32m   1765\u001b[0m called_always_called_hooks \u001b[38;5;241m=\u001b[39m \u001b[38;5;28mset\u001b[39m()\n",
      "File \u001b[0;32m~/protolyze/.venv/lib/python3.10/site-packages/transformers/models/esm/modeling_esm.py:968\u001b[0m, in \u001b[0;36mEsmModel.forward\u001b[0;34m(self, input_ids, attention_mask, position_ids, head_mask, inputs_embeds, encoder_hidden_states, encoder_attention_mask, past_key_values, use_cache, output_attentions, output_hidden_states, return_dict)\u001b[0m\n\u001b[1;32m    959\u001b[0m head_mask \u001b[38;5;241m=\u001b[39m \u001b[38;5;28mself\u001b[39m\u001b[38;5;241m.\u001b[39mget_head_mask(head_mask, \u001b[38;5;28mself\u001b[39m\u001b[38;5;241m.\u001b[39mconfig\u001b[38;5;241m.\u001b[39mnum_hidden_layers)\n\u001b[1;32m    961\u001b[0m embedding_output \u001b[38;5;241m=\u001b[39m \u001b[38;5;28mself\u001b[39m\u001b[38;5;241m.\u001b[39membeddings(\n\u001b[1;32m    962\u001b[0m     input_ids\u001b[38;5;241m=\u001b[39minput_ids,\n\u001b[1;32m    963\u001b[0m     position_ids\u001b[38;5;241m=\u001b[39mposition_ids,\n\u001b[0;32m   (...)\u001b[0m\n\u001b[1;32m    966\u001b[0m     past_key_values_length\u001b[38;5;241m=\u001b[39mpast_key_values_length,\n\u001b[1;32m    967\u001b[0m )\n\u001b[0;32m--> 968\u001b[0m encoder_outputs \u001b[38;5;241m=\u001b[39m \u001b[38;5;28;43mself\u001b[39;49m\u001b[38;5;241;43m.\u001b[39;49m\u001b[43mencoder\u001b[49m\u001b[43m(\u001b[49m\n\u001b[1;32m    969\u001b[0m \u001b[43m    \u001b[49m\u001b[43membedding_output\u001b[49m\u001b[43m,\u001b[49m\n\u001b[1;32m    970\u001b[0m \u001b[43m    \u001b[49m\u001b[43mattention_mask\u001b[49m\u001b[38;5;241;43m=\u001b[39;49m\u001b[43mextended_attention_mask\u001b[49m\u001b[43m,\u001b[49m\n\u001b[1;32m    971\u001b[0m \u001b[43m    \u001b[49m\u001b[43mhead_mask\u001b[49m\u001b[38;5;241;43m=\u001b[39;49m\u001b[43mhead_mask\u001b[49m\u001b[43m,\u001b[49m\n\u001b[1;32m    972\u001b[0m \u001b[43m    \u001b[49m\u001b[43mencoder_hidden_states\u001b[49m\u001b[38;5;241;43m=\u001b[39;49m\u001b[43mencoder_hidden_states\u001b[49m\u001b[43m,\u001b[49m\n\u001b[1;32m    973\u001b[0m \u001b[43m    \u001b[49m\u001b[43mencoder_attention_mask\u001b[49m\u001b[38;5;241;43m=\u001b[39;49m\u001b[43mencoder_extended_attention_mask\u001b[49m\u001b[43m,\u001b[49m\n\u001b[1;32m    974\u001b[0m \u001b[43m    \u001b[49m\u001b[43mpast_key_values\u001b[49m\u001b[38;5;241;43m=\u001b[39;49m\u001b[43mpast_key_values\u001b[49m\u001b[43m,\u001b[49m\n\u001b[1;32m    975\u001b[0m \u001b[43m    \u001b[49m\u001b[43muse_cache\u001b[49m\u001b[38;5;241;43m=\u001b[39;49m\u001b[43muse_cache\u001b[49m\u001b[43m,\u001b[49m\n\u001b[1;32m    976\u001b[0m \u001b[43m    \u001b[49m\u001b[43moutput_attentions\u001b[49m\u001b[38;5;241;43m=\u001b[39;49m\u001b[43moutput_attentions\u001b[49m\u001b[43m,\u001b[49m\n\u001b[1;32m    977\u001b[0m \u001b[43m    \u001b[49m\u001b[43moutput_hidden_states\u001b[49m\u001b[38;5;241;43m=\u001b[39;49m\u001b[43moutput_hidden_states\u001b[49m\u001b[43m,\u001b[49m\n\u001b[1;32m    978\u001b[0m \u001b[43m    \u001b[49m\u001b[43mreturn_dict\u001b[49m\u001b[38;5;241;43m=\u001b[39;49m\u001b[43mreturn_dict\u001b[49m\u001b[43m,\u001b[49m\n\u001b[1;32m    979\u001b[0m \u001b[43m\u001b[49m\u001b[43m)\u001b[49m\n\u001b[1;32m    980\u001b[0m sequence_output \u001b[38;5;241m=\u001b[39m encoder_outputs[\u001b[38;5;241m0\u001b[39m]\n\u001b[1;32m    981\u001b[0m pooled_output \u001b[38;5;241m=\u001b[39m \u001b[38;5;28mself\u001b[39m\u001b[38;5;241m.\u001b[39mpooler(sequence_output) \u001b[38;5;28;01mif\u001b[39;00m \u001b[38;5;28mself\u001b[39m\u001b[38;5;241m.\u001b[39mpooler \u001b[38;5;129;01mis\u001b[39;00m \u001b[38;5;129;01mnot\u001b[39;00m \u001b[38;5;28;01mNone\u001b[39;00m \u001b[38;5;28;01melse\u001b[39;00m \u001b[38;5;28;01mNone\u001b[39;00m\n",
      "File \u001b[0;32m~/protolyze/.venv/lib/python3.10/site-packages/torch/nn/modules/module.py:1751\u001b[0m, in \u001b[0;36mModule._wrapped_call_impl\u001b[0;34m(self, *args, **kwargs)\u001b[0m\n\u001b[1;32m   1749\u001b[0m     \u001b[38;5;28;01mreturn\u001b[39;00m \u001b[38;5;28mself\u001b[39m\u001b[38;5;241m.\u001b[39m_compiled_call_impl(\u001b[38;5;241m*\u001b[39margs, \u001b[38;5;241m*\u001b[39m\u001b[38;5;241m*\u001b[39mkwargs)  \u001b[38;5;66;03m# type: ignore[misc]\u001b[39;00m\n\u001b[1;32m   1750\u001b[0m \u001b[38;5;28;01melse\u001b[39;00m:\n\u001b[0;32m-> 1751\u001b[0m     \u001b[38;5;28;01mreturn\u001b[39;00m \u001b[38;5;28;43mself\u001b[39;49m\u001b[38;5;241;43m.\u001b[39;49m\u001b[43m_call_impl\u001b[49m\u001b[43m(\u001b[49m\u001b[38;5;241;43m*\u001b[39;49m\u001b[43margs\u001b[49m\u001b[43m,\u001b[49m\u001b[43m \u001b[49m\u001b[38;5;241;43m*\u001b[39;49m\u001b[38;5;241;43m*\u001b[39;49m\u001b[43mkwargs\u001b[49m\u001b[43m)\u001b[49m\n",
      "File \u001b[0;32m~/protolyze/.venv/lib/python3.10/site-packages/torch/nn/modules/module.py:1762\u001b[0m, in \u001b[0;36mModule._call_impl\u001b[0;34m(self, *args, **kwargs)\u001b[0m\n\u001b[1;32m   1757\u001b[0m \u001b[38;5;66;03m# If we don't have any hooks, we want to skip the rest of the logic in\u001b[39;00m\n\u001b[1;32m   1758\u001b[0m \u001b[38;5;66;03m# this function, and just call forward.\u001b[39;00m\n\u001b[1;32m   1759\u001b[0m \u001b[38;5;28;01mif\u001b[39;00m \u001b[38;5;129;01mnot\u001b[39;00m (\u001b[38;5;28mself\u001b[39m\u001b[38;5;241m.\u001b[39m_backward_hooks \u001b[38;5;129;01mor\u001b[39;00m \u001b[38;5;28mself\u001b[39m\u001b[38;5;241m.\u001b[39m_backward_pre_hooks \u001b[38;5;129;01mor\u001b[39;00m \u001b[38;5;28mself\u001b[39m\u001b[38;5;241m.\u001b[39m_forward_hooks \u001b[38;5;129;01mor\u001b[39;00m \u001b[38;5;28mself\u001b[39m\u001b[38;5;241m.\u001b[39m_forward_pre_hooks\n\u001b[1;32m   1760\u001b[0m         \u001b[38;5;129;01mor\u001b[39;00m _global_backward_pre_hooks \u001b[38;5;129;01mor\u001b[39;00m _global_backward_hooks\n\u001b[1;32m   1761\u001b[0m         \u001b[38;5;129;01mor\u001b[39;00m _global_forward_hooks \u001b[38;5;129;01mor\u001b[39;00m _global_forward_pre_hooks):\n\u001b[0;32m-> 1762\u001b[0m     \u001b[38;5;28;01mreturn\u001b[39;00m \u001b[43mforward_call\u001b[49m\u001b[43m(\u001b[49m\u001b[38;5;241;43m*\u001b[39;49m\u001b[43margs\u001b[49m\u001b[43m,\u001b[49m\u001b[43m \u001b[49m\u001b[38;5;241;43m*\u001b[39;49m\u001b[38;5;241;43m*\u001b[39;49m\u001b[43mkwargs\u001b[49m\u001b[43m)\u001b[49m\n\u001b[1;32m   1764\u001b[0m result \u001b[38;5;241m=\u001b[39m \u001b[38;5;28;01mNone\u001b[39;00m\n\u001b[1;32m   1765\u001b[0m called_always_called_hooks \u001b[38;5;241m=\u001b[39m \u001b[38;5;28mset\u001b[39m()\n",
      "File \u001b[0;32m~/protolyze/.venv/lib/python3.10/site-packages/transformers/models/esm/modeling_esm.py:734\u001b[0m, in \u001b[0;36mEsmEncoder.forward\u001b[0;34m(self, hidden_states, attention_mask, head_mask, encoder_hidden_states, encoder_attention_mask, past_key_values, use_cache, output_attentions, output_hidden_states, return_dict)\u001b[0m\n\u001b[1;32m    723\u001b[0m     layer_outputs \u001b[38;5;241m=\u001b[39m \u001b[38;5;28mself\u001b[39m\u001b[38;5;241m.\u001b[39m_gradient_checkpointing_func(\n\u001b[1;32m    724\u001b[0m         layer_module\u001b[38;5;241m.\u001b[39m\u001b[38;5;21m__call__\u001b[39m,\n\u001b[1;32m    725\u001b[0m         hidden_states,\n\u001b[0;32m   (...)\u001b[0m\n\u001b[1;32m    731\u001b[0m         output_attentions,\n\u001b[1;32m    732\u001b[0m     )\n\u001b[1;32m    733\u001b[0m \u001b[38;5;28;01melse\u001b[39;00m:\n\u001b[0;32m--> 734\u001b[0m     layer_outputs \u001b[38;5;241m=\u001b[39m \u001b[43mlayer_module\u001b[49m\u001b[43m(\u001b[49m\n\u001b[1;32m    735\u001b[0m \u001b[43m        \u001b[49m\u001b[43mhidden_states\u001b[49m\u001b[43m,\u001b[49m\n\u001b[1;32m    736\u001b[0m \u001b[43m        \u001b[49m\u001b[43mattention_mask\u001b[49m\u001b[43m,\u001b[49m\n\u001b[1;32m    737\u001b[0m \u001b[43m        \u001b[49m\u001b[43mlayer_head_mask\u001b[49m\u001b[43m,\u001b[49m\n\u001b[1;32m    738\u001b[0m \u001b[43m        \u001b[49m\u001b[43mencoder_hidden_states\u001b[49m\u001b[43m,\u001b[49m\n\u001b[1;32m    739\u001b[0m \u001b[43m        \u001b[49m\u001b[43mencoder_attention_mask\u001b[49m\u001b[43m,\u001b[49m\n\u001b[1;32m    740\u001b[0m \u001b[43m        \u001b[49m\u001b[43mpast_key_value\u001b[49m\u001b[43m,\u001b[49m\n\u001b[1;32m    741\u001b[0m \u001b[43m        \u001b[49m\u001b[43moutput_attentions\u001b[49m\u001b[43m,\u001b[49m\n\u001b[1;32m    742\u001b[0m \u001b[43m    \u001b[49m\u001b[43m)\u001b[49m\n\u001b[1;32m    744\u001b[0m hidden_states \u001b[38;5;241m=\u001b[39m layer_outputs[\u001b[38;5;241m0\u001b[39m]\n\u001b[1;32m    745\u001b[0m \u001b[38;5;28;01mif\u001b[39;00m use_cache:\n",
      "File \u001b[0;32m~/protolyze/.venv/lib/python3.10/site-packages/torch/nn/modules/module.py:1751\u001b[0m, in \u001b[0;36mModule._wrapped_call_impl\u001b[0;34m(self, *args, **kwargs)\u001b[0m\n\u001b[1;32m   1749\u001b[0m     \u001b[38;5;28;01mreturn\u001b[39;00m \u001b[38;5;28mself\u001b[39m\u001b[38;5;241m.\u001b[39m_compiled_call_impl(\u001b[38;5;241m*\u001b[39margs, \u001b[38;5;241m*\u001b[39m\u001b[38;5;241m*\u001b[39mkwargs)  \u001b[38;5;66;03m# type: ignore[misc]\u001b[39;00m\n\u001b[1;32m   1750\u001b[0m \u001b[38;5;28;01melse\u001b[39;00m:\n\u001b[0;32m-> 1751\u001b[0m     \u001b[38;5;28;01mreturn\u001b[39;00m \u001b[38;5;28;43mself\u001b[39;49m\u001b[38;5;241;43m.\u001b[39;49m\u001b[43m_call_impl\u001b[49m\u001b[43m(\u001b[49m\u001b[38;5;241;43m*\u001b[39;49m\u001b[43margs\u001b[49m\u001b[43m,\u001b[49m\u001b[43m \u001b[49m\u001b[38;5;241;43m*\u001b[39;49m\u001b[38;5;241;43m*\u001b[39;49m\u001b[43mkwargs\u001b[49m\u001b[43m)\u001b[49m\n",
      "File \u001b[0;32m~/protolyze/.venv/lib/python3.10/site-packages/torch/nn/modules/module.py:1762\u001b[0m, in \u001b[0;36mModule._call_impl\u001b[0;34m(self, *args, **kwargs)\u001b[0m\n\u001b[1;32m   1757\u001b[0m \u001b[38;5;66;03m# If we don't have any hooks, we want to skip the rest of the logic in\u001b[39;00m\n\u001b[1;32m   1758\u001b[0m \u001b[38;5;66;03m# this function, and just call forward.\u001b[39;00m\n\u001b[1;32m   1759\u001b[0m \u001b[38;5;28;01mif\u001b[39;00m \u001b[38;5;129;01mnot\u001b[39;00m (\u001b[38;5;28mself\u001b[39m\u001b[38;5;241m.\u001b[39m_backward_hooks \u001b[38;5;129;01mor\u001b[39;00m \u001b[38;5;28mself\u001b[39m\u001b[38;5;241m.\u001b[39m_backward_pre_hooks \u001b[38;5;129;01mor\u001b[39;00m \u001b[38;5;28mself\u001b[39m\u001b[38;5;241m.\u001b[39m_forward_hooks \u001b[38;5;129;01mor\u001b[39;00m \u001b[38;5;28mself\u001b[39m\u001b[38;5;241m.\u001b[39m_forward_pre_hooks\n\u001b[1;32m   1760\u001b[0m         \u001b[38;5;129;01mor\u001b[39;00m _global_backward_pre_hooks \u001b[38;5;129;01mor\u001b[39;00m _global_backward_hooks\n\u001b[1;32m   1761\u001b[0m         \u001b[38;5;129;01mor\u001b[39;00m _global_forward_hooks \u001b[38;5;129;01mor\u001b[39;00m _global_forward_pre_hooks):\n\u001b[0;32m-> 1762\u001b[0m     \u001b[38;5;28;01mreturn\u001b[39;00m \u001b[43mforward_call\u001b[49m\u001b[43m(\u001b[49m\u001b[38;5;241;43m*\u001b[39;49m\u001b[43margs\u001b[49m\u001b[43m,\u001b[49m\u001b[43m \u001b[49m\u001b[38;5;241;43m*\u001b[39;49m\u001b[38;5;241;43m*\u001b[39;49m\u001b[43mkwargs\u001b[49m\u001b[43m)\u001b[49m\n\u001b[1;32m   1764\u001b[0m result \u001b[38;5;241m=\u001b[39m \u001b[38;5;28;01mNone\u001b[39;00m\n\u001b[1;32m   1765\u001b[0m called_always_called_hooks \u001b[38;5;241m=\u001b[39m \u001b[38;5;28mset\u001b[39m()\n",
      "File \u001b[0;32m~/protolyze/.venv/lib/python3.10/site-packages/transformers/models/esm/modeling_esm.py:666\u001b[0m, in \u001b[0;36mEsmLayer.forward\u001b[0;34m(self, hidden_states, attention_mask, head_mask, encoder_hidden_states, encoder_attention_mask, past_key_value, output_attentions)\u001b[0m\n\u001b[1;32m    663\u001b[0m     cross_attn_present_key_value \u001b[38;5;241m=\u001b[39m cross_attention_outputs[\u001b[38;5;241m-\u001b[39m\u001b[38;5;241m1\u001b[39m]\n\u001b[1;32m    664\u001b[0m     present_key_value \u001b[38;5;241m=\u001b[39m present_key_value \u001b[38;5;241m+\u001b[39m cross_attn_present_key_value\n\u001b[0;32m--> 666\u001b[0m layer_output \u001b[38;5;241m=\u001b[39m \u001b[38;5;28;43mself\u001b[39;49m\u001b[38;5;241;43m.\u001b[39;49m\u001b[43mfeed_forward_chunk\u001b[49m\u001b[43m(\u001b[49m\u001b[43mattention_output\u001b[49m\u001b[43m)\u001b[49m\n\u001b[1;32m    668\u001b[0m outputs \u001b[38;5;241m=\u001b[39m (layer_output,) \u001b[38;5;241m+\u001b[39m outputs\n\u001b[1;32m    670\u001b[0m \u001b[38;5;66;03m# if decoder, return the attn key/values as the last output\u001b[39;00m\n",
      "File \u001b[0;32m~/protolyze/.venv/lib/python3.10/site-packages/transformers/models/esm/modeling_esm.py:677\u001b[0m, in \u001b[0;36mEsmLayer.feed_forward_chunk\u001b[0;34m(self, attention_output)\u001b[0m\n\u001b[1;32m    675\u001b[0m \u001b[38;5;28;01mdef\u001b[39;00m\u001b[38;5;250m \u001b[39m\u001b[38;5;21mfeed_forward_chunk\u001b[39m(\u001b[38;5;28mself\u001b[39m, attention_output):\n\u001b[1;32m    676\u001b[0m     attention_output_ln \u001b[38;5;241m=\u001b[39m \u001b[38;5;28mself\u001b[39m\u001b[38;5;241m.\u001b[39mLayerNorm(attention_output)\n\u001b[0;32m--> 677\u001b[0m     intermediate_output \u001b[38;5;241m=\u001b[39m \u001b[38;5;28;43mself\u001b[39;49m\u001b[38;5;241;43m.\u001b[39;49m\u001b[43mintermediate\u001b[49m\u001b[43m(\u001b[49m\u001b[43mattention_output_ln\u001b[49m\u001b[43m)\u001b[49m\n\u001b[1;32m    678\u001b[0m     layer_output \u001b[38;5;241m=\u001b[39m \u001b[38;5;28mself\u001b[39m\u001b[38;5;241m.\u001b[39moutput(intermediate_output, attention_output)\n\u001b[1;32m    679\u001b[0m     \u001b[38;5;28;01mreturn\u001b[39;00m layer_output\n",
      "File \u001b[0;32m~/protolyze/.venv/lib/python3.10/site-packages/torch/nn/modules/module.py:1751\u001b[0m, in \u001b[0;36mModule._wrapped_call_impl\u001b[0;34m(self, *args, **kwargs)\u001b[0m\n\u001b[1;32m   1749\u001b[0m     \u001b[38;5;28;01mreturn\u001b[39;00m \u001b[38;5;28mself\u001b[39m\u001b[38;5;241m.\u001b[39m_compiled_call_impl(\u001b[38;5;241m*\u001b[39margs, \u001b[38;5;241m*\u001b[39m\u001b[38;5;241m*\u001b[39mkwargs)  \u001b[38;5;66;03m# type: ignore[misc]\u001b[39;00m\n\u001b[1;32m   1750\u001b[0m \u001b[38;5;28;01melse\u001b[39;00m:\n\u001b[0;32m-> 1751\u001b[0m     \u001b[38;5;28;01mreturn\u001b[39;00m \u001b[38;5;28;43mself\u001b[39;49m\u001b[38;5;241;43m.\u001b[39;49m\u001b[43m_call_impl\u001b[49m\u001b[43m(\u001b[49m\u001b[38;5;241;43m*\u001b[39;49m\u001b[43margs\u001b[49m\u001b[43m,\u001b[49m\u001b[43m \u001b[49m\u001b[38;5;241;43m*\u001b[39;49m\u001b[38;5;241;43m*\u001b[39;49m\u001b[43mkwargs\u001b[49m\u001b[43m)\u001b[49m\n",
      "File \u001b[0;32m~/protolyze/.venv/lib/python3.10/site-packages/torch/nn/modules/module.py:1857\u001b[0m, in \u001b[0;36mModule._call_impl\u001b[0;34m(self, *args, **kwargs)\u001b[0m\n\u001b[1;32m   1854\u001b[0m     \u001b[38;5;28;01mreturn\u001b[39;00m inner()\n\u001b[1;32m   1856\u001b[0m \u001b[38;5;28;01mtry\u001b[39;00m:\n\u001b[0;32m-> 1857\u001b[0m     \u001b[38;5;28;01mreturn\u001b[39;00m \u001b[43minner\u001b[49m\u001b[43m(\u001b[49m\u001b[43m)\u001b[49m\n\u001b[1;32m   1858\u001b[0m \u001b[38;5;28;01mexcept\u001b[39;00m \u001b[38;5;167;01mException\u001b[39;00m:\n\u001b[1;32m   1859\u001b[0m     \u001b[38;5;66;03m# run always called hooks if they have not already been run\u001b[39;00m\n\u001b[1;32m   1860\u001b[0m     \u001b[38;5;66;03m# For now only forward hooks have the always_call option but perhaps\u001b[39;00m\n\u001b[1;32m   1861\u001b[0m     \u001b[38;5;66;03m# this functionality should be added to full backward hooks as well.\u001b[39;00m\n\u001b[1;32m   1862\u001b[0m     \u001b[38;5;28;01mfor\u001b[39;00m hook_id, hook \u001b[38;5;129;01min\u001b[39;00m _global_forward_hooks\u001b[38;5;241m.\u001b[39mitems():\n",
      "File \u001b[0;32m~/protolyze/.venv/lib/python3.10/site-packages/torch/nn/modules/module.py:1818\u001b[0m, in \u001b[0;36mModule._call_impl.<locals>.inner\u001b[0;34m()\u001b[0m\n\u001b[1;32m   1816\u001b[0m     hook_result \u001b[38;5;241m=\u001b[39m hook(\u001b[38;5;28mself\u001b[39m, args, kwargs, result)\n\u001b[1;32m   1817\u001b[0m \u001b[38;5;28;01melse\u001b[39;00m:\n\u001b[0;32m-> 1818\u001b[0m     hook_result \u001b[38;5;241m=\u001b[39m \u001b[43mhook\u001b[49m\u001b[43m(\u001b[49m\u001b[38;5;28;43mself\u001b[39;49m\u001b[43m,\u001b[49m\u001b[43m \u001b[49m\u001b[43margs\u001b[49m\u001b[43m,\u001b[49m\u001b[43m \u001b[49m\u001b[43mresult\u001b[49m\u001b[43m)\u001b[49m\n\u001b[1;32m   1820\u001b[0m \u001b[38;5;28;01mif\u001b[39;00m hook_result \u001b[38;5;129;01mis\u001b[39;00m \u001b[38;5;129;01mnot\u001b[39;00m \u001b[38;5;28;01mNone\u001b[39;00m:\n\u001b[1;32m   1821\u001b[0m     result \u001b[38;5;241m=\u001b[39m hook_result\n",
      "Cell \u001b[0;32mIn[4], line 42\u001b[0m, in \u001b[0;36mmake_multi_neuron_hook.<locals>.hook_fn\u001b[0;34m(module, input, output)\u001b[0m\n\u001b[1;32m     40\u001b[0m \u001b[38;5;28;01mdef\u001b[39;00m\u001b[38;5;250m \u001b[39m\u001b[38;5;21mhook_fn\u001b[39m(module, \u001b[38;5;28minput\u001b[39m, output):\n\u001b[1;32m     41\u001b[0m     \u001b[38;5;28;01mfor\u001b[39;00m neuron \u001b[38;5;129;01min\u001b[39;00m neurons:\n\u001b[0;32m---> 42\u001b[0m         output[:, :, neuron] \u001b[38;5;241m=\u001b[39m a \u001b[38;5;241m*\u001b[39m output[:, :, neuron] \u001b[38;5;241m+\u001b[39m b\n\u001b[1;32m     43\u001b[0m     \u001b[38;5;28;01mreturn\u001b[39;00m output\n",
      "\u001b[0;31mKeyboardInterrupt\u001b[0m: "
     ]
    }
   ],
   "source": [
    "import torch\n",
    "import torch.nn.functional as F\n",
    "from transformers import AutoModelForMaskedLM, AutoTokenizer\n",
    "import random\n",
    "import csv\n",
    "import re\n",
    "from collections import defaultdict\n",
    "from tqdm import tqdm\n",
    "import matplotlib.pyplot as plt\n",
    "import pandas as pd\n",
    "import seaborn as sns\n",
    "from Bio.SeqUtils.ProtParam import ProteinAnalysis\n",
    "\n",
    "# Configuration\n",
    "CSV_PATH = \"esm35M_500k_neuron_explanations.csv\"\n",
    "MATCH_STRING = \"negative gravy\"\n",
    "MODEL_NAME = \"facebook/esm2_t12_35M_UR50D\"\n",
    "SEQ_LEN = 50\n",
    "NUM_STEPS = 100\n",
    "A = 5\n",
    "B = 3\n",
    "\n",
    "# Utility: Find neurons matching a keyword in the explanation CSV\n",
    "def find_matching_neurons(csv_path, keyword):\n",
    "    matches = []\n",
    "    with open(csv_path, newline='') as csvfile:\n",
    "        reader = csv.reader(csvfile)\n",
    "        for row in reader:\n",
    "            if len(row) < 2:\n",
    "                continue\n",
    "            neuron_id = row[0]\n",
    "            if any(keyword in desc.lower() for desc in row[1:]):\n",
    "                m = re.match(r\"layer_(\\d+)_neuron_(\\d+)\", neuron_id)\n",
    "                if m:\n",
    "                    matches.append((int(m.group(1)), int(m.group(2))))\n",
    "    return matches\n",
    "\n",
    "# Utility: Make steering hook for multiple neurons\n",
    "def make_multi_neuron_hook(neurons, a=10.0, b=3.0):\n",
    "    def hook_fn(module, input, output):\n",
    "        for neuron in neurons:\n",
    "            output[:, :, neuron] = a * output[:, :, neuron] + b\n",
    "        return output\n",
    "    return hook_fn\n",
    "\n",
    "# Utility: Random valid protein sequence\n",
    "def random_protein_sequence(length):\n",
    "    return ''.join(random.choices(\"ACDEFGHIKLMNPQRSTVWY\", k=length))\n",
    "\n",
    "# Utility: Sample from logits\n",
    "def sample_from_logits(logits):\n",
    "    probs = F.softmax(logits, dim=-1)\n",
    "    return torch.multinomial(probs, num_samples=1).squeeze(-1)\n",
    "\n",
    "# Utility: Decode token IDs into a protein sequence string\n",
    "def decode_tokens(tokenizer, token_ids):\n",
    "    return tokenizer.decode(token_ids, skip_special_tokens=True).replace(\" \", \"\")\n",
    "\n",
    "# Utility: Compute GRAVY score ignoring unknown residues\n",
    "def compute_gravy_ignore_x(seq):\n",
    "    cleaned = seq.replace(\"X\", \"\")\n",
    "    if not cleaned:\n",
    "        return None\n",
    "    return ProteinAnalysis(cleaned).instability_index()\n",
    "\n",
    "# Main steering function\n",
    "def steer_sequences():\n",
    "    device = torch.device(\"cuda\" if torch.cuda.is_available() else \"cpu\")\n",
    "    tokenizer = AutoTokenizer.from_pretrained(MODEL_NAME, do_lower_case=False)\n",
    "    model = AutoModelForMaskedLM.from_pretrained(MODEL_NAME).to(device)\n",
    "    model.eval()\n",
    "\n",
    "    matched_neurons = find_matching_neurons(CSV_PATH, MATCH_STRING)\n",
    "    if not matched_neurons:\n",
    "        print(\"No matching neurons found.\")\n",
    "        return\n",
    "\n",
    "    layer_to_neurons = defaultdict(list)\n",
    "    for layer, neuron in matched_neurons:\n",
    "        layer_to_neurons[layer].append(neuron)\n",
    "\n",
    "    best_sequence = None\n",
    "    best_score = -float('inf')\n",
    "    history = []  # Each item: (sequence, activation, gravy)\n",
    "\n",
    "    for step in tqdm(range(NUM_STEPS)):\n",
    "        seq = random_protein_sequence(SEQ_LEN)\n",
    "        inputs = tokenizer(seq, return_tensors=\"pt\").to(device)\n",
    "\n",
    "        # Register steering hooks\n",
    "        handles = []\n",
    "        for layer, neurons in layer_to_neurons.items():\n",
    "            hook = model.base_model.encoder.layer[layer].intermediate.register_forward_hook(\n",
    "                make_multi_neuron_hook(neurons, A, B)\n",
    "            )\n",
    "            handles.append(hook)\n",
    "\n",
    "        # Forward pass with hooks\n",
    "        with torch.no_grad():\n",
    "            outputs = model(**inputs, output_hidden_states=True)\n",
    "            logits = outputs.logits[0]\n",
    "            hidden_states = outputs.hidden_states\n",
    "\n",
    "        # Remove hooks\n",
    "        for h in handles:\n",
    "            h.remove()\n",
    "\n",
    "        # Score: average activation across target neurons\n",
    "        total, count = 0, 0\n",
    "        for layer, neurons in layer_to_neurons.items():\n",
    "            h = hidden_states[layer][0]\n",
    "            for n in neurons:\n",
    "                total += abs(h[:, n].mean().item())\n",
    "                count += 1\n",
    "        avg_act = total / count if count > 0 else 0\n",
    "\n",
    "        # Sample sequence and compute GRAVY\n",
    "        sampled_ids = sample_from_logits(logits)\n",
    "        new_seq = decode_tokens(tokenizer, sampled_ids)\n",
    "        gravy = compute_gravy_ignore_x(new_seq)\n",
    "\n",
    "        # Save results\n",
    "        history.append((new_seq, avg_act, gravy))\n",
    "        if avg_act > best_score:\n",
    "            best_score = avg_act\n",
    "            best_sequence = new_seq\n",
    "\n",
    "        gravy_str = f\"{gravy:.4f}\" if gravy is not None else \"N/A\"\n",
    "        print(f\"[{step+1:03}] avg_activation={avg_act:.4f} | gravy={gravy_str} | {new_seq}\")\n",
    "\n",
    "    # Print best result\n",
    "    print(\"\\n=== Best Sequence ===\")\n",
    "    print(best_sequence)\n",
    "    print(f\"Max avg activation: {best_score:.4f}\")\n",
    "\n",
    "    # Save history to CSV\n",
    "    with open(\"steered_sequences.csv\", \"w\", newline=\"\") as csvfile:\n",
    "        writer = csv.writer(csvfile)\n",
    "        writer.writerow([\"sequence\", \"avg_activation\", \"gravy\"])\n",
    "        for seq, act, gravy in history:\n",
    "            writer.writerow([seq, act, gravy])\n",
    "\n",
    "    # Plot GRAVY score over steps using seaborn\n",
    "    df = pd.DataFrame(history, columns=[\"sequence\", \"activation\", \"instability index\"])\n",
    "    df[\"step\"] = df.index + 1\n",
    "\n",
    "    sns.set(style=\"whitegrid\", font_scale=1.2)\n",
    "    plt.figure(figsize=(10, 5))\n",
    "    sns.lineplot(data=df, x=\"step\", y=\"instability index\", marker=\"o\", label=\"instability index\")\n",
    "    plt.xlabel(\"Step\")\n",
    "    plt.ylabel(\"instability index\")\n",
    "    plt.title(\"instability index Trajectory During Steering\")\n",
    "    plt.tight_layout()\n",
    "    plt.savefig(\"instability_index_seaborn.png\")\n",
    "    plt.show()\n",
    "\n",
    "# Run\n",
    "if __name__ == \"__main__\":\n",
    "    steer_sequences()\n"
   ]
  },
  {
   "cell_type": "code",
   "execution_count": 5,
   "metadata": {},
   "outputs": [
    {
     "name": "stderr",
     "output_type": "stream",
     "text": [
      "Some weights of the model checkpoint at facebook/esm2_t12_35M_UR50D were not used when initializing EsmForMaskedLM: ['esm.embeddings.position_embeddings.weight']\n",
      "- This IS expected if you are initializing EsmForMaskedLM from the checkpoint of a model trained on another task or with another architecture (e.g. initializing a BertForSequenceClassification model from a BertForPreTraining model).\n",
      "- This IS NOT expected if you are initializing EsmForMaskedLM from the checkpoint of a model that you expect to be exactly identical (initializing a BertForSequenceClassification model from a BertForSequenceClassification model).\n",
      "  8%|▊         | 8/100 [00:00<00:02, 35.15it/s]"
     ]
    },
    {
     "name": "stdout",
     "output_type": "stream",
     "text": [
      "[001] avg_activation=1.5663 | gravy=10.0923 | VWAVALINFELFEVSFGAGVARVTSKFTLTANTIDVDASWLYALTFCCALLW\n",
      "[002] avg_activation=1.5470 | gravy=23.6519 | FARAAAIVLVALFVFAIEFVTELVAAEVSLTITKVDLASEIVMFLALASEVV\n",
      "[003] avg_activation=1.5141 | gravy=30.4490 | EPGPVAMKVATVVLLSNIVLFSLLIIIPRVEKVKVKVVVVRPLATVPVEYA\n",
      "[004] avg_activation=1.5047 | gravy=31.2373 | GLVAVEQLKGKETLWNLFVEVWMVYKISNAVITLATEGDWCTYAGERGVFD\n",
      "[005] avg_activation=1.5636 | gravy=25.7038 | FVMAGLSARVAAYEFPALVVGLFLEAVLVRWTVFPEYLVLLFFKVQVVLSAA\n",
      "[006] avg_activation=1.5719 | gravy=38.1692 | PFDVILAVVAKSFIASPVLKVSECIIAERYLYSLVEVPGFAHVVVRYKGLLE\n",
      "[007] avg_activation=1.5196 | gravy=38.8255 | MTQLAERVCRVATSRPYLSHDAVVVVVVEEVVLVPAAAAGFRRAVVLGAFV\n",
      "[008] avg_activation=1.5596 | gravy=30.4962 | IVLVELLLEVCCVPKSVFMRVFLLSAPFLPVIKDTSDVVLVVDKRFPAVIVP\n"
     ]
    },
    {
     "name": "stderr",
     "output_type": "stream",
     "text": [
      " 16%|█▌        | 16/100 [00:00<00:02, 35.16it/s]"
     ]
    },
    {
     "name": "stdout",
     "output_type": "stream",
     "text": [
      "[009] avg_activation=1.5388 | gravy=19.1314 | LPLVVKELCEEVVLALLVNVLLVTFCVESGKLVEVVANVVLAYVAFFLLIA\n",
      "[010] avg_activation=1.4840 | gravy=21.1481 | TSSLELPSLVNLVQEEKDKLCYDFFKVASGIYDVGDNLVSFFAAHVYGISKT\n",
      "[011] avg_activation=1.6131 | gravy=13.0442 | ALPRVGRSDKIVEVLKLFKLKPLLLLVKRIAEIAGKFCRPLLVAQEAAHGLK\n",
      "[012] avg_activation=1.4988 | gravy=54.9333 | IKQVRQVAKSHFSAVVVLCYASYKCSDSVCAVRLPASLGSRVRLLRFARRS\n",
      "[013] avg_activation=1.5059 | gravy=34.8000 | ANVWTLPVPLLGLTKLLKEISTVPLALEDVPIFAIIPSALHAVFLSRLVVLK\n",
      "[014] avg_activation=1.5475 | gravy=36.9078 | FVRLAIPPVLAVVIIKFLWSLQVPVAPGAVVLEDKFSILKDERVADGRLSV\n",
      "[015] avg_activation=1.4915 | gravy=32.5078 | TFGVAVSPLAYFFANVEYDLLRNATDGSFNEVDVVEDIGRVIDAFLVLSDV\n",
      "[016] avg_activation=1.6084 | gravy=18.7481 | VLLPEVLVDKVQAAQVVLAVVVFESVYSISLARFSKVVAVLCDKASYAVQVP\n"
     ]
    },
    {
     "name": "stderr",
     "output_type": "stream",
     "text": [
      " 24%|██▍       | 24/100 [00:00<00:02, 35.37it/s]"
     ]
    },
    {
     "name": "stdout",
     "output_type": "stream",
     "text": [
      "[017] avg_activation=1.5563 | gravy=23.3882 | VVANKKIVELPVLVALAEVFSLFVFLVLEVVALLATPRVAAFVIIHVALES\n",
      "[018] avg_activation=1.5746 | gravy=47.2096 | EVVPAKGLQKDSELLFSVAVLCVFFCPRLVLFSPATSDVGSVALPKFVGVLW\n",
      "[019] avg_activation=1.5424 | gravy=46.1846 | IFFSDTKELITIVRVVVSSISYSAAQSSLVSEKKAIVPVWGLPACLVVKWDF\n",
      "[020] avg_activation=1.5061 | gravy=47.9078 | PFPLFRAVLGSESALFSVLPGRKKNVYFVLPFASDEVVGVRVIRNYIESVA\n",
      "[021] avg_activation=1.5233 | gravy=34.6212 | VETSILVPMPVPGVAFKVGVVLVVVVEAFVSAPNGTSLEEVVLPLAWDVLER\n",
      "[022] avg_activation=1.5265 | gravy=10.6365 | VLVYAVVGESLATPTYLLYFGNQATSTAFTVKVQIGVFVCKKSFSDDVFAMA\n",
      "[023] avg_activation=1.5258 | gravy=42.3692 | APALVLVVYACWVKLVVEAVRVVIVAVVKMLQFFLVLDRLVTVQPEFSVVLV\n",
      "[024] avg_activation=1.5237 | gravy=40.9596 | LVGLEFLVPVSAGSALVFVAILQSTGYPLDVRILDVLKAADALELLESASSV\n"
     ]
    },
    {
     "name": "stderr",
     "output_type": "stream",
     "text": [
      " 32%|███▏      | 32/100 [00:00<00:01, 35.56it/s]"
     ]
    },
    {
     "name": "stdout",
     "output_type": "stream",
     "text": [
      "[025] avg_activation=1.5385 | gravy=20.5692 | VGLKLNGVVSLPVGELVFVLLPLSLLLAVVVVVTLSYVALVNAGFACPLTLV\n",
      "[026] avg_activation=1.5367 | gravy=43.4788 | RPAVFATFPESLGGLSAESLYAARLYSVSFLLSRGRVGAGVLRENLGLLVRV\n",
      "[027] avg_activation=1.5181 | gravy=5.9885 | KAVSVVAVELLAFFAGSGRFVGLVFVIYLGSLGRLVKVVVVLELSKFTMKFR\n",
      "[028] avg_activation=1.5900 | gravy=54.4769 | FFVLALAVAFPLFPLRGVRVLRVSVAPTKQKRSFASWLVKEFPVGELLVVFD\n",
      "[029] avg_activation=1.5111 | gravy=48.0521 | TVSGQALKSEELLVVLLAATCRELIEAEPFYPLELVVAGSVQPLDVKKPSDP\n",
      "[030] avg_activation=1.5427 | gravy=26.5038 | VNAAFVFVAILFAVEEHVPEKDVEIVTEVADVKFFEVNSELEGVQVGVYFVV\n",
      "[031] avg_activation=1.5058 | gravy=34.3192 | ASPLSLLKFVLCDFLALVGGVAWFPVKLSSSVAATGVARAVLLFASQAEVIA\n",
      "[032] avg_activation=1.4759 | gravy=42.2843 | MLQIVFQGVARVSSPRVKELRFVRAVFPYVPRLGVSFVPVLMGLVLFVSLV\n"
     ]
    },
    {
     "name": "stderr",
     "output_type": "stream",
     "text": [
      " 40%|████      | 40/100 [00:01<00:01, 35.54it/s]"
     ]
    },
    {
     "name": "stdout",
     "output_type": "stream",
     "text": [
      "[033] avg_activation=1.4944 | gravy=69.9058 | PASASTAVCFLFVPAVSVLLAPSVGFFVSRPGREVQSELVVMVPAELEEEIT\n",
      "[034] avg_activation=1.5392 | gravy=29.6733 | QLLEKLVRRRLKVVLLGIFYPKLVRVVYLLLVAALSSLVTVAVAIKAKVLVA\n",
      "[035] avg_activation=1.4908 | gravy=27.8725 | YAALLLAVRLVSVTKVFVSMLVYVFVFALLRPVFKAVVATEVAVLPLPRVL\n",
      "[036] avg_activation=1.4478 | gravy=15.6200 | SLGEQENRNFKENVLVKGVVKRLEFLEKKVKVWAAEKVDLFVVRVPELRV\n",
      "[037] avg_activation=1.5314 | gravy=27.2308 | VYVMGLIAARAIRLPHQGINPVADGPALRGEVVQMGIDVVEPLKVVPLLIEL\n",
      "[038] avg_activation=1.5594 | gravy=32.7481 | PLRLVLFEVEKAVSEEKSEVVEVCASYEEVVATDIVVVVEVEVVRFVAMAVA\n",
      "[039] avg_activation=1.5373 | gravy=20.7981 | VAFITSLFLVLEFPASFGVLRCLFNRKITWAVLGPSFVKLLTSVPLDEKVAV\n",
      "[040] avg_activation=1.5106 | gravy=28.2058 | TMDIVEGALPLAKASEAMAGLEEDAVTSLLEDVFAVVYAKVSDDPKVAEFLA\n"
     ]
    },
    {
     "name": "stderr",
     "output_type": "stream",
     "text": [
      " 48%|████▊     | 48/100 [00:01<00:01, 35.34it/s]"
     ]
    },
    {
     "name": "stdout",
     "output_type": "stream",
     "text": [
      "[041] avg_activation=1.4844 | gravy=22.1596 | LTAFCREKAAQVRAGRGEGVASVLARFCVSRAVIEVDRESPLGAFEVALSFE\n",
      "[042] avg_activation=1.5307 | gravy=9.5250 | VFQGEVVDVVADGITVSKPVAYISKVGNRIAEPLLATADVKYPKEVVLCLFD\n",
      "[043] avg_activation=1.5524 | gravy=57.1588 | QVPKAFGRGVLNYMSHVTVAPWVFEFIVQLARVDRYVSPIECLISVILVPT\n",
      "[044] avg_activation=1.4992 | gravy=13.5000 | MEETLGAARIVALVLVVGEFTRLAIDLVVPGVFAEAEALLLVAVVMFVLLV\n",
      "[045] avg_activation=1.5309 | gravy=24.4558 | TPFVLQGGLPASLLSFCVADGYEFFNLDLVGSVRAAELTTVGVADFPVSARL\n",
      "[046] avg_activation=1.5275 | gravy=33.9904 | LVFPGVDTDDVASFKQQSLAVFLEEDEATEAMDETNKYVEYLGFVVFKKALT\n",
      "[047] avg_activation=1.5211 | gravy=29.8078 | MVAFTKESTYESVVDFRFLGAPVILASVVHASATAVEETSLLRLLVLTVQY\n",
      "[048] avg_activation=1.5659 | gravy=26.5038 | VELAEHKMGTFDVKARPAILVTVVRDLSVARVSIFLELNVVNVRGYVYVARI\n"
     ]
    },
    {
     "name": "stderr",
     "output_type": "stream",
     "text": [
      " 56%|█████▌    | 56/100 [00:01<00:01, 35.30it/s]"
     ]
    },
    {
     "name": "stdout",
     "output_type": "stream",
     "text": [
      "[049] avg_activation=1.4676 | gravy=22.2380 | REEFQLVQTLRSFFVSLDVKTQLLLFTLKGADQLSVLVSERLAEASVGLD\n",
      "[050] avg_activation=1.4710 | gravy=31.0940 | DKVLPVPVPWEALVVVEAAWIRAVSKKLLLFAPKAELLGCSYVFLEVLRD\n",
      "[051] avg_activation=1.5954 | gravy=27.7308 | KLDFLKRAFVVVLAVGLFVLSAQTQAESALLEVFLVTHEISAPFVLLVLLLQ\n",
      "[052] avg_activation=1.4975 | gravy=53.4596 | PFTLAAVVPSVQFAANPSPAVWPVVLYVCLPVLGSLVYFPSVQFKPLAAVPL\n",
      "[053] avg_activation=1.5049 | gravy=14.5608 | PLEDHEVVVTMAVRLEVTKVGLAVIERVTNAWAVATLEEVKLVAIFVSKSL\n",
      "[054] avg_activation=1.5132 | gravy=37.6904 | IVWSEAPVVLVASKFESVAPYQNALYSSVREVLVLRDMFADVNAVKLPFVAL\n",
      "[055] avg_activation=1.5102 | gravy=31.9173 | RSLADHGATPVLALFVVKGLEVLQLDLSNVYVNKAMKVESLDVAVVPVYVIR\n",
      "[056] avg_activation=1.5875 | gravy=26.9481 | LAFALFSAVGDLIVLRLLVLLLFFLGLLLDVLAVAKVACVPGIYFFKSPVVS\n"
     ]
    },
    {
     "name": "stderr",
     "output_type": "stream",
     "text": [
      " 64%|██████▍   | 64/100 [00:01<00:01, 35.30it/s]"
     ]
    },
    {
     "name": "stdout",
     "output_type": "stream",
     "text": [
      "[057] avg_activation=1.5021 | gravy=22.1731 | VFWVEYVLDHFINFISILGVSAVGVVEFELLLWDVSQLWTWLDVPVVLLSLF\n",
      "[058] avg_activation=1.4773 | gravy=12.0627 | QKLVRVGTMKAVVRERLTVYLLEVFGMVKGLELVVIIDLPEVEVAEQRAAE\n",
      "[059] avg_activation=1.5019 | gravy=30.1288 | NVVPPSVTERNCFESKVKNRVDPVKADVFVFCGSYAKVVLVLRKPLLMVEMV\n",
      "[060] avg_activation=1.4843 | gravy=48.2212 | MFVAELAIWEAAALAVLPAKRTRVTETIASAPCLVSVVVFAGLAAELECDMY\n",
      "[061] avg_activation=1.5580 | gravy=22.1635 | LVLNASFSQVVWYEAVSGVQVSSKGLFKLVKLPEHESEELVLVVLEFGIFLC\n",
      "[062] avg_activation=1.5256 | gravy=28.8096 | TVVEVVALFVAVLLYSVWGACVSLALLIRAVDVAEVIQTSSESSEVEAVSGP\n",
      "[063] avg_activation=1.5140 | gravy=24.7481 | VVAVVFVLWKVAGRLAQLPPNVFATECVVTVVAWVFLVFAVLLAKIVALKLR\n",
      "[064] avg_activation=1.4860 | gravy=43.3078 | MSEGPLFDKSLLHVAKVVYPVAFVKVGFGDLKYNVKFVLSVIEELWPFVFV\n"
     ]
    },
    {
     "name": "stderr",
     "output_type": "stream",
     "text": [
      " 72%|███████▏  | 72/100 [00:02<00:00, 35.34it/s]"
     ]
    },
    {
     "name": "stdout",
     "output_type": "stream",
     "text": [
      "[065] avg_activation=1.5424 | gravy=43.1962 | VVVETAGTVVAEAVAFVKRTRPVKQAAALAVRVIEGEEVSFADAEERAWPLF\n",
      "[066] avg_activation=1.5186 | gravy=39.3608 | TAEVCFVFFLIDASSASTGSEDVVPVVESSAVELALIPADRVYPTRQLTLV\n",
      "[067] avg_activation=1.5001 | gravy=19.2750 | VQWPLVGRALLTSEAVLEDSVKVGVEFFVLLAPAVVSLVVEAAYENGGPLKA\n",
      "[068] avg_activation=1.4731 | gravy=35.6039 | EFNVSFLPEEFVVVVVVAYLKVELVTGLFFRVVAPFAAVAPSAFANASVSR\n",
      "[069] avg_activation=1.4843 | gravy=12.6588 | MTCKTPLVNVAKVSNGVLLTIQVSVRILKIFLVVLIALKSVALAHSQSLFG\n",
      "[070] avg_activation=1.4851 | gravy=23.2784 | SGLARLTENNGVSLIAACYSCNCVASEKALVLSRVEFKISIVNPLPRGKAR\n",
      "[071] avg_activation=1.4759 | gravy=23.3060 | RLINQWISGFDSLKDTVVPEWVFSRVVKVLPFKLLVLAKFAPLAMFPIQV\n",
      "[072] avg_activation=1.5242 | gravy=15.9481 | RLGSLTVKLQNPDIPEVLLLGDRLKLCIFEYVTVEVAKARVYLKPVEAMSYF\n"
     ]
    },
    {
     "name": "stderr",
     "output_type": "stream",
     "text": [
      " 80%|████████  | 80/100 [00:02<00:00, 35.34it/s]"
     ]
    },
    {
     "name": "stdout",
     "output_type": "stream",
     "text": [
      "[073] avg_activation=1.5271 | gravy=41.4740 | AREGDWLQLDLGSKVAVESRPECVVAKAQARIFDVGNAPPLLVTNSAELC\n",
      "[074] avg_activation=1.4855 | gravy=35.4100 | MLIDGFKFYIAYLVWVRAVIEALFEVVFIPFFEVDSLEQVKELVARYEMSQ\n",
      "[075] avg_activation=1.5138 | gravy=29.5235 | VFERLQAVEASVAFENMLAPLAPCAYVLETKKVFVAVLIPEPLGLILVIDF\n",
      "[076] avg_activation=1.5648 | gravy=64.2137 | LPESPRSPGAAFPKPLAGKGALRVVVALELESQVKDAEFPVVVDMEEKQVA\n",
      "[077] avg_activation=1.5191 | gravy=58.2019 | YSDYIKKLCFGVESPRSCEDFLLNVDVHLDVLARRSTCLLELATYFLVVVEQ\n",
      "[078] avg_activation=1.5221 | gravy=26.9808 | KMLLVYKVVNAKMFSVAAHFLLVVAVIKFEEKLTVSQALCKMLLDKDVFLSW\n",
      "[079] avg_activation=1.5955 | gravy=58.8385 | ELIAVPLLYARWIALAVFLHVCLDLIISRRLVVHVLVGKRYSLPVVCAEYPK\n",
      "[080] avg_activation=1.4774 | gravy=21.6647 | VGCDVDAVWVAAYDRLMFVQKVSVVAMLFHKIVLEIRCVGSACLVAEYELE\n"
     ]
    },
    {
     "name": "stderr",
     "output_type": "stream",
     "text": [
      " 88%|████████▊ | 88/100 [00:02<00:00, 35.57it/s]"
     ]
    },
    {
     "name": "stdout",
     "output_type": "stream",
     "text": [
      "[081] avg_activation=1.4830 | gravy=21.6019 | YRVSVVYVALLARPCLRKCVAVGFIAVEKAILANVSVEDEVVLKVVTVPVLV\n",
      "[082] avg_activation=1.5514 | gravy=25.0981 | AKKVEVHLGSEDTDFVVKRYKPETVVSELAVAMGVAGWTELYHPDALKGPVV\n",
      "[083] avg_activation=1.4786 | gravy=43.6000 | TAPVLFVKVDARLAPFLDTVAAEVTPVVLVEEVKRSLQWVDKAAPAGPCAHA\n",
      "[084] avg_activation=1.5896 | gravy=34.4706 | VWDEMVAEEATELAVAWVSLFLTFTIDVVSRVEGVSYAVKSKVAKAVSRPL\n",
      "[085] avg_activation=1.5380 | gravy=21.3462 | SALAKRGVAESEVSLVSVSSVVRVRVLVKELLPDKSFEPRGAFTALVGALSK\n",
      "[086] avg_activation=1.5253 | gravy=5.1808 | LLFRLGLSVIVADARGGERPAFKYVCVLVVQVVDSALLVSLCVVSVVVLKFT\n",
      "[087] avg_activation=1.4913 | gravy=37.0365 | VVLTRELLAVVLVVKMAAALAFEAVALRKAPQRVFALLSVREYEVLPVPKVL\n",
      "[088] avg_activation=1.5710 | gravy=38.4173 | FRRAAVEAQSCFFLAVCVRDPVFWVAQCPLLAKKFLFSDVFELLLGVSVFSA\n"
     ]
    },
    {
     "name": "stderr",
     "output_type": "stream",
     "text": [
      " 96%|█████████▌| 96/100 [00:02<00:00, 35.74it/s]"
     ]
    },
    {
     "name": "stdout",
     "output_type": "stream",
     "text": [
      "[089] avg_activation=1.5330 | gravy=18.8365 | PASKGAALAVVYKSVVVRDSFDEVVLVVVAVKKSVNLMVPVLEKALFLVDAL\n",
      "[090] avg_activation=1.5409 | gravy=19.6176 | GLSELKPRKVLADVACVIRVEVFPRKVGLPAEKVVLIPAVGVRPKGDVGVL\n",
      "[091] avg_activation=1.5626 | gravy=8.9442 | ALSVVTFLKGYVSLSNVDDITVFKKSTEAVVVDKLDFVIVVTASEEEYQAVM\n",
      "[092] avg_activation=1.5162 | gravy=33.9752 | ATVVVYVVSVSSSFFYVFALEVFCVGFWFIPKWVYPAVLWVALVYIRVSQEI\n",
      "[093] avg_activation=1.5511 | gravy=46.6288 | VVLKLVTSPCMEVVRGLDCFRLLVPPVSWKFVLIEVLALGFELALILKAGSP\n",
      "[094] avg_activation=1.6042 | gravy=22.2750 | QVRPAFWVEGAREEMRMEVFAGLTAEWSDPFSLKARDNLRLGLEAALKWQEN\n",
      "[095] avg_activation=1.5716 | gravy=13.5038 | DELLETKYKVVLNSRKGLLKRDVVEFHEVVAAVKSTADGTQLVKGGVSVQEM\n",
      "[096] avg_activation=1.5468 | gravy=39.2942 | RWPVNPSLADAEVPVVSVFPLLSGEALEVMDEPFTDDGAVELFRGPTVKFVL\n"
     ]
    },
    {
     "name": "stderr",
     "output_type": "stream",
     "text": [
      "100%|██████████| 100/100 [00:02<00:00, 35.41it/s]\n"
     ]
    },
    {
     "name": "stdout",
     "output_type": "stream",
     "text": [
      "[097] avg_activation=1.5811 | gravy=37.7096 | EHYVVPEAVERREVALASPEPCVADAYVVVLGVHLIVTKNFGWPLLVVVDRI\n",
      "[098] avg_activation=1.6155 | gravy=8.8731 | VLNPLAFKSVITLLLTTLGFCLASLKLVRLNDMFEVVVLLNELVGFVLREVA\n",
      "[099] avg_activation=1.5424 | gravy=31.9115 | VVLEFAIVNFQVRHYQLGKPPWQAINDKAFFVACLPLVGQELKLTAVKKMFK\n",
      "[100] avg_activation=1.4802 | gravy=25.5355 | MVFDKSVRVIEVPRGLDSRYNRMFYEFVLVALLDVRTVQKVYLVDSFEFTW\n",
      "\n",
      "=== Best Sequence ===\n",
      "VLNPLAFKSVITLLLTTLGFCLASLKLVRLNDMFEVVVLLNELVGFVLREVA\n",
      "Max avg activation: 1.6155\n"
     ]
    },
    {
     "ename": "ValueError",
     "evalue": "Could not interpret value `instability index` for `y`. An entry with this name does not appear in `data`.",
     "output_type": "error",
     "traceback": [
      "\u001b[0;31m---------------------------------------------------------------------------\u001b[0m",
      "\u001b[0;31mValueError\u001b[0m                                Traceback (most recent call last)",
      "Cell \u001b[0;32mIn[5], line 159\u001b[0m\n\u001b[1;32m    157\u001b[0m \u001b[38;5;66;03m# Run\u001b[39;00m\n\u001b[1;32m    158\u001b[0m \u001b[38;5;28;01mif\u001b[39;00m \u001b[38;5;18m__name__\u001b[39m \u001b[38;5;241m==\u001b[39m \u001b[38;5;124m\"\u001b[39m\u001b[38;5;124m__main__\u001b[39m\u001b[38;5;124m\"\u001b[39m:\n\u001b[0;32m--> 159\u001b[0m     \u001b[43msteer_sequences\u001b[49m\u001b[43m(\u001b[49m\u001b[43m)\u001b[49m\n",
      "Cell \u001b[0;32mIn[5], line 149\u001b[0m, in \u001b[0;36msteer_sequences\u001b[0;34m()\u001b[0m\n\u001b[1;32m    147\u001b[0m sns\u001b[38;5;241m.\u001b[39mset(style\u001b[38;5;241m=\u001b[39m\u001b[38;5;124m\"\u001b[39m\u001b[38;5;124mwhitegrid\u001b[39m\u001b[38;5;124m\"\u001b[39m, font_scale\u001b[38;5;241m=\u001b[39m\u001b[38;5;241m1.2\u001b[39m)\n\u001b[1;32m    148\u001b[0m plt\u001b[38;5;241m.\u001b[39mfigure(figsize\u001b[38;5;241m=\u001b[39m(\u001b[38;5;241m10\u001b[39m, \u001b[38;5;241m5\u001b[39m))\n\u001b[0;32m--> 149\u001b[0m \u001b[43msns\u001b[49m\u001b[38;5;241;43m.\u001b[39;49m\u001b[43mlineplot\u001b[49m\u001b[43m(\u001b[49m\u001b[43mdata\u001b[49m\u001b[38;5;241;43m=\u001b[39;49m\u001b[43mdf\u001b[49m\u001b[43m,\u001b[49m\u001b[43m \u001b[49m\u001b[43mx\u001b[49m\u001b[38;5;241;43m=\u001b[39;49m\u001b[38;5;124;43m\"\u001b[39;49m\u001b[38;5;124;43mstep\u001b[39;49m\u001b[38;5;124;43m\"\u001b[39;49m\u001b[43m,\u001b[49m\u001b[43m \u001b[49m\u001b[43my\u001b[49m\u001b[38;5;241;43m=\u001b[39;49m\u001b[38;5;124;43m\"\u001b[39;49m\u001b[38;5;124;43minstability index\u001b[39;49m\u001b[38;5;124;43m\"\u001b[39;49m\u001b[43m,\u001b[49m\u001b[43m \u001b[49m\u001b[43mmarker\u001b[49m\u001b[38;5;241;43m=\u001b[39;49m\u001b[38;5;124;43m\"\u001b[39;49m\u001b[38;5;124;43mo\u001b[39;49m\u001b[38;5;124;43m\"\u001b[39;49m\u001b[43m,\u001b[49m\u001b[43m \u001b[49m\u001b[43mlabel\u001b[49m\u001b[38;5;241;43m=\u001b[39;49m\u001b[38;5;124;43m\"\u001b[39;49m\u001b[38;5;124;43mGRAVY score\u001b[39;49m\u001b[38;5;124;43m\"\u001b[39;49m\u001b[43m)\u001b[49m\n\u001b[1;32m    150\u001b[0m plt\u001b[38;5;241m.\u001b[39mxlabel(\u001b[38;5;124m\"\u001b[39m\u001b[38;5;124mStep\u001b[39m\u001b[38;5;124m\"\u001b[39m)\n\u001b[1;32m    151\u001b[0m plt\u001b[38;5;241m.\u001b[39mylabel(\u001b[38;5;124m\"\u001b[39m\u001b[38;5;124mInstability Index\u001b[39m\u001b[38;5;124m\"\u001b[39m)\n",
      "File \u001b[0;32m~/protolyze/.venv/lib/python3.10/site-packages/seaborn/relational.py:485\u001b[0m, in \u001b[0;36mlineplot\u001b[0;34m(data, x, y, hue, size, style, units, weights, palette, hue_order, hue_norm, sizes, size_order, size_norm, dashes, markers, style_order, estimator, errorbar, n_boot, seed, orient, sort, err_style, err_kws, legend, ci, ax, **kwargs)\u001b[0m\n\u001b[1;32m    471\u001b[0m \u001b[38;5;28;01mdef\u001b[39;00m\u001b[38;5;250m \u001b[39m\u001b[38;5;21mlineplot\u001b[39m(\n\u001b[1;32m    472\u001b[0m     data\u001b[38;5;241m=\u001b[39m\u001b[38;5;28;01mNone\u001b[39;00m, \u001b[38;5;241m*\u001b[39m,\n\u001b[1;32m    473\u001b[0m     x\u001b[38;5;241m=\u001b[39m\u001b[38;5;28;01mNone\u001b[39;00m, y\u001b[38;5;241m=\u001b[39m\u001b[38;5;28;01mNone\u001b[39;00m, hue\u001b[38;5;241m=\u001b[39m\u001b[38;5;28;01mNone\u001b[39;00m, size\u001b[38;5;241m=\u001b[39m\u001b[38;5;28;01mNone\u001b[39;00m, style\u001b[38;5;241m=\u001b[39m\u001b[38;5;28;01mNone\u001b[39;00m, units\u001b[38;5;241m=\u001b[39m\u001b[38;5;28;01mNone\u001b[39;00m, weights\u001b[38;5;241m=\u001b[39m\u001b[38;5;28;01mNone\u001b[39;00m,\n\u001b[0;32m   (...)\u001b[0m\n\u001b[1;32m    481\u001b[0m \n\u001b[1;32m    482\u001b[0m     \u001b[38;5;66;03m# Handle deprecation of ci parameter\u001b[39;00m\n\u001b[1;32m    483\u001b[0m     errorbar \u001b[38;5;241m=\u001b[39m _deprecate_ci(errorbar, ci)\n\u001b[0;32m--> 485\u001b[0m     p \u001b[38;5;241m=\u001b[39m \u001b[43m_LinePlotter\u001b[49m\u001b[43m(\u001b[49m\n\u001b[1;32m    486\u001b[0m \u001b[43m        \u001b[49m\u001b[43mdata\u001b[49m\u001b[38;5;241;43m=\u001b[39;49m\u001b[43mdata\u001b[49m\u001b[43m,\u001b[49m\n\u001b[1;32m    487\u001b[0m \u001b[43m        \u001b[49m\u001b[43mvariables\u001b[49m\u001b[38;5;241;43m=\u001b[39;49m\u001b[38;5;28;43mdict\u001b[39;49m\u001b[43m(\u001b[49m\n\u001b[1;32m    488\u001b[0m \u001b[43m            \u001b[49m\u001b[43mx\u001b[49m\u001b[38;5;241;43m=\u001b[39;49m\u001b[43mx\u001b[49m\u001b[43m,\u001b[49m\u001b[43m \u001b[49m\u001b[43my\u001b[49m\u001b[38;5;241;43m=\u001b[39;49m\u001b[43my\u001b[49m\u001b[43m,\u001b[49m\u001b[43m \u001b[49m\u001b[43mhue\u001b[49m\u001b[38;5;241;43m=\u001b[39;49m\u001b[43mhue\u001b[49m\u001b[43m,\u001b[49m\u001b[43m \u001b[49m\u001b[43msize\u001b[49m\u001b[38;5;241;43m=\u001b[39;49m\u001b[43msize\u001b[49m\u001b[43m,\u001b[49m\u001b[43m \u001b[49m\u001b[43mstyle\u001b[49m\u001b[38;5;241;43m=\u001b[39;49m\u001b[43mstyle\u001b[49m\u001b[43m,\u001b[49m\u001b[43m \u001b[49m\u001b[43munits\u001b[49m\u001b[38;5;241;43m=\u001b[39;49m\u001b[43munits\u001b[49m\u001b[43m,\u001b[49m\u001b[43m \u001b[49m\u001b[43mweight\u001b[49m\u001b[38;5;241;43m=\u001b[39;49m\u001b[43mweights\u001b[49m\n\u001b[1;32m    489\u001b[0m \u001b[43m        \u001b[49m\u001b[43m)\u001b[49m\u001b[43m,\u001b[49m\n\u001b[1;32m    490\u001b[0m \u001b[43m        \u001b[49m\u001b[43mestimator\u001b[49m\u001b[38;5;241;43m=\u001b[39;49m\u001b[43mestimator\u001b[49m\u001b[43m,\u001b[49m\u001b[43m \u001b[49m\u001b[43mn_boot\u001b[49m\u001b[38;5;241;43m=\u001b[39;49m\u001b[43mn_boot\u001b[49m\u001b[43m,\u001b[49m\u001b[43m \u001b[49m\u001b[43mseed\u001b[49m\u001b[38;5;241;43m=\u001b[39;49m\u001b[43mseed\u001b[49m\u001b[43m,\u001b[49m\u001b[43m \u001b[49m\u001b[43merrorbar\u001b[49m\u001b[38;5;241;43m=\u001b[39;49m\u001b[43merrorbar\u001b[49m\u001b[43m,\u001b[49m\n\u001b[1;32m    491\u001b[0m \u001b[43m        \u001b[49m\u001b[43msort\u001b[49m\u001b[38;5;241;43m=\u001b[39;49m\u001b[43msort\u001b[49m\u001b[43m,\u001b[49m\u001b[43m \u001b[49m\u001b[43morient\u001b[49m\u001b[38;5;241;43m=\u001b[39;49m\u001b[43morient\u001b[49m\u001b[43m,\u001b[49m\u001b[43m \u001b[49m\u001b[43merr_style\u001b[49m\u001b[38;5;241;43m=\u001b[39;49m\u001b[43merr_style\u001b[49m\u001b[43m,\u001b[49m\u001b[43m \u001b[49m\u001b[43merr_kws\u001b[49m\u001b[38;5;241;43m=\u001b[39;49m\u001b[43merr_kws\u001b[49m\u001b[43m,\u001b[49m\n\u001b[1;32m    492\u001b[0m \u001b[43m        \u001b[49m\u001b[43mlegend\u001b[49m\u001b[38;5;241;43m=\u001b[39;49m\u001b[43mlegend\u001b[49m\u001b[43m,\u001b[49m\n\u001b[1;32m    493\u001b[0m \u001b[43m    \u001b[49m\u001b[43m)\u001b[49m\n\u001b[1;32m    495\u001b[0m     p\u001b[38;5;241m.\u001b[39mmap_hue(palette\u001b[38;5;241m=\u001b[39mpalette, order\u001b[38;5;241m=\u001b[39mhue_order, norm\u001b[38;5;241m=\u001b[39mhue_norm)\n\u001b[1;32m    496\u001b[0m     p\u001b[38;5;241m.\u001b[39mmap_size(sizes\u001b[38;5;241m=\u001b[39msizes, order\u001b[38;5;241m=\u001b[39msize_order, norm\u001b[38;5;241m=\u001b[39msize_norm)\n",
      "File \u001b[0;32m~/protolyze/.venv/lib/python3.10/site-packages/seaborn/relational.py:216\u001b[0m, in \u001b[0;36m_LinePlotter.__init__\u001b[0;34m(self, data, variables, estimator, n_boot, seed, errorbar, sort, orient, err_style, err_kws, legend)\u001b[0m\n\u001b[1;32m    202\u001b[0m \u001b[38;5;28;01mdef\u001b[39;00m\u001b[38;5;250m \u001b[39m\u001b[38;5;21m__init__\u001b[39m(\n\u001b[1;32m    203\u001b[0m     \u001b[38;5;28mself\u001b[39m, \u001b[38;5;241m*\u001b[39m,\n\u001b[1;32m    204\u001b[0m     data\u001b[38;5;241m=\u001b[39m\u001b[38;5;28;01mNone\u001b[39;00m, variables\u001b[38;5;241m=\u001b[39m{},\n\u001b[0;32m   (...)\u001b[0m\n\u001b[1;32m    210\u001b[0m     \u001b[38;5;66;03m# the kind of plot to draw, but for the time being we need to set\u001b[39;00m\n\u001b[1;32m    211\u001b[0m     \u001b[38;5;66;03m# this information so the SizeMapping can use it\u001b[39;00m\n\u001b[1;32m    212\u001b[0m     \u001b[38;5;28mself\u001b[39m\u001b[38;5;241m.\u001b[39m_default_size_range \u001b[38;5;241m=\u001b[39m (\n\u001b[1;32m    213\u001b[0m         np\u001b[38;5;241m.\u001b[39mr_[\u001b[38;5;241m.5\u001b[39m, \u001b[38;5;241m2\u001b[39m] \u001b[38;5;241m*\u001b[39m mpl\u001b[38;5;241m.\u001b[39mrcParams[\u001b[38;5;124m\"\u001b[39m\u001b[38;5;124mlines.linewidth\u001b[39m\u001b[38;5;124m\"\u001b[39m]\n\u001b[1;32m    214\u001b[0m     )\n\u001b[0;32m--> 216\u001b[0m     \u001b[38;5;28;43msuper\u001b[39;49m\u001b[43m(\u001b[49m\u001b[43m)\u001b[49m\u001b[38;5;241;43m.\u001b[39;49m\u001b[38;5;21;43m__init__\u001b[39;49m\u001b[43m(\u001b[49m\u001b[43mdata\u001b[49m\u001b[38;5;241;43m=\u001b[39;49m\u001b[43mdata\u001b[49m\u001b[43m,\u001b[49m\u001b[43m \u001b[49m\u001b[43mvariables\u001b[49m\u001b[38;5;241;43m=\u001b[39;49m\u001b[43mvariables\u001b[49m\u001b[43m)\u001b[49m\n\u001b[1;32m    218\u001b[0m     \u001b[38;5;28mself\u001b[39m\u001b[38;5;241m.\u001b[39mestimator \u001b[38;5;241m=\u001b[39m estimator\n\u001b[1;32m    219\u001b[0m     \u001b[38;5;28mself\u001b[39m\u001b[38;5;241m.\u001b[39merrorbar \u001b[38;5;241m=\u001b[39m errorbar\n",
      "File \u001b[0;32m~/protolyze/.venv/lib/python3.10/site-packages/seaborn/_base.py:634\u001b[0m, in \u001b[0;36mVectorPlotter.__init__\u001b[0;34m(self, data, variables)\u001b[0m\n\u001b[1;32m    629\u001b[0m \u001b[38;5;66;03m# var_ordered is relevant only for categorical axis variables, and may\u001b[39;00m\n\u001b[1;32m    630\u001b[0m \u001b[38;5;66;03m# be better handled by an internal axis information object that tracks\u001b[39;00m\n\u001b[1;32m    631\u001b[0m \u001b[38;5;66;03m# such information and is set up by the scale_* methods. The analogous\u001b[39;00m\n\u001b[1;32m    632\u001b[0m \u001b[38;5;66;03m# information for numeric axes would be information about log scales.\u001b[39;00m\n\u001b[1;32m    633\u001b[0m \u001b[38;5;28mself\u001b[39m\u001b[38;5;241m.\u001b[39m_var_ordered \u001b[38;5;241m=\u001b[39m {\u001b[38;5;124m\"\u001b[39m\u001b[38;5;124mx\u001b[39m\u001b[38;5;124m\"\u001b[39m: \u001b[38;5;28;01mFalse\u001b[39;00m, \u001b[38;5;124m\"\u001b[39m\u001b[38;5;124my\u001b[39m\u001b[38;5;124m\"\u001b[39m: \u001b[38;5;28;01mFalse\u001b[39;00m}  \u001b[38;5;66;03m# alt., used DefaultDict\u001b[39;00m\n\u001b[0;32m--> 634\u001b[0m \u001b[38;5;28;43mself\u001b[39;49m\u001b[38;5;241;43m.\u001b[39;49m\u001b[43massign_variables\u001b[49m\u001b[43m(\u001b[49m\u001b[43mdata\u001b[49m\u001b[43m,\u001b[49m\u001b[43m \u001b[49m\u001b[43mvariables\u001b[49m\u001b[43m)\u001b[49m\n\u001b[1;32m    636\u001b[0m \u001b[38;5;66;03m# TODO Lots of tests assume that these are called to initialize the\u001b[39;00m\n\u001b[1;32m    637\u001b[0m \u001b[38;5;66;03m# mappings to default values on class initialization. I'd prefer to\u001b[39;00m\n\u001b[1;32m    638\u001b[0m \u001b[38;5;66;03m# move away from that and only have a mapping when explicitly called.\u001b[39;00m\n\u001b[1;32m    639\u001b[0m \u001b[38;5;28;01mfor\u001b[39;00m var \u001b[38;5;129;01min\u001b[39;00m [\u001b[38;5;124m\"\u001b[39m\u001b[38;5;124mhue\u001b[39m\u001b[38;5;124m\"\u001b[39m, \u001b[38;5;124m\"\u001b[39m\u001b[38;5;124msize\u001b[39m\u001b[38;5;124m\"\u001b[39m, \u001b[38;5;124m\"\u001b[39m\u001b[38;5;124mstyle\u001b[39m\u001b[38;5;124m\"\u001b[39m]:\n",
      "File \u001b[0;32m~/protolyze/.venv/lib/python3.10/site-packages/seaborn/_base.py:679\u001b[0m, in \u001b[0;36mVectorPlotter.assign_variables\u001b[0;34m(self, data, variables)\u001b[0m\n\u001b[1;32m    674\u001b[0m \u001b[38;5;28;01melse\u001b[39;00m:\n\u001b[1;32m    675\u001b[0m     \u001b[38;5;66;03m# When dealing with long-form input, use the newer PlotData\u001b[39;00m\n\u001b[1;32m    676\u001b[0m     \u001b[38;5;66;03m# object (internal but introduced for the objects interface)\u001b[39;00m\n\u001b[1;32m    677\u001b[0m     \u001b[38;5;66;03m# to centralize / standardize data consumption logic.\u001b[39;00m\n\u001b[1;32m    678\u001b[0m     \u001b[38;5;28mself\u001b[39m\u001b[38;5;241m.\u001b[39minput_format \u001b[38;5;241m=\u001b[39m \u001b[38;5;124m\"\u001b[39m\u001b[38;5;124mlong\u001b[39m\u001b[38;5;124m\"\u001b[39m\n\u001b[0;32m--> 679\u001b[0m     plot_data \u001b[38;5;241m=\u001b[39m \u001b[43mPlotData\u001b[49m\u001b[43m(\u001b[49m\u001b[43mdata\u001b[49m\u001b[43m,\u001b[49m\u001b[43m \u001b[49m\u001b[43mvariables\u001b[49m\u001b[43m)\u001b[49m\n\u001b[1;32m    680\u001b[0m     frame \u001b[38;5;241m=\u001b[39m plot_data\u001b[38;5;241m.\u001b[39mframe\n\u001b[1;32m    681\u001b[0m     names \u001b[38;5;241m=\u001b[39m plot_data\u001b[38;5;241m.\u001b[39mnames\n",
      "File \u001b[0;32m~/protolyze/.venv/lib/python3.10/site-packages/seaborn/_core/data.py:58\u001b[0m, in \u001b[0;36mPlotData.__init__\u001b[0;34m(self, data, variables)\u001b[0m\n\u001b[1;32m     51\u001b[0m \u001b[38;5;28;01mdef\u001b[39;00m\u001b[38;5;250m \u001b[39m\u001b[38;5;21m__init__\u001b[39m(\n\u001b[1;32m     52\u001b[0m     \u001b[38;5;28mself\u001b[39m,\n\u001b[1;32m     53\u001b[0m     data: DataSource,\n\u001b[1;32m     54\u001b[0m     variables: \u001b[38;5;28mdict\u001b[39m[\u001b[38;5;28mstr\u001b[39m, VariableSpec],\n\u001b[1;32m     55\u001b[0m ):\n\u001b[1;32m     57\u001b[0m     data \u001b[38;5;241m=\u001b[39m handle_data_source(data)\n\u001b[0;32m---> 58\u001b[0m     frame, names, ids \u001b[38;5;241m=\u001b[39m \u001b[38;5;28;43mself\u001b[39;49m\u001b[38;5;241;43m.\u001b[39;49m\u001b[43m_assign_variables\u001b[49m\u001b[43m(\u001b[49m\u001b[43mdata\u001b[49m\u001b[43m,\u001b[49m\u001b[43m \u001b[49m\u001b[43mvariables\u001b[49m\u001b[43m)\u001b[49m\n\u001b[1;32m     60\u001b[0m     \u001b[38;5;28mself\u001b[39m\u001b[38;5;241m.\u001b[39mframe \u001b[38;5;241m=\u001b[39m frame\n\u001b[1;32m     61\u001b[0m     \u001b[38;5;28mself\u001b[39m\u001b[38;5;241m.\u001b[39mnames \u001b[38;5;241m=\u001b[39m names\n",
      "File \u001b[0;32m~/protolyze/.venv/lib/python3.10/site-packages/seaborn/_core/data.py:232\u001b[0m, in \u001b[0;36mPlotData._assign_variables\u001b[0;34m(self, data, variables)\u001b[0m\n\u001b[1;32m    230\u001b[0m     \u001b[38;5;28;01melse\u001b[39;00m:\n\u001b[1;32m    231\u001b[0m         err \u001b[38;5;241m+\u001b[39m\u001b[38;5;241m=\u001b[39m \u001b[38;5;124m\"\u001b[39m\u001b[38;5;124mAn entry with this name does not appear in `data`.\u001b[39m\u001b[38;5;124m\"\u001b[39m\n\u001b[0;32m--> 232\u001b[0m     \u001b[38;5;28;01mraise\u001b[39;00m \u001b[38;5;167;01mValueError\u001b[39;00m(err)\n\u001b[1;32m    234\u001b[0m \u001b[38;5;28;01melse\u001b[39;00m:\n\u001b[1;32m    235\u001b[0m \n\u001b[1;32m    236\u001b[0m     \u001b[38;5;66;03m# Otherwise, assume the value somehow represents data\u001b[39;00m\n\u001b[1;32m    237\u001b[0m \n\u001b[1;32m    238\u001b[0m     \u001b[38;5;66;03m# Ignore empty data structures\u001b[39;00m\n\u001b[1;32m    239\u001b[0m     \u001b[38;5;28;01mif\u001b[39;00m \u001b[38;5;28misinstance\u001b[39m(val, Sized) \u001b[38;5;129;01mand\u001b[39;00m \u001b[38;5;28mlen\u001b[39m(val) \u001b[38;5;241m==\u001b[39m \u001b[38;5;241m0\u001b[39m:\n",
      "\u001b[0;31mValueError\u001b[0m: Could not interpret value `instability index` for `y`. An entry with this name does not appear in `data`."
     ]
    },
    {
     "data": {
      "text/plain": [
       "<Figure size 1000x500 with 0 Axes>"
      ]
     },
     "metadata": {},
     "output_type": "display_data"
    }
   ],
   "source": [
    "import torch\n",
    "import torch.nn.functional as F\n",
    "from transformers import AutoModelForMaskedLM, AutoTokenizer\n",
    "import random\n",
    "import csv\n",
    "import re\n",
    "from collections import defaultdict\n",
    "from tqdm import tqdm\n",
    "import matplotlib.pyplot as plt\n",
    "import pandas as pd\n",
    "import seaborn as sns\n",
    "from Bio.SeqUtils.ProtParam import ProteinAnalysis\n",
    "\n",
    "# Configuration\n",
    "CSV_PATH = \"esm35M_500k_neuron_explanations.csv\"\n",
    "MATCH_STRING = \"positive gravy\"\n",
    "MODEL_NAME = \"facebook/esm2_t12_35M_UR50D\"\n",
    "SEQ_LEN = 50\n",
    "NUM_STEPS = 100\n",
    "A = 5\n",
    "B = 3\n",
    "\n",
    "# Utility: Find neurons matching a keyword in the explanation CSV\n",
    "def find_matching_neurons(csv_path, keyword):\n",
    "    matches = []\n",
    "    with open(csv_path, newline='') as csvfile:\n",
    "        reader = csv.reader(csvfile)\n",
    "        for row in reader:\n",
    "            if len(row) < 2:\n",
    "                continue\n",
    "            neuron_id = row[0]\n",
    "            if any(keyword in desc.lower() for desc in row[1:]):\n",
    "                m = re.match(r\"layer_(\\d+)_neuron_(\\d+)\", neuron_id)\n",
    "                if m:\n",
    "                    matches.append((int(m.group(1)), int(m.group(2))))\n",
    "    return matches\n",
    "\n",
    "# Utility: Make steering hook for multiple neurons\n",
    "def make_multi_neuron_hook(neurons, a=10.0, b=3.0):\n",
    "    def hook_fn(module, input, output):\n",
    "        for neuron in neurons:\n",
    "            output[:, :, neuron] = a * output[:, :, neuron] + b\n",
    "        return output\n",
    "    return hook_fn\n",
    "\n",
    "# Utility: Random valid protein sequence\n",
    "def random_protein_sequence(length):\n",
    "    return ''.join(random.choices(\"ACDEFGHIKLMNPQRSTVWY\", k=length))\n",
    "\n",
    "# Utility: Sample from logits\n",
    "def sample_from_logits(logits):\n",
    "    probs = F.softmax(logits, dim=-1)\n",
    "    return torch.multinomial(probs, num_samples=1).squeeze(-1)\n",
    "\n",
    "# Utility: Decode token IDs into a protein sequence string\n",
    "def decode_tokens(tokenizer, token_ids):\n",
    "    return tokenizer.decode(token_ids, skip_special_tokens=True).replace(\" \", \"\")\n",
    "\n",
    "# Utility: Compute GRAVY score ignoring unknown residues\n",
    "def compute_gravy_ignore_x(seq):\n",
    "    cleaned = seq.replace(\"X\", \"\")\n",
    "    if not cleaned:\n",
    "        return None\n",
    "    return ProteinAnalysis(cleaned).instability_index()\n",
    "\n",
    "# Main steering function\n",
    "def steer_sequences():\n",
    "    device = torch.device(\"cuda\" if torch.cuda.is_available() else \"cpu\")\n",
    "    tokenizer = AutoTokenizer.from_pretrained(MODEL_NAME, do_lower_case=False)\n",
    "    model = AutoModelForMaskedLM.from_pretrained(MODEL_NAME).to(device)\n",
    "    model.eval()\n",
    "\n",
    "    matched_neurons = find_matching_neurons(CSV_PATH, MATCH_STRING)\n",
    "    if not matched_neurons:\n",
    "        print(\"No matching neurons found.\")\n",
    "        return\n",
    "\n",
    "    layer_to_neurons = defaultdict(list)\n",
    "    for layer, neuron in matched_neurons:\n",
    "        layer_to_neurons[layer].append(neuron)\n",
    "\n",
    "    best_sequence = None\n",
    "    best_score = -float('inf')\n",
    "    history = []  # Each item: (sequence, activation, gravy)\n",
    "\n",
    "    for step in tqdm(range(NUM_STEPS)):\n",
    "        seq = random_protein_sequence(SEQ_LEN)\n",
    "        inputs = tokenizer(seq, return_tensors=\"pt\").to(device)\n",
    "\n",
    "        # Register steering hooks\n",
    "        handles = []\n",
    "        for layer, neurons in layer_to_neurons.items():\n",
    "            hook = model.base_model.encoder.layer[layer].intermediate.register_forward_hook(\n",
    "                make_multi_neuron_hook(neurons, A, B)\n",
    "            )\n",
    "            handles.append(hook)\n",
    "\n",
    "        # Forward pass with hooks\n",
    "        with torch.no_grad():\n",
    "            outputs = model(**inputs, output_hidden_states=True)\n",
    "            logits = outputs.logits[0]\n",
    "            hidden_states = outputs.hidden_states\n",
    "\n",
    "        # Remove hooks\n",
    "        for h in handles:\n",
    "            h.remove()\n",
    "\n",
    "        # Score: average activation across target neurons\n",
    "        total, count = 0, 0\n",
    "        for layer, neurons in layer_to_neurons.items():\n",
    "            h = hidden_states[layer][0]\n",
    "            for n in neurons:\n",
    "                total += abs(h[:, n].mean().item())\n",
    "                count += 1\n",
    "        avg_act = total / count if count > 0 else 0\n",
    "\n",
    "        # Sample sequence and compute GRAVY\n",
    "        sampled_ids = sample_from_logits(logits)\n",
    "        new_seq = decode_tokens(tokenizer, sampled_ids)\n",
    "        gravy = compute_gravy_ignore_x(new_seq)\n",
    "\n",
    "        # Save results\n",
    "        history.append((new_seq, avg_act, gravy))\n",
    "        if avg_act > best_score:\n",
    "            best_score = avg_act\n",
    "            best_sequence = new_seq\n",
    "\n",
    "        gravy_str = f\"{gravy:.4f}\" if gravy is not None else \"N/A\"\n",
    "        print(f\"[{step+1:03}] avg_activation={avg_act:.4f} | gravy={gravy_str} | {new_seq}\")\n",
    "\n",
    "    # Print best result\n",
    "    print(\"\\n=== Best Sequence ===\")\n",
    "    print(best_sequence)\n",
    "    print(f\"Max avg activation: {best_score:.4f}\")\n",
    "\n",
    "    # Save history to CSV\n",
    "    with open(\"steered_sequences.csv\", \"w\", newline=\"\") as csvfile:\n",
    "        writer = csv.writer(csvfile)\n",
    "        writer.writerow([\"sequence\", \"avg_activation\", \"gravy\"])\n",
    "        for seq, act, gravy in history:\n",
    "            writer.writerow([seq, act, gravy])\n",
    "\n",
    "    # Plot GRAVY score over steps using seaborn\n",
    "    df = pd.DataFrame(history, columns=[\"sequence\", \"activation\", \"gravy\"])\n",
    "    df[\"step\"] = df.index + 1\n",
    "\n",
    "    sns.set(style=\"whitegrid\", font_scale=1.2)\n",
    "    plt.figure(figsize=(10, 5))\n",
    "    sns.lineplot(data=df, x=\"step\", y=\"instability index\", marker=\"o\", label=\"GRAVY score\")\n",
    "    plt.xlabel(\"Step\")\n",
    "    plt.ylabel(\"Instability Index\")\n",
    "    plt.title(\"Instability Index Trajectory During Steering\")\n",
    "    plt.tight_layout()\n",
    "    plt.savefig(\"instability_index_seaborn.png\")\n",
    "    plt.show()\n",
    "\n",
    "# Run\n",
    "if __name__ == \"__main__\":\n",
    "    steer_sequences()\n"
   ]
  },
  {
   "cell_type": "code",
   "execution_count": null,
   "metadata": {},
   "outputs": [],
   "source": []
  },
  {
   "cell_type": "code",
   "execution_count": null,
   "metadata": {},
   "outputs": [
    {
     "name": "stderr",
     "output_type": "stream",
     "text": [
      "Some weights of the model checkpoint at facebook/esm2_t12_35M_UR50D were not used when initializing EsmForMaskedLM: ['esm.embeddings.position_embeddings.weight']\n",
      "- This IS expected if you are initializing EsmForMaskedLM from the checkpoint of a model trained on another task or with another architecture (e.g. initializing a BertForSequenceClassification model from a BertForPreTraining model).\n",
      "- This IS NOT expected if you are initializing EsmForMaskedLM from the checkpoint of a model that you expect to be exactly identical (initializing a BertForSequenceClassification model from a BertForSequenceClassification model).\n"
     ]
    },
    {
     "name": "stdout",
     "output_type": "stream",
     "text": [
      "Starting sequence: PAGFRQVCKAFMAEPMFNTATQHEYHCCTPTRMYINTPVNRAFGCFDGPIIFGWPPEREIYPNQTSFAHGFWVHQIWLGFNGNVIFYMCADPSKCIYMYVARQMGPDKLYVGMEWVGPPESMSMAHAWVTHCVWCLCSSDLMGVKFMRFHYPKMDFHNFFCPFWVCFQFDWNLSTECKKLRQYCKHVFEKKGFWKVNCYT\n"
     ]
    },
    {
     "name": "stderr",
     "output_type": "stream",
     "text": [
      "Steering for low gravy: 100%|██████████| 100/100 [00:13<00:00,  7.15it/s]\n",
      "Steering for high gravy: 100%|██████████| 100/100 [00:40<00:00,  2.47it/s]\n"
     ]
    },
    {
     "data": {
      "image/png": "[encoded data removed]",
      "text/plain": [
       "<Figure size 1000x500 with 1 Axes>"
      ]
     },
     "metadata": {},
     "output_type": "display_data"
    }
   ],
   "source": [
    "import torch\n",
    "import torch.nn.functional as F\n",
    "from transformers import AutoModelForMaskedLM, AutoTokenizer\n",
    "import random\n",
    "import csv\n",
    "import re\n",
    "from collections import defaultdict\n",
    "from tqdm import tqdm\n",
    "import matplotlib.pyplot as plt\n",
    "import pandas as pd\n",
    "import seaborn as sns\n",
    "from Bio.SeqUtils.ProtParam import ProteinAnalysis\n",
    "\n",
    "# Configuration\n",
    "CSV_PATH = \"esm3B_500k_neuron_explanations.csv\"\n",
    "MODEL_NAME = \"facebook/esm2_t36_3B_UR50D\"\n",
    "SEQ_LEN = 200\n",
    "NUM_STEPS = 100\n",
    "A = 10\n",
    "B = 3\n",
    "\n",
    "# Utilities\n",
    "def find_matching_neurons(csv_path, keyword):\n",
    "    matches = []\n",
    "    with open(csv_path, newline='') as csvfile:\n",
    "        reader = csv.reader(csvfile)\n",
    "        for row in reader:\n",
    "            if len(row) < 2:\n",
    "                continue\n",
    "            neuron_id = row[0]\n",
    "            if any(keyword in desc.lower() for desc in row[1:]):\n",
    "                m = re.match(r\"layer_(\\d+)_neuron_(\\d+)\", neuron_id)\n",
    "                if m:\n",
    "                    matches.append((int(m.group(1)), int(m.group(2))))\n",
    "    return matches\n",
    "\n",
    "def make_multi_neuron_hook(neurons, a=10.0, b=3.0):\n",
    "    def hook_fn(module, input, output):\n",
    "        for neuron in neurons:\n",
    "            output[:, :, neuron] = a * output[:, :, neuron] + b\n",
    "        return output\n",
    "    return hook_fn\n",
    "\n",
    "def random_protein_sequence(length):\n",
    "    return ''.join(random.choices(\"ACDEFGHIKLMNPQRSTVWY\", k=length))\n",
    "\n",
    "def sample_from_logits(logits):\n",
    "    probs = F.softmax(logits, dim=-1)\n",
    "    return torch.multinomial(probs, num_samples=1).squeeze(-1)\n",
    "\n",
    "def decode_tokens(tokenizer, token_ids):\n",
    "    return tokenizer.decode(token_ids, skip_special_tokens=True).replace(\" \", \"\")\n",
    "\n",
    "def compute_gravy_ignore_x(seq):\n",
    "    cleaned = seq.replace(\"X\", \"\")\n",
    "    if not cleaned:\n",
    "        return None\n",
    "    return ProteinAnalysis(cleaned).instability_index()\n",
    "\n",
    "\n",
    "\n",
    "def steer(model, tokenizer, base_sequence, match_string, label=None):\n",
    "    matched_neurons = find_matching_neurons(CSV_PATH, match_string)\n",
    "    if not matched_neurons:\n",
    "        print(f\"No matching neurons found for: {match_string}\")\n",
    "        return []\n",
    "\n",
    "    layer_to_neurons = defaultdict(list)\n",
    "    for layer, neuron in matched_neurons:\n",
    "        layer_to_neurons[layer].append(neuron)\n",
    "\n",
    "    device = model.device\n",
    "    history = []\n",
    "    \n",
    "    seq = base_sequence\n",
    "    for step in tqdm(range(NUM_STEPS), desc=f\"Steering for {label}\"):\n",
    "        masked_seq = list(seq)\n",
    "        mask_indices = random.sample(range(len(seq)), len(seq)//4)  # Mask ~25% of positions\n",
    "        \n",
    "        for idx in mask_indices:\n",
    "            masked_seq[idx] = tokenizer.mask_token\n",
    "        \n",
    "        masked_seq_str = ''.join(masked_seq)\n",
    "        inputs = tokenizer(masked_seq_str, return_tensors=\"pt\").to(device)\n",
    "\n",
    "        handles = []\n",
    "        for layer, neurons in layer_to_neurons.items():\n",
    "            hook = model.base_model.encoder.layer[layer].intermediate.register_forward_hook(\n",
    "                make_multi_neuron_hook(neurons, A, B)\n",
    "            )\n",
    "            handles.append(hook)\n",
    "\n",
    "        with torch.no_grad():\n",
    "            outputs = model(**inputs, output_hidden_states=True)\n",
    "            logits = outputs.logits[0]\n",
    "            hidden_states = outputs.hidden_states\n",
    "\n",
    "        for h in handles:\n",
    "            h.remove()\n",
    "\n",
    "        new_seq = list(seq)\n",
    "        for idx in mask_indices:\n",
    "            token_logits = logits[idx + 1]  \n",
    "            sampled_token_id = sample_from_logits(token_logits.unsqueeze(0))\n",
    "            sampled_token_id = sampled_token_id.item()\n",
    "            new_token = tokenizer.decode([sampled_token_id], skip_special_tokens=True)\n",
    "            if new_token and new_token in \"ACDEFGHIKLMNPQRSTVWY\":\n",
    "                new_seq[idx] = new_token\n",
    "        \n",
    "        seq = ''.join(new_seq)\n",
    "\n",
    "        total, count = 0, 0\n",
    "        for layer, neurons in layer_to_neurons.items():\n",
    "            h = hidden_states[layer][0]\n",
    "            for n in neurons:\n",
    "                total += abs(h[:, n].mean().item())\n",
    "                count += 1\n",
    "        avg_act = total / count if count > 0 else 0\n",
    "\n",
    "        gravy = compute_gravy_ignore_x(seq)\n",
    "\n",
    "        history.append((step + 1, seq, avg_act, gravy, label))\n",
    "\n",
    "    return history\n",
    "\n",
    "\n",
    "# Run both steering loops\n",
    "if __name__ == \"__main__\":\n",
    "    torch.manual_seed(42)\n",
    "    random.seed(42)\n",
    "\n",
    "    device = torch.device(\"cuda\" if torch.cuda.is_available() else \"cpu\")\n",
    "    tokenizer = AutoTokenizer.from_pretrained(MODEL_NAME, do_lower_case=False)\n",
    "    model = AutoModelForMaskedLM.from_pretrained(MODEL_NAME).to(device)\n",
    "    model.eval()\n",
    "\n",
    "    # Generate shared initial sequence\n",
    "    base_sequence = random_protein_sequence(SEQ_LEN)\n",
    "    print(\"Starting sequence:\", base_sequence)\n",
    "\n",
    "    # Run both steering directions\n",
    "    history_pos = steer(model, tokenizer, base_sequence, \"high gravy\", label=\"low gravy\")\n",
    "    history_neg = steer(model, tokenizer, base_sequence, \"low gravy\", label=\"high gravy\")\n",
    "    # Add initial point (step 0) before steering\n",
    "    initial_gravy = compute_gravy_ignore_x(base_sequence)\n",
    "    init_row = (0, base_sequence, 0.0, initial_gravy, \"high gravy\")\n",
    "    history_pos = [init_row] + history_pos\n",
    "    init_row = (0, base_sequence, 0.0, initial_gravy, \"low gravy\")\n",
    "    history_neg = [init_row] + history_neg\n",
    "\n",
    "    # Save both to CSV\n",
    "    with open(\"steered_sequences_dual.csv\", \"w\", newline=\"\") as f:\n",
    "        writer = csv.writer(f)\n",
    "        writer.writerow([\"step\", \"sequence\", \"activation\", \"gravy\", \"label\"])\n",
    "        for row in history_pos + history_neg:\n",
    "            writer.writerow(row)\n",
    "\n",
    "    # Plot GRAVY score trajectories\n",
    "    df = pd.DataFrame(history_pos + history_neg, columns=[\"step\", \"sequence\", \"activation\", \"gravy\", \"label\"])\n",
    "    sns.set(style=\"whitegrid\", font_scale=1.2)\n",
    "    plt.figure(figsize=(10, 5))\n",
    "    sns.lineplot(data=df, x=\"step\", y=\"gravy\", hue=\"label\", marker=\"o\")\n",
    "    plt.xlabel(\"Step\")\n",
    "    plt.ylabel(\"Instability Index Score\")\n",
    "    plt.title(\"Instability Index Score Trajectories: Neuron Activations For Instability Index\")\n",
    "    plt.legend(title=\"Steering Direction\")\n",
    "    plt.tight_layout()\n",
    "    plt.savefig(\"gravy_score_comparison.png\")\n",
    "    \n",
    "    plt.show()\n"
   ]
  },
  {
   "cell_type": "code",
   "execution_count": 22,
   "metadata": {},
   "outputs": [
    {
     "data": {
      "text/plain": [
       "[(0,\n",
       "  'PAGFRQVCKAFMAEPMFNTATQHEYHCCTPTRMYINTPVNRAFGCFDGPIIFGWPPEREIYPNQTSFAHGFWVHQIWLGFNGNVIFYMCADPSKCIYMYVARQMGPDKLYVGMEWVGPPESMSMAHAWVTHCVWCLCSSDLMGVKFMRFHYPKMDFHNFFCPFWVCFQFDWNLSTECKKLRQYCKHVFEKKGFWKVNCYTYWTELFKCIYGSLKYYNREGYNMRCNMVEYCENQFDVFNPKNMWFRFIQGHSCLYYCFGWVVIETRPYQATGQWDDDNGPRFPGLWTCKGASPGRNKACV',\n",
       "  0.0,\n",
       "  35.17370000000001,\n",
       "  'low instability indices'),\n",
       " (1,\n",
       "  'PAGFRQVCKAFMAEPMFNTATQHEYHCCTPTRMYINTPVNRAFGCFDGPIIFGWPPEREIYPNQTSFAHGFWVHQIWLGFNGNVIFYMCADPSKCIYMYVARQMGPDKLYVGMEWVGWPESMSMAHAWVTHCVWCLCSSDLMGVKFMRFHYPKMDFHNFFCPFWVCFQFDWNLSTECKKLRVYCKHVFEKKGFWKVNCYTYWTELFKCIYGSLKYYNREGYNMRCNMVEYCENQFDVFNPKNMWFRFIQGHSCLYYPFGWVVIETRPYQATGFWDDDNGPRFPGLWRCKGASPGRNKACV',\n",
       "  0.3430031060374209),\n",
       " (2,\n",
       "  'PAGFRQVCKSFMAEPMFNTATFHEYHCCTPTRMYINWPVNRAFGCFDGPIIFGWPPEREIYPNQTSFAHGFWVHQIWLGFNGNVIFYMCADPSKCIYMYVARQMGPDKLYVGMEWVGWPESMSMAHAWVTHCVWCLCSSDLMGVKFMRFHYPKMDFHNFFCPFWVCFQFDWNLSTECKKLRVYCKHVFEKKGFWKVNCYTYWTELFKCIYGSLKYYNREGYNMFCNMVEYCENQFDVFNPKNMWFRFIQGHSCLYYPFGWVVIETRPYQATGFWDDDNGPRFPGLWRCKGASPGRNKACV',\n",
       "  0.34349587599613834),\n",
       " (3,\n",
       "  'PAGFRQVCKSFMAEPMFNTATFHEYHCCTPTRMYINWPVPRAFGCFDGPIIFGWPPEREIYPNQTSFAHGFWVHQIWLGFNGNVIFYMCADPSKCIYMYVARQMGPDKLYVGMEWVGWPESMSMAHAWVTHCVWCLCSSDLMGVKFMRFHYPKMDFHNFFVPFWVCFQFDWNLSTECKKLRVYCKHVFEKKGFWKVNCYTYWTELFKCIYGSLKYYNREMYNMFCNMVEYCENQFRVFNPKNMWFRFIQGHSCLYYPFGWVVIETRPYQATGFWDDDNGPRFPGLWRCKGASPGDNKACV',\n",
       "  0.3427963609408055),\n",
       " (4,\n",
       "  'PAGFRQVCKSFMAEPMFNTATFHEYHCCTPTRMYINWPVPRAFGCFDGPIIFGWPPERLIYPNQTSFAHGFWVHQIWLGFNGNVIFYMCADPSKCIYMYVARQMGPDKLYVGMEWVGWPESMSMAHAWVTHCVWCLCSSDLMGVKFMRLHYPKMDFHNFFVPFWVCFQFDWNLSTECKKLRVYCKHVFEKKGFWKVNCYTYWTELFKYIYGSLEYYNREMYNMFCNMVEYCENQFRVFNPKNMWFRFIQGHSCLYYPFGWVVIETRPYQATGFWDDDNGPRFPGLWRCKGASPFDNKACV',\n",
       "  0.33513489325663876),\n",
       " (5,\n",
       "  'PAGFRQVCKSLMAEPMFNTATFHEYHCCTPTRMYINWPVPRAFGCFDGPIIFGWPPERLIYPNQTSFAHGFWVHQIWLGFNGNVIFYNCADPSKCIYMYVARQMGPDKLYVGMEWVGWPESMSMAHAWVTHCVWCLCSSDLMGVKFMRLHYPKMDFHNFFVPFWVCFQFDWNLSTECKKLRVYCKHVFEKKGFWKVNCYTYWTELFKIIYGSLEYYNREMYNMFCNMVEYCENQFNVFNPKNMWFRFIQGHSCLYYPFGWVVIETRPYQATGFWDDDNGPRFPGLWRCKGASPFDNKACV',\n",
       "  0.3469893457368016),\n",
       " (6,\n",
       "  'PAGFRQVCKSLMAEPMFNTATFHEYHCCTPTRMYINWPVPRAFGCRDGPIIFGWRPERLIYPNQTSFAHGFWVHQIWLGFNGNVIFYNCADPSKCIYMYVARQMGPDKLYVGMEWVGWPESMSMHHAWVTHCVWCLCSSDLMGVKFMRLHYPKMDFHNFFVPFWVCFQFDWNLSTECKKLRVYCKFVFEKKGFWKVNCYTYWTELFKIIYGSLEYYNREMYNMKCNMVEYCENQFNVFNPKNMWFRFIQGHSCLYYPFGWVVIETRPYQATGFWDDDNGPRFPGLWRCKGASPFDNKACV',\n",
       "  0.3648404208943248),\n",
       " (7,\n",
       "  'PAGFRQVCKSLMAEPMFNTATFHEYHCCTPTRMYINWPVPWAFGCRDGPIIFGWRPERLIYPNQTSFAHGFWVHQIWLGFNGNVIFYNCADPSKCIYMYVARQMGPDKLYVGMEWVGWPESMSMHHAWVTHCVWCLCSSDLMGVKFMRLHYPKMDFHNFFVPFWVCFQFDWNLSTECKKLRVYCKFVFEKKGFWKVNCYTYWLELAKIIYGSLEYYNREMYNMSCNMVEYCENQFNVFNPKNMWFRFIQGHSCLYYPFGWVVIETRPYLATGFWDDDNGPRFPGLWRCKGASPFDNKACV',\n",
       "  0.3582494179052966),\n",
       " (8,\n",
       "  'PAGFRQVCKSLMAEPMFNTATFHEYHCCTPTRMYINWPVPWAFGCRDGPIIFGWRPERLIYPNQTSFAHGFWVHQIWLGFNGNVIFSNCADPSKCIYMYVARQMGPDKLYVGMPWVGWPESMSMHHAWVTHCVWCLCSSDLMGVKFMRLHYPKMDFHNDFVPFWVCFQFDINLCTECKKLRVYCKFVFEKKGFWKVNCYTYWLELAKIIYGSLEYYNREMYNMSCNMVEYCENQFNVFNPKNMWFRFIQGHSCLYYPFGWVVIETRPYLATGFWDDDNGPRFPGLWRCKGASPFDNKACV',\n",
       "  0.35101674537041355),\n",
       " (9,\n",
       "  'PAGFRQVCKSLMAEPMFNTATFHEYHCCTPTRMYINWPVTWAFGCRDGPIIFGWRPERLIYPNQTSFAHGFWVHQIWLGFNGNVIFSNCADPSKCIYMYSARQMGPDKLYVGMPWVGWPESMSMHHAWVTHCVWCLCSSDLMGVKFMRLHYPKMDFHNDFVPFWVCFQFDINLCTECKKLRVYCKFVFEKKGFWKVNCYTYWLELAKIIYGSLEYYNREMYNMSCNMVEYCENQFNVFNPKNMWFRFIQGHSCLYYPFGWVDIETRPYLATVFWDDDNGPRFPGLWRCKGASPFDNKACV',\n",
       "  0.3617596825850861),\n",
       " (10,\n",
       "  'PAGFRQVCKSLMAEPMFNTATFHEYHCCTPTRMYINWPVTWAFGCRDGPIIFCWRPERLIYPNQTSFAHGFWVHQVWLGFNGNVIFSNCADPSKCIYMYSARQMGPDKLYVGMPWVGWPEHMSMHHAWVTHCVWCLCSSDLMGVKFMRLHYPKMDFHNDFVPFWVCFQFDINLCTECKADRVYCKFVFEKKGFWKVNCYTYWLELAKIIYGSLEYYNREMYNMSCNMVEYCENQFNVFNPKNMWFRFIQGHSCLYYPFGWVDIETRPYLATVFWDDDNGPRFPGLWRCKGASPFDNKACV',\n",
       "  0.3631597463307636),\n",
       " (11,\n",
       "  'PAGFRQVCKSLMAEPMFNTATFHEYHCCTPTRMYINWPVTWAFGCRDGPIIFCWRPERLIYPNQTSFAHGFWVHKVWLAFNGNVIFSNVADPSKCIYMYSAYQMGPDKLYVGMPWVGWPEHMSMHHAWVTHGVWCLCSSDLMGVKFMRLHYPKMDFHNDFVPFWVCFQFDINLCTECKADRVYCKFVFEKKGFWKVNCYTYWLELAKIIYGSLEYYNREMYNMSCNMVEYCENQFNVFNPKNMWFRFIQGHSCLYYPFGWVDIETRPYLATVFWDDDNGPRFPGLWRCKGASPFDNKACV',\n",
       "  0.37024988380393814),\n",
       " (12,\n",
       "  'PAGFRQVCKSLMAEPMFNTATFHEYHCCTPTRMYINWPLTWAFGCRDGPIIFCWRPERLIYPNQTSFAHGFWVHKVWLAFNGNVIFSNVASPSKCIYMYSAYQMGPDKLYVGMPWVGWPEHMSMHHAWVTHGVWCLCSSDLMGVKFMRLHYPKMDFHNDFVPFWVCFQFDINLCTECKADRVYCKFVFEKKGFWKVNCYTYWLELAKIIYGSLEYYNREMYNMSCNMVEYCENQFNVNNPKNMWFRFIQGHSILYYPFGWVDIETRPYLATVFWDDDNGPRFPGLWRCFGASPFDNKACV',\n",
       "  0.37520697845944334),\n",
       " (13,\n",
       "  'PAGFRQVCKSLMAEPMFNTATFHEYHCCTPTRMYINWPLTWAFGCRDGPIIFCWRPERLIYPNQTSFAHGFWVHKVWLAFNGNVIFSNVASPSKCIYMYSAYQMGPDKLYVGMPWVGWPEHMSMHHAWVTHGVWCLCSSDLMGVKFMRLHYPKMDFHNDFVTFWVYFQFDINLCTECKADRVYCKFVFEKKGFWKVNCYTYWLELAKIIYGSLEYYNREMYNMSCNMVEICENQFNVNNPKNMWFRFIQGHSILYYPFGWVDIETRPYLATVFWDDDNGPRFPGLWRCFQASPFDNFACV',\n",
       "  0.3726835450423615),\n",
       " (14,\n",
       "  'PAGFRQVCKSLMAEPMFNTATFHEYHCCTPTRMYVNWPLTWAFGCRDGPIIFCWRPERLIYPNQTSFAHGFWVHKVWTAFNGNVIFSNVASPSKCIYMYSAYQMGPDKLYVGMPWVGWPEHMSMHHAWVTHGVWCLCSSDLMGVKFMRLHYPKMDFHNDFVTFWVYFQFDINLCTECKADRVYCKFVFEKKGFWKVNCYTYWLELAKIIYGSLEYYNREMYNMSCVVVEICENQFNVNNPYNMWFRFIQGHSILYYPFGWVDIETRPYLATVFWDDDNGPRFPGLWRCFQASPFDNFACV',\n",
       "  0.3772135049636875),\n",
       " (15,\n",
       "  'PAGFRQVCKSLMAEPMFNTATFHEYHCCYPTRMYVNWPLTWAFGCRDGPIIFCWRPERLIYPNQTSFAHGFWVHKVWTAFNGNVIFSNVASPSKCIYMYSAYQMGPDKLYVGMPWVGWPEHMSMHHAWVTHGVWCLCSSDYMGVKFMRLHYPKMDFHNDFVTFWVYFQFDINLCTECKADYVYCKFVFEKKGFWKVNCYTYWLELAKIIYGSLEYYNREMYNMSCVVVEICENQFNVNNPYNMWFRFIQGHSILYYPFGMVDIETRPYLATVFWDDDNGPRFPGLWRCFQASPFDNFACV',\n",
       "  0.36215300352445673),\n",
       " (16,\n",
       "  'PAGFRQVCKSLMAEPMFNTKTFHEYHCCYPTRMYVNWALTWAFGCRDGPIIFCWRPERLIYPNQTSFAHGFWVHKVWTAFNGNVIFSNVASPSKCIYMYSAYQMGPDKLYVGMPWVGWPEHMSMHHAWVTHGVWCLCSSDYMGVKFMRLHYPKMDFHNLFVTFWVYFQFDINLCTECKADYVYCKFVFEKKGFWKVNCYTYWLELAKIIYGSLEYYNREMYNMSCVVVEICTNQFNVNNPYNMWFRFIQGHSILYYPFGMVDIETRPYLATVFWDDDNGPRFPGLWRCFQASPFDNFACV',\n",
       "  0.36417654156684875),\n",
       " (17,\n",
       "  'PAGFRQVCKSLMAEPMFNTKTFHEYHCCYRTRMYVNWALVWAFGCRYGPIIFCWRPERLIYPNQTSFAHGFWVHKVWTAFNGNVIFSNVASPSKCIYMYSAYQMGPDKLYVGMPWVGWPEHMSMHHAWVTHGVWCLCSSDYMGVKFLRLHYPKMDFHNLFVTFWVYFQFDINLCTECKADYVYCKFVFCKKGFWKVNCYTYWLELAKIIYGSLEYYNREMYNMSCVVVEICTNQFNVNNPYNMWFRFIQGHSILYYPFGMVDIETRPYLATVFWDDDNGPRFPGLWRCFQASPFDNFACV',\n",
       "  0.3637981813933168),\n",
       " (18,\n",
       "  'PAGFRQVCKSLMAEPMFNTKTFHEYHCCYRTRMYVNWALVWAFGCRYGPIIFCWRPERLIYPNQTSFAHGFWVHKVWTAFNGNVIFSNVASPSKCIYMYSAYQMGPDKLYVGMPWVGWPEHMSMHHAWVTHGVWCLCSSDYMGVKFLRLHYPKMDFHNLFVTFWVYFQFDINLCTECKADYVYCKFVFCKKGFWKVECYTYWLELAKIIYGSLEYYNREMYNMSCVVVEICTNQFNINNPYNMWFRFIQGHSILYYPFGEVDIETRPYLATVFWDDDNGPRFPRLWRCFQASPFDNFLCV',\n",
       "  0.35887238130505594),\n",
       " (19,\n",
       "  'PAGFRQVCKSLMAEPMFNTKTRHEYHCCYRTRMYVNWALVWAFGCRYGPIIFCWRPERLIYPNQTSFAHGFWVHKVWTAFNGNVIFSNVASPSKCIVMYSAYQMGPDKLYVGMPWVGWPEHMSMHHAWVTHGVWCLCSSDYMGVKFLRLHYPKMDFHNLFVTFWFYFQFDINLCTECKADYVYCKFVFCKKGFWKVECYTYWLELAKIIYGSLEYYNREMYNMSCVVVEIKTNQFNINNPYNMWFRFIQGHSILYYPFGEVDIETRPYLATVFWDDDNGPRFPRLWRCFQASIFDNFLCV',\n",
       "  0.36154575273394585),\n",
       " (20,\n",
       "  'PAGFRQVCKSLMAEPMFNTKTRHEYHCCYRTGMYVNWALVWAFGCRYGPIIFCWRPERLIYPNQTSFAHGFWVHKVWPAFNGNVIFSNVASPSKCIVMYSAYQMGPDKLYVGMPWVGWPEHMSMHHAWVTHGVWCLCSSDYMGVKFLRLHYPKMDFHNLFVTFWFYFQFDINLCTECKADYVYCKFVFCKKGFWKVECYTYWLELAKIIYGSLEYYNREMYNMSCVVVEIETNQFNINNPYNMLFRFIQGHSILYYEFGEVDIETRPYLATVFWDDDNGPRFPRLWRCFQASIFDNFLCV',\n",
       "  0.3507176986230271),\n",
       " (21,\n",
       "  'PAGFRQVCKSLMAEPMFNTKTRHEYHCCYRTGMYVNWALVWAFSCRYGPIIFYWRPERLIYPNQTSFAHGFWVHKVWPAFNGNVIFSNAASPSKCIVMYSAYQMGPDKLYVGMPWVGWPEHMSMHHAWVTHGVWCLCSSDYMGVKFLRLHYPKMDFHNLFVTFWFYFQFDINLCTFCKADYVYCKFVFCKKGFWKVECYTYWLELAKIIYGSLEYYNREMYNMSCVVVEIETNQFNINNPYNMLFRFIQGHSILYYEFQEVDIETRPYLATVFWDDDNGPRFPRLWRCFQASIFDNFLCV',\n",
       "  0.34778227071676937),\n",
       " (22,\n",
       "  'PAGFRQVCKSLMAEPMFNTKVRHEYHCCYRTGMYVNWALVWAFSCRYGPIIFYWRPERLIYPNQTSFAHGFWVHKVWPAFNGNVIFSNAASPSKCIVMYSAYQMGPDKLYVGMPWVGWPEHMSMHHFWVTHGVWCLCSSDYMGVKFLRLHYPKMDFHNLFVTFWFYFQFDINLCTFCKADYVYCKFVFCKKGFWKVECYTYWLELAKIIYGSLEYYNREMYNMSTVVVEIETNQFNINNPYNMLFRFIQGHSILYYEFQEVDIETRPSYATVFWDDDNGPRFPRLWRCFQASIFDNFLCV',\n",
       "  0.3465566346421838),\n",
       " (23,\n",
       "  'PAGFRQVCKSLMAEPMFNTKVRHEYHCCYRTGMYVNWALVWAFSCRYGPIIFYWRPERLIYPNQTSFAHGFWVHKVWPAFNCNVIFSNAASPSKCIVMYSAYQMGPDKLYVGMPWVGWPEHMSMHHFWVTHGVWCLCSSDYMGVVFLRLHYPKMDFHNLFVTFWFYFQFDINLCTFCKADYVYCKFTFCKFGFWKVECKTYWLELAKIIYGSLEYYNREMYNMSTVVVEIETNQFNINNPYNMLFRFIQGHSILYYEFQEVDIETRPSYATVFWDDDNGPRFPRLWRCFQASIFDNFLCV',\n",
       "  0.3513741648889014),\n",
       " (24,\n",
       "  'PAGFRQVCKSLMAEPMFNTKVRHEYHKCYRTGMFVNWALVWAFSCRYGPIIFYWRPERLIYPNQTSFAHGFWVHKVWPAFNCNVIFSNAASPSKCIVMYSAYQMGPDKLYVGMPWVGWPEHMSMHHFWVTHGVWCLCSSDYMGVVFLRLHYPKMDFHNLFVTFWFYFQFDIYLYTFCKADYVYCKFTFCKFGFWKVECKTYWLELAKIIFGSLEYYNREMYNMSTVVVEIETNQFNINNPYNMLFRFIQGHSILYYEFQEVDIETRPSYATVFWDDDNGPRFPRLWRCFQASIFDNFLCV',\n",
       "  0.33567271581185715),\n",
       " (25,\n",
       "  'PAGFRQVCKSLMAEPMFNTKVRHEYHKCYRTGMFVNWALVWAFSCRYGGIIFYWRPERLIYPNQTSFAHGFWVHKVWPAFNCNVIFSNAASPSKCIVMYSAYQMGPDKLYVGMPWVGWPEHMSMHHFWVTHGVWCLCSSDYMGVVWLRLHYPKMDFHNLFVTFWFYFQADIYLYTFCKADYVYCKFTFCKFGFWKVEFKTYWLELAKIIFGSLEYYNREMYNMSTVVVEIETNQFNINNPYNMLFRFIQGHSILYYEFQEVDIETRPSYATVFWDDDNGPRFPRLRRCFQASIFDNFLCV',\n",
       "  0.32832439909023897),\n",
       " (26,\n",
       "  'PAGFRQVCKSLMAEPMFNTKVRHEYHKCYRTGMFVNWALVWSFSCRYGGIIFYWRPERLIYPNQTSFAHGFWVHKVYPAFNCNVIFSNAASPSKCIVMYSAYQMGPDKLYVGMPWVGWPEHMSMHHFWVSHGVWCLCSSDYMGVVWLRLHYPKMDFHNLFVTFWFYFQADNYLYTFCKADYVYCKFTFCKFGFWKVEFKTYWLELAKIIFGSLEYYNREMYNMSTVVVEIETNQFNINNPYNMLFRFIQGHSILYYEFQEVDIETRPSYATVFWDDDNGPRFPRLRRCFQASIFDNFLMV',\n",
       "  0.3287946106866002),\n",
       " (27,\n",
       "  'PAGFRQVCKSLMAEPMFNTKVRHEYHKCYRTGMFVNWALVWSFSCRYGGIIFYWRPERLIYPNQTSDAHGFWGHKVYPAFNCNVIFSNAASPSKCIVMYSAYQMGPDKLYVGMPWVGWPEHMSMHHFWVSHGVWCLCSSDYMGVVWLRLHYPKMDFHNLFVTFWFYFQADNYLYTFCKALYVYCKFTFCKFGFWKVEFKTGWLELAKIIFGSLEYYNREMYNMSTVVVEIETNQFNINNPYNMLFRFIQGHSILYYEFQEVDIETRPSYATVFWDDDNGPRFPRLRRCFQASIFDNFLMV',\n",
       "  0.33839869618948015),\n",
       " (28,\n",
       "  'PAGFRQVCKSLMAEPMFNTKVRHEYHKCYRTGMFVNWALVWSFFCRYGGIIFYWRPERLIYPNQTSDAHGFWGHKVYPAFNCNVIFSNAASPSKCIVMYSAYQMGPDKLYVGMPWVGWPEHMSMHHFWVSHGVWCLCSSDYMGVVWLRLHYPKMDFHNMFVTFWFYFQCDNYLYTFCKALYVYCKFTFCKFGVWKVEFKTGWLELAKIIFGSLEYYNREMYNMSTVVVEIETNQFNINNPYNMLFRFIQGHSILYYEFQEVDIETRPSYATVFWDDDNGPRFPRLRPCFQASIFDNFLMV',\n",
       "  0.34765515715948175),\n",
       " (29,\n",
       "  'PAGFRQVCKSLMAEPMFNTKVRHEYHKCYRTGMFVNWALVWSFFCRYAGIIFYWRPERLIYPNQTPDAHGFWGHKVYPAFNCNVIFSNAASPSKCIVMYSAYQMGPDKLYVGMPWVGWPEHMSMHHFWVSHGVWCLCSSDYMGVVWLRLHYPKMDFHNMFVTFWFYFQCDNYLYTFCKALYVYCKFTFCKFGVWKVEFKTGWLELAKIIFGSLEYYYREMYNMSTVVVEIETNQFNINNPYNMLFRFIQGHSILYYEFQELDIETRPSYGTVFWDDDNGPRFPRLRPCFQASIFDNFLMV',\n",
       "  0.33594011422246695),\n",
       " (30,\n",
       "  'PAGFRQVCKGLMAEPMFNTKVRHEYHKCYRTGMFVNWALVWSFFCRYAGIIFYWRPERLIYPNQTPDAHGFWGHKVYPAFNCNVIFSNAASPRKCIVMYSAYQMGPDKLVVGMPWVGWPEHMSMHHFWVSHGVWCLCSSDYMGVVWLRLHYPKMDFHNTFVTFWFYFQCDNYLYTFCKALYVYCKATFCKFGVWKVEFKTGWLELAKIIFGSLEYYYREMYNMSTVVVEIETNQFNINNPYNMLFRFIQGHSILYYEFQELDIETRPSYGTVFWDDDNGPRFPRLRPCFQASIFDNFLMV',\n",
       "  0.33952107972332407),\n",
       " (31,\n",
       "  'PAGFRQVCKGLMAEPMFNTKVRHEYHKCYRTGMFVNWALVWSFFCRYAGIIFYWRPERLIYPNQTPDAHGIWGHKVYPAFNCNVIFSNAASPRKCIVMASAYQMGPDKLVVGMPWRGWPEHMSMHHFWVSHGVWCLCSSDYMGVVWLRLHYPKMDFHNTFVTFWFYFQCDNYLYVFCKALYVYCKATFCKFGVWKVEFKTGWLELAKIIFGSLEYYYREMYNMSTVVVEIETNQFNINNPYNMLFRFIRGHSILYYEFQELDIETRPSYGTVFWDDDNGPRFPRLRPCFQASIFDNFLMV',\n",
       "  0.3466967527887651),\n",
       " (32,\n",
       "  'PAGFRQVCKGLMAEPMFNTKVRHEYHKCYRTGMFVNWALAWSFFCRYAGIIQYWRPERLIYPNQTPDAHGIWGHKVYPARNCNVIFSNAASPRKCIVMASAYQMGPDKLVVGMPWRGWPEHMSMHHFWVSHGVWCLCSSDYMGVVWLRLHYGKMDFHNTFVTFWFYFQCDNYLYVFCKALYVYCKATFCKFGVWKVEFKTGWLELAKIIFGSLEYYYREMYNMSTVVVEIETNQFNINNPYNMLFRFIRGHSILYYEFQYLDIETRPSYGTVFWDDDNGPRFPRLRPCFQASIFDNFLMV',\n",
       "  0.34342838052128044),\n",
       " (33,\n",
       "  'PAGFRQVCKGLMAEPMFNTKVRHEYHKCYRTGMFVNWALAWSFFCRYAGIIQYWRPERLIYPNQTPDVHGIWGHKVYPARNCNVIFSNAASPRKCIVMASAYQMGPDKLVVGMPWRGWPEHMSMHHFWVSHGVWCLCSSDYMGVVWLRLHYGKMDFHNTFVTFWFYFQCDNYVYVFCKALYVYCKATFCKFGVWKVEFKTGWLELAKIIFGSLEYYYREMYNMSTVVVEIETNQFNINNPYNMLFRFIRGHSILYYEFQYLDIETRPSYGTVFWDDHNGPRFPRLRPCFQASIFDNFLMV',\n",
       "  0.339625311616276),\n",
       " (34,\n",
       "  'PAGFRQVCKGLMAEPMFNTKVRHEYHKCYRTGMFVNWALAWSFFCRYAGIIQYWRPERLIYPNQTPDVHGIWGHKVYPRRNCNILFSNAASPAKCIVMASAYQMGPDKLVVGMPWRGWPEHMSMHHFWVSHGVWCLCSSDYMGVVWLRLHYGKMDFHNTFVTFWFYFQCDNYVYVFCKALYVYCKATFCKFGEWKVEFKTGWLELAKIIFGSLEYYYREMYNMSTVVVEIETNQFNINNPYNMLFRFIRGHSILYYEFQYLDIETRPSYGTVFWDDHNGPRFPRLRPCFQASIFDNFLMV',\n",
       "  0.3497096639392631),\n",
       " (35,\n",
       "  'PAGFRQVCKGLMAEPMFNTKVRAEYHKCYRTGMFVNWALAWSFFCRYAGIIQYWRPERLIYPNQTPDVHGIWGHKVYPRRNCNILFSNAASPAKCIVMASAYQMGPDKLVVGMPWRGWPEHFSMHHFWVSHGVWCLCSSDYMGVVWLRLHYGKMDFHNTFVTFWFYFQCDNYVYVFCKALYVYCKAVFCKFGEWKVEFKTGWLELAKIIFYSLEYYYREMYNMSWVVVEIETNQFNINNPYNMLFRFIRGHSILYYEFQYLDIETRPSYGTVFWDDHNGPRFPRLRPCFQASIFDNFLMV',\n",
       "  0.3460569065064192),\n",
       " (36,\n",
       "  'PAGFRQVCKGLMAEPMFNTKVRAEYHKCYRTGMFVNWALAWSFFCRYAGIIQYWRPERLIYPNQTPDVHGIWGHKVYPRRNCNILFSNAASPAKCIVMASAYQMGPDKLVVGMPWRGWPWHFSMHHFWVSHGVWCLCSSDYMGVVFLRLHYGKMDFHNTFVTFWFYFQCDNYVYVFCKALYVYCKAVFCKFGEWKVEFKTGWLELAKIIFYSLEYYYREMYNMSWVVFETETNQFNINNPYNMLFRFIRGHSILYYEFQYLDIETRPSYGTVFFDDHNGPRFPRLRPCFQASIFDNFLMV',\n",
       "  0.33276122449232),\n",
       " (37,\n",
       "  'PAGFRQVCKGLMAEPMFNTKVRAEYHKCYRTGMFVNWALAWSFFCRYAGIIQYWRPERLIYPNQTPDVHGIWGHKVYPRRNCNILFSNAASPAKCIVMAGAYQMGPDKLVVGMPWRGWPWHFYMHHFWVSHGVWCLCSSDYMGVVFLRLHYGKMDFHNNFVTFWFYFQCDNYVYVFCKALYVYCKAVFNKFGEWKVEFKTGWLELAKIIFYSLEYYYREMYNMSWVVFETETNQFNINNPQNMLFRFIRGHSILYYEFQYLDIETRPSYGTVFFDDHNGPRFPRLRPCFQASIFDNFLMV',\n",
       "  0.3297211416065693),\n",
       " (38,\n",
       "  'PAGFRQVCKGLMAEPMFNTKVRAEYHKCYRTGMFVNWALAWSFFCRYAGIIQYWRPERLIYPNQTPDVHGIWGHKVYPRRNCNILFSNAASPAKCIVMAGAYQMGPDKLVVGMPWRGWPWHFYMHHFWVSHGVWCLCSSDYMGVNFLRLHYGKMDFHNNFVTFWFYFQCDNYVYVFCKALYVYCKAVFNKFGEWKNEFKTGWLELAKIIFYSLEYYYREMYNMSWRVFETETNQFNVNNPQNMLFRFIRGHSILYYEFQYLDIETRPSYGTVFFDDHNGPRFPRLRPCFQASYFDNFLMV',\n",
       "  0.3452498211658427),\n",
       " (39,\n",
       "  'PAGFRQVCKGLMAEPMFNTKVRAEYHKCYRTGMFVNWALAWSFFCRYAGIIQYWRPERLIYPNQTPDVHGIWGHKVYPRRNCTILFSNAASPAKCIVMAGAYHMGPDKLVVGMPWRGWPWHFYMHHFWVSHGVWCLCSSDYMGVNFLRLHYGKMDFHNNFVTFWFYFQCDNYVYVFCKALYVYCKAVFNKFGEWKNEFKTGWLELAKIIFYSLELYYREMYNMSWRVFETETNQFNVNNPQNMLFRFIRGHSILYYEGQYLDIETRPSYGDVFFDDHNGPRFPRLRPCFQASYFDNFLMV',\n",
       "  0.33579382366899935),\n",
       " (40,\n",
       "  'PAGFRQVCKGLMAEPMFNTKVRAEYHKCYRTGMFVNWALAWSFFCRYAGIIQYWRPERLIYPNQTPDVHGNWGHKVYPRRNCTILFSNAASPAKCIVMAGAYHMGPDKLVVGMPWRGWPWHFYMHHFWPSHGVWCLCSSDYMGVNFLRLHYGKMDFHNNFVTFWFYFQCDNYVYVFCKALYVYCKAVFNKAGEWKNEFKTGWLELAKIIFYSLELYYREMYNMSWRVFETETNQFNVNNPQNMLFRFIRGHSILYYEGQYLDIETRPSYGDVFFDDHNGPRFPRLRPCFQASYFDNFLMV',\n",
       "  0.3526472356170416),\n",
       " (41,\n",
       "  'PAGFRQVCKGLMAEPMFNTKVRAEYHKCYRTGMFVNWALAWSFFCRYAGIIQSWRPERLIYPNFTPDVHGNWGHKVYPRRNCTILFSNAASPAKCIVMAGAYHMGPDKLVVGMPWRGWPWHFYMHHFWPSHGVWCLCSSDYMGVNDLRLHYGKMDFHNNFVTFWFYFQCDNYVYVFCKALYVYCKAVFNKAGEWKNEFKTGWLELAKIIFYSLELYYREMYNMSWRVFETETNQFNVNNPQNMLFRFIRGHSILYYEGQYLDIEIRPSYGDVFFDDHNGPRFPFLRPCFQASYFDNFLMV',\n",
       "  0.35185878071933985),\n",
       " (42,\n",
       "  'PAGFRQVCKGLMAEPMFNTKVRAEYHKCYRTGMFVNWALAWSGFCRYAGIIQSWRPERLIYPNFTPDVHGNWGHKVYPRRNCLILFSNAASPAKCIVMAGAYHMGPDKLVVGMPWRGWPWHFYMHHFWPSHGVWCLCSSNYMGVNDLRLHYGKMDFHNNFVTFWFYFQCDNYVYVFCKALYVYCKAVFNKAGEWKNEFKTGWLELAKIIFYSLELYYREMYNMSWRVFETETNQFNVNNPQNMLFRFIRGHSILYYEGQYLDREIRPSYGDVFFDDHNGPRFPFLRPCFQASYFDNFLMV',\n",
       "  0.3547437407874635),\n",
       " (43,\n",
       "  'PAGFRQVCKGLMAEPMFNTKVRAEYHKCYRTGMFVNWALAWSGFCRQAGIIQSWRPERLIYPNFTPDVHGNWGHKHYPRRNCLILFSNAASPAKCIVMAGAYHMGPDKLVVGMSWRGWPWHFYMHHFWPSHGVWCLCSSNYMGVNDLRLHYGKMDFHNNFVTFWFYFQCDNYVYVFCKALYVYCKAVFNKAGEWKNEFKTGWLELAKIIFYSLELYYREMYNMNWRVFETSTNQFNVNNPQNMLFRFIRGHSILYYEGQYLDREIRPSYGDVFFDDHNGPRFPFLRPCFQASYFDNFLMV',\n",
       "  0.36656838602253367),\n",
       " (44,\n",
       "  'PAGFRQVCKGLMAIPMFNTKVRAEYHKYYRTGMFVNWALAWSGFCRQAGIIQSWRPERLIYPNFTPDVHGNWGHKHYPRRNCLILFSNAASPAKCIVMAGAYHMGPDKLVVGMSWRGWPWHFYMHHFWPSHGVWCLCSSNYMGVNDLRLHYGKMDFHNNFVTFWFYFQCDNYVYVFCKSLYVYCKAVFNKAGEWKNEFKTGWQELAKIIFYSTELYYREMYNMNWRVFETSTNQFNVNNPQNMLFRFIRGHSILYYEGQYLDREIRPSYGDVFFDDHNGPRFPFLRPCFQASYFDNFLMV',\n",
       "  0.37009570508130957),\n",
       " (45,\n",
       "  'PAGFRQVCKGLMAIPMFNTKVRAEYHKYYRTGMFVNWALAWGGFCRQAGIIQSWRPERLIYPNFTPDVHGNWGHKHYPRRNCLILFSNAASPAKCIVMAGAYHMGPDKLVVGMSWRGWPWWFYMHHFWPSHGVWCLCSSNYMGVNDLRLHYGKMDFHNNFVTFWFYFQCDNYVYVFCKSLYVYCKAVFNKAREWKNELKTGWQELAKIIFYSTELYYREMYNMNWRVFETSTNQFNVNNPQNMLFRFIRGHSILYYEEQYLDREIRPSYGDVFFDDHNGPRFPFLRPCFQASYFDNFLMV',\n",
       "  0.3628773686609098),\n",
       " (46,\n",
       "  'PAGFRQVCKGLMAIQMFNTKVRAEYHKYYRTGMFVNWALAWGGFCRQAGIIQSWRPERLIYPNFTPDVHGNWGHKHYPRRNCLILFSNAASPAKCIVMAGAYHMGPDKLVVGMSARGWPWWFYMHHFWPSHGVWCLCSSNYMGVNDLRLHYGKMDFHNNFVTFQFYFQCDNYVYVFCKSLYVYCKAVFNKAMEWKNELKTGWQELAKIIFYSTELYYREMYNMNWRVFETSTNQFNVNNPQNMLFRFIRGHSILYYEEQYLDREIRPSYGDVFFDDHNGPRFPFLRPCFQASYFDNFLMV',\n",
       "  0.3575909337294953),\n",
       " (47,\n",
       "  'PAGFRQVCKGLMAIQMFNTEVRAEYHKYYRTGMFVNWALAWGGFCRQAGIIQSWRPERLIYPNFTPDVHGKWGHVHYPRRNCLILFSNAASPAKCIVMAGAYHMGPDKLVVGMSARGWPWWFYMHHFWPSHGVWCLCSSNYMGVNDYRLHYGKMDFHNNFVTFQFYFQCDNRVYVFCKSLYVYCKAVFNKAMEWKNELKTGWQELAKIIFYSTELYYREMYNMNWRVFETSTNQFNVNNPQNMLFRFIRGHSILYYEEQYLDREIRPSYGDVFFDDHNGPRFPFLRPCFQASYFDNFLMV',\n",
       "  0.35447295422532726),\n",
       " (48,\n",
       "  'PANFRQVCKGLMAIQMFNTEVRAEYHKYYRTGMFVNWALAWGGFCRQAGIIQSWRPERLIYPNFTPDVHGKDGHVHYPRRNCLILFSNAASPAKCIVMAGAYHMGPDKLVVGMSARGWPWWFYMHHFWPSHGVWCLCSSNYMGVNDYRLHYGKMDFHNNFVTFQFYFQCDNRVYVFCKSLYVYCKAVFNKAMEWKNELKTGWQELAKIIFYSTELYYREMYNMNWRVFEMSTNQFNVNNPCRMLFRFIRGHSILYYEEQYLDREIRPSYGDVFFDDHNGPRFPFLRPCFQASYFDNFLMV',\n",
       "  0.3441252099084003),\n",
       " (49,\n",
       "  'PANFRQVCKVLMAIQMFNTEVRAEYHKYYRTGMFVNWALANGGFCRQAGIIQSWRPERLIYPNFTPDVHGKDGHVHLPRRNCLILFSNAASPAKCIVMAGAYHMGPDKLVRGMSARGWPWWFYMHHFWPSHRVWCLCSSNYMGVNDYRLHYGKMDFHNNFVTFQFYFQCDNRVYVFCKSLYVYCKAVFNKAMEWKNELKTGWQELAKIIFYSTELYYREMYNMNWRVFEMSTNQFNVNNPCRMLFRFIRGHSILYYEEQYLDREIRPSYGDVFFDDHNGPRFPFLRPCFQASYFDNFLMV',\n",
       "  0.35557862823562963),\n",
       " (50,\n",
       "  'PANFRQVCKVLMAIQMFNTEVRAEYHKYYRTGMFVNWALANGGFCRQAGIIQSWRPGRLIYPNFTPDVHGKDGHVHLPRRNCLILFSNAASPAKCIVMAGAYHMGPDKLVRGMSARGWPWWFYMHHFWPSHRVWCLCSSNYMGVNDYSLHYGKMDFHNNFVTFQFYFQCDNRVYVFCKSLYVYCKAVFNKAMEWKNELKTGWQELAKIIFYSTELYYREMYNMNWRVFEMSTNQFNVNNPCRMLFRFIRGHSILYYEEQYLDREIRPSYGYVFFDDHNGPRFPFLRPCFQASYFDNFLMV',\n",
       "  0.3529255634972027),\n",
       " (51,\n",
       "  'PANFRQVCKVLMAIQMFNTEVRAEVHKYYRTGMFVNWALANGGFCRQAGIIQSWRPGRLIYPPFTPDVHGKDGHVHLPRRNCLILFSNAASPAKCIVMAGAYHMGPDKLVRGMSARGWPWWLSMHHFWPSHRVWCLCSSNYMGVNDYSLHYGKMSFHNNFVTFQFYFQCDNRVYVFCKSLYVYCKAVFNKAMEWKNELKTGWQELAKIIFYSTELYYREMYNMNWRVFEMSTNQFNVNNPCRMLFRFIRGHSILYYEEQYLDREIRPSYGYVFFDDHNGPRFPFLRPCFQASYFDNFLMV',\n",
       "  0.34401142104927984),\n",
       " (52,\n",
       "  'PANFRQVCKVLMAIQMFNTEVRAEVHKYYRTGGFVNWALANGGFCRQAGIIQSWRPQRLIYPPFTPDVHGKDGHVHLPRRNCLILFSNAASPAKCIVMAGAYHMGPDKLVRGMSARGWPWWLSMHHFWPSHRVWCLCSSNYMGVNDYSLHYGKMSFHNNFVTFQFYFQCDNRVYVFCKSLYVYCKAVFNKAMEWKNELKTGWQELAKIIFYSTEIYYREMYNMNWRVFEMSTNQANVNNPCRMLFRFIRGHSILYFEEQYLDREIRPSYGYVFFDDHNGPRFPFLRPCFQASYFDNFLMV',\n",
       "  0.33192339779010843),\n",
       " (53,\n",
       "  'PANFRQVCQVLMAIQMFNTEVRAEVHKYYRTGGFVNWALANGGFCRQAGIIQSWRPQRLIYPPFTPDVHGKDGHVHLPRRNCLILFSNAASPAKCIVMAGAYHMGPDKLVRGMSARGWPWWLSVHHFWPSHRVWCLCSSNYMGVNDYSLHYGKMSFHNNFVTFQFYFQCDNRVYVFCKSLYVYCKAVFNKAMEWKNELKTGWQELAKIIFYSTEIYYREMYNMNWRVFEMSTNQANVNNPCRMLFRFIRGHSILYFEEQYLDRLIRPSYGYVFFSDHNGPRFPFLRPCFQASYFLNFLMV',\n",
       "  0.34202372202915804),\n",
       " (54,\n",
       "  'MANFRQVCQVLMAIQMFNTEVRAEVHKYYRTGGFVNWALANGGFCRQAGIIQSWRPQRLIYPPFTPDVHGKDGQVHLPRRNCLILFSNAASPAKCIVMAGAYHMGPDKLVRGMSARGWPWWLSVHHFWPSHRVWCLCSSNYMGVNDYSLMYGKMSFHNNFVTFQFYFQCDNRVYVFCKSLVVYCKAVFNKAMEWKNELKTGWQELAKIIFYSTEIYYRENYNMNWRVFEMSTNQANVNNPCRMLFRFIRGHSILYFEEQYLDRLIRPSYGYVFFSDHNGPRFPFLRPCFQASYFLNFLMV',\n",
       "  0.35443802683481146),\n",
       " (55,\n",
       "  'MANFRQVCQVLMAIQMFNTEVRAEVHKYYRTGGFVNWALANGGGCRQAGIIQSWRPQRLIYPPFTPDVHGKDGQVHLPRRNCLILFSNAASPAKCDVMAGAYHMGPDKLVRGMSARGWPWWLSLHHFWPSHRVWCLCSSNYMGVNDYSLMYGKMSFHNNFVTFQFYFQCDNRVYVFCKSLVVYCKAVFNKAMEWKNELKTGWQELAKIIFYSTCIYYRENYNMNWRVFEMSTNQANVNNPCRMLFRFIRGHSILYFEEQYLDRLIRPSYGYVFFSDHNGPRFPFLRPCFQASKFLNFLMV',\n",
       "  0.3575954646138208),\n",
       " (56,\n",
       "  'MANFRQVCQVLMAIQMFNTEVRAEVHKYYRTGGFGNWALANGGGCRQAGIIQSWRPQRLIYPPFTPDVHGKDGQVHLPRRNCLILFSNAASPAKCDVMAGAYHMGPDKLVRGMSARGWPWWLSLHHFWPSHRVWCLCSSNYMGVNDYSLMYGKMSFHNNFVTFQFYFQCDNRVYVFCKSLVVYCSAVFNKAMEWKNELKTGWQELAKIIFYSTCIYYRENYNMNWRVFEMSTNQANVNNPCRMLFRFIRGHSILYFEEQYLDRLIRPSKLYVFFSDHNHPRFPFLRPCFQASKFLNFLMV',\n",
       "  0.35975356925544993),\n",
       " (57,\n",
       "  'MANFRQVCQVFMAIQMFNTEVRAEVHKYYRTGGFGNWALANGGGCRQAGIIQSWRPQRLIYPPFTPDVHGKDGQVHLPRRNCLILFSNAASPAKCDVMAGAYHMGPDKLVRGMSARGWPWWLSLHHFWPSHRVWCLCSSNYMGVNDYSLMYGKMSFHNNFVTFQFYFQCDNRVYVFCKSLVVYCSAVFNKAMEWKNELKVGWQELAKIIFYSTCIYYRENYNMNWRVFEMSTNQANVNNPSRMLFRFIRGHSILYFEEQVLDRLIRPSKLYVFFSDHNHPRFPGLRPCFQASKFLNFLMV',\n",
       "  0.3570334822870791),\n",
       " (58,\n",
       "  'MANFRQVCGVFMAIQMFNTEVRHEVHKYYRTGGFGNWALANGGGCRQAGIIQSWRPQRLIYPPFTPDVHGKDGQVHLPRRNCLILFSNAASPAKCDVMAGAYHMGPDKLVRGMSARGWPWWLSLHHFWPRHRVWCLCSSNYMGVNDYSLMYGKMSFHNNFVTFQFYFQCDNRVYVFCKSLVVYCSAVFNKAREWKNELFVGWQELAKIIFYSTCIYYRENYNMNWRVFEMSTNQANVNNPSRMLFRFIRGHSILYFEEQVLDRLIRPSKLYVFFSDHNHPRFPGLRPCFQASKFLNFLMV',\n",
       "  0.3857697208545038),\n",
       " (59,\n",
       "  'MANFRQVCGVFMAIQMFNTEVRHEVHKYYRTGGFSNWALANGGGCRQAGIIQSLRPQRLIYPPFTPDVHGKDGQVHLPRRNCLILFSNAASPAKCDVMAGAYHMGPDKLVRGMSARGWPWWLSQHHFWPRHRVWCLCSSNYMGVNDYSLMYGKMSFHNNFVTFQFYFQCDNRVYVFYKSLVVDCSAVFNKAREWKNELFVGWQELAKIIFYSTCIYYRENYNMNWRVFEMSTNQANVNNPSRMLFRFIRGHSILYFEEQVLDRLIRPSKLYVFFSDHNHPRFPGLRPCFQASKFLNFLMV',\n",
       "  0.38648746462006656),\n",
       " (60,\n",
       "  'MANFRQVCGVFMAIQMFNTEVRGEVHKYYRTGGFSNWALANGGGCRQAGIIQSLRPQRLIYPPFTPDVLGKDGQVHLPRRNCLILFSNAASPAKCDVMAGAYHMGPDKLVRGMSARGWPWWLSQHHFWPRHRVWCLCSSNYMGVNDYSLMYGKMSFHNNFVTFQFYFQCDVRVYVFYKSLHVDCSAVFNKAREWKNELFVGWQELAKIIFYSTCIYYRENYNMNWRVFEMSTNQANVNNPSRMLFRFIRGHSILYFEEQVLDRLIRPSKLYVFFSDHNHPRFPGLRPCFQASKFLNFSMV',\n",
       "  0.3841566514622952),\n",
       " (61,\n",
       "  'MANFRQVCGVFMAIQMFNTEVRGEVHKYYRTGGFSNWALANGGGCRQAGIIQSLRPQRLIYPPFTPDVLGKDGQVHLPRRNCLILFSNARSPAKCDVMAGAYHMGPDKLVRGMSARGWPWWLSQHHFWPRHRVWCLCSSNYMGVNDYSLMYGKMSFHNNFVTFQFYFQCDVRVEVFYKSLHVDCSAVFNKAREWKNELFVGWQELAKIIFYSTCIYYRENYNMNWRVFEMSTNQANVMNPSRMLFHFIRGHSILYFEEQVLDRLIRPSKLYVFFSDHNHTRFPGLRPCFQASKFLNFSMV',\n",
       "  0.38334136828780174),\n",
       " (62,\n",
       "  'MANFRQVCGVFMAIQMFNGEVRGEVHKYYRTGGFSNWALANGGGCRQAGIIQSLRPQRLIYPPFTPDVLVKDGQVHLPRRNCLILFSNARSPAVCDVMAGAYHMGPDKLVRGMSARGWPWWLSQHHFWPRHRVWCLCSSNYMGVNDYSLMYGKMSFHNNFVTFQFYFQCDVRVEVFYKSLHVDCSAVFNKAREWKNELFVGWQELAKIIFYSTCIYYRENYNMNWRVFEMSTNQTNVMNPSRMLFHFIRGHSILYFEEQVLDRLIRPSKLYVFFSDHNHTRFPGLRPCFQASKFLNFSMV',\n",
       "  0.3694612600707582),\n",
       " (63,\n",
       "  'MANFRQVCGVFMAIQMFNGEVLSEVHKYYRTGGFSNWALANGGGCRQAGIIQSLRPQRLIYPPFTPDVLVKDGQVHLPRRNCLILFSNARSPAVCDVMAGAYYGGPDKLVRGMSARGWPWWLSQHHFWPRHRVWCLCSSNYMGVNDYSLMNGKMSFHNNFVTFQFYFQCDVRVEVFYKSLHVDCSAVFNKAREWKNELFVGWQELAKIIFYSTCIYYRENYNMNWRVFEMSTNQTNVMNPSRMLFHFIRGHSILYFEEQVLDRLIRPSKLYVFFSDHNHTRFPGLRPCFQASKFLNFSMV',\n",
       "  0.36802127837602583),\n",
       " (64,\n",
       "  'MANFRQVCGVFMAIQMFNGEVLSEVHKYYRTGGFSNWALANGGGCRQAGIIQSLRPQRLIYPPFTPDVLVKDGQVHLPRRNCLILFSNARSPAVCDVMAGAYYGGPDKLVRGMSARGWPWWLSQHHFWPRHRVWCLCSSNYMGVNDYSLMNGKMSFHNYFVSFQFYFQCDVRVEVFYKSLHVDCSAVFNKAREWKNELFVGWQRLAKIIFYSTCIYYRENYNMNWRVFEMSTNQTNVMNPSRMLFHFIRGHSILYFEEQVLDREIRPSKLYVFFSDHNVTRFPGLRPCFQASKFLNFSMV',\n",
       "  0.37233179581484627),\n",
       " (65,\n",
       "  'MANFRQVCGVFMAIQMFNNEVLSEVHKYYRTGGFSNWALANGGGCRQAGIIQSLRPQRLIYPPFTPDVLVKDGQVHLPRRNCLILFSNARSPAVCDVIAGAYYGGPDKLVRGMSARGWPWWLSQHHFWPQHRVWCLCSSNYMGVNDFSLMNGKMSFHNYFVSFQFYFQCDVRVEVFYKSLHVDCSAVFNKAREWKNELFVGWQRLAKIIFYSTCIYYRENYNMNWRVFEMSTNQTNVMNPSRQLFHFIRGHSILYFEEQVLDREIRPSKLYVFFSDHNVTRFPGLRPCFQASKFLNFSMV',\n",
       "  0.38097420507775887),\n",
       " (66,\n",
       "  'MANFRQVCGVFMAIQMFNNEVLSEHHKYYRTGGFSNWALANGGGCRQAGIIQSLRPQRLIYPPSTPDVLVKDGQVHLPRRNCLILFSNARSPAVCDVIAGAYYGGPDKLVRGMSARGWPWWLSQHHFWPQHRVWCLCSSAYMGVNDFSLMNGKMSFHNYFVSFQFYFQCLVRVEVFYKSLHVVCSAVFNKAREWKNELFVGWQRLAKIIFYSTCIYYRENYNMNWRVFEMSTNQTNVMNPSRQLFHFIRGHSILYFEEQVLDREIRPSKLYVFFSDHNVTRFPGLRPCFQASKFLNFSMV',\n",
       "  0.3884573339351586),\n",
       " (67,\n",
       "  'MANFRQVCGVFMAIQMFNNEVLSEHHKYYRTGGFSNWALANGGGCRQAGIIQSLRPQRLIYPPSTPDVLVKDGQVHLPRRNCLILFSNARSPAVCDVIAGAYYGGPDKLVRGMSARGWPWWLSQHHFWPQHRVWCLCSSAYMGVNDFSLMNGKMSFHNYFVSFQFYFQCLVRVEVFYKSLHVVCSAVFFKAREWKNEDFVGWQRHAKIIFYSTCIYYRENYNMVWEVFEMSTNQTNVMNPSRQLFHFIRGHSILYFEEQVLDREIRPSKLYVFFSDHNVTRFPGLRPCFQASKFLNFSMV',\n",
       "  0.38880288215087994),\n",
       " (68,\n",
       "  'MANFRQVCGVFMAIQMFNNEVLSEHHKYYRTGGFSNWALANGGGCRQAGIIQSLRPQRLIYPPSTPDVLVKDGQVHLPRRNCLILFSNARSPAVCCVIAGAYYGGPDKLVRGMSARGWPWWLSQHHFWPQHRVWCLCSSAYMGVNDFSLMNGKMSFHNYFVSFQFYFQCLVRVIVFYKSLHVVCSAVFFKAREWKNEDFVGWQRHAKIIFYSTCIYYRENYNMVWEVFEMSTNQTNVMNPSRQLFHFIRGHSILLFEEQVLDREITPSKLYVFFSDHNVTRFPGLRPCFQASKFLNFSMV',\n",
       "  0.3878592023892062),\n",
       " (69,\n",
       "  'MANFRQVCGVFMAIQMFNNEVLSEHHKYYRTGGFSNWALASGLGCRQAGIIQSLRPQRLIYPPSTPDVLVKDGQVHLPRRNCLILFSNARSPAVCCVIAGAYYGGPDKLVRGMSARGWPWWLSQHHFWPQHRVWCLASSAYMGVNDFSLMNGKMSFHNYFVSFQFYFQCLVRVIVFYKSLHVVCSAVFFKAREWKNEDFVGWQRHAKIIFYSTCIYYKENNNMVWEVFEMSTNQTNVMNPSRQLFHFIRGHSILLFEEQVLDREITPSKLYVFFSDHNVTRFPGLRPCFQASKFLNFSMV',\n",
       "  0.37250425087820205),\n",
       " (70,\n",
       "  'MANFRQVCGVFMAIQMFNNEVLSEHHKYYRTGGFSNWALASGLGCRQAGIIQYLRPQRLIYPPSTPDVLVKDGQVHLPRRNCLILFSNARSPEVCCVIAGAYYGGPDKLVRGMSARGWPWWLSQHHFWPQHRVWCLASSAYMGVNDFSLMVGKMSFHNYFVSFQPYFQCLVRVIVFYKSLHVVCSAVFFKAREWKNEDFVGWQRHAKIIFYSTCIYYKENNNMVWEVFEMSTNQTNVMNPSRQLFHFIRGHSILLFEEQVLDREITPSKLYVFFSDHNVCRFPGLRPCFQASKFLNFSMV',\n",
       "  0.3706126793154648),\n",
       " (71,\n",
       "  'MANFRQVCGVFMAIQMFNNEVLSEHHKYYRTGGFSNWALAFGLGCRQAGIIQYLRPQRLIYPPSTPDVLVKDGQVHLPRRNCLILFSNARSPEVCCVIAGAYYGGPDKLVRGMSARGWPWWLSQHHFWPQHRVWCLASSAYMGVNDFSLMVKKMSFFNYFVSFQPYFQCLVRVIVFYKSLHVVCSAVFFKAREWKNEDFVGWQRHAKIIFYSTCIYYKENNNMVWEVFHMSTNQTNVMNPSRQLFHFIRGHSILLFEEQVLDREITPSKLYVFFSDHNVCRFPGLRPCFQASKFLNFSMV',\n",
       "  0.351691565609404),\n",
       " (72,\n",
       "  'MANFRQVCGVFMAIQMFNNEVLSEHHKYYRTGGFSNWALAFGLGCRQAGIIQYLRPQRLIYPPSTPDVLVKDGQVHLPRRNCLILESNARSPEVCCVIAGAYYGGPDKLVRGMSARGWPWWLSQHHFWPQHRVWCLASSAYMGVNDFSLMVKKMSFFNYFVSFQPYFQCLVRVIVFYKSEHVVCSAVFFKAREWKNEDFVGWQRHAKIIFYSTCIYYKQNNNMVWEVNPMSTNQTNVMNPSRQLFHFIRGHSILLFEEQVLDREITPSKLYVFFSDHNVCRFPGLRPCFQASKFLNFSMV',\n",
       "  0.3564408647029528),\n",
       " (73,\n",
       "  'MANFRQVCGVFMAIQMFNNEVFSEHHKYYSTGGFSNWALAFGLGCRQAGIIQYLRPQRLIYPPSTPDVLVKDGQVHLPRRNCLILESNARSPEVCCVIAGAYYGGPDKLVRGMSARGWPWWLSQHHFWPQHRVWCLASSAMMGVNDFSLMVKKMSFFNYFVSFQPYFQCLVRVIVFYKSEKVVCSAVFFKAREWKNEDFVGWQRHAKIIFYSTCIYYKQNNNYVWEVNPMSTNQTNVMNPSRQLFHFIRGHSILLFEEQVLDREITPSKLYVFFSDHNVCRFPGLRPCFQASKFLNFSMV',\n",
       "  0.3706710703804025),\n",
       " (74,\n",
       "  'MANFRQVCGVFMAIQMFNNEVFSEHHKYYSTGGFSNWAYAFGLGCRQAGIIQYLRPQRLIYPPSTPDVLVKDGQVHLPRRNLLILESNARSPEVCCVIAGAYYGGPDKLVRGMSARGWPWWLSQHHFWPQHRVWCLASSAMMGVNDFSLMVKKMSFFNYFVSFQPYFQCLVRVIVFYKSEKVVCSALFFKAREWKNEDFVGWQRHAKEIFYSTCIYYKQNNNYVWEVNPMSTNQTNVMNPSRQLFHFIRGHSILLFEEQVLDLEITPSKLYVFFSDHNVCRFPGLRPCFQASKFLNFSMV',\n",
       "  0.3658911983615586),\n",
       " (75,\n",
       "  'MANFRQVCGVFMAIQSFNNEVFSEHHKYYSTGGFSNWAYAFGLGCRQAGIIQYLRPQRLIYPPSFPDVLVKDGAVHLPRRNLLILESNARSPEVCCVIAGAYYGGPDKLVRGMSARGWPWWLSQHHFWPQHRVWCLASSAMMGVNDFSLMVKKMSFFNYFVSFQPYFQCLVRVIVFYKSEKVVCSALFFKAREWKNEDFVGWQRHAKEIFYSTCIYYKQNNNYVKEVNPMSTNQTNVMNPSRQLFHFIRGHSILLFEEQVLDLEITPSKLYVFFSDHNVCRFPGLRPCFQASKFLNFSMV',\n",
       "  0.34723733977547716),\n",
       " (76,\n",
       "  'MANFRQVCGVFMAIQSFNNEVFSEHHKYYSTGGFNNWAYAFGLGCRQAGIIQYLRPQRLIYPPSFPDVLVKDGAVHLPRRNLLILESNARSPEVCCVIAGAYYGGPDKLVRGMSARGWPWALSQHHFWPQHRVWCLASSAMMGVNDFSLMVKKMSFFNYFVSFQPYFQCLVRVIVFYKSEKVVCSELKFKAREWKNLDFVGWQRHAKEIFYSTCIYYKQNNNYVKEVNPMSTNQTNVMNPSRQLFHFIRGHSILLFEEQVLDLEITPSKLYVFFSDHNVCRFPGLRPCFQASKFLNFSMV',\n",
       "  0.3471595564457987),\n",
       " (77,\n",
       "  'MANFRQVCGVFMAIQSFNNEVFSEHHKYYSTGGFNNWAYAFGLGCRQAGIIQYLRPQRLIYPPSFPDVLVKDGAVHLPPRNLLILESNARSPEVCCVIAGAYYGGPDKLVRGMSARGWPWALSQHHFWPQHRVWCLASSAMMGVNDFSLMVKKMSFFNYFVSFQPYFQCLVRVIVFYKSEKVVCSELKFLAREWKNLDFVGWQRHAKEIFYSTCIYYKQNNNYVKEVNPMYTNQTNVMNPSRQLFHFIRGHSILLFEEQVLDLEITPSKLYVFFSDHNVCRFPGLRPCFQLSKFLNFSMV',\n",
       "  0.347302760529731),\n",
       " (78,\n",
       "  'MANFRQVCGVFMAIQSFNNEVFSEHHKYYSTGGFNNWAYFFGLGCRQAGIIQYLRPQRLIYPPSFPDVLVRDGAVHLPPRNLLILESNARSPEVCCVIAGAYYGGPDKLVRGMSARGWPWALSQHHFWPQHRVWCLASSAMMGVNDFSLMVKKMSFFNYFVSFQPYFQCLVRVIVFYKSEKVVCSELKFLTREWKNLDFVGWQRHAKEIFYSTCIYYKQNNNYVKEVKPMYTNQTNVMNPSRQLFHFIRGHSILLFEEQVLDLEITPSKLYVFFSDHNVCRFPGLRPCFQLSKSLNFSMV',\n",
       "  0.33163504102932556),\n",
       " (79,\n",
       "  'MANFRQVCGVFMAIQSFNNEVFSEHHKYYSTGGFNNWAYFFGLGCRQAGIIQYLRPQRLIYPPSFPDVLVRDGAVHLPPRNLLILESNARSPEVCCVIAGAYYGGPDKLVRGMSARGWPWALSQHHFWPQHRVWCLASSAMMGVNDFSLMVKKMSFFNYFGSFQPYFQCLVRVIVFYKSEKVVCSELRFLTREWKNLDFVGWQTHAKEIFYSTCIYYKQNNNYVKEVKPMYTNQTNVMNPSRQLFHFIRGHSILLFEEQVLDLEITPSKLYDFFSDHNVCRFPGLRPCFQLSKSLNFSMV',\n",
       "  0.3208406584869538),\n",
       " (80,\n",
       "  'MANFRQVCGVFMALQSFNNEVFSEHHKYYSTGGFNNWAYFFGLGCRQAGIIQYLRPQRIIYPPSFPDVLVRDGAVHLPPRNLLILESNARSPEVCPVIAGAYYGGPDKLVRGMSARGWPWALSQHHFYPQHRVWCLASSAMMGVNDFSLMVKKMSFFNYFGSFQPYFQCLVRVIVFYKSEKVVCSELRFLTREWKNLDFVGWQTHAKEIFYSTCIYYKQNNNYVKEVKPMYTNQTNVMNPSRQLFHFIRGHSILLNEEQVLDLEITPSKLYDFFSDHNVCRFPGLRPCFQLSKSLNFSMV',\n",
       "  0.31967422778585125),\n",
       " (81,\n",
       "  'MANFRQVCGVFMALQSFNNEVFSEHHKYYSTGGFNNWAYFFGLGCRQAGIIQYLRPQRIIPPPSFPDVLVRDGAVHLPPRNLLILESNARSPEVCPVIAGAYYGGPDKLVRGMSARGWPWALSQHHFYPQHRVWSLASSAMMGVNDFSLMVKKMSFFNYFGSFQPYFQCLVRVIVFYKSEKVVCSELRFLTREWKNLDDVGWQTHAKEIFYSTCIYYKQNNNYVKEVKPMYTNQTNVMNPSRQLFHFIRGHSILLNEEQVLDLEIIPSKLYDFFSDHNVCRFPGLRPSFQLSKSLNFSMV',\n",
       "  0.2883197588047811),\n",
       " (82,\n",
       "  'MANFRQVCGVFMALQSFNNEVFSEHHKYYSTGGFNNWAYFFGLGCRQAGIIQYLRPQRIIPPPSFPDVLVRDGAVHLPPRNLLILESNARSPEVCPVIAGAYYGGPDKLYRGMSARGWPWALSQHHFYPQHRVVSLASSAMMGVNDLSLMVKKMSFFNYFGSFQPYFQCLVRVIVFYKSEKVVCSELRFLTREWKNLDDVGWQTHAKEIFYSTCIYYKQNNNYVKEVKPMYTNQTNVMNPSRQLFHFIRGHMILLNEEQVLDLEIIPSKLYDFFSDHNVCRFPGLRPSFQLSKSLNFSMV',\n",
       "  0.2777711075863668),\n",
       " (83,\n",
       "  'MANFRQVCGVFMALQSFNNEVFSEHHKYYSTGGFNNWGYFFGLGCRQAGIIQYLRPQRIIPPTSFPDVLRRDGAVHLPPRNLLILESNARSPEVCPVIAGAYFGGPDKLYRGMSARGWPWALSQHHFYPQHRVVSLASSAMMGVNDLSLMVKKMSFFNYFGSFQPYFQCLVRVIVFYKSEKVVCSELRFLTREWKNLDDVGWQTHAKEIFYSTCIYYKQNNNYVKEVKPMYRNQTNVMNPSRQLFHFIRGHMILLNEEQVLDLEIIPSKLYDFFSDHNVCRFPGLRPSFQLSKSLNFSMV',\n",
       "  0.276703632902354),\n",
       " (84,\n",
       "  'MANFRQVCGVFMALQSFNNEVFSEHHKYYSTGGFNNWGYFFGLGNRQAGIIQYLRPQRIIPPTSFPDVLRRDGAVHLPPRNLLILESNSRSPEVCPVIAGAYFGGPDKLYRGMSARGWPWALSQHHFYPQHRVVSLASSAMMGVNDLSLMVKKMSFFNYFGSFGPYFQCLVRVIVFYLSEKVVCSELRFLTREWKNLDDVGWQTHAKEIFYSTCIYYKQNNNYVKEVLPMYRNQTNVMNPSRQLFHFIRGHMILLNEEQVLDLEIIPSKLYDFFSDHNVCRFPGLRPSFQLSKSLNFSMV',\n",
       "  0.26623426244727205),\n",
       " (85,\n",
       "  'MANFRQVCGVFMALQSFNNEVFSEHHKYYSTGGGNNWGYFFGLGNRQAGIIQYLRPQRIIPPTSFPDVLRRDGAVHLPPRNLLILESNSRSPEVCPVIAGAYFGGPDKLYRGMSARGWPWALSQHHFYPQHRVVSLASSAMMGVNDLSTMVKKVSFFNYFGSFGPYFQCLVRVIVFYLSEKVVCSELRFLTREWKNLDDVGWQTHAKEIFYSTCIYYKQNNNYVKEVLPMYRNQTNVMNPSRQLFHFIRGHMILLNEEQVLDLEIIPSKLYDFFSDHVVCRKPGLRPSFQLSKSLNFSMV',\n",
       "  0.2805552582389542),\n",
       " (86,\n",
       "  'MANFRQVCGVFMALQSFNNEVFSEHHKYYSTGGGNNWGYFFGLGNRQAGIIQYLRPQRIIPPTSFPDVLRRDGAVHLPPRGLLILESNSTSPEVCPVIAGAYFGGPDKLYRGMSVRGWPWALSQHHFYPQHRVVSLASSAMMGVNDLSTMVKKVSFFNYFGSFGPYFQCLVRVIVFYLSEKVVCSNLRFLTREWKNLDDVGWQTHAKEIFYSTCIYYKQNNNYVKEVLPMYRNQTNVMNPSRQLFHFIRGHMILLNEEQVQDLEIIPSKLYDFFSDHVVCRKPGLRPSFQLSKSLNFSMV',\n",
       "  0.2678448928802806),\n",
       " (87,\n",
       "  'MANFRQVCGVFMALQSFNNEVFSEHHKYYSTGGGNNWGYFFGLGNRQAGIIQYLRPQRIIPPPSFPDVLRRFGAVHLPPRGLLILESNSTSPEVCPVIAGAYPGGPDKLYRGMSVRGWPWAFSQHHFYPQHRVVSLASSAMMGVNDLSTMVKKVSFFNYFGSFGPYFQCLVRVIVFYLSEKVVCSNLRFLTREWKNLDDVGWQTHAKEIFYSTCIYYKQNNNYVKEVLPMYRNQTNVMNPSRQLFHFIRGHMPLLNEEQVQDLEIIPSKLYDFFSDHVVCRKPGLRPSFQLSKSLNFSMV',\n",
       "  0.27495488291606307),\n",
       " (88,\n",
       "  'MANFRQVCGVFMAIQSFNNEVFSEHHKYYSTGGGNNWGYFFGLGNRQAGIIQYLRPQRIIPPPSFPDVLRRFGAVHLPPRGLLILESNSTSPEVCPVIAGAYPGGPDKLYRGMSVRGWPWAFSQHHFYPQHRVVSLASSAMMGVNDLSTMVKKVSFFNYFGSFGPYFQCLVRVIVFYLSEKVVCSNLRCLTREWKNLDDVGWQTHAKEIFYSTCIYYKQNNNYVKEVLPMYRNQTNVMNPSRQLFHFIRGHMPLLNEEQVQDLEIIPSKLYDFFSDHVVCRKPSLRPSFQLSKFLNFSMV',\n",
       "  0.286962048150599),\n",
       " (89,\n",
       "  'MANFRQVCGVFMAIQSFNNEVFSEHHKYYSTGGGNNWGYFFGLGWRQAGIIQYLRPQRIIPPPSFPSVLRRFGAVHLPPRGLLILESNSTSPEVCPVIAGAYPGGPDKLYRGMSVRGWPWAFSQHHFYPQHRVVSLASSAMMGVNDLSTMVKKVSFFNYFGSFGPYFQCLVRVIVFYLSEKVVCSNLRCLTREWKNLDDVGWQTHAKEIFYSTCIYYKQNNNYVKEVLPMYRNQTNVMNHSRQLFHFIRGHMPLLNEEQVQDLEIIPSKLYDFFSDHVVCRKGSLRPSFQLSKFLNFSMV',\n",
       "  0.2652001595789833),\n",
       " (90,\n",
       "  'MANFRQVCGVFMAIQSFNNEVFSEHHKYYSTGGGNNWGYFFGLGWRQAGIIQYLRPQRIIPPPSFPSVLRRFGAVHLPPRGLLILESNSTSPEVCPVIAGAYPGGPDKLYRGMSVRGWPWAFSQHHFYPQHRVVSLASSAMMGVNDLSTMVKKVSFFNFFGSFGPYFQCLVRVIVFYLSEKVVCSNLRCLTREWKNLDDVGWQQHAKEIFTSTCIYYKQNNNYVKEVLPMYRNQTNVMNHSRQLFEFIRGHMPLLNEEQVQDLEIIPSKQYDFFSDHVVCRKGSLRPSFQLSKFLNFSMV',\n",
       "  0.2769508470248963),\n",
       " (91,\n",
       "  'MANFRQVCGVFMAIQSFNNEVFSEHHKYYSTGGGNNWGYFFGLGWRQAGIIQYLRPQRIIPPPSVPSVLRRFGAVHLPPRGLLILESNSTSPEVCPVIAGAYPGGPDKLYRGMSVRGWPWAFSQHHFYPQHRVVSLASSAMMGVNDLSTMVKKVSFFNFFGSYGPYFQCLVRVIVFYLSEKVVCSNLRCLTREWKNLDDVGWQQHAKEILTSTCIYYKQNNNYVKEVLPMYRNQTNVMNHSRQLFEFIRGHMPLLNEEQVQDLEIIPSKQYDFFSDHVVCRKGSLRPSFQLSKFGNFSMV',\n",
       "  0.2796861305832863),\n",
       " (92,\n",
       "  'MANFRQVCGVFMAIQSFNNEVFSEHHKYYSTGGGNNWSYFFGLGWRQAGIIQYLRPQRIIPPPSVPSVLRRFGAVHLPPRGLLILESNSTSPEVCPVIAGAYPGGPDKLYRGMSVRGWPWAFSQHHFYPQHRVVSLASSAMMGVNDLSTMVKKVSFFNFFGSYGPYFQCLVRVIVFELSEKVVCSNLRCLTREWKNLDDVGWQQHAKEILTSTCIYYKQNNNYVKEVLPMSRNQTNVMWHSRQLFEFIRGHMPLLNEEQVQDLEEIPSKQYDFFSDHVVCRKGSLRPSFQLSKFGNFSMV',\n",
       "  0.28367930501034216),\n",
       " (93,\n",
       "  'MANFRQVCGVFMAIQSFNNEVFSEHHKYYSTGGGNNWSYFFGLGWRQAGIIQYLRPQRIIPPPSVELVLRRFGAVHLPPRGLLILESNSTSPETCPVIAGAYPGGPDKLYRGMSVRGWPWAFSQHHFYPQHRVVSLASSAMMGVNDLSTMVKKVSFFNFFGSYGPYFQCLVRVIVFELSEKVVCSNLRCLTREWKNLDDVGWQQHAKEILTSTCIYYKQNNLYVKEVLPMSRNQTNVMWHSRQLFEFIRGHMPLLNEEQVQDLEEIPSKQYDFFSDHVVCRKTSLRPSFQLSKFGNFSMV',\n",
       "  0.3091830684404288),\n",
       " (94,\n",
       "  'MANFRQVCGVFMAIQSFNNEVFSEHHKYSSTGGGNNWSYFFGLGWRQAGIIQYLRPQRIIPPPSVELVLRRFGAVHLPRRGLLILESNSTSPETCPVIAGAYPGGPDKLYRGMSVRGWPWAFSQHHFYPQHRVVSLASSAMMGVNDLSTMVKKVSFFNFFGSYGPYFQCLVRVIVFELSEKVVCSNLRCLTREWKNLDDVGWQQHAKEILTSTCIYYKQNNLYVKEVLPMSRNQTNVMWHSRQLFEFIRGHMPLLNELQVQDLEELPSKQYDFFSDHVVCRKTSLRPSFQLSKFGNFSMV',\n",
       "  0.3308096296553101),\n",
       " (95,\n",
       "  'MANFRQVCGVFMAIQSFNNEVFSEHHKYSSTGGGNNWSYFFGLGWRQAGIIQYLRPQRIIPPPSVELVLRRFGAVHLPRRGLVIRESNSTSPETCPVIAGAYPGGPDKLYRGMSVDGWPWAFSQHHFYPQHRVVSLASSAMMGVNDLSTMVKKVSRFNFFGSYGPGFQCLVRVIVFELSEKVVCSNLRCLTREWKNLDDVGWQQHAKEILTSTCIYYKQNNLYVKEVLPMSRNQTNVMWHSRQLFEFIRGHMPLLNELQVQDLEELPSKQYDFFSDHVVCRKTSLRPSFQLSKFGNFSMV',\n",
       "  0.3336601953986766),\n",
       " (96,\n",
       "  'MANFRQVCGVFMAIQSFNNEVFSEHHKYSSTGGGNNWSYFHGLGWRQAGIIQYLRPQRIIPPPSVELVLRRFGAVHLPRRGLVIRESNSTSPETCPVIAGAYPGGPDKLYRGMSVDGWPWAFSQHHFYLQHRVVSLASSAMMGVNLLSTMVKKVSRFNFFGSYGPGFQCLVRVIVFEESEKVVCSNLRCLTREWKNLDDVGWQQHAKEILTSTCIYYKQNNLYVKEVLPMSRNQTNVMWHSRQLFEFIRGHMPLLNELQVQDLEEVPSKQYDFFSDHVVCRKTSLRPSFQLSKFGNFSMV',\n",
       "  0.33970678644254804),\n",
       " (97,\n",
       "  'MANFRQVCGVFMAIQSFNNEVFSEHHKYSSTGGGNNWSYFHGLGWRQAGIIQYLRPQRIIPPPSTELVLRRFGAVHLPRRGLVIRESNSTSPETCPVIAGFYPGGPDKLYRGMSVDGWPWAFSQHHFYLQHRVVSLASSASMGVNLLSTMVKKVSSFNFFGSYGPGFQCLVRVIVFEESEKVVCSNLRCLTREWKNLDDVGWQQHAKEILTSTCIYYKQNNLYVKEVLPMSRNQTNVMWHSRQLFEFIRGHMPLLNELQVQDLEEVPSKQYDFFSDHVVCRKFSLRPSFQLSKFGNFSMV',\n",
       "  0.3406907313370279),\n",
       " (98,\n",
       "  'MANFRQVCGVFMAIQSFNNEVFSEHHKYSSTGGGNNWSYFHGLGWRQIGIIQYLRPQRIIPPPSTELVLRRFGAVHLPRRGLVIREMNSTSPETCPVIAGFYPGGPDKLYRGMSVDGWPWAFSQHHFYLQHRVVSLASSASMGVNLLSTMVKKVSSFNFFGSYGPGFQCLVRVIVFEESEKVVCSNLRCLTREWKNLDDVGWQQHAKEILTSTCIYYKQNNLYVKEVLPMSRNQTNVMWHSRQLFEFIRGHMPLLNEQQVQDLEEVPSKQYDFRSDHVVCRKFSLRPSFQLSKFGNFWMV',\n",
       "  0.34601851971819997),\n",
       " (99,\n",
       "  'MANFRQVCGVFMAIQSFNNEVDSEHHKYSSTGGGNNWSYFHGLGWRQIGIIQYLRPQRIIPPPSTELVLRRFGAVHLPHRGLVIREMQSTSPETCPVIAGFYPGGPDKLYRGMSVDGWPWAFSQHHFYLQHRVVSLASSASMGVNLLSTMVKKVSSFNFFGSYGPGFQCLVRSIVFEESEKVVCSNLRCLTREWKNLDDVGWQQHAKEILTSTCIYYKQNNLYVKEVLPMSRNQTNVMWHSRQLFEFIRGHMPLLNEQQVQDLEEVPSKQYDFRSDHVVCRKFSLRPSFQLSKFGNFWMV',\n",
       "  0.3496637883529599),\n",
       " (100,\n",
       "  'MANFRQVCGVFMAIDSFNNEVDSLHHKYSSTGGGNNWSYFHSLGWRQIGIIQYLRPQRIIPPPSTELVLRRFGAVHLPHRGLVIREMQSTSPETCPVIAGFYPGGPDKLYRGMSVDGWPWAFSQHHFYLQHRVVSGASSASMGVNLLSTMVKKVSSFNFFGSYGPGFQCLVRSIVFEESEKVVCSNLRCLTREWKNLDDVGWQQHAKEILTSTCIYYKQNNLYVKEVLPMSRNQTNVMWHSRQLFEFIRGHMPLLNEQQVQDLEEVPSKQYDFRSDHVVCRKFSLRPSFQLSKFGVFWMV',\n",
       "  0.35294974256040795),\n",
       " (101,\n",
       "  'MANFRQVCGVFMAIDWFNNEVDSLHHKYSSTGGGNNWSYFHSLGWRQIGIIQYLRPQRIIPPPSTELVLRRFGAVHLPHRGLVIREMQSTSPETCPVIAGFYPGGPDLLYRGMSVDGWPWAFSQHHFYLQHRVVSGASSASMGVNLLSTMVKKVSSFNFFGSYGPGFQCLVRSIVFEESEKVVCSNLRCLTREWKNLDDVGWQQHAKEILTSTFIYYKQNNLYVKEVLPMSRNQTNVMWHSRQLFEFIRGHMPLKNEQQVQDLEEVPSKQYDFRSDHVVCRKFSLRPSFQLSWFGVFWMV',\n",
       "  0.3613568087707141),\n",
       " (102,\n",
       "  'MANFRQVCGVFMAIDWFNNEVDSLHHKYSSTGGGNNWSYFHSLGWRQIGIIQYLRPQRIIPPPSTELVLRRFGAVHLPHRGLVIREMQSTSPETCPVIAGFYPGGPDLLYRGMSVDGWPWAFSQHRFYLQHRVVSGASSASMGVNLLSNMVKKVTSFNFFGSYGPGFQCLVRSIVFEESEKVVCSNLRCLTREWKNLDDVGWQQHAKEILTSTFIYYKQNNLYVKEVLPMSRNQTNVMWHSRQLFEFERGHMPLKNEQQVQDLEEVPSKQYDFRSDHVVDRKFSLRPSFQLSWFGVFWMV',\n",
       "  0.37398147612943183),\n",
       " (103,\n",
       "  'MANFRQVCGVFMAIDWFNNEVDSLHHKYSSQGGGNNWVYFHSLGWRQIGIIQYLRPQRIIPPPSTELVLRRFGAVHLPHRGLVIREMQSTSPETCPVIAGFYPGGPDLLYRGMSVDGWPWAFSQHRFYLQHRVVSGASSASMGVNLLSNMVKVVTSFNFFGSYGPGFQCLVRSIVFEESEKVVCSNLRCLTREWKNLDDVGWQQHAKHILTSTFIYYKQNNLYVKEVLPMSRTQTNVMWHSRQLFEFERGHMPLKNEQQVQDLEEVPSKQYDFRSDHVVDRKFSLRPSFQLSWFGVFWMV',\n",
       "  0.37107321427070666),\n",
       " (104,\n",
       "  'MANFRQVCGVFMAIDWFNNEVDSLHHKYSSQGGGNNWVYFHSLGWRQIGIIQYLRPQRIIPPPSTELVLRRFGAVHLPHRALVIREMQSTSPETCPVIAGFYPGGPDLLYRGMSVDGWPWAFSQHRFYLQHRVVSGASSASMGVNLLSNMVKVVTSFNFFGSYGPGFQCLVRSIVFEESEKVVCSNLRCLTREWKNLDDVGWQQHAKHILTSQFIYYKQNNLYVKFVLPMSRTQTNVLWHSRQLFEFYRGHMPLKNEQQVQDLEEVPSKQYDFRSDHVVDRKFSLRPSFQLSWFGVFWMV',\n",
       "  0.36427765326308353),\n",
       " (105,\n",
       "  'MANFRQVCGVFMAIDWFNNEVDSLHHKYSSQGGGNNWVYFHSLGWRQIGIIQYLRPQRIIPPPSTELVLRRFGVVHLPHRALVIREMQSTSPETCPVIAGFYPGMPDLLYRGMSVDGWPWAFSQHRFYLQHRVVSGASSASMGVNLLSNMVKVVTSFNFFKSYLPGFQCLVRSIGFEESEKVVCSNLRCLTREWKNLDDVGWQQHAKHILTSQFIYYKQNNLYVKFVLPMSRTQTNVLWHSRQLFEFYRGHMPLKNEQQVQDLEEVPSKQYDFRSDHVVDRKFSLRPSFQLSWFGVFWMV',\n",
       "  0.3653563437318163),\n",
       " (106,\n",
       "  'MANFRQVCGVFMAIDWFNNEVDSLHHKYSSQGGGNNWVYFHSLGWRQIGIIQYLRPQRIIPPPSTEEVLRRFGVVHLPHRALVIREMQSTSPETCPVIAGFYPGMPDLLYRGMSVDGWPWAFSQHRFYLQHRVVSGASSASMGVNLLSNMVKVVTSFNFFKSYLPGFQCLVRSIGFLESEKVVCSNLRCLTREWKNLDDVGWQQFAKHILTSQFIYYKQNNLYVKFVLPMSRTQTNVLWHSRQLFEFYRGHMPLKNEQQVQDLMEVPSKQYDFRSDHVVDRKFSLRPSFQLSWFGVFWMV',\n",
       "  0.36675433408735053),\n",
       " (107,\n",
       "  'MANFRQVCGVFMAIDWFNNEVDSLHHKYSSQGGGNNWVYFHSLGWRQIGIIQYLGPQRIIPPPSTEEVLRRFGVVHLPHRALVIREMQSTSPETCPVIAGFYPGMPDLLYRGMSVDGWPWAFSAHRFYLQHRVVSGASSASMGVNLLSNMVKVVTSFNFFKSYTPGFQCLVRSIGFLESEKVVCSNLRCLTREWKNLDDVGWQQFAKHILTSQFIYYKQNNLYVKFVLPMSRTQTNVLCHSRQLFEFYRGHMPLKNEQQVQDLMEVPSKQYDFRSDHVVDRKFSLRPTFQLSWFGVFWMV',\n",
       "  0.36273232188874055),\n",
       " (108,\n",
       "  'MANFRQVCGVFMAIDWFNNEVDSLHHKYSSQGGGNNWVYFHSLGWRQIGIIQYLGPQRIIPPLSTEEVLRRFTVVHLPHRALVIREMQSTSPETCPVIAGFYPGMPDLLYRGMSVDGWPWAFSAHRDYLQHRVVSGISSASMGVNLLSNMVKVVTSFNFFKSYTPGFQCLVRSIGFLESEKVVCSNLRCLTREWKNLDDVGWQQFAKHILTSQFIYYKQNNLYVKFVLPMWRTQTNVLCHSRQLFEFYRGHMPLKNEQQVQDLMEVPSKQYDFRSDHVVDRKFSLRPTFQLSWFGVFWMV',\n",
       "  0.3749132438429764),\n",
       " (109,\n",
       "  'MANFRQVCGVFMAIDWFNNEVDSLHSKYSSQGGGNNWVYFHSLGWRQIGEIQYLGPQRIIPPLSTEEVLRRFTVVHLPHRALVIREMQSTSPETCPVIAGFYPGMPDLLYRGMSVDGWPWAFSAHRDYLQHRVVSGISSASMGVNLLSMMVKVVTSFNFFKSYTPGFQCLVRSIGFLESEKVVCSNLRCLTREWKNEDDVGWQQFAKHILTSQFCYYKQNNLYVKFVLPMWRTQTNVLCHSRQLFEFYRGHMPLKNEQQVQDLMEVPSKQYDFRSDHVVDRKFSLRPTFQLSWFGVFWMV',\n",
       "  0.3893958270283682),\n",
       " (110,\n",
       "  'MANFRQVCGVFMAIDWFNNEVDSLHSKYSSQGGGNNWVYFHSLGWRQIGEIQYLGPQRIIPPLSTEEVLRRFTVVHLPHRATVIREMQSTSPETCPVIAGFYPGMPDLLYRGMSVDGWPWAFSAHRDVLQHRVVSGISSASMGVNLLSMMVKVVTSFNFFPSYTPGFACLVRSIGFLESEKVVCSNLRCLTREWKNEDDVGWQQFAKHILTSQFCYYKQNNLYVKFVLPMWRTQTNVLCHSRQLFEFYRGHMPLKNEQQVQDLMEVPSKQYDFRSDHVVDRKFSLRPTFQLSWFGVFWMV',\n",
       "  0.3792790526058525),\n",
       " (111,\n",
       "  'MANFRQVCGVFMAIDWFNNEVDSLHSKYSSQGGGNNWVYFHSLGWRQIGEIQYLGPQRIIPPLSTEEVLRRFTVVHLPHRAAVIREMQSTSPETCPVCAGFYPGMPDLLYRGMSVDGWPWAFSAHRDVLQHRVVSGISSASMGVNLLSMMVKVVTSFNFFPSYTPGFACLVRSIGFLESEKVVCSNLRCLTREWKNEDDVGWQQFAKHILTSQFCYYKQNNLYVKFVLPMWRTQTNVLCPSRQLFEFYRGHMPLKHEQQVQDLPEVPSKQYDFRSDHVVDRKFSLRPTFQLSWFGVFWMV',\n",
       "  0.37994181348143946),\n",
       " (112,\n",
       "  'MANFRQVCGVFQAIDWFNNEVDSLHSKYSSQGGGNNWVYFHSLGWRVIGEIQYLGPQRIIPPLSTEEVLRRFTVVHLPHRAAVIREMQSTSPETCPVCAGFYPGMPDLLYRGMSVDGWPWAFSAHRDVLQHRVVSGISSASMGVNLLSMMVKVVTSFYFFPSYTPGFACLVRSIGFLESEKVVCSNLRCLTREWKNEDDVGWQQFAKHILTSQFCYYKQNNLYVKFVLPMWRTQTNVLCPSRQLFEFYRGHMPLGQEQQVQDLPEVPSKQYDFRSDHVVDRKFSLRPTFQLSWFGVFWMV',\n",
       "  0.37810592632740736),\n",
       " (113,\n",
       "  'MANFRQVCGVFQAIDWFNNEVDSLHSKYSSQGGGNNWVYFHSLGWRVIGEIQYLGPQRIIPPLSTEEVLRRFTVVHLPHRAAVIREMQSTSPETCPVCAGFYPGMPDLLYTGMSVDGWPWAFSVHRDVLQHRVVSGISSASMGVNLLSMMVKVVTSFYFFPSYTPGFACLVRSIGFLESEKVVCSNLRCLTREWKNEDDVGSQQFAKHILTSQFCYYKQNNLYVKFVLPMWRTQGNVLCPSRQLFEFYRGHMPLGQEQSVQDLPEVPSKQYDFRSDHVVDRKFSLRPTFQLSWFGVFWMV',\n",
       "  0.3780014609718429),\n",
       " (114,\n",
       "  'MANFRQVCGVFQAIDWFNNEVDSLQFKYSSQGGGNNWVYFHSLGWRVIGEIQYLGPQRIIPPLSTEEVLRRFTVVHLPHRAAVIREMQSTSPETCPVCAGFYPGMPDLLYTGMSVDGWPWAFSVHRDVLQHRVVSGISSASMGVCLLSMMVKVVTSFYFFPSYTPGFACLVRSIGFLESEVVVCSNLRCLTREWKNEDDVGSQQFAKHILTSQFCYYKQNNLYVKFVLPMWRTQGNVLCPSRQLFEFYRGHMPLGQEQSVQDLPEVPSKQYDFRSDHVVDRKFSLRPTFQLSWFGVFWLV',\n",
       "  0.3754754841128098),\n",
       " (115,\n",
       "  'MANFLQVCGVFQAIDWFNNEVDSLQFKYSSQGGGNNWVYFHSLGWRVIGEIQYLGPQRIIPPLSTEEVLRRFTVVHLPHRAAVIREMQSTSPETCPVCAGFYPGMPDLLYTGMSVDGWPWAFSVHRDVLQHRVVSGISSASMGVCLQSMMVKVVTSFYFFPSYTPGFACLVRSIGFLESEVVVCSNLRCLTREWKNEDDVGSQQFAKHILTSQFCYYKQNNLYVKFVLPMWRTQGNVLCPFRQLFEFYRGHMPFGQEQSVQDLPEVPSKQYDFRPDHVVDRKFSLRPTFQLSWFGVFWLV',\n",
       "  0.36823623520987375),\n",
       " (116,\n",
       "  'MANFLQVCGVFQAIDWFNNEVDSLQFKYSSQGGGNNWVYFHSLGWRVIGEIQYLGEQRIIPPLSTEEVHRRFTVVHLPHRAAVIREMQSTSPETCPVCAGFYPGMPDLLYTGMSVDGWPWAFSVHRDVLQHRVVSVISSASMGVCLQSMMVKVVTSFYFFPSYTPGFACLVRSIGFLESEVVVCSNLQCLTREWKNEDDVGSQQFAKHILTSQFCYYKQNGLYVKFVLPMWRTQGNVLCPFRQLFEFYRGHMPFGQEQSVQDLPEVPSKQYDFRPDHVVDRKFSLRPTFQLSWFGVFWLV',\n",
       "  0.3621078260974692),\n",
       " (117,\n",
       "  'MANFLQVCGVFQAIDWFNNEVDSYQFSYSSQGGGNNWVYFHSLGWRVIGEIQYLGEQRIIPPLSTEEVHRRFTVVHLPHRAAVIREMQSTSPETCPVCAGFYPGMPDLLYTGMSVDGWPWAFSVHRDVLQHRVVSVISSASMGVCLQSMMVKVVTSFYFFPSYTPGFACLVRSIGFLESEVVVCSNLVCLTREWKNEDDVGSQQFCRHILTSQFCYYKQNGLYVKFVLPMWRTQGNVLCPFRQLFEFYRGHMPFGQEQSVQDLPEVPSKQYDFRPDHVVDRKFSLRPTFQLSWFGVFWLV',\n",
       "  0.372318507538044),\n",
       " (118,\n",
       "  'MANFLQVCGVFQAIDWFNNEVDSYQFSYSSQGGGNNWVYFHSLGWRVIGEIQYLGEQRIIPPLSTEEVHRRFTVVHLPHRAAVIREMQSTSPETCPVCALFYPGMPDLLYTGMSVDGWPWAFSVHRDVLQHRVVSVISSASMGVCLQSMMVKVVTSFYFFPSYTPGFACLVRSIGFLESEVVVCSGLVCLTREWKNEDDVGSQQFCRHILTSQFCYYKQNGLYVKFVLPMWRTQGNVLCPFRQLFEFYRGHMPFGQEQSVQDLPEVPSKQYDFRPDHVVDRKFDLRPTFQLLWFGVFWLV',\n",
       "  0.357796959712037),\n",
       " (119,\n",
       "  'MANFLQVCGVFQAIDWFNNEVDSYQFSYSSQGGGNNWLYFHSLGWRVIGEIQYLGEQRIIPPLSTEEVHRRFTVVHLPHRAAVIREMQSTSPETCPVCALFYPGMPDLLYTGMSVDGWPWAFSVHRDVLQHRVVSVISSASMGVCLQEMMVKVVTSFYFFPSYTPGFACLVRSIGFLESEVVVCSGLVCLTREWKNELDVGSQQFCRHILTSQFCYYKQNGLYVKFVLPMHRTQGNVLCPFRQLFEFYRGHMPFGQEQRVQDLPEVPSKQYDFRPDHVVDRKFDLRPTFQLLWFGVFWLV',\n",
       "  0.374253446635391),\n",
       " (120,\n",
       "  'MANFLQVCGVFQAIDWFNNEVDSYQFSYSSQGGGNNWLYFHSLGWRVIGEIQYLGEQRIIVPLSTNEVHRRFTVVHLPHRAAVIREMQSTSPETCPVCALFYPGMPDLLYTGMSVDGWPWAFSVHRDVLQHRVVSVISSASMGLCLQEMMVKVVTSFYFFPSYTPGFACLVRSIGFLESEVVVCSGLVCLTREWKNELDVGSQQFCRHILTSQFCYYKQNGLYVKFVLPMHRTQGNVLCPFRQLFEFYRGHMPFGQEQRVQDLPEVPSKQYDFRPDHVVDRRFDLRPTFQLLWFGVFWLV',\n",
       "  0.36324849631637335),\n",
       " (121,\n",
       "  'MANFLQVCGVFQAIDWFNNEVDSYQFSYSSQGGGNNWLYFHSLGWRVIGEIQYLGEQRIIVPLSTNEVHRRFTVVHLPHRAAVIREMQSTSPETCPVCALFYPGMPDLLYTGMSVDGWPWAFSVHRDVLQHRVVSVISSASMGLCLQEMMVKVVTSFYFFPSYTPGFACLVRSEGFLESEVVVCSGLECLTEEWKNELDVGMQQFCRHILTSQFCYYKQNGLYVKFVLPMHRTQGNVLCPFRQLFEFYRGHMPFGQEQRVQDLPEVPSKQYDFRPDHVVDRRFDLPPTFQLLWFGVFWLV',\n",
       "  0.3682521652164204),\n",
       " (122,\n",
       "  'MANFLQVCGVFQAIDWFNNEVDSYQFSYSSQGGGNNWLYFHSLGWRVIGEIQYLGEQRIIVPLSTNEVHRRFTVVHLPHRAAVIREMQSTSPETCPVCALFAPGMPDLLYTGMSVDGWPWAFSVHRDVLQHRVVSVISSASMGLCLQEMMVKVVTSFYFFPSYTPGFACLVRSEGFLESEVVVCSGLECLTEEWKNELDVGMQQFKRHILTSQFCYYKQNGLYVKFVLPMHRTQGNVLCPFRQLFEFYRGHMPFGQVQRVYDLPEVPSKQYDFRPDHVVDRRFDLPPTFQLLWFGVFWLV',\n",
       "  0.3788294110314122),\n",
       " (123,\n",
       "  'MANFLQVCGVFQAIDWFNNHLDSNQFSYSSQGGGNNWLYFHSLGWRVIGEIQYLGEQRIIVPLSTNEVHRVFTVVHLPHRAAVIREMQSTSPETCPVCALFAPGMPDLLYTGMSVDGWPWAFSVHRDVLQHRVVSVISSASMGLCLQEMMVKVVTSFYFFPSYTPGFACLERSEGFLESEVVVCSGLECLTEEWKNELDVGMQQFKRHILTSQFCYYKQNGLYVKFVLPMHRTQGNVLCPFRQLFEFYRGHMPFGQVQRVYDLPEVPSKQYDFRPDHVVDRRFDLPPTFQLLWFGVFWLV',\n",
       "  0.3707665205001831),\n",
       " (124,\n",
       "  'MANFLQVCGVFQAIDWFNNHLDSNQFSYSSQGGGNNWLYFHSLGWRVIGEIQYLGEQRIIVPLSTNEVHRVFTVVHVPHRAAVIREMQSTSPETCPVCALFAPGMPDLLYTGMSVDGWPWAFSVHRDVLQHRVVSVISSASMGLCLQEMMVKVVTSFYFFPSYTPGFACLERSEGFLESEVVVCSGLECLTEEWKNELDVGMQQFKRHILTSQFCYYKQNGLYVKFVLPMHRTPGNVLCPFRGLFEFYRGHMPFGQVQRVYDLTEGPSKQYDFRPDHVVDRRFDLPPTFQLLWFGVFWLV',\n",
       "  0.37150480169137673),\n",
       " (125,\n",
       "  'MANFLQVCGVFQAIDWFNNHLDSNQFSYSSQGGGNNWLYFHSLGWRVIGEIQYLGEQRIIVPLSTNEVHRVDTVVHVPHRAAVGREMQSTSPETCPVCALFAPGMPDLLYTGMSVDGWPWAFSVHRDVLQHRVVSVISSASMGLCLQEMMVKVVTSFYFFPSYRPGFVCLERSEGFLESEVVVCSGLECLTEEWKNELDVGKQQFKRHILTSQFCYYKQNGLYVKFVLPMHRTPGNVLCPFRGLFEFYRGHMPFGQVQRVYDLTEGPSKQYDFRPDHVVDRRFDLPPTFQLLWFGVFWLV',\n",
       "  0.3797596009847309),\n",
       " (126,\n",
       "  'MANFLQVCGVFQAIDWFNNHLDSNQFSYSSQGGGNNWLYFHSLGWRVIGEIQYLGEQRIIVPLSTNEVHRVDTVVHVPHRAAVGREMQSTSPETCPVCALFAPGMPDLLYTGMSVDGWPWAFSVHRDVLQHRVVSVISSASMGLCLQEMMVKVLTSFYFFPSYRPGFVCLERNEGFLESEVVVCSGLECLTEEWKNELDVGKQQFKRHILTSQFCYYKQNGLYVKFVLPMHRTPGNVLCPFRGLFEFYRGHMPFGQVQRLSDLTEGPSKQYDLRPDHVVDRRFDLPPTFQLLWFGVFWLV',\n",
       "  0.3747947348082172),\n",
       " (127,\n",
       "  'MANFLQVCLVFQAIDWFNNHLDSNQFSYSSQGGGNNWLYFHSLGWRVIGEIQYLGEQRIIVPLSTNEVHRVDTVVHVPHRAAVGREMQSTSPETCPVCALFAPGMPDLLYTGMSVDGWPWAFSVHRDVLQHRVVSVISSASMGLCLQEMMVKVFTSFYFFPSYRPGFVCLERNEGFLESEVVVCSGLECLTEEWKNELDVGKQQFKRHILTSQFCYYKQNGLYVKFVLPMHRTPGNVLCPFRGGFEFYRGSMPFGQVQRLSDLTEGPSKQYDLRPDHVVDRRFDLPPTGQLLWFGVFWLV',\n",
       "  0.38628095874030677),\n",
       " (128,\n",
       "  'MANFLQVCLVFQAIDWFNNHLDSNQFSYSSQGGGNNWLYFHSLGWRVIGEIQYLGEWRIIVPLSTNEVHRVDTVVHVPHRAAVGREMQSTSPETCPVCALFAPGMPDLLYTGMSVDGWPWAFSVHRDVLQHRVVSVISSASMGLCLQEMMVKVFTSFYFFPSYRPGFVCRERNEGFLESEVVVCSGLEFLTEEWKNELDVGKQQFKRHILTSQLCYYKQNGLYVKFVLPMHRTPGNVLCPFRGGFEFYRGSMPFGQVQRLSDLTEGPSKQYDLRPDHVVDRRFDLPPTGQLLWFGVFWDV',\n",
       "  0.3930653026660106),\n",
       " (129,\n",
       "  'MANFLQVCLVFQAPDWFNNHLDSNQFSYSSQGGGNNWLYFHSLGWRVIGEIQYLGEWRIIVPLSTNEVHRVDTVVHVPHRAAVGREMQSTSPETCPVCALFAPGMPDLLYTGMSVDGWPWAFSVHRDVLQHRVVSFISSASMGLCLQEMMVKVFTSFNFFPSYRPGFVCRERNEGFLESEVVVCSGLEFLTEEWKNELDVGKQQFKRHILTSQLCYYKQNGLYVKFVLPMHRTPGNVLCPFRDGFEFYRGSMPFGQVQRLSDLTEGPSKQYDLRPDHVVDRRFDLPPTGQLLWFGVPWDV',\n",
       "  0.4058954795556409),\n",
       " (130,\n",
       "  'MANFLQVCLVFQAPDWFNNHLDSNQFTYSSQGGGNNWLYFHSLGWRVIGEIQYLGEWRIIVPLSTNEVHRVDTVVHVPHRAAVGREMQSTSPETCPVCALFAPGMPDLLYTGMSVDSWPWAFSVHRDVLQHRVVSFISSASMGLCLQEMMVKVFTSFNFFPSYRPGFVCRERNEGFLESEVVVCSGLEFLTEEWKNELDVGKQQFKRHILTSQLCYYKQNGLYVKFVLPMHRTPGNVLCPFRDGFSFYRGSMPFGQVQRLSDLTEGPSKQYDLRPDHVVDRRFDLPPTGQLLWFGKPWHV',\n",
       "  0.3896328640070611),\n",
       " (131,\n",
       "  'MANFLQVCLVFQAPDWFNNHLDSNQFTYSSQGGGNNWLYFHSLGWRVIGEIQYLGEWRIIVPLSTNEVHRVDTVVAVPHRAAVGREMESTSPETCPVCALFAPGMPDLLYTGMSVDSWPWAFSVYRDVLQHRVVSFISSASMGLCLQEMMVKVFTSFNFFPSYRPGFVCRERNEGFLESEVVVCSGLEFLTEEWPNELDVGKQQFKRHILTSQLCYYKQNGLYVKFVLPMHRTPGNVLCPFRDGFSFYRGSMPFGQVQRLSDLTEGPSRQYDLRPDHVVDRRFDLPPTGQLLWFGKPWHV',\n",
       "  0.4054564969680671),\n",
       " (132,\n",
       "  'MANFLQVCLLFQAPDWDNNHLDSNQFTYSSQGGGNNWLYFHSLGWRVIGEIQYLGENRIIVPLSTNEVHRVDTVVAVPHRAAVGREMESTSPETCPVEALFAPGMPDLLYTGMSVDSWPWAFSVYRDVLQHRVVSFISSASMGLCLQEMMVKVFTSFNFFPSYRPGFVCRERNEGFLESEVVVCSGLEFLTEEWPNELDVGKQQFKRHILTSQLCYYKQNGLYVKFVLPMHRTPGNVLCPFRDGFSFYRGSMPFGQVQRLSDLTEGPSRQYDLRPDHVVDRRFDLPPTGQLLWGGKPWHV',\n",
       "  0.4118578022878085),\n",
       " (133,\n",
       "  'MANFLQVCLLFQAPDWDNNHLDSNQFTYSSQGGGNNWLYFHSLGWRVIGEIQYLGENRIIVPLSTNEVHRVDTVVAVQHRAAVGREMESTSPETCPVEALFAPGMPDLLYTGMSVDSWPWAFSVYRDVLQHRVVSFISSASMGLCLQEMMVKVFTSFNFFLSYRPGFVCRERNEGFLESEVVVCSGLEFLTEEWPNELDVGKQQFKRHILTEQLNYYKQNGLYVKWVLPMHRTPGNVLCPFRDGFSFYRGSMPFGQVQRLSDLTEGPSRQYDLRPDHVVDRRFDLPPTGQLLWGGKPWHV',\n",
       "  0.4080952682499109),\n",
       " (134,\n",
       "  'MANFLQVCLLFQAPDWDNNHLDSNQFTYSSQFGGNNWLYFHSLGWRVIGEIQYLGENRIIVPLSTNEVHRVDTVVAVQHRAAVGREMESTSPETCPVEALFAPGSPDLLYTGMSVDSWPWAFSVYRDVLQHRVVSFISSASMGLCLQEMMVKVFTSFNFFLSYRPGFVCRERNEGFLESEVVVCSGLEFLTEEWPNELDVGKQQFKRHILYEQLNYYKQNGLYVKWVLPMHRTPGNVLCPFCDGFSFYRGSMPFGQRQRLSDLTEGPSRQYDLRPDHVVDRRFDLPPTGQLLWGGKPWHV',\n",
       "  0.410065765359572),\n",
       " (135,\n",
       "  'MANFLQVCLLFQAPDWDNNHLDSNQFTYSSQFGGNNWLYFHSLGWRVIGEIQYLGENRIIVPLSTNEVHRLDTVVAVQHRAAVGREMESTSPETCPVEALFAPGSPILLYTGMSVDSWPWAFSVYRDVLQHRVVSFISSASMGLCLQEMMVKVFTSFNFFLSYRPGHVCRERNEGFLESEVVVCSGLEFLTEEWPNELDVGKQQFKRHILYEQLNYYKQNGLYVKWVLPMHRTPGNVLCPFCDGFSFYRGSMPFGQRQRLSDLTEPPSRQYDLRPDHVVDRRFDLPPLGQLLWGGKPWHV',\n",
       "  0.3896582959485905),\n",
       " (136,\n",
       "  'MANFLQVCLLFQAPDWDNNHLDSNQFTYSSQFGGNNWLYFHSLGWRVIGEIQYLGENRIIVPLSTNEVHRLDTVVAVQHRAAVGREMEETSPETCPVEALFAPGSPILLYTGMSVDSWPWAFSVYRDVLQHRVVSFISSASMGLCLQEMMVKVFTSFNFFTSYRPGHVCRERNEGFLESEVVVCSGLEFLTEFWPNELDVGKQQFKRHILYEQLNYYKQNGLYVKWVLPMHRTPGNVLCPFCDGSSFYRGSMPFGQRQRLSDLTEPPSRMYDLRPDHVVDRRFDLPPLGQLLWGGKPWHV',\n",
       "  0.38910091801413466),\n",
       " (137,\n",
       "  'MANFLQVCLLFQAPDWDNNHLDSNQFTYSSQFGGNNWLYFHSLGWRVIGEIQYLGENRIIVPLSTNEVHRLDTVVAVQHRAAVGREMEETSPETCPVEALFAPGSPILLYTGMSVDSWPWAFSVYRDVLQHRVVSFISSASMGLCLQEMMVKVFTSFNFFTSYRPGHVCRERNEGLLESEVRVCSGLEFLTEFWPNELDVGKQQFKRHILYEQLNYYKQNGLYVKWVLPMHRTPGHVLCPFCDGSSFYRGSMPFGQRQRLSDLTEPPSRMYDSRPDHVVYRRFDLPPLGQLLWGGKPWHV',\n",
       "  0.3809621328088854),\n",
       " (138,\n",
       "  'MANFLQVCLLFQAPDWDNNHLDSNQFTYSSQFGGNNWLYFHSLGWRVIGEIQYLGENRIIVPLSTNEVHRLDTVVAVQHRAAVGREMEETSPETCPVESLFAPGSPILLYTGMSVDSWPWAFSVYRAVLQHRVVSPISSASMKLCLQEMMVKVFTSFNFFTSYRPGHVCRERNEGLLESEVRVCSGLEFLTEFWPNELDVGKQQFKRHILYEQLNYYKQNGLYVKWVLPMHRTPGHVLCPFCDGSSFYRGSMPFGQRQRLSDLTEPPSRMYDSRPDHVVYRRFDLPPLGQLLWGGKPWHV',\n",
       "  0.3784979679621756),\n",
       " (139,\n",
       "  'MANFLQVCLLFQAPDWDNNHLDSNQFTYSSQFGGNNWLYFHSLGWRVIGEIQYLGENRIIVPLSTNEVHRLDTVVAVQHRAAVGREMEETSPETCPVESLFAPGSPPLLYTGMSVTSWPWAFSVYRAVLQHRVVSPISSASMKLCLQIMMVKCFTSFNFFTSYRPGHVCRERNEGLLESEVRVCSGLEFLTEFWPNELDVGKQQFKRHILYEQLNYYKQNGLYVKWVLPMHRTPGHVLCPFCDGSSFYRGSMPFGQRQRLSDLTEPPSRMYDSRPDHVVYRRFDLPPLGQLLWGGKPWHV',\n",
       "  0.3750646830802517),\n",
       " (140,\n",
       "  'MANFLQVCLLFQAPDWDNNHLDSNQFTYSSQFGGNNWLYFHSLGWRVIGEIQYLGENRIIVPLSTNEVHRLDTVVAVQHRAAVGREMEETSPETCPVESLFAPGSPPLLYTGMSVTSWPWAFSVYRAVLQHRVVSPISSASMKLCLQIMMVKCFTSFNFFTSFRPGHVCRERNEGLLEGEVRVCSGLEFLTEFWPNELDVGKQQFKRHILYEQLNYYKQNGLYVKWVLPMHRTPGHVLCPFCDGSFFYRGRMPFGQRQRLSDLTEPPSRMYDSRPDHVVYRRFDLPYLGQLLWGGKPWHV',\n",
       "  0.34975544662613955),\n",
       " (141,\n",
       "  'MANFLQVCLLFQAPDWDNNHLDSNQFTYSSQFGGNNWLYFHSLGWRVIGEIQYLGENRIIVPISTNEVHRLDTVVAVQHRAAVGREMEETSPETCPVESLFAPGSPPLLYTGMSVTSWPWAFSVYRAVLQHRVVSPISSALMKLCLQTMMVKCFTSFNFFTSFRPGHVCRERNEGLLEGEVRVCSGLEFLTEFWPNELDVGKQQFKRHILYEQLNYYKQNGLYVKWVLPMHRTPGHVLCPFCDGSFFYRGRMPFGQRQRLSDLTEPPSRMYDSRPDHVQYRRFDLPYLGQLLWLGKPWHV',\n",
       "  0.3373012784868479),\n",
       " (142,\n",
       "  'MANFLQVCLLFQAPDWDNNHLDSNQFTYSSQFGGNNWLYFHSLGWRVIGEIQYLGENRIIVPISTNEVHRLDTVYAVQHRAAVGREMEETSPETCPVESLFAPGSPPLLYTGMSVTSWPWAFSVYRAVLQHRVVSPISSALMKLCLQTGMVKCFTSFNFFTSFRPGHVCRERNEGLSEGEVRVCSGLEFLTEFWKNELDVGKQQFKRHILYEQLNYYKQNGLYVKWVLPMHRTPGHVLCPFCDGSFFYRGRMPFGQRQRLSDLTEPPSRMYDSRPDHVQYRRFDLPYLGQLLWLGKPWHV',\n",
       "  0.3296383018605411),\n",
       " (143,\n",
       "  'MANFLQVCLLFQAPDWDNNHLDSNQFTYSSQFGGNNWLYFHSLGWRVIGEIQYLGENRIIVPISTNEVHRLDTVYAVQHRAAVGREMEETSPETCPVESLFAPGSPPLLYTGMSVTSWPWAFSVYRAVLQHRVVSPISSALMKLCLQDGMVKCFTSFNFFTSFRPGHVCRERNEGLSGGEVRVCSGLEFLTEFWKNELDVGKQQFKRHILYEQLNYYKQNGLYVKWLLPMHRTPGHVLCPFCDGSFFYRGRMPFGQRQRLSDLTEPPSRMYDSRPDHVQYRRFDLPYLGQLLWLGKPWHV',\n",
       "  0.3333447678014636),\n",
       " (144,\n",
       "  'MANFLQVCLLFQAPDWDNNHLDSNQFTYSSQFGGNNWLYFHSLGWRVIGEIQYLGENRIIVPISTNEVHRLDTVYAVQHRAAVGREMEETSPETCPVESLFAPVSPPLLGTGMSVTSWPWAFSVYRAVLQHPVVSPISSALMKLCLQDGMVKCFTSFNFFTSFRPGHVCRERNEGLSGGEVRVCSGLEFLTEFWKNELDVGKQQFKRHILYEQLNYYKQNGLYVKWLLPMHRTPGHVLCPFCDGSLFYRGRMPFGQRQRLSDLTEPPSRMYDSRPDHVQYRRFDLPYLGQLLWLGKPWHV',\n",
       "  0.3063605867459306),\n",
       " (145,\n",
       "  'MANFLQVCLLFQAPDWDNNHLDSNQFTYSSQFGGNNWLYFHSLGWRVIGEIQYLGRNRIIVPISTNEVHRRDTVYAVQHRAAVGREMEETSPETCPVESLFAPVSPPLLGTGMSVTSWPWAFSVYRAVLQHPVVSPISSFLMKLCLQDGMVKCFTSFNFFTSFRPGHVCRERNEGLSGGEVRVCSGLEFLTEFWKNELDVGKQQFKRHILYEQLNYYKQNGLYVKWLLPMHRTPGHVLCPFCDGSLFYRGRMPFGQRQRLSDLTEPPSRMYDSRPDHVQYRRFDLPYQGQLLWLGKPWHV',\n",
       "  0.3021232763837491),\n",
       " (146,\n",
       "  'MANFLQVCLLFQAPDWDNNHLDSNQQTYSSQFGGNNWLYFHSLGWRVIGEIQYLGRNRIIVPISTNEVHRRDTVYAVQHRAAVGREMEETSPETCPVESLFAPVSPPLLGTGMSVPSWPWAFGVHRAVLQHPVVSPISSFLMKLCLQDGMVKCFTSFNFFTSFRPGHVCRERNEGLSGGEVRVCSGLEFLTEFWKNELDVGKQQFKRHILYEQLNYYKQNGLYVKWLLPMHRTPGHVLCPFCDGSLFYRGRMPFGQRQRLSDLTEPPSRMYPSRPDHVQYRRFDLPYQGQLLWLGKPWHV',\n",
       "  0.2910113160365394),\n",
       " (147,\n",
       "  'MANFLQVCLLFQAPDWDNNHLDSNQQRYSSQFGGNNWLYFHSLGWRVIGEIIYLGRNRIIVPISTNEVHRRDTVYAVQHRAAVGREMEETSPETCPVESLFAPVSPPLLGTGMSVPSWPQAFGVHRAVLQHPVVSPISSFLMKLCLQDGMVKCFTSFNFFTSFRPGHVCDERNEGLSGGEVRVCSGLEFLTEFWKNELDVGKQQFKRHILYVQLNYYKQNGLYVKWLLPMHRTPGHVLCPFCDGSLFYRGRMPFGQRQRLSDLTEPPSRMYPSRPDHVQYRRFDLPYQGQLLWLGKPWHV',\n",
       "  0.2796719389568482),\n",
       " (148,\n",
       "  'MAVFLQVCLLFQAPDWDNNHLDSNQQRYSSQFGGNNWLYFHSLGWRVIGEIGYLGRNRIIVPISTNEVHRSDTVYAVQHRAAVGREMEETSPETCPVESLFAPVSPPLLGTGMSVPSWPQAFGVHRAVLQHPVVSPISSFLMKLCLQDGMVKCFTSFNFFTSFRPGHVCDERNEGLSGGEVRVCSGLEFLTEFWKNELDVGKQQFKRHILYVQLNYYKQNGLYVKWLLPMHRTPGHVLCPFMDGSLFYRGRMPFGQRQRLSDLTEPPSRMYPSRPDHVQYRTFDLPYQGQLLWLGKPWHV',\n",
       "  0.2737413057392197),\n",
       " (149,\n",
       "  'MAVFLQVCLLFQAPDWDNNHLDSNQQRYSSQFGGNNWLYFHSLGWRVIGEIGYLGRNRIIVPISTNEVHRSDTVYAVQHRAAVGREMEETSPETCPVESLFAGVSPPLLGTGMSVPSWPQAFGVHRAVLQHPVVSPISSFLMKLCLQDGMVKCFTSFNFFTSFRPGHVCDERNEGLSGGEVRVCSGLEFLTEFWKNELDVGKQQFKRHRLYVQLNYYKQNGLYVKWLLPMHRTPGHVLCPFMDGNLFYRGRMPFGQRQRLSDLTEPPSRMYPSRPDHVQYRTFDLPYQGQLLWLGKPWHV',\n",
       "  0.2721286316601826),\n",
       " (150,\n",
       "  'MAVFLQVCLLFQAPDWDNNHLDSNQQRYSSFFGGNNWLYFHSLGWGVIGEIGYLGRNRIIVPISTNEVHRSDTVYAVQHRAAVGREMEETSPETCPVESLFAGVSPPLLGTGMSVPSWPQAFGVHRAVLQHPVVSPISSFLMKLCLFLGMVKCFTSFNFFTSFRLGHVCDERNEGLSGGEVRVCSGLEFLTEFWKNELDVGKQQFKRHRLYVQLNYYKQNGLYVKWLLPMHRTPGHVLCPFMDGNLFYRGRMPFGQRQRLSDLTEPPSRMYPSRPDHVQYRTFDLPYQGQLLWLGKPWHV',\n",
       "  0.27894906100950073),\n",
       " (151,\n",
       "  'MAVFLQVCLLFQAPDWDNNLLDSNQQRYSSFFGGNNWLYFHSLGWGVIGEIGYLGRNRIIVPISTNEVHRSDTVYAVQHRAAVGREMEEFSPETCPVESLFAGVSPPLLGTGMSVPSWLQAFGVHRAVLQHPVVSPISSFLMKLCLFLGMVKCFTSFNFFTSFRLGHVCDERNEGLSGGEVRVCSGLEFLTEFWKNELDVGKQQFKRHRLYVQLNYYKQNGLYVKWLLPMHRTPGHVLCPFMDGNLFYRGRMPFGQRQRLSDLTEPPSRMYPSDPDHVQYRTFDLPYQGQLLWLGKPWHV',\n",
       "  0.2821511700416782),\n",
       " (152,\n",
       "  'MAVFLQVCLLFQAPDWDNSLLDSNQQRYSSFFGGNNWLYFHSLGWGVIGEIGYLGRNRIIVPISTNEVHRSDTVYAVQHRAAVGREMEEFHPETCPVESLFAGVSPPLLGTGMSVPSWLQAFGVHRAVLQHPVVSPISSFLMKLCLFLGMVKCFTSFNFFTSFRLGHVCDERNEGLSGGEVRVCSGLEFLTEFWKNELDVGKQFFKRHRLYVQNNYYKQNGLYVKWLLPMHRTPGHVLCPFMDGNLFYRGRMPVGQRQRLSDLTEPPSRMYPSDPDHVQYRTFDLPYQGQLLWLGKPWHV',\n",
       "  0.2739531216211617),\n",
       " (153,\n",
       "  'MAVFNQVCLLFQAPDWDNSALDSNQQRYSSFFGGNNWLYFHSLGWGVIGEIGYLGRNRIIVPISTNEVHRSDTVYAVQHRAAVGREMEEFHPETCNVESLFAGVSPPLLGTGMSVPSWLQAFGVHRAVLQHPVVSPISSFLMKLCLFLLMVKSFTSFNFFTSFRLGHVCDERNEGLSGGEVRVCSGLEFLTEFWKNELDVGKQFFKRHRLYVQNNYYKQNGLYVKWLLPMHRTPGHVLCPFMDGNLFYRGRMPVGQRQRLSDLTEPPSRMYPSDPDHVQYRTFDLPYQGQLLWLGKPWHV',\n",
       "  0.2856065621599555),\n",
       " (154,\n",
       "  'MAVFNQVCLLFQAPDWDNSALDSNQQRYSSFFGGNNWLYFHSLGWGVIGEIGYLSRNRIIVPISTNEVHRSDTVYAVQHRAAVGREMEEFHPETCNVESLFAGVSPPLLGTGMSVPSWLQAFGVHRAVLQHPVVSPISSFLMKLCIFLLMVKSFTSFNFFTSFRLGHVCDENNEGLSGGEVRVCSGLEFLTEFWKNELDVGKQFFKRHRLYVQNNYYKQNGLYVKWLLPMHRTPGHVLCPFMDGNLFYRGRMPVGQRQRLSDLTEPPSRMYPSDPDHVQYRTFDLPYQGQQLWLGKPWHV',\n",
       "  0.28991385689005256),\n",
       " (155,\n",
       "  'MAVFNQVCLLFQAPDWDNSALDSNQQRYSSFFGGNNWLYFHSLGWGVIGEIGYLSRNRIIVPISTNEVFRSDTVYAVQHRAAVGREMEEFHPETCNVESLFAGVSPPLLGTGMSVPSWLQAFGVHRAVLQHPVVSPISSFLMKLCIFLLMVKSFTSFNFFTSFRLGHVCDENNEGLSGGEVRVCSGLEFLTEFWKNELDVGKQFFKRHRLYVQNNYYKQNGLYVKWLLPMHRTPGHVLCPFMDGNLFYRGRMFVGQRQSLSDLTEPPSSMYPSDPDHVPYRTFDLPYQGQQLWLGKPWHV',\n",
       "  0.2932695733117206),\n",
       " (156,\n",
       "  'MAVFNQVCLLFQAPDWDNSALDSNQQRYSSFFGGNNWLYFHSLGWGVIGEIGYLSRNLIIVPISTNEVFRSDTVYAVQHRAAVGREMEEFHPETCNVEGLFAGVSPPLLGTGMSVPSWLQAFGVHRAVLQHPVVSPISSVLMKLCIFLLMVKSFTSFNFFTSFRLGHVCVENNEGLSGGEVRVCSGLEFLTEFWKNELDVGKQFFKRHRLYVQNNYYKQNGLYVKWLLPMHRTPGHVLCNFMDGNLFYRGRMFVGQRQSLSDLTEPPSSMYPSDPDHVPYRTFDLPYQGQQLWLGKPWHV',\n",
       "  0.312743036941226),\n",
       " (157,\n",
       "  'MAVFNQVLLLFQAPDWDNSALDSNQQRYSSFFGGNNWLYFHSLGWGVIGEIGYLSRNLIIVPISTNEVFRSDTVYAVQHRAAVLREMEEFHPETCGVEGLFAGVSPPLLGTGMSVPSWLQAFGVHRAVLQHVVVSPISSVLMKLCIFLLMVKSFTSFNFFTSFRLGHVCVENNEGLSGGEVRVCSGLEFLTEFWKNELDVGKQFFKRHRLYVQNNYYKQNGLYVKWLLPMHRTPKHVLCNFMDGNLFYRGRMFVGQRQSLSDLTEPPSSMYPSDPDHVPYRTFDLPYQGQQLWLGKPWHV',\n",
       "  0.3093784084277494),\n",
       " (158,\n",
       "  'MAVFNQVLLLFQAPDWDNSALDSNQQRYSSFFGGNNWLYFHSLGWGVIGEIGYLSRNLIIVPISTNEVFRSDTVYAVQHRAAVLREMEECHPETCGVEVLFAGVSPPLLGTGMSVPSWLQAFGVHRAVLQHVVVSPISSVLMKLCIFLLMVLSFTSFNFFTSFRLGHVCVENDEGLSGGEVRVCSGLEFLTEFWKNELDVGKQFFKRHRLYVQNNYYKQNGLYVKWLLPMHRTPKHVLCNFMDGNLFYRGRMFVGQRQSLSDLTEPPSSMYPSDPDHVPYRTFDLPYQGQHLWLGKPWHV',\n",
       "  0.30371568631380796),\n",
       " (159,\n",
       "  'MAVFNQVLLLFQAPDWDNSALDSNQQRYSSFFGGNNWLYFHSLGSGVIGEIGYLSRNLIIVPISTNEVFRSDTVYAVQHRAAVLREMEECHPETCGVEVLFAGVSPPLLGTGMSVPSWLQAFGVHRAVLQHVVVSPISSVLMKLCIFLLMVLSFTSFNFFTSFRLGHFCVENDEGLSGGEVRVCSGLEFLTEFWKNELDVGKQFFKRARLYVQNNYYKSNGLYVKWLLPMHRTPKHVLCNFMDGNLFYRGRMFVGQRQSLSDLQEPPSSMYPSDPDHVPYRTFDLPYQGQHLWLGKPWHV',\n",
       "  0.30767144106461536),\n",
       " (160,\n",
       "  'MAVFNQVLLLFQAPDWDNSALDSNQQRYSSFFGGNNWLYFHSLGSGVIIEIGYLSRNLIIVPISTNEVFRSHTVYAVQHRAAVLREMEECHPETWGVEVLFAGVSPPLLGTGMSVPSWLQAFGVHRAVLQHVVVSPISSVLMKLCIFLLMVLSFTSFNFFTSFRLGHFCVENDEGLSGGEVRVCSGLEFLTEFWKNELDVGKQFFCRARLYVQNNYYKSNGLYVKWLLPMHRTPKHVLCNFMDGDLFYRGRMFVGQRQSLSDLQEPPSSMYPSDPDHVPYRTFDLPYQGQHLWLGKPWHV',\n",
       "  0.3316808524541557),\n",
       " (161,\n",
       "  'MAVNNQVLLLFQAPDWDNSALDSNQQRYSSFFGGNNWLYFHSLGSGVIIEIGYLSRNLIIVPISTNEVFRSHTVYAVQHRAAVLREMEECHPETWGVEVLFAGVSPPLLGTGMSVPSWLQAFGVHRAGLQHVVPSPISSVLMKLCIFLLMVLSFTSFNFFTSFRLLHFCVENDEGLSGGEVRVCSGLEFLTEFWKNVLDVGKQFFCRARLYVQNNYYKSNGLYVKWLLPMHRTPKHVLCNFMDGDLFYRGRMFVGQRQSLSDLQEPPSSMYPSDPDHVPYRTFDLPYQGQHLWLGKPWHV',\n",
       "  0.34475236951506566),\n",
       " (162,\n",
       "  'MAVNNQVLLLFQAPDWDNSALDSNQQRYSSFFGGNNWLYFHSLGSGVIIEIGYLSRNLIIVPISTNEVFRSHTVYAVQHRAAVLREMEECHPETWGVEVLFAGVSPPLLGTGMSVPSWLQAFGVHRAGLQHVVPSPYSSVLMKLCIFLLMVLSFLSFNFFTSFRLLHFAVENDEGLSGGEVRVCSGLEFLTEFWKNVLDVGKQFFCRARLYVQNNYYKSNGLYVKWLLGMHRTPKHVLCNFMDGDLFYRGRMFVGQRQSLSDLQEPPSSMYPSDPDHVPYRTFDLPYQGQHLWLGKPWHV',\n",
       "  0.35242481908894013),\n",
       " (163,\n",
       "  'MAVNNHVLLLFQAPDWDNSALDSNQQRYSSFFGGNNWLYFHSLGSGVIIEIGYLSRNLIIVPISTNEVFRSHTVYAVQHRAAVLREMEECHPETWGVEVLFAGVSPPLLGTGMSVPSWLQAFGVHRAGLQHVVNSPYSSVLMKLCIFLLMVLSFLSFNFFTSFRLLHFAVENDEGLSGGEVRVCGGLEFLTEFWKNVLDVGKQFFCRARLYVQNNYYKSNGLYVKWLLGMHRTPKHVLCNFMDGDLFYRGRMFVGQRQSLSDLQEPPSSMYPSDPDHVPYRTFDLPYQGQHLWFGKPWLV',\n",
       "  0.35013197814779623),\n",
       " (164,\n",
       "  'MAVNNHVLLLFQAPDWDNSALDSNQQRYSSFVGGNNWLYFHSLGSGVIIEIGYLSRNLIIVPISTNEVFRSHTVYAVQHRAAVLREMEECHPETWGVEVLFAGVSPPLLGTGMSVPSWLQNFGVHRAGLQHVVNSPYSSVLMKLCIFLLMVLSFLSFCFFTSFRLLHFAVENDEGLSGGEVRVCGGLEFLTEFWKNVLDVGKQFFCRARLYVQNNYYKSNGLYVKWLLGMHRTPKHVLVNFMDGDLFYRGRMFVGQRQSLSDLQEPPSSMYPSDPDHVPYRTFDLPYQGQHLWFGKPWLV',\n",
       "  0.35093047549682005),\n",
       " (165,\n",
       "  'MAVNNHVLLLFQAPDWDNSALDSNQQRYSSFVGGNNWLYFHSLGSGVIIEIGYLSRNLIIVPISTNEVFRSHTVYAVQHRAFVLREMEECHPETWGVEVLFAGVSPPLLGTGMSVPSWLQNFGVHRAGLQHVVNSPYSSVLMKLCIFLLMVLSFLSFCFSTSFRLLHFAVENDEGLSGGEVRVCGGLEFLTEFWKNVLDVGKQFFCRNRLYVQNNYYKSNGLYVKWLLGMHRTPKHVLVNFMDGDLFYRGRMFVGQRSSLSDLQEPPSSMYPSDPDHVPYRTFDLPYQGQHLWFGKPWLV',\n",
       "  0.3595126047730446),\n",
       " (166,\n",
       "  'MAVNNHVLLLFQAPDWDNSALDSNQQRYSSFVGGNNWLYFHSLGSGVIIEIGYLSRNLIIVPISTNEVSRSHTVYAVQHRAFVLREMEECHPETWGVEVLFAGVSPPLLGTGGVVPSWLQNFGVHRAGLQHVVNSPYSSVLMKLCIFLLMVSSFLSFCFSTSFRLLHFAVENDEGLSGGEVRVCGGLEKLTEFWKNVLDVGKQFFCRNRLYVQNNYYKSNGLYVKWLLGMHRTPKHVLVNFMDGDLFYRGRMFVGQRSSLSDLQEPPSSMYPSDPDHVPYRTFDLPYQGQHLWFGKPWLV',\n",
       "  0.3628648532155369),\n",
       " (167,\n",
       "  'MAVNNHVLLLFQAPDWDNSALDSNQQRYSSFVGGNNWLYFHSLGSGVIIEIGYLSRNLIIVPISTNEVSRSHTVYAVQDRAFVLREMEECHPETWGVEVLFAGVSPPLLGTGGVVPSWLQNFGVHRAGLQHVVNSPYSSVLMKLCIFLLMVSSFLSFCFSTSFRLLHFAVENDEGLSGGEVRVCGGLEKLTLFWKNVLDVGKQFFCRNRLYVGNNYYKSNGLYVKWLLGMHRSPKHVLVNFMDGQLFYRGRMFVGQRSSLSDLQEPPSSMYPSDPDHVPYRTFDLPYQGQHLWFGKPWLV',\n",
       "  0.35721007894192425),\n",
       " (168,\n",
       "  'MAVNNHVLLLFQAPDWDNSALDSNQQRYSSFVGGNNWLYFHSLGSGVIIEIGYLSRNLIIVPISTNEVSRSHTVYAVQDRAFVLREMEECHPETWGVEVLFAGVSPPLLGTPGVVPSWLQNFGVHREGLQHVVNSPYSSVLMKLCIFLLMVSSFLSFCFSTSFRLLHFAVENDEGLSGGEVRVCGGLEKLTLFWKNVLDVGKQFFCRNRLYVGNNYYKSNGLYVKWLLGMHRSPKHVLVNFYDGQLFYRGRMFVGQRSSLSDLQEPPSSMYPSDPSHVPYRGFDLPYQGQHLWFGKPWLV',\n",
       "  0.3893622274377516),\n",
       " (169,\n",
       "  'MAVNNHVLLLFQAPDWDNSALDSNQQRYSSFVGGNNWLYFHRLGSGVIIEIGYLSRNLIIVPISTNEVSRSHTVYAVQDRAFVLREMEECHPETWGVEVLFAGVSPPLLGTPGVVPSWLQNFGVHREGLQHVVNSPYSSVLMKLCIFLLMVSSFLSFCFSTSFRLLHFAVENDEGLSGGEVRVCGLLEKLTLFWKNVLDVGKQFFCRNRLYVGNNYYKSNGLYVKWLLQMHRSPKHVLVNFYDGQLFYRGRMFVGQRSSLSDLQEPPSSPIPSDPSHVPYRGFDLPYQGQHLWFGKPWLV',\n",
       "  0.3826796409807035),\n",
       " (170,\n",
       "  'MAVNNHVLLLFQAPDWDNSALDSNQQRYSSFYGGNNWLYAHRLGSGVIIEIGYLSRNHIIVPISTNEVSRSHTVYAVQDRAFVLREMEECHPETWGVEVLFAGVSPPLLGTPGVVPSWLQNFGVHREGLQHVVNSPYSSVLMKLCIFLLMVSSFLSFCFSTSFRLLHFAVENDEGLSGGEVRVCGLLEKLTLFWKNVLDVGKQFFCRNRLYVGNNYYKSNGLYVKWLLQMHRSPKHVLVNFYDGQLFYRGRMFVGQRSSLSDLQEPPSSPIPSDPSHVPYGGFDLPYQKQHLWFGKPWLV',\n",
       "  0.36836060376039576),\n",
       " (171,\n",
       "  'MAVNNHVLLLFQAPDWDNSALDSNQQRYSSFYGGNNWLYAHRLGSGVIIEIGYLSRNHIIVPISTNEVSRSHTVYANQDRAFVLREMEECHPETWGVEVLFAGVSPPLLGTPGVVPSWLQNFGVHREGLQHVVNSPYSSVLMKLCIFLLMVSSFLSFCFSTSFRLLHFAVENDEGLSGGEVRVCGLLEKLTLFWKNVLDVGKQFFCRNRLYVGNNYYKSNGLYVKWLLQMHRSPKHVLVNFYDGQLFYRGRMFVGQRSALSDLQEPPSSPIPSDFSHVPYGGFDLPYQKQHLWFGKPWLV',\n",
       "  0.38252838235348463),\n",
       " (172,\n",
       "  'MAVNNHVLLLFQAPDWDNSALDSNQQRYSSFYGGNNWLYAHRLGSGVIIEIGYLSRNHISVPISTNEVSRSHTVYANQDRAFVLLEMEECHPETWGVEVLFAGVSPPLLGTPGVVPSWLQNFGVHREGLQHVVNSPYSSVLMKLCIFLLMVSSFLSFCFSTSFRLLHDAVENDEGLSGGEVRVCGLLEKLTLFWKNVLDVGKQFFCRNRLYVGNNYYKSNGLYVKWNLQMHRSPKHVLVNFYDGQLFYRGRMFVGQRSALSDLQEPGSSPIPSDFSHVPYGGFDLPYQKQHLWFGKPWLV',\n",
       "  0.37527370007176486),\n",
       " (173,\n",
       "  'MAVNNHVLLLFQAPDWDNSALDSNQQRYSSFYGGNNWLYAHRLGSGVIIEIGYLSRNHISVPISTNEVSRSHTVYANQDRAFVLLEMEECHPETWGVEVLFAGVSSPLLGTPGVVPSWLQNFGVHREGLQHVVNSPYSSVLMKLCIFLLMVSSFLSFCFSTSFRLLHDAVENDEGLSGGEVRVCGLLEKLTLFWKNVLDVGKQFFCRNRLYVGNNYYKSNGLYVKWNLQMHRSPKHVLVNFYDGQLFYRGWMFVGQRSALSMLQEPGSSPIPSDFSHVPYGGFDLPYQKQHLWFGKPWTV',\n",
       "  0.36516670184209943),\n",
       " (174,\n",
       "  'MAVNNHVLLLFQAPDWDNSALDSNQQRYPSFYGGNNWLYAHRLGSGVIIEIGYLSRNHISVPISTNELSRSHTVYANQDRAFVLLEMEECHPETWGVEVLFAGVSSPLLGTPGVVPSWLQNFGVHREGLQHVVNSPYSSVLMKLCIFLLMVSSFLSFCFSTSFRLLHDAVENDEGLSGGEVRVCGLLEKLTLFWKNVLDVGKQFFCRNRLYVGNNYYKSNGLYVKWNLPMHRQPKHVLVNFYDGQLFYRGWMFVGQRSALSMQQEPGSSPIPSDFSHVPYGGFDLPYQKQHLWFGKPWTV',\n",
       "  0.3676764297166041),\n",
       " (175,\n",
       "  'MAVNNHVLLLFQAPDWDNSALDSNQQRYPIFYGGNNWLYAHRLGSGVIIEIGYLSRNHISVPISTNELSRSHTVYANQDRAFVLLEMEECHPETWGVEVLFAGVSSPLLGTPGVVPSWLQNFGVHREGLQHVVNSPYSSVLMKLCIFLLMVSSFLSFCFSTSFRLLHDAVENDEGLSGGEVRVCGLLEKLTLFWKNVLDVGKQFFCRNRLYVGNNYYKSNGLYVKWNLPMHRQNKHVLVNFYDGQLFYRGWMFVGQRSALSMQQEPGSSPIPSDFSHVPYGGFDLPLQYQHLWFGKPWTV',\n",
       "  0.34968891706583755),\n",
       " (176,\n",
       "  'MAVNNHVLLLFSAPDWDNSALDSNQQRYPIFYGGNNWLYAHRLGSGVIIEIGYLSRNHISVPISTNELSRSHTVYANQDRAFVLLEMEECHPETWGVEVLFAGVSSPLLGTPGVVPSWLQNFGVHREGLQLVVNSPYSSVLMKLCIFLLMVSSFLSFLFSTSFRLLHDAVENDEGLSGGEVRVCGLLEKLTLFWKNVLDVGKKFFCRNRLYVGNNYYKSNGLYVKWNLPMHRQNKHGLVNFYDGQLFYRGWMFVGQRSALSMQQEPGSSPIPSDFSHVPYGGFDLPLQYQHLWFGKPWTV',\n",
       "  0.3491574501219605),\n",
       " (177,\n",
       "  'MEVNNHVLLLFSAPDWDNSALDSLQQRYPIFYGGNNWIYAHRLGSGVIIEIGYLSRNHISVPISTNELSRSHTVYANQDRAFVLLEMEECHPETWGVEVLFAGVSSPLLGTSGVVPSWLQNFGVHREGLQLVVNSPYSSVLMKLCIFLLMVSSFLSFLFSTSFRLLHDAVENDEGLSGGEVRVCGLLEKLTLFWKNVLDVGKKFFCRNRLYVGNNYYKSNGLYVKWNLPMHRQNKHGLVNFYDGQLFYRGWMFVGQRSALSMQQEPGSSPIPSDFSHVPYGGFDLPLQYQHLWFGKSWTV',\n",
       "  0.34306098527408074),\n",
       " (178,\n",
       "  'MEVNNHVLLLFSAPDWDNSALDSLQQRYPIEYAGNNWIYAHRLGSGVIIEIGYLSRNHISVPISTNELSRSHTVYANQDRAFVLLEMEECHPETWGVEVLFAGVSSPLLGTSGVVPSWLQNFGVHREGLQLVVNSPYSSVLMKLCIFLLMVSSFLSFLFSTSFRLLHDAVENDEGLLGGEVRVCGLLEKLTLFWKNVLDVGKKFFCRNRLYVGNNYAKSNGLYVKWNLPMHRQNKHGLVNFYDGQLFYRGWMFVGQRSALSMQQEPGSSPIPSDFSHFPYGGFDLPLQYQHLWFGKSWTV',\n",
       "  0.34424338436552454),\n",
       " (179,\n",
       "  'MEVNNHVLLLFSAPDWFNSALDSLQQRYPIEYAGNNWIYAHRLGSGVIIEIGYLSRNHISVPISTNELSRSHTVYANQDRAFVLLEMEECHPETWGVEVLFAGVSSPLLGTSGVVPSWLQNFGVHREGLQLVVNSPYSSVLMKLCILLLMVSSFLSFLFSTSFRLLHDAVENDEGLLGGEVRVCGLLEKLTLFWKNVLDVGKKFFCRNRLYVGNNYAKSNGLYVKWNLPMHRQNKHGLVNFEDGQLFYRGWMFVGQRSALSMQQEPGSSPIPSDFSHFPYGGFDLPLQYQHLWFGKSWTV',\n",
       "  0.34982068351070794),\n",
       " (180,\n",
       "  'MEVNNHVLLLFSAPDWFNSALDSLQQRYPIEYAGNNWIYAHRLGSGVIIEIGYLSRNHISVPISTNELSGSHTVYANQDRAFVLLEMEECHPYTWGVEVLFAGVSSPLLGTSGVVPSWLQNFGVHREGLQLVVNSPYSSVLMKLCILLLMVSSFLSFLFSTSFRLLHDAVENDEGLLGGEVRVCGLLEKLTNFWKWVLDVGKKFFCRNRLYVGNNSAKSNGLYVKWNLPMHRQNKHGLVNFEDGQLFYRGWMFVGQRSALSMQQEPGSSPIPSDFSHFPYGGFDLPLQYQHLWFGKSWTV',\n",
       "  0.36388235056905877),\n",
       " (181,\n",
       "  'MEVNNHVLLLFSAPDWFNSALDSLQQRYPIEYAGNNWIYAHSLGSGVIIEIGYLSRNHISVPISTNELSGSHTVYANQDRAFVLLEMEECHPYTWGVEVLFAGVSSPLLGTSGVVPSWLQNFGVHREGLQLVVNSPYSSVLMKLCILLLMVSSFLSFLFSTSFRLLHDAVENDEGLLGGEVRVCGLLEKLTNKLKWVLDVGKKFFCRNRLYVGNNSAKSNGLYVKWNLPRHRQNKHGLVNFEDGQLFYRGWMFVGQRSALSMQQEPGSSPIPSDFSVFPYGGFDLPLQYQHLWFGKSWTV',\n",
       "  0.38253721268847585),\n",
       " (182,\n",
       "  'MEVNNHVLLLFSAPDWFNSALDSLQQRYPIEYAGNNWIYAHSLGSGVIIEIGYLSRNHISVPISTNELGGSHTVYANQDRAFVLLEMEECHPYTWGVEVLFAGVSSPLLGTSGVVPSWLQNFGVHREGLQLVVNSPYSSVLMKLCILLLMVSSFLSFLFSTSFRLLHDAVENDEGLLGLEVRVCGLLEKLTNKLKWVLDVGKKFFCRNRLYVGNNSAKSNGLYVKWNLPRHRQNKHGLVNFEDGQLFYRGWMFVGQRSALSMQQEPGSSPIPSDFSVFPYGGFDLPLQYQHLWFGKSWTV',\n",
       "  0.3748015576441373),\n",
       " (183,\n",
       "  'MLVNNHVLLLFSAPDWFNSALDSLQQRYPIEYAGNNWIYAHSLGSGVIIEIGYLSRNHISVPISTPELGGSHTVYANQDRAFVLLEMEECHPYTWGVEVLFAGVSSPLLGTSGVNPSWLQNFGVHREGLQLVVNSPYSSVLMKLCILLLMVSSFLSFLFSTSFRLLHDAVENDEGLLGLEVRVCGLLEKLTNKLKWVLDVGVKFFCRNRLYVGNNSAKSNGLYVKWNLPRHRQNKHGLVNFEDGQLFYRGWMFVGQRSALSMQQEPGSSPDPSDFSVFPYGGFDLPLQYQHLWFGKSWTV',\n",
       "  0.3922254139823573),\n",
       " (184,\n",
       "  'MLVNNHVLLLFEAPDWFNSALDSLQQRYPIEYAGNNWIYAHSLGSGVIIEIGYLSRNHISVPISTPELGGSHTVYANQDRAFVLLEMEECHPYTWGVEVLFAGVSSPLLGTSGVNPSWLQNFGVHREGLQLVVNSPYSSVLMKLCILLLMVSIFLSFLFSTSFRLLHDAVENDEGLLGLEVRVCGLLEKLTNKLKWVLDVGVKFFCRNRLYVGNNSAFSNGLYVKWNLPRHRQNKHGWVNFEDGQLFYRGWMFVGQRSALSMQQEPGSSPDPSDFSVFHYGGFDLPLQYQHLWFGKSWTV',\n",
       "  0.41145748452150394),\n",
       " (185,\n",
       "  'MLVNNHVLLLFEAPDWFNSALDSLQQRYPIEYAGNNWIYAHSLGSGVIIEIGYLSRNHISVPISTPELGGSHTVYANQDRAFVLLEMEECHPYTWGVEVLFAGVSSPLLGTSGVNPSALQNFGVHRCGLQLVVNSPYSSVLMKLCILLLMVSIFLSFLFSTSFRLLHDAVENDEGLLGLEVRVCGLLEKLTNKLGWVLDVGVKFFCRNRLYVGNNSAFSNGLYVKWNLPRHRQNKHGWVNFEDGQLFYRGWMFVGQRSALSMQQEPGSSPDPFDFSVFHYGGFDLPLQYQHLWFGKSWTV',\n",
       "  0.40910584426351954),\n",
       " (186,\n",
       "  'MLVNNHVLLLFEAPDWFNSALDSLQQRYPIEYAGNNWIYAHSLGSGVIIEIGYLSRNEISVPISTPELGGSHTVYANQDTAFVLLEMEECHPYTWGWEVLFAGVSSPLLGTSGVNPSALQNFGVHRCGLQLVVNSPYSSVLLKLCILLLMVSIFLSFLFSTSFRLLHDAVENDEGLLNLEVRVCGLLEKLTNKLGWVLDVGVKFFCRNRLYVGNNSAFSNGLYVKWNLPRHRQNKHGWVNFEDGQLFYRGWMFVGQRSALSMQQEPGSSPDPFDFSVFHYGGFDLPLQYQHLWFGKSWTV',\n",
       "  0.4103122292352574),\n",
       " (187,\n",
       "  'MLVNNHVLALFEAPDWANSALDSLQQRYPIEYAGNNWIYAHSLGSGVIIEIGYLSRNEISVPISTPELGGSHTVYANQDTAFVLLEMEECHPYTWGWEVLFAGVSSPLLGTSGVNPSALQNFGSHRCGLQLVVNSPYSSVLLKLCILLLMVSIFLSFLFSTSFRLLHDAVENDEGLLNLEVRVCGLLEKLTNKLGWVLDVGVKFFCRNRLYVGNTSAFSNGLYVKWNLPRHRQNKHGWVNFEDGQLFYRGWMFVGQRSALSMQQEPGSSPDPFDFSVFHYGGFDLPLQYQHLWFGKSWTV',\n",
       "  0.4056609348127885),\n",
       " (188,\n",
       "  'MLVNNHVLALFEAPDWAYSALDSLCQRYPIEYAGYNWIYAHSLGSGVIIEIKYLSRNEISVPISTPELGGSHTVYANQDTAFVLLEMEECHPYTWGWEVLFAGVSSPLLGTSGVNPSALQNFGSHRCGLQLVVNSPYSSVLLKLCILLLMVSIFLSFLFSTSFRLLHDAVENDEGLLNLEVRVCGLLEKLTNKLGWVLDVGVKFFCRNRLYVGNTSAFSNGLYVKWNLSRHRQNKHGWVNFEDGQLFYRGWMFVGQRSALSMQQEPGSSPDPFDFSVFHYGGFDLPLQYQHLWFGKSWTV',\n",
       "  0.3948135914813195),\n",
       " (189,\n",
       "  'MLVNNHVLALFEAPDWAYSALDYLCQRYPIEYAGYNWIYAHSLGSGVIIEIKYLSRNEISVPISTPELGGSHTVYANQDTAFVLLEMEECHPYTWGWEVLFAGVSSPLLGTSGVNPSALQNFGSHHCGLQLVVNSPYSSVLLKLCILLLMVSIFLSFLFSTSFRLLHDAVENDEGLLNLEVRVCGLLEKLTNKLGWVLDVGVKFFQRNRLYVGNTSAFSNGLYVNWNLSRHRQNKHGWVNFEDGQLFYRGWMFVGQRSALSMQQEPGSSPDPFDFSVFHYGGFDLPLQYQHLWFGKSWTV',\n",
       "  0.39411470227475676),\n",
       " (190,\n",
       "  'MLVNNHVLALFEAPDWAYSALDYLCQRYLIEYAGYNWIYAHSLGSGVIIEIKYLSRNEISVPISTPELGGSRTVYANQDTAFVLLEMEECHPYTWGWEVLFAGVSSPLLGTPGVNPSALQNFGSHHCGLQLVVNSPYSSVLLKLCILLLMVSIFLSFLFSTSFRLLHDAVENDEGLLNLEVRVCGLLEKLTNKLGWVLDVGVKFFQRNRLYVGNTSAFSNGLYVNWNLSRHRQNKHGWVNFEDGQLFYRGWMFVGQRLALSMQQEPGSSPDPFDFSIFHYGGFDLPLQYQHLWFGKSWTV',\n",
       "  0.36959468772900955),\n",
       " (191,\n",
       "  'MLVNNHVLALFEAPDWAYSALDYLCQRYLIEYAGYNWIYAHSLGSGVIIEIKYLSRNEISVPISTPELGGSRTVYANQDTAFVLLEMEECHPYTWGWEVLFAGVSSPLLGTPGVNPSALANFGSHHCGLQLVVNSPYSSVLLKLCILLLMVSIFLSFLFSTSFYLLHDAVENDEGLLNLEVRVCGLLEKLTNKLGWVLDVGVKFFQRNRLYVGNTSAFSNGLYVNWNLSRHRQNKHGWVNFEDGQLFYRGWMFVGQRLALSMQQEPGSSPDPFDFSIFHYGGFDLPLQYQHLWFTGSWTV',\n",
       "  0.36754157088164774),\n",
       " (192,\n",
       "  'MLVNNHVLALFEAPDWAYSALDYLCQRYLIEYAGYNWIYAHSLGSGVIIEIKYLSRNEISVPISTPELGGSRTTYANQDTAFVLLEMEECHPYTWGWEVLFAGVSSPLLGTPGVNPSALANDGSHHCGLQLVVNSPYSSVLLKLCILLLMVSIFESFLFSTSFYLLHDAVENDEGLLNLEVRVCGLLEKLTNKLGWVLDVGVKFFQRNRLYVGNTSAFSNGLYVNWNLSRHRQNKHGWVNFEDGQLFYRGWMFVGQRLALSMQQEPSSSPDPFDFSIFHYGGFDLPLQYQHLWFTGSWTV',\n",
       "  0.3684060444523181),\n",
       " (193,\n",
       "  'MLVNNHVLALFEAPDWAYSALDYLCQRYLIEHAGYNWIYAHSLGSGVIIEIKYLSRNEISVPISTPELGGSRTTYANQDTAFVLLEMEECHPYTWGWEVLFAGVSSPLLGTPGVNPSALANDGSHHCGLQLVVNSPYSSVDLKLCILLLMVSIAESFLFSTSFYLLHDAVENDEGLLNLEVRVCGLLEKLTNKLGWVLDVGVKFFQRNRLYAGNTSAFSNGLYVNWNLSRHRQNKHGWVNFEDGQLFYRGWMFVGQRLALSMQQEPSSSPDPFDFSIFHYGGFDLPLQYQHLWFTGSWTV',\n",
       "  0.3798971679061651),\n",
       " (194,\n",
       "  'MLVNNHVLALFEAPDWAYSALDYLCQRYLIEHAGYNWIYAHSLGSGVIIEIKYLSRNEISVPISTPELGGSRTTYANQDTAFVLLEMEELHPYTWGWEVLFAGVSSPLLGTPGVNPSALANDGSHHCGLQLVVNSPYSSVDLKLCILLLMVSIAESFLFSTSFYLLHDAVENDEGLLNLEVRVCGLLEKLTNKLGWVLDVGVKFFQRNRLYAGNTSAFENGLYVNWNLSRHRQNKHGWVNFEDGQLFYRGWMFSGQRLALSMQQEPSSSPDPFDFSIFHYGGFDETLQYQHLWFTGSWTV',\n",
       "  0.372669574671558),\n",
       " (195,\n",
       "  'MLVNNHVLALFEAPDWAYSALDYLRQRYLIEHAGYNWIYAHSLGSGVIIEIKYLSRNEISVPISTPELGGSRTTYANQDTAFVLLEMEELHPYTWGWEVLFAGVSSPLLGTPGVNPSALANDGSHHCGLQLVVNSPYSSVDLKLCILLLMVSIAESFLFSTSFSLLHDAVENDEGLENLEVRVCGLLEKLTNKLGRVLDVGVKFFQRNRLYAGNTSAFENGLYVNWNLSRHRQNKHGWVNFEDGQLFYRGWMFSGQRLALSMQQEPSSLPDPFDFSIFHYGGFDETLQYQHLWFTGSWTV',\n",
       "  0.3898037358054093),\n",
       " (196,\n",
       "  'MLVNNHVLALFEAPDWAYSALDYLRQRYLIEHAGYNWIYAHSLGSGVIIEIKYLSRNEISVPISTPELGGSRTTYAIQDTAFVLLEMEELHPYTWGWEVLFAGVSSPLLGTPGVNPSALANDGSHHCGLQLVVNSPYSSVDLKLCILLLMVSILESFLFSTSFSLLHDAVENDEGLENLEVRVCGLLEKLTNFLGRVLDVGVKFFQRNRIYAGLTSAFENGLYVNWNLSRHRQNKHGWVNFEDGQLFYRGWMFSGQRLALSMQQEPSSLPDPFDFSIFHYGGFDETLQYQHLWFTGSWTV',\n",
       "  0.37735122974429813),\n",
       " (197,\n",
       "  'MLVNNHVLALFEAPDWAYSALDYLRQRYLIEHAGYNWIYAHSLGSGVIIEIKYLSRNEISVPISTPELGGSRTTYAIQDTAFVLLEMEELHPYTYGWEVLFAGVSSPLLGTPGVNKSALANDGCHHCGLQLVVNSPYSSVDLKLCILLLMVSILESFLFSTSFSLLHDAVENDEGLENLEVRVCGLLEKLTNFLGRVLDVGVKFFQRNRIYAGLTSAFENGLYVNWNLSRHRQNKHGWVNFEFGQLFYRGWMFSGQRLALSMQQEPSSLPDPFDFSIFHYGGFDETLQYQHLWFTGSWTV',\n",
       "  0.37430824778441874),\n",
       " (198,\n",
       "  'MLVNNHVLALFEAPDWAYSALDYLRQRYLHEHAGYNWIYAHSLGSGVIIEIKYLSRNEISVPISTPELGGSRTSYAIQDTAFVLLEMEELHPYTYGWEVLFAGVSSPLLGTPGVNKSALANDGCHHCGLQLVVNSPYSSVDLKLCILLLMVSIHESFLFSTSFSLLHDAVENDEGLENLEVRVCGLLEKLTNFLGRVLDVGVKFFQRNRIYAGLTSAFENGLYVNWNLSRHRQNKHGKVNFEFGQLFYRGWMFSGQRLALSMQQEPSSLPDPFDFSIFHYGGFDETLFYQHLWFTGSWTV',\n",
       "  0.3942746102942952),\n",
       " (199,\n",
       "  'MLVNNHVLALFEAPDWAYSALDYLRQRYLHEHAGYNWIYAHSLGSGVIIEIKYLSRNEISVPISTPELGGSRTSYAIQDTAFVLLEMEELHPYTYGWEVLFAGVSSPLLGTPGVNKSALANDGCHHCGLQLVVNSPYSSVDLKLCILLLMVSIHESFLFSTSFSLLHDAVENDEGLENLEVRVCGLLEKLTNFLGRVLDVGVKFFQRNRIYLGSTSAFENGLYVNWNLSRHRQNKHGKVNFEFGQLFYRGWMFSGQRLALSMQQEPSSLPDLFDFSIFHYGGFDEYLFYQHLWFTGSWTV',\n",
       "  0.3881553379552705),\n",
       " (200,\n",
       "  'MLVNNHVLALFEAPDWAYSALDYLRQRYLHEHAGYNWIYAHSLGSGVIIEIKYLSRNEISVPISTPELGGSRTSYAIQDTAFVLLEMEELHPYTYGWEVLFAGVYSPLLGTPGVNKSALANDGCFHCGLQDVVNSPYSSVDLKLCILLLMVSIHESFLFSTSFSLLHDAYENDEGLENLEVRVCGLLEKLTNFLGRVLLVGVKFFQRNRIYLGSTSAFENGLYVNWNLSRHRQNKHGKVNFEFGQLFYRGWMFSGQRLALSMQQEPSSLPDLFDFSIFHYGGFDEYLFYQHLWFTGSWTV',\n",
       "  0.38811695628932547)]"
      ]
     },
     "execution_count": 22,
     "metadata": {},
     "output_type": "execute_result"
    }
   ],
   "source": [
    "history_neg"
   ]
  },
  {
   "cell_type": "code",
   "execution_count": 17,
   "metadata": {},
   "outputs": [
    {
     "name": "stderr",
     "output_type": "stream",
     "text": [
      "Some weights of the model checkpoint at facebook/esm2_t12_35M_UR50D were not used when initializing EsmForMaskedLM: ['esm.embeddings.position_embeddings.weight']\n",
      "- This IS expected if you are initializing EsmForMaskedLM from the checkpoint of a model trained on another task or with another architecture (e.g. initializing a BertForSequenceClassification model from a BertForPreTraining model).\n",
      "- This IS NOT expected if you are initializing EsmForMaskedLM from the checkpoint of a model that you expect to be exactly identical (initializing a BertForSequenceClassification model from a BertForSequenceClassification model).\n"
     ]
    },
    {
     "name": "stdout",
     "output_type": "stream",
     "text": [
      "Starting sequence: PAGFRQVCKAFMAEPMFNTATQHEYHCCTPTRMYINTPVNRAFGCFDGPI\n"
     ]
    },
    {
     "name": "stderr",
     "output_type": "stream",
     "text": [
      "Steering for None: 100%|██████████| 10/10 [00:05<00:00,  1.86it/s]\n"
     ]
    }
   ],
   "source": [
    "import torch\n",
    "import torch.nn.functional as F\n",
    "from transformers import AutoModelForMaskedLM, AutoTokenizer\n",
    "import random\n",
    "import csv\n",
    "import re\n",
    "from collections import defaultdict\n",
    "from tqdm import tqdm\n",
    "import matplotlib.pyplot as plt\n",
    "import pandas as pd\n",
    "import seaborn as sns\n",
    "from Bio.SeqUtils.ProtParam import ProteinAnalysis\n",
    "\n",
    "# Configuration\n",
    "CSV_PATH = \"esm35M_500k_neuron_explanations.csv\"\n",
    "MODEL_NAME = \"facebook/esm2_t12_35M_UR50D\"\n",
    "SEQ_LEN = 50\n",
    "NUM_STEPS = 10\n",
    "A = 1000\n",
    "B = 100\n",
    "\n",
    "# Utilities\n",
    "def find_matching_neurons(csv_path, keyword):\n",
    "    matches = []\n",
    "    with open(csv_path, newline='') as csvfile:\n",
    "        reader = csv.reader(csvfile)\n",
    "        for row in reader:\n",
    "            if len(row) < 2:\n",
    "                continue\n",
    "            neuron_id = row[0]\n",
    "            if any(keyword in desc.lower() for desc in row[1:]):\n",
    "                m = re.match(r\"layer_(\\d+)_neuron_(\\d+)\", neuron_id)\n",
    "                if m:\n",
    "                    matches.append((int(m.group(1)), int(m.group(2))))\n",
    "    return matches\n",
    "\n",
    "def make_multi_neuron_hook(neurons, a=10.0, b=3.0):\n",
    "    def hook_fn(module, input, output):\n",
    "        for neuron in neurons:\n",
    "            output[:, :, neuron] = a * output[:, :, neuron] + b\n",
    "        return output\n",
    "    return hook_fn\n",
    "\n",
    "def random_protein_sequence(length):\n",
    "    return ''.join(random.choices(\"ACDEFGHIKLMNPQRSTVWY\", k=length))\n",
    "\n",
    "def sample_from_logits(logits):\n",
    "    probs = F.softmax(logits, dim=-1)\n",
    "    return torch.multinomial(probs, num_samples=1).squeeze(-1)\n",
    "\n",
    "def decode_tokens(tokenizer, token_ids):\n",
    "    return tokenizer.decode(token_ids, skip_special_tokens=True).replace(\" \", \"\")\n",
    "\n",
    "def compute_gravy_ignore_x(seq):\n",
    "    cleaned = seq.replace(\"X\", \"\")\n",
    "    if not cleaned:\n",
    "        return None\n",
    "    return ProteinAnalysis(cleaned).instability_index()\n",
    "\n",
    "# Main steering function\n",
    "def steer(model, tokenizer, base_sequence, match_string, label=None):\n",
    "    matched_neurons = find_matching_neurons(CSV_PATH, match_string)\n",
    "    if not matched_neurons:\n",
    "        print(f\"No matching neurons found for: {match_string}\")\n",
    "        return []\n",
    "\n",
    "    layer_to_neurons = defaultdict(list)\n",
    "    for layer, neuron in matched_neurons:\n",
    "        layer_to_neurons[layer].append(neuron)\n",
    "\n",
    "    device = model.device\n",
    "    history = []  # (step, sequence, activation, gravy)\n",
    "\n",
    "    seq = base_sequence\n",
    "    for step in tqdm(range(NUM_STEPS), desc=f\"Steering for {label}\"):\n",
    "        inputs = tokenizer(seq, return_tensors=\"pt\").to(device)\n",
    "\n",
    "        handles = []\n",
    "        for layer, neurons in layer_to_neurons.items():\n",
    "            hook = model.base_model.encoder.layer[layer].intermediate.register_forward_hook(\n",
    "                make_multi_neuron_hook(neurons, A, B)\n",
    "            )\n",
    "            handles.append(hook)\n",
    "\n",
    "        with torch.no_grad():\n",
    "            outputs = model(**inputs, output_hidden_states=True)\n",
    "            logits = outputs.logits[0]\n",
    "            hidden_states = outputs.hidden_states\n",
    "\n",
    "        for h in handles:\n",
    "            h.remove()\n",
    "\n",
    "        # Score: average absolute activation across target neurons\n",
    "        total, count = 0, 0\n",
    "        for layer, neurons in layer_to_neurons.items():\n",
    "            h = hidden_states[layer][0]\n",
    "            for n in neurons:\n",
    "                total += abs(h[:, n].mean().item())\n",
    "                count += 1\n",
    "        avg_act = total / count if count > 0 else 0\n",
    "\n",
    "        sampled_ids = sample_from_logits(logits)\n",
    "        seq = decode_tokens(tokenizer, sampled_ids)\n",
    "        history.append((step + 1, seq, avg_act))\n",
    "\n",
    "    return history\n",
    "\n",
    "\n",
    "torch.manual_seed(42)\n",
    "random.seed(42)\n",
    "\n",
    "device = torch.device(\"cuda\" if torch.cuda.is_available() else \"cpu\")\n",
    "tokenizer = AutoTokenizer.from_pretrained(MODEL_NAME, do_lower_case=False)\n",
    "model = AutoModelForMaskedLM.from_pretrained(MODEL_NAME).to(device)\n",
    "model.eval()\n",
    "\n",
    "# Generate shared initial sequence\n",
    "base_sequence = random_protein_sequence(SEQ_LEN)\n",
    "print(\"Starting sequence:\", base_sequence)\n",
    "\n",
    "# Run both steering directions\n",
    "history_pos = steer(model, tokenizer, base_sequence, \"sheet\")"
   ]
  },
  {
   "cell_type": "code",
   "execution_count": 18,
   "metadata": {},
   "outputs": [
    {
     "data": {
      "text/plain": [
       "[(1, 'WYSYYXYYYYCHFYCYXHCYCYFCLFCYCYSNYYRYCAXYRFYKYYYYSF', 823.5452444459212),\n",
       " (2, 'FWYCDYHYYYKMYYYYLYWYYYCLHWYYYHYYYRYYYYYYYMYYYYYYYNY', 735.6388845270043),\n",
       " (3,\n",
       "  'YLNYLWYWYYYYLYYHYYYFYYHMYHYYYHHYYYYYYYYYYLYDYYLYYYMYY',\n",
       "  770.1472303236417),\n",
       " (4,\n",
       "  'MYYHHYMYYYYYYYYYMHYYYYYYMYYHYYYMYYYYYHYYYLYHYHYHRYMYYF',\n",
       "  767.7199364950673),\n",
       " (5,\n",
       "  'WYYYYYYMYYYYYYHYYYHYYYYYYMYYFYYYYYFLYWYYYYYHYYHYWYYYNWY',\n",
       "  785.7665906985651),\n",
       " (6,\n",
       "  'FWLYHYYHYYAMYYYWYYYLYHYYXYMHHYYYYXYXHRYYMNFYCYYYYHYYYPW',\n",
       "  772.3924227845383),\n",
       " (7,\n",
       "  'WYFYYWYYHYHWLYYYHYYYMYYYWYYYHYYYYYYWLWYYIWWYLYDYYWHYYFMM',\n",
       "  771.1593857713774),\n",
       " (8,\n",
       "  'MMYWHYMYYYYYYXYYYFYYYYYYMYHYYYYLYFYYYYYYMWMWYMYYYYYWYYYWYY',\n",
       "  778.5953055039317),\n",
       " (9, 'FYMMYYQAYIYWYHYYYXYYYYHYYYYYMYYYYYYYYMCYYYLWHYHYHW', 760.0131597418416),\n",
       " (10, 'WYYPHYYMMYFYYFYHYYYYYMYCYYYMYYYYYLYYYYYYMLYYMYYWW', 767.5045485569487)]"
      ]
     },
     "execution_count": 18,
     "metadata": {},
     "output_type": "execute_result"
    }
   ],
   "source": [
    "history_pos"
   ]
  },
  {
   "cell_type": "code",
   "execution_count": null,
   "metadata": {},
   "outputs": [],
   "source": []
  }
 ],
 "metadata": {
  "kernelspec": {
   "display_name": "esm_env",
   "language": "python",
   "name": "python3"
  },
  "language_info": {
   "codemirror_mode": {
    "name": "ipython",
    "version": 3
   },
   "file_extension": ".py",
   "mimetype": "text/x-python",
   "name": "python",
   "nbconvert_exporter": "python",
   "pygments_lexer": "ipython3",
   "version": "3.10.18"
  }
 },
 "nbformat": 4,
 "nbformat_minor": 2
}
