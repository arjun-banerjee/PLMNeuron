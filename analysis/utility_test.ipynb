{
 "cells": [
  {
   "cell_type": "code",
   "execution_count": 14,
   "id": "033b9cc0",
   "metadata": {},
   "outputs": [
    {
     "data": {
      "application/vnd.plotly.v1+json": {
       "config": {
        "plotlyServerURL": "https://plot.ly"
       },
       "data": [
        {
         "line": {
          "color": "red",
          "width": 3
         },
         "marker": {
          "size": 4
         },
         "mode": "lines+markers",
         "name": "high molecular + high gravy",
         "type": "scatter3d",
         "x": {
          "bdata": "AAECAwQFBgcICQoLDA0ODxAREhMUFRYXGBkaGxwdHh8gISIjJCUmJygpKissLS4vMDEyMzQ1Njc4OTo7PD0+P0BBQkNERUZHSElKS0xNTk9QUVJTVFVWV1hZWltcXV5fYGFiY2Q=",
          "dtype": "i1"
         },
         "y": {
          "bdata": "5nO1FdPxxUC6BRIUn5jFQDpO0ZFsGcVA/dR46TZ4xEAphxbZnlXEQEGLbOczxMRAUuOlmzTbxEB2eqUs+2HEQK9Qa5pP+8NAeKUsQ7Tjw0BLpgpGRSrEQCQGgZWzAsRAFNBE2FA7xEBvGw3gxTXEQANWDi3C+MNAkDoBTZyiw0B90LNZ/TnDQOm3rwNn+MJA9ihcj+Izw0BrVn2uxivDQKk+V1tBLsNA7OvAOTsuw0BSMCqp05PDQFLjpZs8R8NAWIY41jUJw0DLzMzM1KXDQAU0ETYsLsNASL99HTA5w0DXVuwvs0PDQJTtfD+d78JAPZtVn5sZw0C+nxovBQTDQNMA3gIBAcNAX5hMFYwtw0B2Tx4W+hzDQOXyH9IHWcNAkKD4MY5Rw0Bxio7kihfDQNajcD2KHMNAEvJBz+a9wkCamZmZ2Z/CQBnZzvfDX8JA+uRhoS5MwkAo5IOeFe3BQPrkYaEuWMJAvUkMAsOQwkAeyeU//B7DQBYdyeVno8JAweyePFR/wkCIWtO8a6XCQJT2Bl9408JAA2+BBAUew0A/LNSapnTDQBGcM6IcLcNAc6yL2yBfw0CSy39I9+/CQC0hH/REesJAryXkg76QwkD1udqKTaHCQKo+V1vRasJA42Gh1tRdwkAiSnuDT2DCQDKAt0BqncJA/v///1dnwkA4kst/aKzCQG+si9sAuMJAk0OLbG+XwkArsp3vd7PCQNJNYhDoPsJAkmWIY+1mwkC52or99VnCQNWjcD2SxsJAD8e6uJXFwkAuuycPMy3DQAzpt69LXsNATiegidCgw0BwtRX708/DQKNXyjJEwMNAhNLe4BtPw0Dmc7UVA9vCQJMhjnWJ2sJAcLUV+wsNw0DpDb4waY/CQFN9rrbaW8JANmdEaeeBwkAYUdobZGvCQEMldQJaScJAvQ6cM/JbwkBIDAIrh7bCQKbGSzdxdcJAXlRSJ3CPwkCfq63YzyzCQOwvuyfPIcJAVqg1zVMdwkCDns2qf4rCQNc07zjtNMJACRueXtn6wUCH0t7gY2nCQIBRSZ34sMJAXG3F/tp5wkB9rrZiR0TCQA==",
          "dtype": "f8"
         },
         "z": {
          "bdata": "4SQGgZVD47+RbOf7qfHmv07M2xkS8+a/czhi2hMZ6L8ld5awm9/qv4DFV3zFV+y/8okMpPfn6r8wdXo48evtv8EEqwzIIfC/vbu7u7t78r+9u7u7u7vzv7+7u7u7+/O/NjMzMzNz879HRERERATzv67mPF3pnfG/3QQVWzXn8b+zobyG8hryv32sQBhpx/K/zxFNo8NP9L81cer33BL3v7Q5T1d6Z/i/dXvBm01Q+b/1Ubgehev5v0/hehSuR/m/QfV7bolT979aEvqQyb76vxunfs8tcfq/VEnoQyb7+r+QptHhJwL8vyQrEEbasfq/w427LBcP/L8QKrZqztP9v1Kjw08EaP2/XSdVxrCo/b/9iQCt7QX/v91e8GYTVADAS4efCNDa/r+ioGKr5jz9v1ts1ZynK/2/BaYk9CGT/b8rQGt7wZv9v+6Pb+Muy/2/fxt3WS4eAMCMptHhJwIAwMkDu38pCQHAyQqEkXasAMB4UmUMi1oAwLwI6MFqWv+/Ybv8SPcXAMCt72zUdzb+vy+IyRXE5P6/SEAPVtM6AMD6Fz6VpTgAwHfI2GuXH/2/ttcuP9L9/b9q7LXLj3T/v8VqWsebEwDAu0VAD1bTAMAFtwjowWoAwMQtAnqwmv6/o436zkZ9+78LbhHQg9X8v9SD1bSON/u/gVzYx4V9/L/KhX1c2Mf9v/miWC+K9fq/jMSrSLyK/L8TTTTRRBP9v69IvIrEq/i//biwjwv7+L/RpgFtGtD2v+cvWf6S5fe/5y9Z/pLl979ZkXgViVf5v2NQDgblYPi/D8rBoBwM+r+fc84555z7v5a0OEmLk/y/R3U7VLdD/b/ZWmuttdb6vxzQpgFtGvi/QxNNNNFE+7+Doyc4eoL7v0ZERERERPy/4yQtTtLi/L+i6xS6TqH7v7hDdTtUt/u/yRhjjDHG+L/iGQGeEeD5v5N4FYlXkfi/VxkylSFT+b8Adknlw7j5v5hUPoz7dfm/QIz7dUnl+b8ggaKtBs/5v3qOQNFWg/m/Ri/0Qi/0+r9T9VRP9VT/v//2b//2b/+/O3uzN3uz/7+Mu0J8SKoAwA==",
          "dtype": "f8"
         }
        },
        {
         "line": {
          "color": "blue",
          "width": 3
         },
         "marker": {
          "size": 4
         },
         "mode": "lines+markers",
         "name": "high molecular + low gravy",
         "type": "scatter3d",
         "x": {
          "bdata": "AAECAwQFBgcICQoLDA0ODxAREhMUFRYXGBkaGxwdHh8gISIjJCUmJygpKissLS4vMDEyMzQ1Njc4OTo7PD0+P0BBQkNERUZHSElKS0xNTk9QUVJTVFVWV1hZWltcXV5fYGFiY2Q=",
          "dtype": "i1"
         },
         "y": {
          "bdata": "5nO1FdPxxUDIzMzMrP/FQHYUrkcBA8ZASNGRXE6uxUB/fNCzsbPFQHmMuWsJe8VAZU3zjvumxUD/mQgbVofFQO6wUGvScsVAI8KGpz8oxUBDJXUCwkbFQPQx5q6VPcVA1s73UxNTxUDPItv5BjXFQMDTK2Xhz8RAqovbaFjaxECXkA96VuTEQHWcoiNJ38RA4HoUrs/fxEArIR/0VCzFQMuqz9U+ycRAcT0K1zutxEBE+u3rMMHEQArXo3AVTsRA845TdAxPxEBnRGlv+A/EQLwFEhTvAcRAmG4Sg2jlw0AHX5hM5R7EQLKd76f2aMRApHA9Cm95xEDek4eFAnzEQKS9wRf+asRAkct/SP85xEC5uI0GiHLEQLknDwuVl8RAjA96NhOsxEBBrWneEe3EQGfecYoO3sRAQ0dy+YfBxEBa/kP69XnEQGRmZmbmS8RAZbPqc/U6xEDY14FzlnnEQCohH/SEXsRABPAWSIhtxEDCSzeJeTPEQDm9UpaJe8RA5Ywo7X1oxEBV7C+7/3fEQP5D+u3zaMRA30YDeHtgxEDdJAaBfSrEQLx0kxj09sNABaOSOoFkxEDaG3xhag7EQHt6pSzr78NAhHNGlO72w0BF2PD0avLDQFuoNc2DYcRA0WbV5wplxEAkl/+QFnjEQA1xrIsjVsRAyaFFtruMxECye/KwKDvEQAwtsp0ngMRAqhxaZCtrxECyWfW5so3EQHHXEvKhZcRAs8h2vh9rxECfq63YlznEQMA5I0oL+sNArthfdv/mw0AtkKD4gQHEQAjXo3D95cNA9Jfdk++Ow0BTwaik3mPDQI9++zrIP8NAFgRWDm2Yw0D69nXgZITDQPkYc9f67cNA9aBns4IYxEAKvjCZevzDQAZGJXUCJ8RAxhDHuhATxEBzWKg1lT3EQEivlGUYO8RALcSxLpZfxEAfBoGVkzDEQJrNqs/1IMRAZ7x0k3AuxEAqQxzrClvEQBtj7lqCWcRA0VbsLwMvxECHjuTyfzTEQAJ4CyRwJ8RA0SLb+X5ZxEDs4jYaAFnEQOcdp+gIVcRANjy9UgY5xECmAbwFCl7EQA==",
          "dtype": "f8"
         },
         "z": {
          "bdata": "4SQGgZVD47/Odr6fGi/pv0E1XrpJDPC/pXzhdML48b/E6YTxo230v9aHxvrQWPe/2nDEtCcy/L+Ux50l7Ob/v72zhN38Fv6/YZRq8riz/L9RZCC9P9f+v0mSJEmSJAHAdApeTsHLAcAH0vtzrbIBwDHtiQyk9wHAxRHTnshAAsAn7Oa3EDACwJqZmZmZmQHAfwsBo1STAcDHnSXs5rcCwOJCwCjV5AHAt8qGI6Y9AcBwxLQnMpACwNsTGUjvzwHAG+tDY31oAsCgyEB6f64BwLpW2XDEtAHA9UQG0vtzAcChsT401ocCwACjVJPHnQPAS3siA+n9A8DbWcJufgsDwIPd/BYCRgPAh8b60FgfAsBflGryuLMCwB13lrCb3wLAVh8a60NjA8D4iq/4iq8EwGqVDUdMewTA6aAO6qAOBMBjfWisD40DwFTwcgpeTgPAlMedJezmAcAdMe2JDKQBwJn2RAbS+wHAaAm7+S0EAsDfQsAo1eQBwHDEtCcykALARQbS+3OtAsD551plwxEDwCMD6f25VgPAFHbzWwgYA8AYAkapJo8BwIXd/BYCRgHA6VplwxHTAsCuD431obECwIOXU/ByCgLAEjBKNXncAcBgSVFug3sCwIkAE6wyIAPA7AcdFfjiAsBMinIb3PMCwFcG5BBgggHAYZUBOQSYAMCU2+CeV1IAwK9+0FGBLwLAcfWDjgp8AcAgTvx6S50CwDsq8MXVDwLA1iLmXBBNAsAjwASrDMgBwJmG7WZ5EgHAEobaukbyAcBjzgXRZC0CwJgU5Ta45wHAcuLXW+r0AMDisQOFtGIBwChYZUAOAQLAI8AEqwzIAcCTfIShtq4BwA8BJlhlQALAlKLcBve8AsCPCnxx9YMCwMj7Z59q/gLAvrj6QUcFAsAG97ySotwCwA4BJlhlQALAyPtnn2r+AsBq6xrJRxgCwJO1iDkXRAPAHO+ffar5A8BYUpTb4J4DwKF9qvkb7wPAMK5+0FGBA8B0QTRZi5gDwAEAAAAAwATAAAAAAAAABcAiIiIiIsIEwCMiIiIiggTA7+7u7u4OBMCamZmZmdkDwA==",
          "dtype": "f8"
         }
        },
        {
         "line": {
          "color": "green",
          "width": 3
         },
         "marker": {
          "size": 4
         },
         "mode": "lines+markers",
         "name": "low molecular + high gravy",
         "type": "scatter3d",
         "x": {
          "bdata": "AAECAwQFBgcICQoLDA0ODxAREhMUFRYXGBkaGxwdHh8gISIjJCUmJygpKissLS4vMDEyMzQ1Njc4OTo7PD0+P0BBQkNERUZHSElKS0xNTk9QUVJTVFVWV1hZWltcXV5fYGFiY2Q=",
          "dtype": "i1"
         },
         "y": {
          "bdata": "5nO1FdPxxUDoBDQRzifGQDx5WKid+cVAZpHtfJ/nxUDJw0KtGcfFQN8Lk6mCosVAJTEIrITCxUAXc9cS4kLFQHc2qz5nicVAsYR80PPDxUATSFD8WH7FQOIUHck9eMVAy4jS3kBAxUDd4AuTuR/FQNfO91M7wsRA85fdkx9qxECaM6K0J6fEQCMGgZXbHcVADlg5tPiCxUCSZYhj9U/FQO/STWKARsVA5yYxCHQQxUAPx7q4febEQL7KoUUmU8VAPTVeuokGxUBuzojSBhTFQCwqqROIDcVAM7TIdta6xEBfGeJYZ/nEQFltxf7a+cRAV4/C9VjqxECQZYhjxbvEQHCTGATeF8VApIJRScUBxUD0fmq8vNLEQLBif9k1w8RAWsPTK8UjxUAM6beva27FQKJXyjIEdMVAfFFJnbDdxUBd7lpC1hfGQPiye/Lg5MVADT/G3PUzxkCkz9VWhFvGQHzAyqGFYsZAH1MFo4J6xkCgxks3kZDGQLoXJlM1v8ZA9hhz15JyxkBrGw3gBUHGQM6a5h0XRcZAIcKGp3f3xUA56Nms+hzGQGg0gLcYLsZA7v3UeJEuxkBf7lpCdvbFQFsHzhlZyMVAnPgx5l7dxUBDcvkP0Y/FQDHNO07pnMVAqYvbaBghxkAxzTtOEdvFQAhxrIuT7MVAfB04Z6QYxkAzXrpJBNrFQG5fB84Rt8VA6Xw/NR4SxkBEe4MvpFvGQE2WIY4la8ZAvRcmU5VnxkCKdXEb9TDGQC+itDdoxcVABKwcWkRpxUB+BMWPSXbFQJ08LNTan8VAHEHxY1xrxUAhKH6M0VPFQG2BBMUvHsVAVqg1zdt/xUDWPXlY0LHFQIgfY+7SgcVAjqmCUeF/xUBjAG+BBLnFQFPKMsT5lsVAFzhnRIGyxUDL1Vbs76zFQPKX3ZN/0MVA9MJkqojhxUAxqz5XA/fFQKWCUUk9i8VAVBe30bB3xUCPh4Va07nFQGDMXUsAGcZAQ+F6FB45xkCf1jTvCBXGQC0qqRMQH8ZA/P///8ehxkDf8h/Sn0vGQJ1ns+pjwcVAjxgEVl7ExUDuH9Jv1+HFQA==",
          "dtype": "f8"
         },
         "z": {
          "bdata": "4SQGgZVD47/d+X5qvHTrv8T1KFyPwvG/N166SQwC8b+T7Xw/NV7uvzleukkMAu+/PwrXo3A98r+G61G4HoXxv+R6FK5H4fS/ES2yne+n9L/lpZvEILD2vzLdJAaBlfm/jGzn+6nx9r8EVg4tsp31vxwEVg4tsu2/5noUrkfh5r+zR+F6FK7rv6EaL90kBuW/Uo2XbhKD6L9pZmZmZmbmv3w/NV66SeC/v8qhRbbz3b/8qfHSTWLYvzy0yHa+n+K/QjVeukkM4r+6HoXrUbjivwisHFpkO+O/oBov3SQG5b9ske18PzXmvzpeukkMAuu/xMqhRbbz5b/fJAaBlUPjv5huEoPAyuG/bbx0kxgE4r+6HoXrUbjevyCF61G4HuG/ODMzMzMz579kukkMAivrv3ESg8DKoeW/w8qhRbbz5b9K4XoUrkflv3e+nxov3dy/4U+Nl24S47++dJMYBFbev7PIdr6fGuO/U7gehetR5L9RjZduEoPkvwmBlUOLbOO/wcqhRbbz4b/IILByaJHdv+EkBoGVQ9u/pJvEILBy0L/z0k1iEFjRv3npJjEIrMy/zczMzMzMzL9DYOXQItvRvzvfT42Xbtq/5KWbxCCw4r8nMQisHFrcv9NNYhBYOdS/BoGVQ4ts178asHJoke28v/qrHFpkO6+/UuOlm8Qg0L+ycmiR7XzXv/DSTWIQWNG/nMQgsHJo2b9aZDvfT43jv+kmMQisHOa/oxov3SQG6b+ycmiR7Xzrv++nxks3ieG/YRBYObTI4r8bL90kBoHlv30/NV66Sei/Fq5H4XoU6r89CtejcD3mv/yp8dJNYui/JAaBlUOL5L/FSzeJQWDtv8mhRbbz/ei/n0W28/3U4L9jO99PjZfWvxHZzvdT49W/cZMYBFYO3b9lvHSTGATWv/n//////8+/+tR46SYxyL/Y+X5qvHTDv9FNYhBYOdy/16NwPQrX27/dJAaBlUPTv6bGSzeJQdi/86fGSzeJ2b+uR+F6FK7fvx+F61G4Ht2/0yLb+X5q3L/LoUW28/3cv6AaL90kBuG/Elg5tMh23r8dWmQ730/dvw==",
          "dtype": "f8"
         }
        },
        {
         "line": {
          "color": "orange",
          "width": 3
         },
         "marker": {
          "size": 4
         },
         "mode": "lines+markers",
         "name": "low molecular + low gravy",
         "type": "scatter3d",
         "x": {
          "bdata": "AAECAwQFBgcICQoLDA0ODxAREhMUFRYXGBkaGxwdHh8gISIjJCUmJygpKissLS4vMDEyMzQ1Njc4OTo7PD0+P0BBQkNERUZHSElKS0xNTk9QUVJTVFVWV1hZWltcXV5fYGFiY2Q=",
          "dtype": "i1"
         },
         "y": {
          "bdata": "5nO1FdPxxUBBaW/wHYnFQJRuEoMAHsVAfbdAgvINxUDtQc9mRcTEQPAGX5iklMRAAoofY45kxECY76fG+yHEQJ+bxCB4LMRAnr3BF2YCxECnad5x0uDDQNcCCYpXDsRAbWiR7UwOxEBBJXUCMuHDQL6PMXedxMNA0TTvOB3Tw0AqTKYKHr7DQLvsnjwUlMNAe2q8dIt2w0DacYqOBGfDQP4Iih+Lg8NAn3A9Codsw0DDKTqSg23DQL6PMXcNmcNADPJBz46Yw0Dr0k1ikInDQFuh1jQXocNAjKmCUaG0w0BbodY0n7vDQDRO0ZEcscNAY2/whRGxw0A7+u3rmLjDQFfl0CKjzcNA8zpwzrj+w0A9A3gLPAzEQFvMXUuw98NACDY8vbLjw0BGjZduMvrDQMLMzMys6MNAwszMzKzow0Dgc7UVK9HDQM7O91OrwsNAEZ5eKaOuw0CyBRIUl5vDQGiKjuQiqMNAslKWIaa1w0DK3uALq77DQNPXgXOuxcNADB3J5a/Dw0BhTfOOs8XDQLafGi+128NAl2ez6rvxw0AZ2/l+OvHDQN8ENBG+8cNAIdSa5j34w0BIBaOSOunDQKqmecdB4sNAl7Q3+DrUw0DQiv1lt9PDQJe0N/g61MNAitQJaLLSw0DMo3A9MtnDQFnMXUuw2cNAuWSqYKTLw0AGLbKdJ9nDQAgUP8as08NASQWjkqK+w0C73LWEJL7DQDc+6NkkscNAOj7o2SSxw0DHItv5prPDQMci2/mms8NAcFioNS3dw0AuiUFgrdbDQL8pOpKjrMNAfVrTvCOmw0Awkst/oJjDQCeZKhidkcNA2MeYuybCw0DYx5i7JsLDQHYmwoYfycNAKRE2PC3yw0DwOnDOsPLDQPA6cM6w8sNAF451cbsHxEAXjnVxuwfEQILbaACnyMNAp1Brmh/Bw0DOgXNGHLLDQBBR2hucuMNA1k+Nl5a4w0CCjuTyD6TDQBgf9GwWv8NAdki/fR3Iw0B+QWDlIM/DQGK8dJMYv8NAUPW52pqxw0A+v30dmJDDQJKAJsIepcNASLgehZuXw0BAv30dmJDDQA==",
          "dtype": "f8"
         },
         "z": {
          "bdata": "4SQGgZVD47/jJAaBlUPnv6ebxCCwcuC/YbpJDAIr479SjZduEoPkv8pLN4lBYOG/FoPAyqFF3r/NzMzMzMzcv/tT46WbxOC/dD0K16Nw4b/XItv5fmrkvzszMzMzM+e/GFg5tMh26r8OgZVDi2zrvw+sHFpkO+u/ASlcj8L17L/jo3A9Ctfrv6FDi2zn++m/c5HtfD816r9AXrpJDALrvw0AAAAAAOy/pcQgsHJo6b+XbOf7qfHqv6rEILByaO2/d+f7qfHS7b8xBoGVQ4vsvwR/arx0k+y/CAAAAAAA7L9TN4lBYOXsvwSq8dJNYuy/7qWbxCCw7r/0JjEIrBzuv3e8dJMYBO6/psQgsHJo7b8dg8DKoUXuv0KJQWDl0O6/X+Olm8Qg7L+awvUoXI/uvxOsHFpkO++/E6wcWmQ777935/up8dLtv4pqvHSTGOy/hekmMQis7L+08dJNYhDsv59Di2zn++m/FAIrhxbZ6r8aLbKd76fqv0W0yHa+n+q/vfP91Hjp6r/0UbgehevpvzsIrBxaZOu/unJoke1867863SQGgZXrvxctsp3vp+q/ZWQ730+N67+Wl24Sg8Dqv43rUbgehee/N90kBoGV579XjZduEoPovzbdJAaBlee/9qfGSzeJ6b9B30+Nl27qv0PfT42Xbuq/thxaZDvf678u2/l+arzsv0OJQWDl0Oq/5fl+arx067/l+X5qvHTrv06LbOf7qem/Tots5/up6b+ym8QgsHLov7KbxCCwcui/jpVDi2zn679DXrpJDALrv4gUrkfheui/PN0kBoGV57/BHoXrUbjmv5aXbhKDwOa/KC/dJAaB6b8mL90kBoHpv1g3iUFg5ey/beXQItv57r9KNV66SQzuv0o1XrpJDO6/nO18PzVe7r+c7Xw/NV7uvwjVeOkmMey/Ldv5fmq87L9gDi2yne/rv61FtvP91Oy/zfUoXI/C7b8qsHJoke3sv59Di2zn++2/ASlcj8L17L8qsHJoke3sv3bn+6nx0u2/33jpJjEI7L+EFK5H4XrovyZaZDvfT+m/r5vEILBy6L+EFK5H4Xrovw==",
          "dtype": "f8"
         }
        }
       ],
       "layout": {
        "height": 700,
        "legend": {
         "x": 0,
         "y": 1
        },
        "scene": {
         "xaxis": {
          "title": {
           "text": "Step"
          }
         },
         "yaxis": {
          "title": {
           "text": "Molecular Weight"
          }
         },
         "zaxis": {
          "title": {
           "text": "GRAVY Score"
          }
         }
        },
        "template": {
         "data": {
          "bar": [
           {
            "error_x": {
             "color": "#2a3f5f"
            },
            "error_y": {
             "color": "#2a3f5f"
            },
            "marker": {
             "line": {
              "color": "#E5ECF6",
              "width": 0.5
             },
             "pattern": {
              "fillmode": "overlay",
              "size": 10,
              "solidity": 0.2
             }
            },
            "type": "bar"
           }
          ],
          "barpolar": [
           {
            "marker": {
             "line": {
              "color": "#E5ECF6",
              "width": 0.5
             },
             "pattern": {
              "fillmode": "overlay",
              "size": 10,
              "solidity": 0.2
             }
            },
            "type": "barpolar"
           }
          ],
          "carpet": [
           {
            "aaxis": {
             "endlinecolor": "#2a3f5f",
             "gridcolor": "white",
             "linecolor": "white",
             "minorgridcolor": "white",
             "startlinecolor": "#2a3f5f"
            },
            "baxis": {
             "endlinecolor": "#2a3f5f",
             "gridcolor": "white",
             "linecolor": "white",
             "minorgridcolor": "white",
             "startlinecolor": "#2a3f5f"
            },
            "type": "carpet"
           }
          ],
          "choropleth": [
           {
            "colorbar": {
             "outlinewidth": 0,
             "ticks": ""
            },
            "type": "choropleth"
           }
          ],
          "contour": [
           {
            "colorbar": {
             "outlinewidth": 0,
             "ticks": ""
            },
            "colorscale": [
             [
              0,
              "#0d0887"
             ],
             [
              0.1111111111111111,
              "#46039f"
             ],
             [
              0.2222222222222222,
              "#7201a8"
             ],
             [
              0.3333333333333333,
              "#9c179e"
             ],
             [
              0.4444444444444444,
              "#bd3786"
             ],
             [
              0.5555555555555556,
              "#d8576b"
             ],
             [
              0.6666666666666666,
              "#ed7953"
             ],
             [
              0.7777777777777778,
              "#fb9f3a"
             ],
             [
              0.8888888888888888,
              "#fdca26"
             ],
             [
              1,
              "#f0f921"
             ]
            ],
            "type": "contour"
           }
          ],
          "contourcarpet": [
           {
            "colorbar": {
             "outlinewidth": 0,
             "ticks": ""
            },
            "type": "contourcarpet"
           }
          ],
          "heatmap": [
           {
            "colorbar": {
             "outlinewidth": 0,
             "ticks": ""
            },
            "colorscale": [
             [
              0,
              "#0d0887"
             ],
             [
              0.1111111111111111,
              "#46039f"
             ],
             [
              0.2222222222222222,
              "#7201a8"
             ],
             [
              0.3333333333333333,
              "#9c179e"
             ],
             [
              0.4444444444444444,
              "#bd3786"
             ],
             [
              0.5555555555555556,
              "#d8576b"
             ],
             [
              0.6666666666666666,
              "#ed7953"
             ],
             [
              0.7777777777777778,
              "#fb9f3a"
             ],
             [
              0.8888888888888888,
              "#fdca26"
             ],
             [
              1,
              "#f0f921"
             ]
            ],
            "type": "heatmap"
           }
          ],
          "histogram": [
           {
            "marker": {
             "pattern": {
              "fillmode": "overlay",
              "size": 10,
              "solidity": 0.2
             }
            },
            "type": "histogram"
           }
          ],
          "histogram2d": [
           {
            "colorbar": {
             "outlinewidth": 0,
             "ticks": ""
            },
            "colorscale": [
             [
              0,
              "#0d0887"
             ],
             [
              0.1111111111111111,
              "#46039f"
             ],
             [
              0.2222222222222222,
              "#7201a8"
             ],
             [
              0.3333333333333333,
              "#9c179e"
             ],
             [
              0.4444444444444444,
              "#bd3786"
             ],
             [
              0.5555555555555556,
              "#d8576b"
             ],
             [
              0.6666666666666666,
              "#ed7953"
             ],
             [
              0.7777777777777778,
              "#fb9f3a"
             ],
             [
              0.8888888888888888,
              "#fdca26"
             ],
             [
              1,
              "#f0f921"
             ]
            ],
            "type": "histogram2d"
           }
          ],
          "histogram2dcontour": [
           {
            "colorbar": {
             "outlinewidth": 0,
             "ticks": ""
            },
            "colorscale": [
             [
              0,
              "#0d0887"
             ],
             [
              0.1111111111111111,
              "#46039f"
             ],
             [
              0.2222222222222222,
              "#7201a8"
             ],
             [
              0.3333333333333333,
              "#9c179e"
             ],
             [
              0.4444444444444444,
              "#bd3786"
             ],
             [
              0.5555555555555556,
              "#d8576b"
             ],
             [
              0.6666666666666666,
              "#ed7953"
             ],
             [
              0.7777777777777778,
              "#fb9f3a"
             ],
             [
              0.8888888888888888,
              "#fdca26"
             ],
             [
              1,
              "#f0f921"
             ]
            ],
            "type": "histogram2dcontour"
           }
          ],
          "mesh3d": [
           {
            "colorbar": {
             "outlinewidth": 0,
             "ticks": ""
            },
            "type": "mesh3d"
           }
          ],
          "parcoords": [
           {
            "line": {
             "colorbar": {
              "outlinewidth": 0,
              "ticks": ""
             }
            },
            "type": "parcoords"
           }
          ],
          "pie": [
           {
            "automargin": true,
            "type": "pie"
           }
          ],
          "scatter": [
           {
            "fillpattern": {
             "fillmode": "overlay",
             "size": 10,
             "solidity": 0.2
            },
            "type": "scatter"
           }
          ],
          "scatter3d": [
           {
            "line": {
             "colorbar": {
              "outlinewidth": 0,
              "ticks": ""
             }
            },
            "marker": {
             "colorbar": {
              "outlinewidth": 0,
              "ticks": ""
             }
            },
            "type": "scatter3d"
           }
          ],
          "scattercarpet": [
           {
            "marker": {
             "colorbar": {
              "outlinewidth": 0,
              "ticks": ""
             }
            },
            "type": "scattercarpet"
           }
          ],
          "scattergeo": [
           {
            "marker": {
             "colorbar": {
              "outlinewidth": 0,
              "ticks": ""
             }
            },
            "type": "scattergeo"
           }
          ],
          "scattergl": [
           {
            "marker": {
             "colorbar": {
              "outlinewidth": 0,
              "ticks": ""
             }
            },
            "type": "scattergl"
           }
          ],
          "scattermap": [
           {
            "marker": {
             "colorbar": {
              "outlinewidth": 0,
              "ticks": ""
             }
            },
            "type": "scattermap"
           }
          ],
          "scattermapbox": [
           {
            "marker": {
             "colorbar": {
              "outlinewidth": 0,
              "ticks": ""
             }
            },
            "type": "scattermapbox"
           }
          ],
          "scatterpolar": [
           {
            "marker": {
             "colorbar": {
              "outlinewidth": 0,
              "ticks": ""
             }
            },
            "type": "scatterpolar"
           }
          ],
          "scatterpolargl": [
           {
            "marker": {
             "colorbar": {
              "outlinewidth": 0,
              "ticks": ""
             }
            },
            "type": "scatterpolargl"
           }
          ],
          "scatterternary": [
           {
            "marker": {
             "colorbar": {
              "outlinewidth": 0,
              "ticks": ""
             }
            },
            "type": "scatterternary"
           }
          ],
          "surface": [
           {
            "colorbar": {
             "outlinewidth": 0,
             "ticks": ""
            },
            "colorscale": [
             [
              0,
              "#0d0887"
             ],
             [
              0.1111111111111111,
              "#46039f"
             ],
             [
              0.2222222222222222,
              "#7201a8"
             ],
             [
              0.3333333333333333,
              "#9c179e"
             ],
             [
              0.4444444444444444,
              "#bd3786"
             ],
             [
              0.5555555555555556,
              "#d8576b"
             ],
             [
              0.6666666666666666,
              "#ed7953"
             ],
             [
              0.7777777777777778,
              "#fb9f3a"
             ],
             [
              0.8888888888888888,
              "#fdca26"
             ],
             [
              1,
              "#f0f921"
             ]
            ],
            "type": "surface"
           }
          ],
          "table": [
           {
            "cells": {
             "fill": {
              "color": "#EBF0F8"
             },
             "line": {
              "color": "white"
             }
            },
            "header": {
             "fill": {
              "color": "#C8D4E3"
             },
             "line": {
              "color": "white"
             }
            },
            "type": "table"
           }
          ]
         },
         "layout": {
          "annotationdefaults": {
           "arrowcolor": "#2a3f5f",
           "arrowhead": 0,
           "arrowwidth": 1
          },
          "autotypenumbers": "strict",
          "coloraxis": {
           "colorbar": {
            "outlinewidth": 0,
            "ticks": ""
           }
          },
          "colorscale": {
           "diverging": [
            [
             0,
             "#8e0152"
            ],
            [
             0.1,
             "#c51b7d"
            ],
            [
             0.2,
             "#de77ae"
            ],
            [
             0.3,
             "#f1b6da"
            ],
            [
             0.4,
             "#fde0ef"
            ],
            [
             0.5,
             "#f7f7f7"
            ],
            [
             0.6,
             "#e6f5d0"
            ],
            [
             0.7,
             "#b8e186"
            ],
            [
             0.8,
             "#7fbc41"
            ],
            [
             0.9,
             "#4d9221"
            ],
            [
             1,
             "#276419"
            ]
           ],
           "sequential": [
            [
             0,
             "#0d0887"
            ],
            [
             0.1111111111111111,
             "#46039f"
            ],
            [
             0.2222222222222222,
             "#7201a8"
            ],
            [
             0.3333333333333333,
             "#9c179e"
            ],
            [
             0.4444444444444444,
             "#bd3786"
            ],
            [
             0.5555555555555556,
             "#d8576b"
            ],
            [
             0.6666666666666666,
             "#ed7953"
            ],
            [
             0.7777777777777778,
             "#fb9f3a"
            ],
            [
             0.8888888888888888,
             "#fdca26"
            ],
            [
             1,
             "#f0f921"
            ]
           ],
           "sequentialminus": [
            [
             0,
             "#0d0887"
            ],
            [
             0.1111111111111111,
             "#46039f"
            ],
            [
             0.2222222222222222,
             "#7201a8"
            ],
            [
             0.3333333333333333,
             "#9c179e"
            ],
            [
             0.4444444444444444,
             "#bd3786"
            ],
            [
             0.5555555555555556,
             "#d8576b"
            ],
            [
             0.6666666666666666,
             "#ed7953"
            ],
            [
             0.7777777777777778,
             "#fb9f3a"
            ],
            [
             0.8888888888888888,
             "#fdca26"
            ],
            [
             1,
             "#f0f921"
            ]
           ]
          },
          "colorway": [
           "#636efa",
           "#EF553B",
           "#00cc96",
           "#ab63fa",
           "#FFA15A",
           "#19d3f3",
           "#FF6692",
           "#B6E880",
           "#FF97FF",
           "#FECB52"
          ],
          "font": {
           "color": "#2a3f5f"
          },
          "geo": {
           "bgcolor": "white",
           "lakecolor": "white",
           "landcolor": "#E5ECF6",
           "showlakes": true,
           "showland": true,
           "subunitcolor": "white"
          },
          "hoverlabel": {
           "align": "left"
          },
          "hovermode": "closest",
          "mapbox": {
           "style": "light"
          },
          "paper_bgcolor": "white",
          "plot_bgcolor": "#E5ECF6",
          "polar": {
           "angularaxis": {
            "gridcolor": "white",
            "linecolor": "white",
            "ticks": ""
           },
           "bgcolor": "#E5ECF6",
           "radialaxis": {
            "gridcolor": "white",
            "linecolor": "white",
            "ticks": ""
           }
          },
          "scene": {
           "xaxis": {
            "backgroundcolor": "#E5ECF6",
            "gridcolor": "white",
            "gridwidth": 2,
            "linecolor": "white",
            "showbackground": true,
            "ticks": "",
            "zerolinecolor": "white"
           },
           "yaxis": {
            "backgroundcolor": "#E5ECF6",
            "gridcolor": "white",
            "gridwidth": 2,
            "linecolor": "white",
            "showbackground": true,
            "ticks": "",
            "zerolinecolor": "white"
           },
           "zaxis": {
            "backgroundcolor": "#E5ECF6",
            "gridcolor": "white",
            "gridwidth": 2,
            "linecolor": "white",
            "showbackground": true,
            "ticks": "",
            "zerolinecolor": "white"
           }
          },
          "shapedefaults": {
           "line": {
            "color": "#2a3f5f"
           }
          },
          "ternary": {
           "aaxis": {
            "gridcolor": "white",
            "linecolor": "white",
            "ticks": ""
           },
           "baxis": {
            "gridcolor": "white",
            "linecolor": "white",
            "ticks": ""
           },
           "bgcolor": "#E5ECF6",
           "caxis": {
            "gridcolor": "white",
            "linecolor": "white",
            "ticks": ""
           }
          },
          "title": {
           "x": 0.05
          },
          "xaxis": {
           "automargin": true,
           "gridcolor": "white",
           "linecolor": "white",
           "ticks": "",
           "title": {
            "standoff": 15
           },
           "zerolinecolor": "white",
           "zerolinewidth": 2
          },
          "yaxis": {
           "automargin": true,
           "gridcolor": "white",
           "linecolor": "white",
           "ticks": "",
           "title": {
            "standoff": 15
           },
           "zerolinecolor": "white",
           "zerolinewidth": 2
          }
         }
        },
        "title": {
         "text": "Multi-goal Steering: Molecular Weight & GRAVY Score over Steps"
        },
        "width": 1200
       }
      }
     },
     "metadata": {},
     "output_type": "display_data"
    }
   ],
   "source": [
    "import pandas as pd\n",
    "import plotly.graph_objects as go\n",
    "\n",
    "# Load CSV\n",
    "df = pd.read_csv(\"multi_goal_steering.csv\")\n",
    "\n",
    "# Create a Plotly 3D scatter plot with lines\n",
    "fig = go.Figure()\n",
    "\n",
    "# Define a color map for the labels\n",
    "color_map = {\n",
    "    label: color for label, color in zip(\n",
    "        df[\"label\"].unique(), [\"red\", \"blue\", \"green\", \"orange\"]\n",
    "    )\n",
    "}\n",
    "\n",
    "# Add one trace per label\n",
    "for label in df[\"label\"].unique():\n",
    "    subset = df[df[\"label\"] == label].sort_values(by=\"step\")\n",
    "    fig.add_trace(\n",
    "        go.Scatter3d(\n",
    "            x=subset[\"step\"],\n",
    "            y=subset[\"molecular_weight\"],\n",
    "            z=subset[\"positive_gravy\"],\n",
    "            mode='lines+markers',\n",
    "            marker=dict(size=4),\n",
    "            line=dict(width=3, color=color_map[label]),\n",
    "            name=label\n",
    "        )\n",
    "    )\n",
    "\n",
    "# Set layout\n",
    "fig.update_layout(\n",
    "    width=1200,\n",
    "    height=700,\n",
    "    scene=dict(\n",
    "        xaxis_title='Step',\n",
    "        yaxis_title='Molecular Weight',\n",
    "        zaxis_title='GRAVY Score',\n",
    "    ),\n",
    "    title=\"Multi-goal Steering: Molecular Weight & GRAVY Score over Steps\",\n",
    "    legend=dict(x=0, y=1)\n",
    ")\n",
    "\n",
    "# Show the interactive plot\n",
    "fig.show()\n"
   ]
  },
  {
   "cell_type": "code",
   "execution_count": 16,
   "id": "5278cf40",
   "metadata": {},
   "outputs": [
    {
     "data": {
      "application/vnd.plotly.v1+json": {
       "config": {
        "plotlyServerURL": "https://plot.ly"
       },
       "data": [
        {
         "line": {
          "color": "red",
          "width": 3
         },
         "marker": {
          "size": 4
         },
         "mode": "lines+markers",
         "name": "high molecular + high gravy",
         "type": "scatter3d",
         "x": {
          "bdata": "AAECAwQFBgcICQoLDA0ODxAREhMUFRYXGBkaGxwdHh8gISIjJCUmJygpKissLS4vMDEyMzQ1Njc4OTo7PD0+P0BBQkNERUZHSElKS0xNTk9QUVJTVFVWV1hZWltcXV5fYGFiY2Q=",
          "dtype": "i1"
         },
         "y": {
          "bdata": "rOHplaLExkBVhjjWRWzHQCdlGeIwT8dABc4ZUTqqx0AxorQ32C7IQJe7lpDXSMhAn9Y07zgryEASpb3Bv1zIQC3dJAbJechAVoY41jVXyEBXhjjW1dnIQO3Jw0JF08hAYKHWNL/PyEAe/fZ1mIPIQN5YF7dhUMlALJkqGHVwyUCstmJ/gZnJQNO84xRN+8hAUWuadyyjyEA17zhFJ5jIQHsUrkeZdMhARvrt6xBxyECSfvs6EJXIQH0/NV6Sy8hAuvyH9AO7yEBT46WbbGjIQP2H9NsHp8hAlKmCUfllyEB6xyk66jbIQHYCmghzT8hAKjqSy+dkyEBNFYxK0gvIQEdQ/BjL7MdAuY0G8FYayECp8dJNwuvHQB7Sb183zsdAj+18P0Xpx0CASL99zRHIQCd+jLnDFshA9cJkqjgQyEAnoImwseDHQIlBYOWYmcdATRWMSnJJx0Df4AuT+XfHQBJhw9ODq8dAa8X+svuux0CD61G43l3HQBdz1xLqYMdAfki/fcW5xkDHEMe66BzHQK83+ML0R8dAvtMrZRmnx0Chm8QgIL3HQDVFR3Ip78dAyojS3qjux0AcY+5aogPIQKsl5IMuE8hAdhSuRykjyEB6jLlrOT/IQP4qhxZhushAz7zjFM1syEA2m1WfG+nHQJcRpb25GshAPGDl0BKvx0CHKO0NlrzHQM546SaRj8dAs2sJ+Sjkx0CHl24SC5vHQKjh6ZUisMdA3WGh1pyKx0BEe4MvlHLHQPkh/fblB8dAIu0NvgBax0By6SYxCG/HQHELJCh2V8dAK+auJQSVx0AsVTAqsRHIQLDRAN4SsMdALcSxLuYqx0CXM6K0/3zHQDL4wmQi08dAW+XQIhu3x0B1FK5HGabHQIko7Q1+T8dASh4Wag1fx0As5q4ltKvHQEnRkVyOW8dAhPTb1wkqx0CdibDh+fHGQLSEfNCbb8dA42Gh1pRjx0C5dJMYJJPHQMJLN4kBTMdA5mor9gdex0CleccpEmDHQCzdJAaxvcdAKdSa5qW1x0BCaW/wzSnIQMUpOpLLIMhAB/mgZ0snyECE0t7gK+LHQA==",
          "dtype": "f8"
         },
         "z": {
          "bdata": "TAwCK4cW4b9ENV66SQzqv3uTGARWDum/oEOLbOf76b863SQGgZXvvwCWArV+pfC/V829f4em8r8M0vtzrbL1vwNdq2w4Yva/2yobjpj29L/RbyFglGr2vzti2hMZSPe/obaukXyE+b/GpnRnjL77vx35CENtXfu/iYXHDhTS+r8DJlhlQA75vzreP/tU8/e/bLIWMeeC+L9DDgEmWGX4v4RVBuQQYPq/8zfeP/tU+7/sGslHGGr7v4vRd9mU7vy/h4iIiIjI/r9tl+Xigd3/v/HA7l9KQv+/zuEnArS2/78b38Zdlov/v+sFbzZBxf6/4S7LxQO7/79t6vfcEqf+v82HTPbVSf2/tx6F61G4/r+X7KuTKmMAwCRO/Z5b4gDAWIEw0o4VAMCYP76Nuyz/v8JPBGhtLwDAPGSyr06qAMA3ZOy1y48AwCGgB6tpHQHAo/sLn8pSAsAj3V/4VJYCwPKdjfrORgPA7C98KktxBMCHQ8Zeu/wEwNOLYr0o1gPA4cI+LuzjAsBA1yl0nUIDwBQnaXGSFgPAnn766aefAsCnbofqdqgCwCcHg3IwKAPA3rcSfivhA8AHXafQdQoFwBWUg0E5GATAfJj7h7l/BMDp48I+LuwDwCvs48I+LgTAv28l/FbCA8BKNNFEE00EwEoD2jSgTQPAEVhggQUWBMD/d0aAZwQEwPqS5S9Z/gLAvW8l/FbCA8DrWwm/lfADwC3GGGOMMQLACQblYFAOAsAJBuVgUA4CwPMan6/x+QLANOecc845A8AG+7iwjwsDwIjP1/h8jQPAxl+y/CXLA8BnS8e2dGwDwCYfxv26pAPA72Hcr0sqA8AM435dUvkCwAYUbTV4jgLASCofxv26AsDffl1S+TADwC3u1yWVDwPAp3wY9+uSAsCFcb8uqXwBwHaOQNFWgwHA/P///////796XVL5MO7/v7ik8mHcrwDAh7YaPEegAcBEoGirwXMBwOdNb3rTmwHADyjaavAcAcBrNXiOQNEAwKHyYdyvSwHAEm01eI5AAsBq8ByBoq0BwEagaKvBcwHAuaTyYdyvAcDpksqHcb8CwA==",
          "dtype": "f8"
         }
        },
        {
         "line": {
          "color": "blue",
          "width": 3
         },
         "marker": {
          "size": 4
         },
         "mode": "lines+markers",
         "name": "high molecular + low gravy",
         "type": "scatter3d",
         "x": {
          "bdata": "AAECAwQFBgcICQoLDA0ODxAREhMUFRYXGBkaGxwdHh8gISIjJCUmJygpKissLS4vMDEyMzQ1Njc4OTo7PD0+P0BBQkNERUZHSElKS0xNTk9QUVJTVFVWV1hZWltcXV5fYGFiY2Q=",
          "dtype": "i1"
         },
         "y": {
          "bdata": "rOHplaLExkAFih9j7pXGQN8UHcm9K8ZAB7WmeV9YxUDP3uALo7nEQMd2vp/a4sNAt0kMAqt7w0AfhetRWIfCQI+g+DHOYMJAq8/VVhx0wUDzsFBrYsLAQKebxCCwFcBAFmpN8x4rv0AZ2c73I4G/QOnyH9L/FL9A101iEOjgvkD/qfHSfZK9QN2Bc0ZUib1AcaMBvGXxvUAnKH6MaaC9QNfnaiu2X75Atsh2vo+kvUDfAgmKT0O9QBAkKH78F7xA0qrP1caju0CnTkATgbS6QBmMSupEL7pAutEA3iJvukC3WfW5Csm5QGD+Q/rd4rhA0MzMzJzSt0CabhKDcOK2QGApyxBXcLZAtHvysED9tUBg3EYDOPa1QIYvTKYKULVA1prmHSfGtUBSr5RlOMy1QPh14JxB4LVADuAtkEB1tUA6I0p7Q4S1QA+cM6IEq7RA3rWEfNDes0DDqKROwKGzQODgC5NprbJAKDEIrEx1skA7tMh2buiyQLJyaJEtPrJAOKs+V8utsECcu5aQL3OvQE43iUGgHK1Ap73BF6Y6rUARC7WmeTSsQEhHcvmPFKxAygc9m1USq0DJKTqSS4KqQCW5/IcUUqpAlDoBTSTkqUDCqKROQByqQDC7Jw/LTahADgIrh/ZnqECsHFpk+7+oQNDVVuzPpahAIR/0bHbZpkAJG55eSROmQA6+MJkqT6ZAI9v5fgq/pUBIv30dGNulQJkIG56+DqRAAwmKH8M6pEDC0ytlWYyiQLSmeccJEKJA/mX35OGBoUCmCkYltZugQF1txf7SmaBApSxDHKsLoEClLEMcqwugQKUsQxyrC6BAm6IjufxKnkCneccperOfQNIA3gLpOaBAZMxdS8jDn0DLEMe6uMefQMsQx7q4x59AwTkjSjtfnkDBOSNKO1+eQME5I0o7X55Ady0hH3QvnkCHFtnOd6edQPwYc9dSv5xAtMh2vl97nEAbDeAtUH+cQGN/2T35SpxA+zpwzghHnEBqvHSTWGOdQIY41sUtL51Aarx0k1hjnUDgvg6cM3ucQLaEfNBzm51AXI/C9ajznUD35GGhFlecQA==",
          "dtype": "f8"
         },
         "z": {
          "bdata": "TAwCK4cW4b/zFV/xFV/pv98Zo++yKe2/8m3cZbl48L/lwj4u7OPyvwEAAAAAAPC/GbjABS5w8b8wfJ/Lwvfxv/BvLs/+5vK/no/B+Ric879RdCjAkO/xvwIAAAAAgPG/I87KT4iz8r/0GsprKK/zv4WRdqxAGPO/3hKnfs8t9b/g14Sg7H31v+yPWMCd/vi/8mtCUPa++r9pZmZmZmb7vxMREREREfy/ACwhhoL5+r+g++wCYlP9v+ELcJGc9f2/WD6M+3VJ/b8QDAwMDAz8v9Vy/iznz/6/TmPANAZMAcDPzMzMzGwBwBeJV5F4FQHAn4QCjdhe/78nOns+iGX9v0k5Ep09H/y/GUM6bzGk+7+cZND4p0n+vxnTWUxnMf2/c+r33BKn/r8+ViCMtGP9vzlfDrBs8/2/sfiKr/iK+r8FlDtAuQP8v2q7zloSxfy/5+Tk5OTk/L9mY2NjY2P7vzCn4OUUvPy/SERERETE/b/07u7u7u79v/AvfCpLcQDAbd+w9g1rAMC9u7u7u7v/v3E9CtejcP2/13RN13RN/7/tWIEw0o79v+HFeegYXvy/mJmZmZmZ+782lYac++z6vwUGBgYGBgDA6nWkXkfq/b/NzMzMzMz/v+MXS36x5P+/qaDVlwpaAcBzTyMs9zQCwHmLIZ23GALAzpUHJOtcAcA6sRM7sRMBwPRCL/RCLwTAxSCwcmiRBcB3vp8aL90EwMW4X5dUPgTAESjaavAcBcDEV3zFV3wFwFujNVqjNQbACtejcD0KCMBP/Z5b4tQHwAAAAAAAAAjAHSsQRtqxBsAdKxBG2rEGwB0rEEbasQbAZWZmZmZmBsCkT/qkT/oEwAAAAAAAAATAUPqkT/qkAcBQ+qRP+qQBwFD6pE/6pAHAEBERERERA8AQEREREREDwBAREREREQPAZWZmZmZmAMC7u7u7u7v7v6RP+qRP+vi/nvRJn/RJ97+e9Emf9En3v+7u7u7u7va/7u7u7u7u9r8FW7AFW7D5vwVbsAVbsPm/BVuwBVuw+b/u7u7u7u72vwVbsAVbsPm/wRZswRZs+b9FRUVFRUX9vw==",
          "dtype": "f8"
         }
        },
        {
         "line": {
          "color": "green",
          "width": 3
         },
         "marker": {
          "size": 4
         },
         "mode": "lines+markers",
         "name": "low molecular + high gravy",
         "type": "scatter3d",
         "x": {
          "bdata": "AAECAwQFBgcICQoLDA0ODxAREhMUFRYXGBkaGxwdHh8gISIjJCUmJygpKissLS4vMDEyMzQ1Njc4OTo7PD0+P0BBQkNERUZHSElKS0xNTk9QUVJTVFVWV1hZWltcXV5fYGFiY2Q=",
          "dtype": "i1"
         },
         "y": {
          "bdata": "rOHplaLExkCADU+vNODGQOGuJeQr7cZAS/wYc6fcxkDIqs/VrvLGQKY+V1tBNsdAeki/fa38xkB40LNZjZrGQH4ExY8R3cZAeR04Z5zFxkClNc07ZkHGQMmqz9UWfMZAtWsJ+biTxkDM3uALS5zGQOCMKO1FecZANr1SlrkyxkAaQfFjNPvFQM1NYhAwNcZABGgibEiixkA3cM6IYtjGQPr2deBUp8ZApMZLN1GcxkAbFmpN8yXHQFFSJ6B5IcdAcy0hH5RCx0B7+zpw/iPHQAq+MJmSQMdAFeJYF9f/xkCDONbFtZzGQFqPwvVIwcZANtbFbVTdxkAZwFsgEVjHQHZ6pSwDOcdA5nO1Fatqx0CrlGWIs47HQALwFkg4i8dAtpaQDxI0x0AwGsBbGEjHQBpB8WMEFMdALOauJQSgx0BI845TfFjHQKu/7J7kb8dA/LsFEmSGx0DEoUW243nHQMeI0t5YZ8dAw1TBqGRvx0As5q4lbIHHQOJqK/b/VcdA7tvXgRNrx0AYp+hI/ijHQBuwcmihQ8dA2CQGgTWqx0BmCfmg183HQHWDL0xW2sdAOHlYqE2Gx0DOmuYdx0zHQNlxio60UMdAVGQ7368vx0BZbcX+IlDHQElAE2EDQsdA2k+Nlw7Jx0DacYqOxGHIQDzxY8xNQchAL6K0N6DUx0D4qfHSLefHQBVR2htsSsdAKm6jAWQGx0D+dwsk0AzHQAWsHFrEBMdAs9EA3prbxkD6If32DZTGQFJ9rrYCmcZAC3o2q37IxkAa9GxWjbLGQAngLZD4h8ZA8NvXgfuwxkAHJCh+FAvHQE1JnYC2QsdAXn/ZPWFix0B/ns2qb8HHQP93CyRA/8ZAwCCwcsAtx0BLjZduMgHHQE6WIY6d8cZAAKOSOqHuxkD6If32RVvHQJXmHafIf8dAROoENOF/x0CSu5aQVzzHQKUcWmTbdMdA0TTvOHW5x0CiV8oyRCDHQORILv9JTMdApxxaZMNfx0DGf0i/xYDHQNaK/WW/ZsdALHctIU+tx0BIYhBYYcrHQHxzRpQm+sZA36WbxDAix0DNRNjwrOvGQA==",
          "dtype": "f8"
         },
         "z": {
          "bdata": "TAwCK4cW4b/SzMzMzMzcvwIrhxbZzt+/sp3vp8ZL37+amZmZmZnhv2MQWDm0yOK/Uo2XbhKD5L+IFtnO91Pjv7gehetRuOa/vEkMAiuH6r966SYxCKzgv1y6SQwCK9e/WxBYObTIxr8JWDm0yHa+vwGsHFpkO7+/UTm0yHa+v796lUOLbOe7v47tfD81XtK/u58aL90k1r+uR+F6FK7XvwfXo3A9Cse//tR46SYx0L8aBFYOLbLVv0jhehSuR8G/wH5qvHSTiL8c2/l+ary0P3QUrkfherQ/QmDl0CLbub8bL90kBoG1v3npJjEIrHw/aJHtfD81rr956SYxCKx8v0YMAiuHFsm/QIts5/up0b+J61G4HoXbv9j5fmq8dNu/vp8aL90kxr+a76fGSzfJvxYzMzMzM7O/ajvfT42X1r87DAIrhxa5v/IoXI/C9dC/yCCwcmiR1b9oO99PjZfWv0WLbOf7qdG/9v3UeOkm0b8cBFYOLbLVv3sUrkfhesS/NIlBYOXQwr97FK5H4XqEv3E9CtejcL0/qMZLN4lBwL/dUbgeheuhvxN+arx0k2i/lRgEVg4t0j/tUbgehevhP8T1KFyPwtU/i0Fg5dAi2z+TGARWDi3SP+Olm8QgsMI/F6wcWmQ7r7/MTWIQWDnEvxBYObTIdr4/ukkMAiuHtj/n+6nx0k3CP7ByaJHtfM8/HbByaJHtzD8Sg8DKoUXGPzoK16NwPco/K4cW2c73wz/n+6nx0k3SP6lyaJHtfL8/Fanx0k1iYD81XrpJDALLPz1kO99PjZc/1c73U+Oly79vEoPAyqHFv1pkO99PjZe/n5mZmZmZ0T/TTWIQWDm0P69Q3ArFrdA/RMWeA5fkij9IkKcEeUqwv8BwOmH8aLu/bd+w9g1rz7+Jau79OzTVv5MgTwnylOC/P7ysbnaV0b+Bh6YiE9XMv88J40fbKM+/qlDcCsWtwL8QbMEWbMGmv9Jz4JJcg76/oHzhdML4wb/179BUZKLKv+BH2yhfOM2/GSFAvKxu1r+aikxUc+/fvxDGj7ZRvtC/AOn9uVbZ0L8lBS+n4OWkPw==",
          "dtype": "f8"
         }
        },
        {
         "line": {
          "color": "orange",
          "width": 3
         },
         "marker": {
          "size": 4
         },
         "mode": "lines+markers",
         "name": "low molecular + low gravy",
         "type": "scatter3d",
         "x": {
          "bdata": "AAECAwQFBgcICQoLDA0ODxAREhMUFRYXGBkaGxwdHh8gISIjJCUmJygpKissLS4vMDEyMzQ1Njc4OTo7PD0+P0BBQkNERUZHSElKS0xNTk9QUVJTVFVWV1hZWltcXV5fYGFiY2Q=",
          "dtype": "i1"
         },
         "y": {
          "bdata": "rOHplaLExkC+Qq1pntLGQAgtsp13QsZACse6uM3nxUBOfa62wqfFQCpVMCoxZ8VAQjeJQShUxUBlowG8hRbFQPHL7skLAMVAPp2AJqJlxUBn+Q/phyXFQGkkl/9Av8VAbAskKEa8xUD/kqmCybzFQGZGlPbW1cVAqWJ/2WX7xUApiUFglX3GQCQRNjzFK8dAFw8LtXa5x0CH3ZOHjQHIQGd6pSwLAshAB5XUCYgByEAPsHJoKV3IQFCh1jQfSMhA2pWyDPn5x0CXCkYl1bjHQPP////PkMdADQ3gLUBlx0A2tvP91IXHQBvtDb5QdcdAoAPnjNBmx0BFwaikxmjHQMuK/WU3QMdAVF3cRktkx0AxguLH2HfHQBz2l93TesdA3+vAOctRx0DludqKXZPHQDfhehTOdsdApRX7y06Lx0Dj/dR48fTHQCTvOEV/H8hAZ4MvTBZ2yEDiudqKDV/IQISyDHGESchAOTeJQQhHyECFIY51CUrIQNt8PzX2C8hAVdXnavsryEBtarx0e0rIQD6Nl27yLMhApWJ/2QVuyEAD+8vuIcDIQCss1Jr2U8hA5w/ptweEyECKxCCw4hrIQPJ3CyRYB8hASPW52krex0CaYFRSx8DHQLVtNIA/psdAWW/whUGnx0BT7lpC7jXIQEn1udrqLshAVBniWHdLyEBKIEHx+2PIQOqp8dL9dMhAzwuTqXpfyEC8O07R+VXIQMWjcD1yNshA3evAOXs1yEC+91PjXQLIQOUoXI9a88dAzLWEfGDzx0CyhqdXUsrHQHqO5PLHpsdAyPD0SlnIx0DEeOkmgTXIQM5xio6EPMhAi8QgsApeyEAJ4lgXh0jIQHEExY95JMhArDCZKgAkyEBNmEwVjD3IQMfO91ODJshA0OmVsiSCyEDd68A5E0rIQKAubqM5uchAXMX+squeyEAgETY8vc7IQBeHFtmmmchAi8QgsHIeyEBIhjjWbRnIQPLmjCj9OchAIjMzM/swyEAZqRPQ5PvHQDuEDU9/UchALSzUms7Lx0DeOEVHag/IQN84RUfqBchAzZOHhfIRyEBtHThn9CLIQA==",
          "dtype": "f8"
         },
         "z": {
          "bdata": "TAwCK4cW4b9N4XoUrkflvzozMzMzM+O/xXSTGARW3r9cZDvfT43Xv996FK5H4dK/TI2XbhKD0L8uCKwcWmTTv8LMzMzMzMy/OIcW2c7327+Bvp8aL93kv1wOLbKd7+e/fGiR7Xw/6b+0R+F6FK7nv3poke18P+m/96fGSzeJ6b+KwMqhRbbvv/T91HjpJvW/tx6F61G4+L/61HjpJjH6vyAGgZVDi/q/UQ4tsp3v+7/WJAaBlUP9vyjdJAaBlf2/6Xw/NV66/b9GN4lBYOX+v/0qhxbZzv2/6nw/NV66/b+gRbbz/dT8v7Tz/dR46fy/1873U+Ol+79OuB6F61H8v1y6SQwCK/u/MzMzMzMz+7+UbhKDwMr7vzjfT42Xbvy/hOtRuB6F+b/DSzeJQWD7v0ThehSuR/u/7KfGSzeJ+7/lJjEIrBz+vxqF61G4Hv+/LzMzMzMzAcA030+Nl24BwJXEILByaAHAFlpkO99PAcAWWmQ7308BwAgCK4cW2QDAjRgEVg4tAcDEoUW28/0BwLz1KFyPwgHAFi/dJAaBAsBRDi2yne8DwNTO91PjpQLAJFyPwvUoA8A6NV66SQwCwLrKoUW28wHAj0OLbOf7AcBFN4lBYOUAwD2LbOf7qQDALzMzMzMzAMBFDAIrhxYCwHpqvHSTGALAUg4tsp3vAcCmHFpkO98CwPz//////wLA9H5qvHSTAsBsPQrXo3ACwEHhehSuRwLAEgRWDi2yAcA0tMh2vp8BwAGBlUOLbAHA06NwPQrXAMAH16NwPQoAwG6TGARWDv+/cL6fGi/d/r/mJjEIrBwBwLHIdr6fGgHA/tR46SYxAcC4SQwCK4cAwK1yaJHtfADAssh2vp8a/79CYOXQItv/vylcj8L1KADAyaFFtvP9AMCOQ4ts5/v/v5OZmZmZmQHA3aWbxCCwAcDi+6nx0k0CwDS0yHa+nwHAnUW28/3UAMDzU+Olm8QAwIRBYOXQIgHA9qnx0k1iAcBJYhBYObQAwFEOLbKd7wHAIAaBlUOLAMAQ2c73U+MBwCrdJAaBlQHADFg5tMh2AcBfO99PjZcBwA==",
          "dtype": "f8"
         }
        }
       ],
       "layout": {
        "height": 700,
        "legend": {
         "x": 0,
         "y": 1
        },
        "scene": {
         "xaxis": {
          "title": {
           "text": "Step"
          }
         },
         "yaxis": {
          "title": {
           "text": "Molecular Weight"
          }
         },
         "zaxis": {
          "title": {
           "text": "GRAVY Score"
          }
         }
        },
        "template": {
         "data": {
          "bar": [
           {
            "error_x": {
             "color": "#2a3f5f"
            },
            "error_y": {
             "color": "#2a3f5f"
            },
            "marker": {
             "line": {
              "color": "#E5ECF6",
              "width": 0.5
             },
             "pattern": {
              "fillmode": "overlay",
              "size": 10,
              "solidity": 0.2
             }
            },
            "type": "bar"
           }
          ],
          "barpolar": [
           {
            "marker": {
             "line": {
              "color": "#E5ECF6",
              "width": 0.5
             },
             "pattern": {
              "fillmode": "overlay",
              "size": 10,
              "solidity": 0.2
             }
            },
            "type": "barpolar"
           }
          ],
          "carpet": [
           {
            "aaxis": {
             "endlinecolor": "#2a3f5f",
             "gridcolor": "white",
             "linecolor": "white",
             "minorgridcolor": "white",
             "startlinecolor": "#2a3f5f"
            },
            "baxis": {
             "endlinecolor": "#2a3f5f",
             "gridcolor": "white",
             "linecolor": "white",
             "minorgridcolor": "white",
             "startlinecolor": "#2a3f5f"
            },
            "type": "carpet"
           }
          ],
          "choropleth": [
           {
            "colorbar": {
             "outlinewidth": 0,
             "ticks": ""
            },
            "type": "choropleth"
           }
          ],
          "contour": [
           {
            "colorbar": {
             "outlinewidth": 0,
             "ticks": ""
            },
            "colorscale": [
             [
              0,
              "#0d0887"
             ],
             [
              0.1111111111111111,
              "#46039f"
             ],
             [
              0.2222222222222222,
              "#7201a8"
             ],
             [
              0.3333333333333333,
              "#9c179e"
             ],
             [
              0.4444444444444444,
              "#bd3786"
             ],
             [
              0.5555555555555556,
              "#d8576b"
             ],
             [
              0.6666666666666666,
              "#ed7953"
             ],
             [
              0.7777777777777778,
              "#fb9f3a"
             ],
             [
              0.8888888888888888,
              "#fdca26"
             ],
             [
              1,
              "#f0f921"
             ]
            ],
            "type": "contour"
           }
          ],
          "contourcarpet": [
           {
            "colorbar": {
             "outlinewidth": 0,
             "ticks": ""
            },
            "type": "contourcarpet"
           }
          ],
          "heatmap": [
           {
            "colorbar": {
             "outlinewidth": 0,
             "ticks": ""
            },
            "colorscale": [
             [
              0,
              "#0d0887"
             ],
             [
              0.1111111111111111,
              "#46039f"
             ],
             [
              0.2222222222222222,
              "#7201a8"
             ],
             [
              0.3333333333333333,
              "#9c179e"
             ],
             [
              0.4444444444444444,
              "#bd3786"
             ],
             [
              0.5555555555555556,
              "#d8576b"
             ],
             [
              0.6666666666666666,
              "#ed7953"
             ],
             [
              0.7777777777777778,
              "#fb9f3a"
             ],
             [
              0.8888888888888888,
              "#fdca26"
             ],
             [
              1,
              "#f0f921"
             ]
            ],
            "type": "heatmap"
           }
          ],
          "histogram": [
           {
            "marker": {
             "pattern": {
              "fillmode": "overlay",
              "size": 10,
              "solidity": 0.2
             }
            },
            "type": "histogram"
           }
          ],
          "histogram2d": [
           {
            "colorbar": {
             "outlinewidth": 0,
             "ticks": ""
            },
            "colorscale": [
             [
              0,
              "#0d0887"
             ],
             [
              0.1111111111111111,
              "#46039f"
             ],
             [
              0.2222222222222222,
              "#7201a8"
             ],
             [
              0.3333333333333333,
              "#9c179e"
             ],
             [
              0.4444444444444444,
              "#bd3786"
             ],
             [
              0.5555555555555556,
              "#d8576b"
             ],
             [
              0.6666666666666666,
              "#ed7953"
             ],
             [
              0.7777777777777778,
              "#fb9f3a"
             ],
             [
              0.8888888888888888,
              "#fdca26"
             ],
             [
              1,
              "#f0f921"
             ]
            ],
            "type": "histogram2d"
           }
          ],
          "histogram2dcontour": [
           {
            "colorbar": {
             "outlinewidth": 0,
             "ticks": ""
            },
            "colorscale": [
             [
              0,
              "#0d0887"
             ],
             [
              0.1111111111111111,
              "#46039f"
             ],
             [
              0.2222222222222222,
              "#7201a8"
             ],
             [
              0.3333333333333333,
              "#9c179e"
             ],
             [
              0.4444444444444444,
              "#bd3786"
             ],
             [
              0.5555555555555556,
              "#d8576b"
             ],
             [
              0.6666666666666666,
              "#ed7953"
             ],
             [
              0.7777777777777778,
              "#fb9f3a"
             ],
             [
              0.8888888888888888,
              "#fdca26"
             ],
             [
              1,
              "#f0f921"
             ]
            ],
            "type": "histogram2dcontour"
           }
          ],
          "mesh3d": [
           {
            "colorbar": {
             "outlinewidth": 0,
             "ticks": ""
            },
            "type": "mesh3d"
           }
          ],
          "parcoords": [
           {
            "line": {
             "colorbar": {
              "outlinewidth": 0,
              "ticks": ""
             }
            },
            "type": "parcoords"
           }
          ],
          "pie": [
           {
            "automargin": true,
            "type": "pie"
           }
          ],
          "scatter": [
           {
            "fillpattern": {
             "fillmode": "overlay",
             "size": 10,
             "solidity": 0.2
            },
            "type": "scatter"
           }
          ],
          "scatter3d": [
           {
            "line": {
             "colorbar": {
              "outlinewidth": 0,
              "ticks": ""
             }
            },
            "marker": {
             "colorbar": {
              "outlinewidth": 0,
              "ticks": ""
             }
            },
            "type": "scatter3d"
           }
          ],
          "scattercarpet": [
           {
            "marker": {
             "colorbar": {
              "outlinewidth": 0,
              "ticks": ""
             }
            },
            "type": "scattercarpet"
           }
          ],
          "scattergeo": [
           {
            "marker": {
             "colorbar": {
              "outlinewidth": 0,
              "ticks": ""
             }
            },
            "type": "scattergeo"
           }
          ],
          "scattergl": [
           {
            "marker": {
             "colorbar": {
              "outlinewidth": 0,
              "ticks": ""
             }
            },
            "type": "scattergl"
           }
          ],
          "scattermap": [
           {
            "marker": {
             "colorbar": {
              "outlinewidth": 0,
              "ticks": ""
             }
            },
            "type": "scattermap"
           }
          ],
          "scattermapbox": [
           {
            "marker": {
             "colorbar": {
              "outlinewidth": 0,
              "ticks": ""
             }
            },
            "type": "scattermapbox"
           }
          ],
          "scatterpolar": [
           {
            "marker": {
             "colorbar": {
              "outlinewidth": 0,
              "ticks": ""
             }
            },
            "type": "scatterpolar"
           }
          ],
          "scatterpolargl": [
           {
            "marker": {
             "colorbar": {
              "outlinewidth": 0,
              "ticks": ""
             }
            },
            "type": "scatterpolargl"
           }
          ],
          "scatterternary": [
           {
            "marker": {
             "colorbar": {
              "outlinewidth": 0,
              "ticks": ""
             }
            },
            "type": "scatterternary"
           }
          ],
          "surface": [
           {
            "colorbar": {
             "outlinewidth": 0,
             "ticks": ""
            },
            "colorscale": [
             [
              0,
              "#0d0887"
             ],
             [
              0.1111111111111111,
              "#46039f"
             ],
             [
              0.2222222222222222,
              "#7201a8"
             ],
             [
              0.3333333333333333,
              "#9c179e"
             ],
             [
              0.4444444444444444,
              "#bd3786"
             ],
             [
              0.5555555555555556,
              "#d8576b"
             ],
             [
              0.6666666666666666,
              "#ed7953"
             ],
             [
              0.7777777777777778,
              "#fb9f3a"
             ],
             [
              0.8888888888888888,
              "#fdca26"
             ],
             [
              1,
              "#f0f921"
             ]
            ],
            "type": "surface"
           }
          ],
          "table": [
           {
            "cells": {
             "fill": {
              "color": "#EBF0F8"
             },
             "line": {
              "color": "white"
             }
            },
            "header": {
             "fill": {
              "color": "#C8D4E3"
             },
             "line": {
              "color": "white"
             }
            },
            "type": "table"
           }
          ]
         },
         "layout": {
          "annotationdefaults": {
           "arrowcolor": "#2a3f5f",
           "arrowhead": 0,
           "arrowwidth": 1
          },
          "autotypenumbers": "strict",
          "coloraxis": {
           "colorbar": {
            "outlinewidth": 0,
            "ticks": ""
           }
          },
          "colorscale": {
           "diverging": [
            [
             0,
             "#8e0152"
            ],
            [
             0.1,
             "#c51b7d"
            ],
            [
             0.2,
             "#de77ae"
            ],
            [
             0.3,
             "#f1b6da"
            ],
            [
             0.4,
             "#fde0ef"
            ],
            [
             0.5,
             "#f7f7f7"
            ],
            [
             0.6,
             "#e6f5d0"
            ],
            [
             0.7,
             "#b8e186"
            ],
            [
             0.8,
             "#7fbc41"
            ],
            [
             0.9,
             "#4d9221"
            ],
            [
             1,
             "#276419"
            ]
           ],
           "sequential": [
            [
             0,
             "#0d0887"
            ],
            [
             0.1111111111111111,
             "#46039f"
            ],
            [
             0.2222222222222222,
             "#7201a8"
            ],
            [
             0.3333333333333333,
             "#9c179e"
            ],
            [
             0.4444444444444444,
             "#bd3786"
            ],
            [
             0.5555555555555556,
             "#d8576b"
            ],
            [
             0.6666666666666666,
             "#ed7953"
            ],
            [
             0.7777777777777778,
             "#fb9f3a"
            ],
            [
             0.8888888888888888,
             "#fdca26"
            ],
            [
             1,
             "#f0f921"
            ]
           ],
           "sequentialminus": [
            [
             0,
             "#0d0887"
            ],
            [
             0.1111111111111111,
             "#46039f"
            ],
            [
             0.2222222222222222,
             "#7201a8"
            ],
            [
             0.3333333333333333,
             "#9c179e"
            ],
            [
             0.4444444444444444,
             "#bd3786"
            ],
            [
             0.5555555555555556,
             "#d8576b"
            ],
            [
             0.6666666666666666,
             "#ed7953"
            ],
            [
             0.7777777777777778,
             "#fb9f3a"
            ],
            [
             0.8888888888888888,
             "#fdca26"
            ],
            [
             1,
             "#f0f921"
            ]
           ]
          },
          "colorway": [
           "#636efa",
           "#EF553B",
           "#00cc96",
           "#ab63fa",
           "#FFA15A",
           "#19d3f3",
           "#FF6692",
           "#B6E880",
           "#FF97FF",
           "#FECB52"
          ],
          "font": {
           "color": "#2a3f5f"
          },
          "geo": {
           "bgcolor": "white",
           "lakecolor": "white",
           "landcolor": "#E5ECF6",
           "showlakes": true,
           "showland": true,
           "subunitcolor": "white"
          },
          "hoverlabel": {
           "align": "left"
          },
          "hovermode": "closest",
          "mapbox": {
           "style": "light"
          },
          "paper_bgcolor": "white",
          "plot_bgcolor": "#E5ECF6",
          "polar": {
           "angularaxis": {
            "gridcolor": "white",
            "linecolor": "white",
            "ticks": ""
           },
           "bgcolor": "#E5ECF6",
           "radialaxis": {
            "gridcolor": "white",
            "linecolor": "white",
            "ticks": ""
           }
          },
          "scene": {
           "xaxis": {
            "backgroundcolor": "#E5ECF6",
            "gridcolor": "white",
            "gridwidth": 2,
            "linecolor": "white",
            "showbackground": true,
            "ticks": "",
            "zerolinecolor": "white"
           },
           "yaxis": {
            "backgroundcolor": "#E5ECF6",
            "gridcolor": "white",
            "gridwidth": 2,
            "linecolor": "white",
            "showbackground": true,
            "ticks": "",
            "zerolinecolor": "white"
           },
           "zaxis": {
            "backgroundcolor": "#E5ECF6",
            "gridcolor": "white",
            "gridwidth": 2,
            "linecolor": "white",
            "showbackground": true,
            "ticks": "",
            "zerolinecolor": "white"
           }
          },
          "shapedefaults": {
           "line": {
            "color": "#2a3f5f"
           }
          },
          "ternary": {
           "aaxis": {
            "gridcolor": "white",
            "linecolor": "white",
            "ticks": ""
           },
           "baxis": {
            "gridcolor": "white",
            "linecolor": "white",
            "ticks": ""
           },
           "bgcolor": "#E5ECF6",
           "caxis": {
            "gridcolor": "white",
            "linecolor": "white",
            "ticks": ""
           }
          },
          "title": {
           "x": 0.05
          },
          "xaxis": {
           "automargin": true,
           "gridcolor": "white",
           "linecolor": "white",
           "ticks": "",
           "title": {
            "standoff": 15
           },
           "zerolinecolor": "white",
           "zerolinewidth": 2
          },
          "yaxis": {
           "automargin": true,
           "gridcolor": "white",
           "linecolor": "white",
           "ticks": "",
           "title": {
            "standoff": 15
           },
           "zerolinecolor": "white",
           "zerolinewidth": 2
          }
         }
        },
        "title": {
         "text": "Multi-goal Steering: Molecular Weight & GRAVY Score over Steps"
        },
        "width": 1200
       }
      }
     },
     "metadata": {},
     "output_type": "display_data"
    }
   ],
   "source": [
    "import pandas as pd\n",
    "import plotly.graph_objects as go\n",
    "\n",
    "# Load CSV\n",
    "df = pd.read_csv(\"multi_goal_steering.csv\")\n",
    "\n",
    "# Create a Plotly 3D scatter plot with lines\n",
    "fig = go.Figure()\n",
    "\n",
    "# Define a color map for the labels\n",
    "color_map = {\n",
    "    label: color for label, color in zip(\n",
    "        df[\"label\"].unique(), [\"red\", \"blue\", \"green\", \"orange\"]\n",
    "    )\n",
    "}\n",
    "\n",
    "# Add one trace per label\n",
    "for label in df[\"label\"].unique():\n",
    "    subset = df[df[\"label\"] == label].sort_values(by=\"step\")\n",
    "    fig.add_trace(\n",
    "        go.Scatter3d(\n",
    "            x=subset[\"step\"],\n",
    "            y=subset[\"molecular_weight\"],\n",
    "            z=subset[\"positive_gravy\"],\n",
    "            mode='lines+markers',\n",
    "            marker=dict(size=4),\n",
    "            line=dict(width=3, color=color_map[label]),\n",
    "            name=label\n",
    "        )\n",
    "    )\n",
    "\n",
    "# Set layout\n",
    "fig.update_layout(\n",
    "    width=1200,\n",
    "    height=700,\n",
    "    scene=dict(\n",
    "        xaxis_title='Step',\n",
    "        yaxis_title='Molecular Weight',\n",
    "        zaxis_title='GRAVY Score',\n",
    "    ),\n",
    "    title=\"Multi-goal Steering: Molecular Weight & GRAVY Score over Steps\",\n",
    "    legend=dict(x=0, y=1)\n",
    ")\n",
    "\n",
    "# Show the interactive plot\n",
    "fig.show()\n"
   ]
  },
  {
   "cell_type": "code",
   "execution_count": null,
   "id": "3b51609b",
   "metadata": {},
   "outputs": [],
   "source": []
  }
 ],
 "metadata": {
  "kernelspec": {
   "display_name": "esm_env",
   "language": "python",
   "name": "python3"
  },
  "language_info": {
   "codemirror_mode": {
    "name": "ipython",
    "version": 3
   },
   "file_extension": ".py",
   "mimetype": "text/x-python",
   "name": "python",
   "nbconvert_exporter": "python",
   "pygments_lexer": "ipython3",
   "version": "3.10.18"
  }
 },
 "nbformat": 4,
 "nbformat_minor": 5
}
