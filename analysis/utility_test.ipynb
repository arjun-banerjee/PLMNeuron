{
 "cells": [
  {
   "cell_type": "code",
   "execution_count": null,
   "id": "033b9cc0",
   "metadata": {},
   "outputs": [
    {
     "data": {
      "application/vnd.plotly.v1+json": {
       "config": {
        "plotlyServerURL": "https://plot.ly"
       },
       "data": [
        {
         "line": {
          "color": "red",
          "width": 3
         },
         "marker": {
          "size": 4
         },
         "mode": "lines+markers",
         "name": "high charge at pH7 + high molecular weight",
         "type": "scatter3d",
         "x": {
          "bdata": "AAABAAIAAwAEAAUABgAHAAgACQAKAAsADAANAA4ADwAQABEAEgATABQAFQAWABcAGAAZABoAGwAcAB0AHgAfACAAIQAiACMAJAAlACYAJwAoACkAKgArACwALQAuAC8AMAAxADIAMwA0ADUANgA3ADgAOQA6ADsAPAA9AD4APwBAAEEAQgBDAEQARQBGAEcASABJAEoASwBMAE0ATgBPAFAAUQBSAFMAVABVAFYAVwBYAFkAWgBbAFwAXQBeAF8AYABhAGIAYwBkAGUAZgBnAGgAaQBqAGsAbABtAG4AbwBwAHEAcgBzAHQAdQB2AHcAeAB5AHoAewB8AH0AfgB/AIAAgQCCAIMAhACFAIYAhwCIAIkAigCLAIwAjQCOAI8AkACRAJIAkwCUAJUAlgA=",
          "dtype": "i2"
         },
         "y": {
          "bdata": "TJ2ObtcLAEAAAAAAAAD4fwAAAAAAAPh/AAAAAAAA+H8AAAAAAAD4fwAAAAAAAPh/AAAAAAAA+H8AAAAAAAD4fwAAAAAAAPh/AAAAAAAA+H8AAAAAAAD4fwAAAAAAAPh/AAAAAAAA+H8AAAAAAAD4fwAAAAAAAPh/AAAAAAAA+H8AAAAAAAD4fwAAAAAAAPh/AAAAAAAA+H8AAAAAAAD4fwAAAAAAAPh/AAAAAAAA+H8AAAAAAAD4fwAAAAAAAPh/AAAAAAAA+H8AAAAAAAD4fwAAAAAAAPh/AAAAAAAA+H8AAAAAAAD4fwAAAAAAAPh/AAAAAAAA+H8AAAAAAAD4fwAAAAAAAPh/AAAAAAAA+H8AAAAAAAD4fwAAAAAAAPh/AAAAAAAA+H8AAAAAAAD4fwAAAAAAAPh/AAAAAAAA+H8AAAAAAAD4fwAAAAAAAPh/AAAAAAAA+H8AAAAAAAD4fwAAAAAAAPh/AAAAAAAA+H8AAAAAAAD4fwAAAAAAAPh/AAAAAAAA+H8AAAAAAAD4fwAAAAAAAPh/AAAAAAAA+H8AAAAAAAD4fwAAAAAAAPh/AAAAAAAA+H8AAAAAAAD4fwAAAAAAAPh/AAAAAAAA+H8AAAAAAAD4fwAAAAAAAPh/AAAAAAAA+H8AAAAAAAD4fwAAAAAAAPh/AAAAAAAA+H8AAAAAAAD4fwAAAAAAAPh/AAAAAAAA+H8AAAAAAAD4fwAAAAAAAPh/AAAAAAAA+H8AAAAAAAD4fwAAAAAAAPh/AAAAAAAA+H8AAAAAAAD4fwAAAAAAAPh/AAAAAAAA+H8AAAAAAAD4fwAAAAAAAPh/AAAAAAAA+H8AAAAAAAD4fwAAAAAAAPh/AAAAAAAA+H8AAAAAAAD4fwAAAAAAAPh/AAAAAAAA+H8AAAAAAAD4fwAAAAAAAPh/AAAAAAAA+H8AAAAAAAD4fwAAAAAAAPh/AAAAAAAA+H8AAAAAAAD4fwAAAAAAAPh/AAAAAAAA+H8AAAAAAAD4fwAAAAAAAPh/AAAAAAAA+H8AAAAAAAD4fwAAAAAAAPh/AAAAAAAA+H8AAAAAAAD4fwAAAAAAAPh/AAAAAAAA+H8AAAAAAAD4fwAAAAAAAPh/AAAAAAAA+H8AAAAAAAD4fwAAAAAAAPh/AAAAAAAA+H8AAAAAAAD4fwAAAAAAAPh/AAAAAAAA+H8AAAAAAAD4fwAAAAAAAPh/AAAAAAAA+H8AAAAAAAD4fwAAAAAAAPh/AAAAAAAA+H8AAAAAAAD4fwAAAAAAAPh/AAAAAAAA+H8AAAAAAAD4fwAAAAAAAPh/AAAAAAAA+H8AAAAAAAD4fwAAAAAAAPh/AAAAAAAA+H8AAAAAAAD4fwAAAAAAAPh/AAAAAAAA+H8AAAAAAAD4fwAAAAAAAPh/AAAAAAAA+H8AAAAAAAD4fwAAAAAAAPh/AAAAAAAA+H8AAAAAAAD4fwAAAAAAAPh/AAAAAAAA+H8AAAAAAAD4fwAAAAAAAPh/AAAAAAAA+H8AAAAAAAD4fwAAAAAAAPh/AAAAAAAA+H8AAAAAAAD4fwAAAAAAAPh/AAAAAAAA+H8AAAAAAAD4fwAAAAAAAPh/AAAAAAAA+H8=",
          "dtype": "f8"
         },
         "z": {
          "bdata": "alZ9rv4gwUAAAAAAAAD4fwAAAAAAAPh/AAAAAAAA+H8AAAAAAAD4fwAAAAAAAPh/AAAAAAAA+H8AAAAAAAD4fwAAAAAAAPh/AAAAAAAA+H8AAAAAAAD4fwAAAAAAAPh/AAAAAAAA+H8AAAAAAAD4fwAAAAAAAPh/AAAAAAAA+H8AAAAAAAD4fwAAAAAAAPh/AAAAAAAA+H8AAAAAAAD4fwAAAAAAAPh/AAAAAAAA+H8AAAAAAAD4fwAAAAAAAPh/AAAAAAAA+H8AAAAAAAD4fwAAAAAAAPh/AAAAAAAA+H8AAAAAAAD4fwAAAAAAAPh/AAAAAAAA+H8AAAAAAAD4fwAAAAAAAPh/AAAAAAAA+H8AAAAAAAD4fwAAAAAAAPh/AAAAAAAA+H8AAAAAAAD4fwAAAAAAAPh/AAAAAAAA+H8AAAAAAAD4fwAAAAAAAPh/AAAAAAAA+H8AAAAAAAD4fwAAAAAAAPh/AAAAAAAA+H8AAAAAAAD4fwAAAAAAAPh/AAAAAAAA+H8AAAAAAAD4fwAAAAAAAPh/AAAAAAAA+H8AAAAAAAD4fwAAAAAAAPh/AAAAAAAA+H8AAAAAAAD4fwAAAAAAAPh/AAAAAAAA+H8AAAAAAAD4fwAAAAAAAPh/AAAAAAAA+H8AAAAAAAD4fwAAAAAAAPh/AAAAAAAA+H8AAAAAAAD4fwAAAAAAAPh/AAAAAAAA+H8AAAAAAAD4fwAAAAAAAPh/AAAAAAAA+H8AAAAAAAD4fwAAAAAAAPh/AAAAAAAA+H8AAAAAAAD4fwAAAAAAAPh/AAAAAAAA+H8AAAAAAAD4fwAAAAAAAPh/AAAAAAAA+H8AAAAAAAD4fwAAAAAAAPh/AAAAAAAA+H8AAAAAAAD4fwAAAAAAAPh/AAAAAAAA+H8AAAAAAAD4fwAAAAAAAPh/AAAAAAAA+H8AAAAAAAD4fwAAAAAAAPh/AAAAAAAA+H8AAAAAAAD4fwAAAAAAAPh/AAAAAAAA+H8AAAAAAAD4fwAAAAAAAPh/AAAAAAAA+H8AAAAAAAD4fwAAAAAAAPh/AAAAAAAA+H8AAAAAAAD4fwAAAAAAAPh/AAAAAAAA+H8AAAAAAAD4fwAAAAAAAPh/AAAAAAAA+H8AAAAAAAD4fwAAAAAAAPh/AAAAAAAA+H8AAAAAAAD4fwAAAAAAAPh/AAAAAAAA+H8AAAAAAAD4fwAAAAAAAPh/AAAAAAAA+H8AAAAAAAD4fwAAAAAAAPh/AAAAAAAA+H8AAAAAAAD4fwAAAAAAAPh/AAAAAAAA+H8AAAAAAAD4fwAAAAAAAPh/AAAAAAAA+H8AAAAAAAD4fwAAAAAAAPh/AAAAAAAA+H8AAAAAAAD4fwAAAAAAAPh/AAAAAAAA+H8AAAAAAAD4fwAAAAAAAPh/AAAAAAAA+H8AAAAAAAD4fwAAAAAAAPh/AAAAAAAA+H8AAAAAAAD4fwAAAAAAAPh/AAAAAAAA+H8AAAAAAAD4fwAAAAAAAPh/AAAAAAAA+H8AAAAAAAD4fwAAAAAAAPh/AAAAAAAA+H8AAAAAAAD4fwAAAAAAAPh/AAAAAAAA+H8AAAAAAAD4fwAAAAAAAPh/AAAAAAAA+H8=",
          "dtype": "f8"
         }
        },
        {
         "line": {
          "color": "blue",
          "width": 3
         },
         "marker": {
          "size": 4
         },
         "mode": "lines+markers",
         "name": "high charge at pH7 + low molecular weight",
         "type": "scatter3d",
         "x": {
          "bdata": "AAABAAIAAwAEAAUABgAHAAgACQAKAAsADAANAA4ADwAQABEAEgATABQAFQAWABcAGAAZABoAGwAcAB0AHgAfACAAIQAiACMAJAAlACYAJwAoACkAKgArACwALQAuAC8AMAAxADIAMwA0ADUANgA3ADgAOQA6ADsAPAA9AD4APwBAAEEAQgBDAEQARQBGAEcASABJAEoASwBMAE0ATgBPAFAAUQBSAFMAVABVAFYAVwBYAFkAWgBbAFwAXQBeAF8AYABhAGIAYwBkAGUAZgBnAGgAaQBqAGsAbABtAG4AbwBwAHEAcgBzAHQAdQB2AHcAeAB5AHoAewB8AH0AfgB/AIAAgQCCAIMAhACFAIYAhwCIAIkAigCLAIwAjQCOAI8AkACRAJIAkwCUAJUAlgA=",
          "dtype": "i2"
         },
         "y": {
          "bdata": "TJ2ObtcLAEBIDhwPVGoFQLLYxlhrRxJAqLHV4vO0GkBGwmn/22UfQNXiAH58CxNAL5BEByOADUDwMQNxXWTjP5CpDVgQJPg/EDCGKo12DEAAjQIeLKbav+hQpH7sSgPAMNS2/v6F9r8fMYL+6mLfP+BD9Hskz+I/50UkPfcDFkDmmTpBwhEMQD9iKTmg596/7RrMDXELEkBc3S7fYQgEQEidjGXneuA/gBYuclns3r9gulWPt/zevzhXSlCRGAxAkRo+i4QGHkB7LaAtTw4SQLDNuXjjsOA/sM25eOOw4D97LaAtTw4SQD2zzUtJDRZA5BsUSxI8DkBkELkOHj4GQKn45pBcOA5AwAm8pFOA/D/ACbykU4D8P8AJvKRTgPw/wAm8pFOA/D94DbKvYIT8P3DlC1jWCOk/cOULWNYI6T/w7Pdt8BDpP/Ds923wEOk/4KK0mXJt3r9/5iC2GXvLv3/mILYZe8u/f+Ygthl7y7+4PyMfRZf3v3/mILYZe8u/f+Ygthl7y79/5iC2GXvLv3/mILYZe8u/H5B2pbU5+b9/5iC2GXvLv3/mILYZe8u/f+Ygthl7y79/5iC2GXvLv3/mILYZe8u/f+Ygthl7y79/5iC2GXvLv3/mILYZe8u/f+Ygthl7y79/5iC2GXvLv3/mILYZe8u/f+Ygthl7y79/5iC2GXvLv3D044MKGek/cPTjgwoZ6T9/5iC2GXvLv3/mILYZe8u/f+Ygthl7y79/5iC2GXvLv3/mILYZe8u/f+Ygthl7y7/g+8+ZJCHpP1jtHzvgY/O/4PvPmSQh6T/AlJ67VR/Lv8CUnrtVH8u/wJSeu1Ufy7/AlJ67VR/Lv8CUnrtVH8u/wJSeu1Ufy79Y7R874GPzv8CUnrtVH8u/wJSeu1Ufy7/AlJ67VR/Lv+D7z5kkIek/wJSeu1Ufy7/AlJ67VR/Lv8CUnrtVH8u/wJSeu1Ufy7/AlJ67VR/Lv8CUnrtVH8u/wJSeu1Ufy7/AlJ67VR/Lv1CQcJgVOOk/wJSeu1Ufy7/AlJ67VR/Lv8CUnrtVH8u/wJSeu1Ufy79A1SYqPzvBv8CUnrtVH8u/wJSeu1Ufy7/AlJ67VR/Lv4D10p/Mi/e/gPXSn8yL97+A9dKfzIv3v4D10p/Mi/e/wJSeu1Ufy7/AlJ67VR/Lv8CUnrtVH8u/wJSeu1Ufy7/AlJ67VR/Lv8CUnrtVH8u/wJSeu1Ufy7/AlJ67VR/Lv8CUnrtVH8u/wJSeu1Ufy7/AlJ67VR/Lv8CUnrtVH8u/wJSeu1Ufy7/AlJ67VR/Lv8CUnrtVH8u/wJSeu1Ufy7/AlJ67VR/Lv8CUnrtVH8u/wJSeu1Ufy7/AlJ67VR/Lv8CUnrtVH8u/wJSeu1Ufy7/AlJ67VR/Lv8CUnrtVH8u/wJSeu1Ufy79QkHCYFTjpP1CQcJgVOOk/wJSeu1Ufy7/AlJ67VR/Lv8CUnrtVH8u/wJSeu1Ufy7/AlJ67VR/Lv8CUnrtVH8u/wJSeu1Ufy7/AlJ67VR/Lv8CUnrtVH8u/wJSeu1Ufy7/AlJ67VR/Lv8CUnrtVH8u/wJSeu1Ufy7+A9dKfzIv3v8CUnrtVH8u/wJSeu1Ufy78=",
          "dtype": "f8"
         },
         "z": {
          "bdata": "alZ9rv4gwUAmyxDHcuPAQArgLZBolsBAHNJvX3fpwEBVqDXNgz3BQFPKMsSJKcFAv/UoXH8LwUC6UpYhxpfAQE+4HoXLg8BAzgDeAkFRwEDIoUW2y5bAQGi8dJO4esBA3ZwRpb0pwED+ERQ/doy/QNA9eVhI0L9An9++Dkw/wEC67J485NHAQC6At0Bi1cBAbfkP6X/7wEDp68A5+wvBQD4c6+IGTsFATgWjkuLhwEDXaABvWenAQP6ZCBtGv8BAe0i/fVXOwEBpVn2uVvzAQEDY8PRCCMFAJ2UZ4kD3wECCFtnOT/bAQOunxkvfGcFAn3A9CtcxwUC8qKROUCXBQMJLN4lJ/8BADMe6uLXhwEAMx7q4teHAQPNT46Wz0MBA66fGS6eywEC0jQbwpq/AQBk4Z0QhicBAGThnRCGJwED7kH77IpfAQPuQfvsil8BAcJMYBKaYwEBNJ6CJmJDAQE0noImYkMBATSegiZiQwEDh0CLbGYTAQE0noImYkMBATSegiZiQwEBNJ6CJmJDAQJnvp8YbnsBAMc07TpGCwECZ76fGG57AQLJif9kdr8BATSegiZiQwEA0tMh2ln/AQDS0yHaWf8BANLTIdpZ/wEA0tMh2ln/AQDS0yHaWf8BANLTIdpZ/wEA0tMh2ln/AQDS0yHaWf8BANLTIdpZ/wEA0tMh2ln/AQMR2vp8ilMBAxHa+nyKUwEA0tMh2ln/AQDS0yHaWf8BATSegiZiQwEBNJ6CJmJDAQE0noImYkMBAVdO846SuwED51HjpHprAQCdlGeKQh8BAps/VViSiwECx8/3UILvAQLHz/dQgu8BAsfP91CC7wEDshclUGaLAQKlH4XoUncBAqUfhehSdwEAwXrpJlI7AQJiAJsIeqsBAoCxDHCvIwECgLEMcK8jAQAoLtaapwMBAmIAmwh6qwECYgCbCHqrAQJiAJsIeqsBAmIAmwh6qwECgLEMcK8jAQJiAJsIeqsBAmIAmwh6qwECYgCbCHqrAQAqcM6KszMBAmIAmwh6qwECYgCbCHqrAQJiAJsIeqsBAmIAmwh6qwEAlqRPQJL7AQJiAJsIeqsBAmIAmwh6qwECYgCbCHqrAQCwqqROgncBALCqpE6CdwEAsKqkToJ3AQCwqqROgncBAmIAmwh6qwECYgCbCHqrAQJiAJsIeqsBAmIAmwh6qwECYgCbCHqrAQJiAJsIeqsBAmIAmwh6qwECYgCbCHqrAQJiAJsIeqsBAoCxDHCvIwECYgCbCHqrAQJiAJsIeqsBAmIAmwh6qwECYgCbCHqrAQJiAJsIeqsBAmIAmwh6qwECYgCbCHqrAQJiAJsIeqsBAmIAmwh6qwECYgCbCHqrAQJiAJsIeqsBAh7lrCSm3wECx8/3UILvAQLHz/dQgu8BAmIAmwh6qwEDxKFyPqrvAQPEoXI+qu8BAh7lrCSm3wEB/DU+vHJnAQH8NT68cmcBAfw1PrxyZwECYgCbCHqrAQJiAJsIeqsBAsfP91CC7wECx8/3UILvAQLHz/dQgu8BAsfP91CC7wECx8/3UILvAQLHz/dQgu8BAsfP91CC7wEBFnYAmoq7AQLHz/dQgu8BAsfP91CC7wEA=",
          "dtype": "f8"
         }
        },
        {
         "line": {
          "color": "green",
          "width": 3
         },
         "marker": {
          "size": 4
         },
         "mode": "lines+markers",
         "name": "low charge at pH7 + high molecular weight",
         "type": "scatter3d",
         "x": {
          "bdata": "AAABAAIAAwAEAAUABgAHAAgACQAKAAsADAANAA4ADwAQABEAEgATABQAFQAWABcAGAAZABoAGwAcAB0AHgAfACAAIQAiACMAJAAlACYAJwAoACkAKgArACwALQAuAC8AMAAxADIAMwA0ADUANgA3ADgAOQA6ADsAPAA9AD4APwBAAEEAQgBDAEQARQBGAEcASABJAEoASwBMAE0ATgBPAFAAUQBSAFMAVABVAFYAVwBYAFkAWgBbAFwAXQBeAF8AYABhAGIAYwBkAGUAZgBnAGgAaQBqAGsAbABtAG4AbwBwAHEAcgBzAHQAdQB2AHcAeAB5AHoAewB8AH0AfgB/AIAAgQCCAIMAhACFAIYAhwCIAIkAigCLAIwAjQCOAI8AkACRAJIAkwCUAJUAlgA=",
          "dtype": "i2"
         },
         "y": {
          "bdata": "TJ2ObtcLAEAAAAAAAAD4fwAAAAAAAPh/AAAAAAAA+H8AAAAAAAD4fwAAAAAAAPh/AAAAAAAA+H8AAAAAAAD4fwAAAAAAAPh/AAAAAAAA+H8AAAAAAAD4fwAAAAAAAPh/AAAAAAAA+H8AAAAAAAD4fwAAAAAAAPh/AAAAAAAA+H8AAAAAAAD4fwAAAAAAAPh/AAAAAAAA+H8AAAAAAAD4fwAAAAAAAPh/AAAAAAAA+H8AAAAAAAD4fwAAAAAAAPh/AAAAAAAA+H8AAAAAAAD4fwAAAAAAAPh/AAAAAAAA+H8AAAAAAAD4fwAAAAAAAPh/AAAAAAAA+H8AAAAAAAD4fwAAAAAAAPh/AAAAAAAA+H8AAAAAAAD4fwAAAAAAAPh/AAAAAAAA+H8AAAAAAAD4fwAAAAAAAPh/AAAAAAAA+H8AAAAAAAD4fwAAAAAAAPh/AAAAAAAA+H8AAAAAAAD4fwAAAAAAAPh/AAAAAAAA+H8AAAAAAAD4fwAAAAAAAPh/AAAAAAAA+H8AAAAAAAD4fwAAAAAAAPh/AAAAAAAA+H8AAAAAAAD4fwAAAAAAAPh/AAAAAAAA+H8AAAAAAAD4fwAAAAAAAPh/AAAAAAAA+H8AAAAAAAD4fwAAAAAAAPh/AAAAAAAA+H8AAAAAAAD4fwAAAAAAAPh/AAAAAAAA+H8AAAAAAAD4fwAAAAAAAPh/AAAAAAAA+H8AAAAAAAD4fwAAAAAAAPh/AAAAAAAA+H8AAAAAAAD4fwAAAAAAAPh/AAAAAAAA+H8AAAAAAAD4fwAAAAAAAPh/AAAAAAAA+H8AAAAAAAD4fwAAAAAAAPh/AAAAAAAA+H8AAAAAAAD4fwAAAAAAAPh/AAAAAAAA+H8AAAAAAAD4fwAAAAAAAPh/AAAAAAAA+H8AAAAAAAD4fwAAAAAAAPh/AAAAAAAA+H8AAAAAAAD4fwAAAAAAAPh/AAAAAAAA+H8AAAAAAAD4fwAAAAAAAPh/AAAAAAAA+H8AAAAAAAD4fwAAAAAAAPh/AAAAAAAA+H8AAAAAAAD4fwAAAAAAAPh/AAAAAAAA+H8AAAAAAAD4fwAAAAAAAPh/AAAAAAAA+H8AAAAAAAD4fwAAAAAAAPh/AAAAAAAA+H8AAAAAAAD4fwAAAAAAAPh/AAAAAAAA+H8AAAAAAAD4fwAAAAAAAPh/AAAAAAAA+H8AAAAAAAD4fwAAAAAAAPh/AAAAAAAA+H8AAAAAAAD4fwAAAAAAAPh/AAAAAAAA+H8AAAAAAAD4fwAAAAAAAPh/AAAAAAAA+H8AAAAAAAD4fwAAAAAAAPh/AAAAAAAA+H/Dwyqmq1LoPwAAAAAAAPh/AAAAAAAA+H8AAAAAAAD4fwAAAAAAAPh/AAAAAAAA+H8AAAAAAAD4fwAAAAAAAPh/AAAAAAAA+H8AAAAAAAD4fwAAAAAAAPh/AAAAAAAA+H8AAAAAAAD4fwAAAAAAAPh/AAAAAAAA+H8AAAAAAAD4fwAAAAAAAPh/AAAAAAAA+H8AAAAAAAD4fwAAAAAAAPh/AAAAAAAA+H8AAAAAAAD4fwAAAAAAAPh/AAAAAAAA+H8AAAAAAAD4fwAAAAAAAPh/AAAAAAAA+H8=",
          "dtype": "f8"
         },
         "z": {
          "bdata": "alZ9rv4gwUAAAAAAAAD4fwAAAAAAAPh/AAAAAAAA+H8AAAAAAAD4fwAAAAAAAPh/AAAAAAAA+H8AAAAAAAD4fwAAAAAAAPh/AAAAAAAA+H8AAAAAAAD4fwAAAAAAAPh/AAAAAAAA+H8AAAAAAAD4fwAAAAAAAPh/AAAAAAAA+H8AAAAAAAD4fwAAAAAAAPh/AAAAAAAA+H8AAAAAAAD4fwAAAAAAAPh/AAAAAAAA+H8AAAAAAAD4fwAAAAAAAPh/AAAAAAAA+H8AAAAAAAD4fwAAAAAAAPh/AAAAAAAA+H8AAAAAAAD4fwAAAAAAAPh/AAAAAAAA+H8AAAAAAAD4fwAAAAAAAPh/AAAAAAAA+H8AAAAAAAD4fwAAAAAAAPh/AAAAAAAA+H8AAAAAAAD4fwAAAAAAAPh/AAAAAAAA+H8AAAAAAAD4fwAAAAAAAPh/AAAAAAAA+H8AAAAAAAD4fwAAAAAAAPh/AAAAAAAA+H8AAAAAAAD4fwAAAAAAAPh/AAAAAAAA+H8AAAAAAAD4fwAAAAAAAPh/AAAAAAAA+H8AAAAAAAD4fwAAAAAAAPh/AAAAAAAA+H8AAAAAAAD4fwAAAAAAAPh/AAAAAAAA+H8AAAAAAAD4fwAAAAAAAPh/AAAAAAAA+H8AAAAAAAD4fwAAAAAAAPh/AAAAAAAA+H8AAAAAAAD4fwAAAAAAAPh/AAAAAAAA+H8AAAAAAAD4fwAAAAAAAPh/AAAAAAAA+H8AAAAAAAD4fwAAAAAAAPh/AAAAAAAA+H8AAAAAAAD4fwAAAAAAAPh/AAAAAAAA+H8AAAAAAAD4fwAAAAAAAPh/AAAAAAAA+H8AAAAAAAD4fwAAAAAAAPh/AAAAAAAA+H8AAAAAAAD4fwAAAAAAAPh/AAAAAAAA+H8AAAAAAAD4fwAAAAAAAPh/AAAAAAAA+H8AAAAAAAD4fwAAAAAAAPh/AAAAAAAA+H8AAAAAAAD4fwAAAAAAAPh/AAAAAAAA+H8AAAAAAAD4fwAAAAAAAPh/AAAAAAAA+H8AAAAAAAD4fwAAAAAAAPh/AAAAAAAA+H8AAAAAAAD4fwAAAAAAAPh/AAAAAAAA+H8AAAAAAAD4fwAAAAAAAPh/AAAAAAAA+H8AAAAAAAD4fwAAAAAAAPh/AAAAAAAA+H8AAAAAAAD4fwAAAAAAAPh/AAAAAAAA+H8AAAAAAAD4fwAAAAAAAPh/AAAAAAAA+H8AAAAAAAD4fwAAAAAAAPh/AAAAAAAA+H8AAAAAAAD4fwAAAAAAAPh/AAAAAAAA+H8AAAAAAAD4fwAAAAAAAPh/AAAAAAAA+H/fT42XbsZlQAAAAAAAAPh/AAAAAAAA+H8AAAAAAAD4fwAAAAAAAPh/AAAAAAAA+H8AAAAAAAD4fwAAAAAAAPh/AAAAAAAA+H8AAAAAAAD4fwAAAAAAAPh/AAAAAAAA+H8AAAAAAAD4fwAAAAAAAPh/AAAAAAAA+H8AAAAAAAD4fwAAAAAAAPh/AAAAAAAA+H8AAAAAAAD4fwAAAAAAAPh/AAAAAAAA+H8AAAAAAAD4fwAAAAAAAPh/AAAAAAAA+H8AAAAAAAD4fwAAAAAAAPh/AAAAAAAA+H8=",
          "dtype": "f8"
         }
        },
        {
         "line": {
          "color": "orange",
          "width": 3
         },
         "marker": {
          "size": 4
         },
         "mode": "lines+markers",
         "name": "low charge at pH7 + low molecular weight",
         "type": "scatter3d",
         "x": {
          "bdata": "AAABAAIAAwAEAAUABgAHAAgACQAKAAsADAANAA4ADwAQABEAEgATABQAFQAWABcAGAAZABoAGwAcAB0AHgAfACAAIQAiACMAJAAlACYAJwAoACkAKgArACwALQAuAC8AMAAxADIAMwA0ADUANgA3ADgAOQA6ADsAPAA9AD4APwBAAEEAQgBDAEQARQBGAEcASABJAEoASwBMAE0ATgBPAFAAUQBSAFMAVABVAFYAVwBYAFkAWgBbAFwAXQBeAF8AYABhAGIAYwBkAGUAZgBnAGgAaQBqAGsAbABtAG4AbwBwAHEAcgBzAHQAdQB2AHcAeAB5AHoAewB8AH0AfgB/AIAAgQCCAIMAhACFAIYAhwCIAIkAigCLAIwAjQCOAI8AkACRAJIAkwCUAJUAlgA=",
          "dtype": "i2"
         },
         "y": {
          "bdata": "TJ2ObtcLAEA4IQHaRU0FQDBDkunzqB5ASzx7+SYmIUDs62kEklkaQNqhDWsaBRZArP0ibmEAFkBu6AfhZ3L5P/xSKlQZAPi/Qt84WvzdC8CPN+FixhTfvx16WzxhBgxAkb4aoUoAGkC4pe/5ARAbQH5nXGRGDRNAMf60blcaDkC5qLEIoxwGQOp5XFlIChdAOnNx+EoKE0D7+J4WRQkXQNNi52XnLhtA02LnZecuG0DTYudl5y4bQNNi52XnLhtA02LnZecuG0Dq2JD3KIgfQCJc/ATqLhdAg51Mht5dDkCDnUyG3l0OQIOdTIbeXQ5Ag51Mht5dDkAFqafC0lsOQCOQdsTjXQZAhAVBBdK7/D+EBUEF0rv8P++CYpb818m/hAVBBdK7/D+F1SkDuXfpP/Z/uRDIIMq/9n+5EMggyr/2f7kQyCDKv/Z/uRDIIMq/GgQnVTD6378i4ajCL6zuP/drUOH0+fe/92tQ4fT5978aBCdVMPrfv/Z/uRDIIMq/9n+5EMggyr+F1SkDuXfpPxoEJ1Uw+t+/GgQnVTD637+SrQ+XN2XLvxoEJ1Uw+t+/9n+5EMggyr/2f7kQyCDKv/DaHc6BP/O/8NodzoE/87/TxwhLhEHKv/Z/uRDIIMq/uyXX8YPwvb/2f7kQyCDKv/Z/uRDIIMq/9n+5EMggyr/2f7kQyCDKv/Z/uRDIIMq/9n+5EMggyr/2f7kQyCDKv/Z/uRDIIMq/9n+5EMggyr/2f7kQyCDKv/Z/uRDIIMq/9n+5EMggyr8aBCdVMPrfv/Z/uRDIIMq/9n+5EMggyr/2f7kQyCDKv/Z/uRDIIMq//8a1hP20zr8QZV0FqbXzvxBlXQWptfO/d7PE3NIC4D/2f7kQyCDKv7sl1/GD8L2/DC7tCN99nr+7Jdfxg/C9v/Z/uRDIIMq/9n+5EMggyr/2f7kQyCDKv/Z/uRDIIMq/9n+5EMggyr+GAHMGljjzv/Z/uRDIIMq/RtpXY3oy87/2f7kQyCDKvzDc3VYiI/O/9n+5EMggyr+7Jdfxg/C9v/Z/uRDIIMq/cAuOmWYZyb/2f7kQyCDKv/Z/uRDIIMq/MNzdViIj87/2f7kQyCDKv4XVKQO5d+k/GgQnVTD637/2f7kQyCDKv/Z/uRDIIMq/08cIS4RByr/2f7kQyCDKv7sl1/GD8L2/9n+5EMggyr/2f7kQyCDKv/Z/uRDIIMq/hdUpA7l36T+F1SkDuXfpP4XVKQO5d+k/hdUpA7l36T9wC46ZZhnJvya1dHLSgOk/bwGOU2L8yb+F1SkDuXfpP4XVKQO5d+k/hAVBBdK7/D+F1SkDuXfpP4QFQQXSu/w/hAVBBdK7/D+F1SkDuXfpP4XVKQO5d+k/hdUpA7l36T+F1SkDuXfpPzDc3VYiI/O/9n+5EMggyr8w3N1WIiPzv/Z/uRDIIMq/W9acrc+LAcAw3N1WIiPzvzDc3VYiI/O/iAcuGynC8b8gVV5uRqXwvzDc3VYiI/O/9n+5EMggyr/2f7kQyCDKv/Z/uRDIIMq/uyXX8YPwvb8w3N1WIiPzv/qfIlQIW/O/9n+5EMggyr/2f7kQyCDKv/Z/uRDIIMq/DC7tCN99nr8=",
          "dtype": "f8"
         },
         "z": {
          "bdata": "alZ9rv4gwUDGmLuWUIDAQFioNc1DIMBASjeJQUBjv0DFdr6fKla/QGD35GERXb5Agp7Nqp8fvUBuNIC3IP+7QNbFbTQQjbtAwBcmUyUFvEBIN4lBUEG8QI1s5/u5DrpAltQJaIJ3uUC9UpYhPn25QF4gQfFDfrlAvsEXJhOMuEDFsS5uUzm5QJqZmZlJ1rhAPQrXowDbt0ACvAUS9MG3QCntDb7gxLdAP+jZrLp8t0As9pfds263QN+Th4W6jLdAq8/VVsyat0A5tMh2/j+4QGuad5zSm7dAMlUwKqn9tkCDUUmdwCu3QLED54yoKrdAbjSAt5DRtkBXn6utqF23QKNFtvNtq7ZAXGQ73x/ItUAqMQis7Ea1QESk377ukrVA2AloItwutUD/7evAucu0QKWJsOGJPLRAgKUsQ3wgtECApSxDfCC0QFvBqKRuBLRAbiJseJpctEBGE2HDk3O0QKu9wReWerRA3HjpJrHCtEAeJlMFs6i0QDXdJAZh6LNAbPfkYXEQtECiVZ+rrbW0QNne4AuzqLRAE3Gsi4tKtEDIqKROsJy0QLFgVFLH4rRALw8Ltcb3tEBC30+Nl3i0QFsFo5LKObVAdOf7qdE/tUDonBGl3W21QF19rrbSPbVAoXecosMotUA9zTtOscq0QLlQa5qnwLRAeF8HzolstEDp6ZWyjGi0QDM6ksufnLRAMzqSy5+ctED7H9Jvj3S0QOgtkKCIZrRAH0hQ/JiOtEBEcM6Ioqi0QM6PMXet2LRAZNO845SMtEAMCYofs8i0QGB9rray4LRAVOoENKGytED2L7snv/a0QBwUP8bMErVAes6I0q7OtEDcTWIQuAi1QO8/pN++FrVAJg3gLRC+tUD80k1i0DG1QIeMuWvJILVAk47k8t9wtUA5KqkT0D61QEOSy3/YNbVAdQn5oNcitUB7io7kstC0QPmnxkvH+rRAsqROQMP4tEAVJCh+zDK1QHV4eqXMIrVAAHbgnMEitUBn3EYDqMC0QIELJCiexrRAH4xK6pSMtEAFqvHSncC0QAyaCBuOfrRA8fup8bINtUBwZmZmprq0QPqnxkuHcLRAXCegiZCqtEDCrwPnfEO0QOe1hHyw4bRAot2Th6WstED5p8ZLh3C0QEO0yHaeprRAXEmdgKbatEAMmggbjn60QAWq8dKdwLRADJoIG45+tEAMmggbjn60QNV/SL99VrRAWGIQWJmrtEBrVFInoLm0QGtUUiegubRAfkaU9qbHtEDgxW00sAG1QHTecYrOYrVABe7rwLkbtUCRONbFrdW0QH5GlPamx7RAExueXskqtUC1YFRSt++0QNwA3gK5ArVAAClcj8IctUBHLNSalp+0QGtUUiegubRA2DtO0bHXtECibhKDsOG0QIILJCiexrRAIIxK6pSMtECCCyQonsa0QMLRAN6y0LRAlijtDa4etUCCCyQonsa0QF7jpZuUrLRAb4hjXawitUAU16NwfXa0QPCuJeRzXLRAji9MpmoitECOL0ymaiK0QI4vTKZqIrRAYxe30XBKtEC5lGWIYzS0QGAOLbJ9brRAv6Z5x0nis0Dzt68DR9azQOngC5M5qrNAIgRWDl0wtEA=",
          "dtype": "f8"
         }
        }
       ],
       "layout": {
        "legend": {
         "x": 0,
         "y": 1
        },
        "scene": {
         "xaxis": {
          "title": {
           "text": "Step"
          }
         },
         "yaxis": {
          "title": {
           "text": "Charge at pH7"
          }
         },
         "zaxis": {
          "title": {
           "text": "Molecular Weight"
          }
         }
        },
        "template": {
         "data": {
          "bar": [
           {
            "error_x": {
             "color": "#2a3f5f"
            },
            "error_y": {
             "color": "#2a3f5f"
            },
            "marker": {
             "line": {
              "color": "#E5ECF6",
              "width": 0.5
             },
             "pattern": {
              "fillmode": "overlay",
              "size": 10,
              "solidity": 0.2
             }
            },
            "type": "bar"
           }
          ],
          "barpolar": [
           {
            "marker": {
             "line": {
              "color": "#E5ECF6",
              "width": 0.5
             },
             "pattern": {
              "fillmode": "overlay",
              "size": 10,
              "solidity": 0.2
             }
            },
            "type": "barpolar"
           }
          ],
          "carpet": [
           {
            "aaxis": {
             "endlinecolor": "#2a3f5f",
             "gridcolor": "white",
             "linecolor": "white",
             "minorgridcolor": "white",
             "startlinecolor": "#2a3f5f"
            },
            "baxis": {
             "endlinecolor": "#2a3f5f",
             "gridcolor": "white",
             "linecolor": "white",
             "minorgridcolor": "white",
             "startlinecolor": "#2a3f5f"
            },
            "type": "carpet"
           }
          ],
          "choropleth": [
           {
            "colorbar": {
             "outlinewidth": 0,
             "ticks": ""
            },
            "type": "choropleth"
           }
          ],
          "contour": [
           {
            "colorbar": {
             "outlinewidth": 0,
             "ticks": ""
            },
            "colorscale": [
             [
              0,
              "#0d0887"
             ],
             [
              0.1111111111111111,
              "#46039f"
             ],
             [
              0.2222222222222222,
              "#7201a8"
             ],
             [
              0.3333333333333333,
              "#9c179e"
             ],
             [
              0.4444444444444444,
              "#bd3786"
             ],
             [
              0.5555555555555556,
              "#d8576b"
             ],
             [
              0.6666666666666666,
              "#ed7953"
             ],
             [
              0.7777777777777778,
              "#fb9f3a"
             ],
             [
              0.8888888888888888,
              "#fdca26"
             ],
             [
              1,
              "#f0f921"
             ]
            ],
            "type": "contour"
           }
          ],
          "contourcarpet": [
           {
            "colorbar": {
             "outlinewidth": 0,
             "ticks": ""
            },
            "type": "contourcarpet"
           }
          ],
          "heatmap": [
           {
            "colorbar": {
             "outlinewidth": 0,
             "ticks": ""
            },
            "colorscale": [
             [
              0,
              "#0d0887"
             ],
             [
              0.1111111111111111,
              "#46039f"
             ],
             [
              0.2222222222222222,
              "#7201a8"
             ],
             [
              0.3333333333333333,
              "#9c179e"
             ],
             [
              0.4444444444444444,
              "#bd3786"
             ],
             [
              0.5555555555555556,
              "#d8576b"
             ],
             [
              0.6666666666666666,
              "#ed7953"
             ],
             [
              0.7777777777777778,
              "#fb9f3a"
             ],
             [
              0.8888888888888888,
              "#fdca26"
             ],
             [
              1,
              "#f0f921"
             ]
            ],
            "type": "heatmap"
           }
          ],
          "histogram": [
           {
            "marker": {
             "pattern": {
              "fillmode": "overlay",
              "size": 10,
              "solidity": 0.2
             }
            },
            "type": "histogram"
           }
          ],
          "histogram2d": [
           {
            "colorbar": {
             "outlinewidth": 0,
             "ticks": ""
            },
            "colorscale": [
             [
              0,
              "#0d0887"
             ],
             [
              0.1111111111111111,
              "#46039f"
             ],
             [
              0.2222222222222222,
              "#7201a8"
             ],
             [
              0.3333333333333333,
              "#9c179e"
             ],
             [
              0.4444444444444444,
              "#bd3786"
             ],
             [
              0.5555555555555556,
              "#d8576b"
             ],
             [
              0.6666666666666666,
              "#ed7953"
             ],
             [
              0.7777777777777778,
              "#fb9f3a"
             ],
             [
              0.8888888888888888,
              "#fdca26"
             ],
             [
              1,
              "#f0f921"
             ]
            ],
            "type": "histogram2d"
           }
          ],
          "histogram2dcontour": [
           {
            "colorbar": {
             "outlinewidth": 0,
             "ticks": ""
            },
            "colorscale": [
             [
              0,
              "#0d0887"
             ],
             [
              0.1111111111111111,
              "#46039f"
             ],
             [
              0.2222222222222222,
              "#7201a8"
             ],
             [
              0.3333333333333333,
              "#9c179e"
             ],
             [
              0.4444444444444444,
              "#bd3786"
             ],
             [
              0.5555555555555556,
              "#d8576b"
             ],
             [
              0.6666666666666666,
              "#ed7953"
             ],
             [
              0.7777777777777778,
              "#fb9f3a"
             ],
             [
              0.8888888888888888,
              "#fdca26"
             ],
             [
              1,
              "#f0f921"
             ]
            ],
            "type": "histogram2dcontour"
           }
          ],
          "mesh3d": [
           {
            "colorbar": {
             "outlinewidth": 0,
             "ticks": ""
            },
            "type": "mesh3d"
           }
          ],
          "parcoords": [
           {
            "line": {
             "colorbar": {
              "outlinewidth": 0,
              "ticks": ""
             }
            },
            "type": "parcoords"
           }
          ],
          "pie": [
           {
            "automargin": true,
            "type": "pie"
           }
          ],
          "scatter": [
           {
            "fillpattern": {
             "fillmode": "overlay",
             "size": 10,
             "solidity": 0.2
            },
            "type": "scatter"
           }
          ],
          "scatter3d": [
           {
            "line": {
             "colorbar": {
              "outlinewidth": 0,
              "ticks": ""
             }
            },
            "marker": {
             "colorbar": {
              "outlinewidth": 0,
              "ticks": ""
             }
            },
            "type": "scatter3d"
           }
          ],
          "scattercarpet": [
           {
            "marker": {
             "colorbar": {
              "outlinewidth": 0,
              "ticks": ""
             }
            },
            "type": "scattercarpet"
           }
          ],
          "scattergeo": [
           {
            "marker": {
             "colorbar": {
              "outlinewidth": 0,
              "ticks": ""
             }
            },
            "type": "scattergeo"
           }
          ],
          "scattergl": [
           {
            "marker": {
             "colorbar": {
              "outlinewidth": 0,
              "ticks": ""
             }
            },
            "type": "scattergl"
           }
          ],
          "scattermap": [
           {
            "marker": {
             "colorbar": {
              "outlinewidth": 0,
              "ticks": ""
             }
            },
            "type": "scattermap"
           }
          ],
          "scattermapbox": [
           {
            "marker": {
             "colorbar": {
              "outlinewidth": 0,
              "ticks": ""
             }
            },
            "type": "scattermapbox"
           }
          ],
          "scatterpolar": [
           {
            "marker": {
             "colorbar": {
              "outlinewidth": 0,
              "ticks": ""
             }
            },
            "type": "scatterpolar"
           }
          ],
          "scatterpolargl": [
           {
            "marker": {
             "colorbar": {
              "outlinewidth": 0,
              "ticks": ""
             }
            },
            "type": "scatterpolargl"
           }
          ],
          "scatterternary": [
           {
            "marker": {
             "colorbar": {
              "outlinewidth": 0,
              "ticks": ""
             }
            },
            "type": "scatterternary"
           }
          ],
          "surface": [
           {
            "colorbar": {
             "outlinewidth": 0,
             "ticks": ""
            },
            "colorscale": [
             [
              0,
              "#0d0887"
             ],
             [
              0.1111111111111111,
              "#46039f"
             ],
             [
              0.2222222222222222,
              "#7201a8"
             ],
             [
              0.3333333333333333,
              "#9c179e"
             ],
             [
              0.4444444444444444,
              "#bd3786"
             ],
             [
              0.5555555555555556,
              "#d8576b"
             ],
             [
              0.6666666666666666,
              "#ed7953"
             ],
             [
              0.7777777777777778,
              "#fb9f3a"
             ],
             [
              0.8888888888888888,
              "#fdca26"
             ],
             [
              1,
              "#f0f921"
             ]
            ],
            "type": "surface"
           }
          ],
          "table": [
           {
            "cells": {
             "fill": {
              "color": "#EBF0F8"
             },
             "line": {
              "color": "white"
             }
            },
            "header": {
             "fill": {
              "color": "#C8D4E3"
             },
             "line": {
              "color": "white"
             }
            },
            "type": "table"
           }
          ]
         },
         "layout": {
          "annotationdefaults": {
           "arrowcolor": "#2a3f5f",
           "arrowhead": 0,
           "arrowwidth": 1
          },
          "autotypenumbers": "strict",
          "coloraxis": {
           "colorbar": {
            "outlinewidth": 0,
            "ticks": ""
           }
          },
          "colorscale": {
           "diverging": [
            [
             0,
             "#8e0152"
            ],
            [
             0.1,
             "#c51b7d"
            ],
            [
             0.2,
             "#de77ae"
            ],
            [
             0.3,
             "#f1b6da"
            ],
            [
             0.4,
             "#fde0ef"
            ],
            [
             0.5,
             "#f7f7f7"
            ],
            [
             0.6,
             "#e6f5d0"
            ],
            [
             0.7,
             "#b8e186"
            ],
            [
             0.8,
             "#7fbc41"
            ],
            [
             0.9,
             "#4d9221"
            ],
            [
             1,
             "#276419"
            ]
           ],
           "sequential": [
            [
             0,
             "#0d0887"
            ],
            [
             0.1111111111111111,
             "#46039f"
            ],
            [
             0.2222222222222222,
             "#7201a8"
            ],
            [
             0.3333333333333333,
             "#9c179e"
            ],
            [
             0.4444444444444444,
             "#bd3786"
            ],
            [
             0.5555555555555556,
             "#d8576b"
            ],
            [
             0.6666666666666666,
             "#ed7953"
            ],
            [
             0.7777777777777778,
             "#fb9f3a"
            ],
            [
             0.8888888888888888,
             "#fdca26"
            ],
            [
             1,
             "#f0f921"
            ]
           ],
           "sequentialminus": [
            [
             0,
             "#0d0887"
            ],
            [
             0.1111111111111111,
             "#46039f"
            ],
            [
             0.2222222222222222,
             "#7201a8"
            ],
            [
             0.3333333333333333,
             "#9c179e"
            ],
            [
             0.4444444444444444,
             "#bd3786"
            ],
            [
             0.5555555555555556,
             "#d8576b"
            ],
            [
             0.6666666666666666,
             "#ed7953"
            ],
            [
             0.7777777777777778,
             "#fb9f3a"
            ],
            [
             0.8888888888888888,
             "#fdca26"
            ],
            [
             1,
             "#f0f921"
            ]
           ]
          },
          "colorway": [
           "#636efa",
           "#EF553B",
           "#00cc96",
           "#ab63fa",
           "#FFA15A",
           "#19d3f3",
           "#FF6692",
           "#B6E880",
           "#FF97FF",
           "#FECB52"
          ],
          "font": {
           "color": "#2a3f5f"
          },
          "geo": {
           "bgcolor": "white",
           "lakecolor": "white",
           "landcolor": "#E5ECF6",
           "showlakes": true,
           "showland": true,
           "subunitcolor": "white"
          },
          "hoverlabel": {
           "align": "left"
          },
          "hovermode": "closest",
          "mapbox": {
           "style": "light"
          },
          "paper_bgcolor": "white",
          "plot_bgcolor": "#E5ECF6",
          "polar": {
           "angularaxis": {
            "gridcolor": "white",
            "linecolor": "white",
            "ticks": ""
           },
           "bgcolor": "#E5ECF6",
           "radialaxis": {
            "gridcolor": "white",
            "linecolor": "white",
            "ticks": ""
           }
          },
          "scene": {
           "xaxis": {
            "backgroundcolor": "#E5ECF6",
            "gridcolor": "white",
            "gridwidth": 2,
            "linecolor": "white",
            "showbackground": true,
            "ticks": "",
            "zerolinecolor": "white"
           },
           "yaxis": {
            "backgroundcolor": "#E5ECF6",
            "gridcolor": "white",
            "gridwidth": 2,
            "linecolor": "white",
            "showbackground": true,
            "ticks": "",
            "zerolinecolor": "white"
           },
           "zaxis": {
            "backgroundcolor": "#E5ECF6",
            "gridcolor": "white",
            "gridwidth": 2,
            "linecolor": "white",
            "showbackground": true,
            "ticks": "",
            "zerolinecolor": "white"
           }
          },
          "shapedefaults": {
           "line": {
            "color": "#2a3f5f"
           }
          },
          "ternary": {
           "aaxis": {
            "gridcolor": "white",
            "linecolor": "white",
            "ticks": ""
           },
           "baxis": {
            "gridcolor": "white",
            "linecolor": "white",
            "ticks": ""
           },
           "bgcolor": "#E5ECF6",
           "caxis": {
            "gridcolor": "white",
            "linecolor": "white",
            "ticks": ""
           }
          },
          "title": {
           "x": 0.05
          },
          "xaxis": {
           "automargin": true,
           "gridcolor": "white",
           "linecolor": "white",
           "ticks": "",
           "title": {
            "standoff": 15
           },
           "zerolinecolor": "white",
           "zerolinewidth": 2
          },
          "yaxis": {
           "automargin": true,
           "gridcolor": "white",
           "linecolor": "white",
           "ticks": "",
           "title": {
            "standoff": 15
           },
           "zerolinecolor": "white",
           "zerolinewidth": 2
          }
         }
        },
        "title": {
         "text": "Multi-goal Steering: Charge at pH7 & Molecular Weight over Steps"
        }
       }
      }
     },
     "metadata": {},
     "output_type": "display_data"
    }
   ],
   "source": [
    "import pandas as pd\n",
    "import plotly.graph_objects as go\n",
    "\n",
    "# Load CSV\n",
    "df = pd.read_csv(\"multi_goal_steering.csv\")\n",
    "\n",
    "# Clean up labels\n",
    "df[\"label\"] = df[\"label\"].str.replace(\"not low\", \"high\", regex=False)\n",
    "df[\"label\"] = df[\"label\"].str.replace(\"not high\", \"low\", regex=False)\n",
    "\n",
    "# Create a Plotly 3D scatter plot with lines\n",
    "fig = go.Figure()\n",
    "\n",
    "# Define a color map for the labels\n",
    "color_map = {\n",
    "    label: color for label, color in zip(\n",
    "        df[\"label\"].unique(), [\"red\", \"blue\", \"green\", \"orange\"]\n",
    "    )\n",
    "}\n",
    "\n",
    "# Add one trace per label\n",
    "for label in df[\"label\"].unique():\n",
    "    subset = df[df[\"label\"] == label].sort_values(by=\"step\")\n",
    "    fig.add_trace(\n",
    "        go.Scatter3d(\n",
    "            x=subset[\"step\"],\n",
    "            y=subset[\"charge_ph7\"],\n",
    "            z=subset[\"instability_index\"],\n",
    "            mode='lines+markers',\n",
    "            marker=dict(size=4),\n",
    "            line=dict(width=3, color=color_map[label]),\n",
    "            name=label\n",
    "        )\n",
    "    )\n",
    "\n",
    "# Set layout\n",
    "fig.update_layout(\n",
    "    scene=dict(\n",
    "        xaxis_title='Step',\n",
    "        yaxis_title='Charge at pH7',\n",
    "        zaxis_title='Instability Index',\n",
    "    ),\n",
    "    title=\"Multi-goal Steering: Charge at pH7 & Instability Index over Steps\",\n",
    "    legend=dict(x=0, y=1)\n",
    ")\n",
    "\n",
    "# Show the interactive plot\n",
    "fig.show()\n"
   ]
  },
  {
   "cell_type": "code",
   "execution_count": null,
   "id": "5278cf40",
   "metadata": {},
   "outputs": [],
   "source": []
  }
 ],
 "metadata": {
  "kernelspec": {
   "display_name": "esm_env",
   "language": "python",
   "name": "python3"
  },
  "language_info": {
   "codemirror_mode": {
    "name": "ipython",
    "version": 3
   },
   "file_extension": ".py",
   "mimetype": "text/x-python",
   "name": "python",
   "nbconvert_exporter": "python",
   "pygments_lexer": "ipython3",
   "version": "3.10.18"
  }
 },
 "nbformat": 4,
 "nbformat_minor": 5
}
